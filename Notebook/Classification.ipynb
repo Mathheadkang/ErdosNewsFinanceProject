{
 "cells": [
  {
   "cell_type": "markdown",
   "metadata": {},
   "source": [
    "# Classification"
   ]
  },
  {
   "cell_type": "markdown",
   "metadata": {},
   "source": [
    "## Data Loading"
   ]
  },
  {
   "cell_type": "code",
   "execution_count": 1,
   "metadata": {},
   "outputs": [],
   "source": [
    "import pandas as pd\n",
    "import matplotlib.pyplot as plt\n",
    "import numpy as np\n",
    "import seaborn as sns"
   ]
  },
  {
   "cell_type": "code",
   "execution_count": 2,
   "metadata": {},
   "outputs": [],
   "source": [
    "import os\n",
    "import sys\n",
    "import time\n",
    "import joblib\n",
    "\n",
    "# Add ../src to Python path\n",
    "project_root = os.path.abspath(os.path.join(os.path.dirname('__file__'), '../src'))\n",
    "sys.path.insert(0, project_root)\n",
    "\n",
    "# Import the parse config function to parse the .toml file\n",
    "from utils.config_tool import parse_config\n",
    "from engine.clean import clean_All_news as cc\n",
    "\n",
    "def notify(title, text):\n",
    "    os.system(\"\"\"\n",
    "              osascript -e 'display notification \"{}\" with title \"{}\"'\n",
    "              \"\"\".format(text, title))\n"
   ]
  },
  {
   "cell_type": "code",
   "execution_count": 3,
   "metadata": {},
   "outputs": [],
   "source": [
    "# Load the config file\n",
    "config_file = \"../config/predict_stock_w_news.toml\"\n",
    "config = parse_config(config_file)\n"
   ]
  },
  {
   "cell_type": "code",
   "execution_count": 4,
   "metadata": {},
   "outputs": [],
   "source": [
    "\n",
    "# The load path and save path\n",
    "load_path = os.path.join(config['info']['local_data_path'],'data_raw', config['news_ingestion']['input'][\"news_head_line\"])\n",
    "save_path = os.path.join(config['info']['local_data_path'],'data_clean', config['news_preprocessing']['output'][\"news_head_line_cleaned\"])\n"
   ]
  },
  {
   "cell_type": "code",
   "execution_count": null,
   "metadata": {},
   "outputs": [],
   "source": [
    "\n",
    "# Load the raw data\n",
    "df = pd.read_json(load_path, lines=True)\n",
    "\n",
    "df.head()"
   ]
  },
  {
   "cell_type": "markdown",
   "metadata": {},
   "source": [
    "## Preprocessing"
   ]
  },
  {
   "cell_type": "code",
   "execution_count": null,
   "metadata": {},
   "outputs": [],
   "source": [
    "# Drop the duplicated rows which is not null\n",
    "cleaned = pd.concat([df[(df['headline'] != '') & (df['short_description'] != '')].drop_duplicates(subset=['headline', 'short_description']), df[(df['headline'] == '') | (df['short_description'] == '')]])\n",
    "\n",
    "# Combine the headline and the summary\n",
    "cleaned['headline_summary'] = cleaned['headline'] + ' ' + cleaned['short_description']\n",
    "\n",
    "# Drop the original headline and summary and the columns that are not needed\n",
    "cleaned.drop(columns=['headline', 'short_description', 'authors', 'link', 'date'], inplace=True)\n",
    "\n",
    "# Drop the rows with missing values\n",
    "headline = cleaned[cleaned['headline_summary'] != '']"
   ]
  },
  {
   "cell_type": "code",
   "execution_count": null,
   "metadata": {},
   "outputs": [],
   "source": [
    "headline.head()"
   ]
  },
  {
   "cell_type": "code",
   "execution_count": null,
   "metadata": {},
   "outputs": [],
   "source": [
    "headline[headline['headline_summary'].duplicated()]"
   ]
  },
  {
   "cell_type": "code",
   "execution_count": null,
   "metadata": {},
   "outputs": [],
   "source": [
    "# Drop the duplicated rows\n",
    "\n",
    "headline.drop_duplicates(subset=['headline_summary'], inplace=True)"
   ]
  },
  {
   "cell_type": "code",
   "execution_count": null,
   "metadata": {},
   "outputs": [],
   "source": [
    "headline[headline['headline_summary'].duplicated()]"
   ]
  },
  {
   "cell_type": "code",
   "execution_count": null,
   "metadata": {},
   "outputs": [],
   "source": [
    "# Add the tokenized headline and summary\n",
    "headline['headline_summary_tokenized'] = headline['headline_summary'].apply(cc.get_tokenized_words_with_no_punctuation)\n",
    "# remove the stop words and lemmatize the words\n",
    "headline['headline_summary_tokenized'] = headline['headline_summary_tokenized'].apply(cc.remove_stop_words)\n",
    "headline['headline_summary_tokenized'] = headline['headline_summary_tokenized'].apply(cc.lemmatize_words)\n",
    "# Drop the orginal headline and summary\n",
    "headline.drop(columns=['headline_summary'], inplace=True)\n",
    "# NER\n",
    "headline = pd.concat([headline, headline['headline_summary_tokenized'].apply(lambda x : cc.extract_ner_features(''.join(x)))], axis=1)"
   ]
  },
  {
   "cell_type": "code",
   "execution_count": null,
   "metadata": {},
   "outputs": [],
   "source": [
    "# Remove the rows with less than 10 words\n",
    "headline = headline[headline['headline_summary_tokenized'].apply(lambda x : len(x)) >= 10]\n",
    "\n",
    "# Save the cleaned data\n",
    "headline.to_csv(save_path, index=False)\n"
   ]
  },
  {
   "cell_type": "code",
   "execution_count": 5,
   "metadata": {},
   "outputs": [
    {
     "data": {
      "text/html": [
       "<div>\n",
       "<style scoped>\n",
       "    .dataframe tbody tr th:only-of-type {\n",
       "        vertical-align: middle;\n",
       "    }\n",
       "\n",
       "    .dataframe tbody tr th {\n",
       "        vertical-align: top;\n",
       "    }\n",
       "\n",
       "    .dataframe thead th {\n",
       "        text-align: right;\n",
       "    }\n",
       "</style>\n",
       "<table border=\"1\" class=\"dataframe\">\n",
       "  <thead>\n",
       "    <tr style=\"text-align: right;\">\n",
       "      <th></th>\n",
       "      <th>category</th>\n",
       "      <th>headline_summary_tokenized</th>\n",
       "      <th>PERSON</th>\n",
       "      <th>ORG</th>\n",
       "      <th>GPE</th>\n",
       "      <th>EVENT</th>\n",
       "      <th>PRODUCT</th>\n",
       "    </tr>\n",
       "  </thead>\n",
       "  <tbody>\n",
       "    <tr>\n",
       "      <th>0</th>\n",
       "      <td>U.S. NEWS</td>\n",
       "      <td>['4', 'million', 'american', 'roll', 'sleeve',...</td>\n",
       "      <td>0</td>\n",
       "      <td>0</td>\n",
       "      <td>0</td>\n",
       "      <td>0</td>\n",
       "      <td>0</td>\n",
       "    </tr>\n",
       "    <tr>\n",
       "      <th>1</th>\n",
       "      <td>U.S. NEWS</td>\n",
       "      <td>['american', 'airline', 'flyer', 'charged', 'b...</td>\n",
       "      <td>0</td>\n",
       "      <td>0</td>\n",
       "      <td>0</td>\n",
       "      <td>0</td>\n",
       "      <td>0</td>\n",
       "    </tr>\n",
       "    <tr>\n",
       "      <th>2</th>\n",
       "      <td>COMEDY</td>\n",
       "      <td>['23', 'funniest', 'tweet', 'cat', 'dog', 'wee...</td>\n",
       "      <td>0</td>\n",
       "      <td>0</td>\n",
       "      <td>0</td>\n",
       "      <td>0</td>\n",
       "      <td>0</td>\n",
       "    </tr>\n",
       "    <tr>\n",
       "      <th>3</th>\n",
       "      <td>PARENTING</td>\n",
       "      <td>['funniest', 'tweet', 'parent', 'week', 'accid...</td>\n",
       "      <td>0</td>\n",
       "      <td>0</td>\n",
       "      <td>0</td>\n",
       "      <td>0</td>\n",
       "      <td>0</td>\n",
       "    </tr>\n",
       "    <tr>\n",
       "      <th>4</th>\n",
       "      <td>U.S. NEWS</td>\n",
       "      <td>['woman', 'called', 'cop', 'black', 'loses', '...</td>\n",
       "      <td>0</td>\n",
       "      <td>0</td>\n",
       "      <td>0</td>\n",
       "      <td>0</td>\n",
       "      <td>0</td>\n",
       "    </tr>\n",
       "  </tbody>\n",
       "</table>\n",
       "</div>"
      ],
      "text/plain": [
       "    category                         headline_summary_tokenized  PERSON  ORG  \\\n",
       "0  U.S. NEWS  ['4', 'million', 'american', 'roll', 'sleeve',...       0    0   \n",
       "1  U.S. NEWS  ['american', 'airline', 'flyer', 'charged', 'b...       0    0   \n",
       "2     COMEDY  ['23', 'funniest', 'tweet', 'cat', 'dog', 'wee...       0    0   \n",
       "3  PARENTING  ['funniest', 'tweet', 'parent', 'week', 'accid...       0    0   \n",
       "4  U.S. NEWS  ['woman', 'called', 'cop', 'black', 'loses', '...       0    0   \n",
       "\n",
       "   GPE  EVENT  PRODUCT  \n",
       "0    0      0        0  \n",
       "1    0      0        0  \n",
       "2    0      0        0  \n",
       "3    0      0        0  \n",
       "4    0      0        0  "
      ]
     },
     "execution_count": 5,
     "metadata": {},
     "output_type": "execute_result"
    }
   ],
   "source": [
    "# Reload the cleaned data\n",
    "\n",
    "headline = pd.read_csv(save_path)\n",
    "headline.head()"
   ]
  },
  {
   "cell_type": "code",
   "execution_count": 6,
   "metadata": {},
   "outputs": [
    {
     "name": "stdout",
     "output_type": "stream",
     "text": [
      "0\n",
      "0\n",
      "count    178064.000000\n",
      "mean        185.469281\n",
      "std          63.379008\n",
      "min          72.000000\n",
      "25%         142.000000\n",
      "50%         177.000000\n",
      "75%         216.000000\n",
      "max        1402.000000\n",
      "Name: headline_summary_tokenized, dtype: float64\n"
     ]
    }
   ],
   "source": [
    "\n",
    "from nltk.corpus import stopwords\n",
    "stop_words = set(stopwords.words('english'))\n",
    "\n",
    "stop = headline['headline_summary_tokenized'].apply(lambda tokens: tokens in stop_words)\n",
    "print(stop.astype(int).sum())\n",
    "null = headline['headline_summary_tokenized'].apply(lambda tokens: tokens == [])\n",
    "print(null.astype(int).sum())\n",
    "lenth = headline['headline_summary_tokenized'].apply(lambda tokens: len(tokens))\n",
    "print(lenth.describe())"
   ]
  },
  {
   "cell_type": "markdown",
   "metadata": {},
   "source": [
    "## Sample data:\n",
    "\n",
    "Since the the category is not evenly distributed, we need to find a training set which samples 10000 elements from each category."
   ]
  },
  {
   "cell_type": "code",
   "execution_count": 7,
   "metadata": {},
   "outputs": [],
   "source": [
    "# Set the category we want to predict\n",
    "categorys_to_predict = ['POLITICS', 'WELLNESS', 'ENTERTAINMENT', 'ELSE']\n",
    "\n",
    "# Rename the category\n",
    "headline['category'] = headline['category'].apply(lambda x: x if x in categorys_to_predict else 'ELSE')"
   ]
  },
  {
   "cell_type": "code",
   "execution_count": 8,
   "metadata": {},
   "outputs": [
    {
     "data": {
      "text/plain": [
       "category\n",
       "ELSE             116515\n",
       "POLITICS          30775\n",
       "WELLNESS          17854\n",
       "ENTERTAINMENT     12920\n",
       "Name: count, dtype: int64"
      ]
     },
     "execution_count": 8,
     "metadata": {},
     "output_type": "execute_result"
    }
   ],
   "source": [
    "headline['category'].value_counts()"
   ]
  },
  {
   "cell_type": "code",
   "execution_count": 9,
   "metadata": {},
   "outputs": [
    {
     "name": "stderr",
     "output_type": "stream",
     "text": [
      "/var/folders/l_/txq0vh11623_5lrnfw_cpmsh0000gn/T/ipykernel_3591/3779012536.py:3: DeprecationWarning: DataFrameGroupBy.apply operated on the grouping columns. This behavior is deprecated, and in a future version of pandas the grouping columns will be excluded from the operation. Either pass `include_groups=False` to exclude the groupings or explicitly select the grouping columns after groupby to silence this warning.\n",
      "  sampled = headline.groupby('category').apply(lambda x: x.sample(sameple_size, random_state=42))\n"
     ]
    }
   ],
   "source": [
    "# Sampling the data\n",
    "sameple_size = 10000\n",
    "sampled = headline.groupby('category').apply(lambda x: x.sample(sameple_size, random_state=42))"
   ]
  },
  {
   "cell_type": "code",
   "execution_count": 10,
   "metadata": {},
   "outputs": [
    {
     "data": {
      "text/plain": [
       "category\n",
       "ELSE             10000\n",
       "ENTERTAINMENT    10000\n",
       "POLITICS         10000\n",
       "WELLNESS         10000\n",
       "Name: count, dtype: int64"
      ]
     },
     "execution_count": 10,
     "metadata": {},
     "output_type": "execute_result"
    }
   ],
   "source": [
    "sampled['category'].value_counts()"
   ]
  },
  {
   "cell_type": "markdown",
   "metadata": {},
   "source": [
    "## TF-IDF embedding"
   ]
  },
  {
   "cell_type": "code",
   "execution_count": 11,
   "metadata": {},
   "outputs": [],
   "source": [
    "from sklearn.feature_extraction.text import TfidfVectorizer\n",
    "\n",
    "# Choose the words that appear in at least 5 documents and at most 50% of the documents\n",
    "tfidf = TfidfVectorizer(max_df=0.5, min_df=5)\n",
    "tfidf_matrix = tfidf.fit_transform(sampled['headline_summary_tokenized'])"
   ]
  },
  {
   "cell_type": "code",
   "execution_count": null,
   "metadata": {},
   "outputs": [],
   "source": [
    "# After I fit the tfidf, I can transform the new data\n",
    "diff = 0\n",
    "\n",
    "for i in range(len(sampled)):\n",
    "    a1 = tfidf.transform([sampled['headline_summary_tokenized'][i]]).toarray()\n",
    "    a2 = tfidf_matrix[i].toarray()\n",
    "    # If the error is larger than 1e-15, print the index, otherwise, the error is due to the floating point precision\n",
    "    if np.abs(a1-a2).max() >= 1e-15:\n",
    "        print(i)\n",
    "        diff += np.abs(a1-a2).sum()\n",
    "\n",
    "\n",
    "print(diff)"
   ]
  },
  {
   "cell_type": "code",
   "execution_count": null,
   "metadata": {},
   "outputs": [],
   "source": [
    "# Save the tfidf\n",
    "\n",
    "\n",
    "tfidf_path = os.path.join(config['info']['local_data_path'], 'model_news', config['news_model']['input']['tfidf_headline'])\n",
    "\n",
    "\n",
    "joblib.dump(tfidf, tfidf_path) "
   ]
  },
  {
   "cell_type": "markdown",
   "metadata": {},
   "source": [
    "Best practice: Use `tfidf_matrix` to maintain consistency with original transformation.\n",
    "\n",
    "It records the original data information. For new data, we simply use `tfidf.transform`."
   ]
  },
  {
   "cell_type": "markdown",
   "metadata": {},
   "source": [
    "## Nonnegative matrix factorization\n",
    "\n",
    "When consider the Tfidf matrix, each coefficient is nonnegative. And when the number of tokens are large, the matrix is very sparse. So instead of using PCA, it is better to consider the nonnegative matrix factorization (NMF)."
   ]
  },
  {
   "cell_type": "code",
   "execution_count": 12,
   "metadata": {},
   "outputs": [],
   "source": [
    "from sklearn.decomposition import NMF"
   ]
  },
  {
   "cell_type": "code",
   "execution_count": null,
   "metadata": {},
   "outputs": [],
   "source": [
    "# Find the best number of components\n",
    "#! Warning: It takes a long time to run\n",
    "\n",
    "start = time.time()\n",
    "n_components = [100, 200, 300, 400, 500]\n",
    "rss = []\n",
    "t0 = start\n",
    "for n in n_components:\n",
    "    nmf = NMF(n_components=n, max_iter=500)\n",
    "    E_matrix = nmf.fit_transform(tfidf_matrix)\n",
    "    print(f\"To process {n} components, it takes {time.time()-t0} seconds\")\n",
    "    t0 = time.time()\n",
    "    rss.append(nmf.reconstruction_err_)\n",
    "\n",
    "duration = 1\n",
    "freq = 440\n",
    "os.system('play -nq -t coreaudio synth {} sine {}'.format(duration, freq))"
   ]
  },
  {
   "cell_type": "code",
   "execution_count": null,
   "metadata": {},
   "outputs": [],
   "source": [
    "# # Compute Residual Sum of Squares (RSS) for Non-Negative Matrix Factorization (NMF)\n",
    "# rss = np.sum(np.square(tfidf_matrix - E_matrix @ nmf.components_))\n",
    "# rss1 = nmf.reconstruction_err_\n",
    "# print(rss, rss1**2)\n",
    "\n",
    "print(f\"The rss is {rss}\")\n",
    "print(f\"The best number of components is {n_components[np.argmin(rss)]}\")"
   ]
  },
  {
   "cell_type": "markdown",
   "metadata": {},
   "source": [
    "To find the best number of compoenets. Note that the time I run:\n",
    "``` python\n",
    "import time\n",
    "start = time.time()\n",
    "n_components = [100, 200, 300, 400, 500]\n",
    "rss = []\n",
    "t0 = start\n",
    "for n in n_components:\n",
    "    nmf = NMF(n_components=n, max_iter=500)\n",
    "    E_matrix = nmf.fit_transform(tfidf_matrix)\n",
    "    print(f\"To process {n} components, it takes {time.time()-t0} seconds\")\n",
    "    t0 = time.time()\n",
    "    rss.append(nmf.reconstruction_err_)\n",
    "```\n",
    "\n",
    "**The output:**\n",
    "``` zsh\n",
    "To process 100 components, it takes 52.489633083343506 seconds\n",
    "To process 200 components, it takes 256.3671808242798 seconds\n",
    "To process 300 components, it takes 2259.08752989769 seconds\n",
    "To process 400 components, it takes 6990.929425239563 seconds\n",
    "To process 500 components, it takes 7964.212979078293 seconds\n",
    "```\n",
    "\n",
    "And the residual sum of squares (reconstruction error):\n",
    "``` python\n",
    "print(f\"The rss is {rss}\")\n",
    "print(f\"The best number of components is {n_components[np.argmin(rss)]}\")\n",
    "```\n",
    "\n",
    "**The output:**\n",
    "``` zsh\n",
    "The rss is [np.float64(188.4237102845113), np.float64(181.7639160482998), np.float64(176.32832738298404), np.float64(171.49108989213317), np.float64(167.21638211672698)]\n",
    "The best number of components is 500\n",
    "```\n",
    "The whole procedure will take ~ 10 hours, so we do not want to run this again.\n",
    "\n",
    "It turns out that the more components we want to get, the longer time will be needed. Of course it will decrease the error, but not significantly. To balance this, keep 500 componenets will need ~ 2 hours, which is acceptable. So it is better to work on 100 and 200 componenets first, and if it performs bad, we may need to increase the components."
   ]
  },
  {
   "cell_type": "code",
   "execution_count": null,
   "metadata": {},
   "outputs": [],
   "source": [
    "# Lets keep 200 compon_components = 200\n",
    "\n",
    "nmf = NMF(n_components=200, max_iter=500)\n",
    "E_matrix = nmf.fit_transform(tfidf_matrix)\n",
    "error = nmf.reconstruction_err_"
   ]
  },
  {
   "cell_type": "code",
   "execution_count": null,
   "metadata": {},
   "outputs": [],
   "source": [
    "# Save the model\n",
    "\n",
    "nmf_model_path = os.path.join(config['info']['local_data_path'], 'model_news', config['news_model']['input']['tfidf_nmf_headline'])\n",
    "\n",
    "joblib.dump(nmf, nmf_model_path)\n"
   ]
  },
  {
   "cell_type": "code",
   "execution_count": null,
   "metadata": {},
   "outputs": [],
   "source": [
    "# Reload the model\n",
    "tfidf1 = joblib.load(tfidf_path)\n",
    "nmf1 = joblib.load(nmf_model_path)\n",
    "print(error, nmf1.reconstruction_err_)\n",
    "# Get the E matrix\n",
    "E_matrix1 = nmf1.transform(tfidf1.transform(sampled['headline_summary_tokenized']))\n",
    "print(np.abs(E_matrix-E_matrix1).max())\n",
    "print(E_matrix1.shape, E_matrix.shape)\n"
   ]
  },
  {
   "cell_type": "markdown",
   "metadata": {},
   "source": [
    "The small difference (0.00086) between E_matrix and E_matrix1 occurs because:\n",
    "\n",
    "- Floating point precision limitations\n",
    "- NMF transformation is not exactly deterministic\n",
    "- Multiple matrix operations compound small differences\n",
    "\n",
    "The matrices are effectively identical since:\n",
    "\n",
    "- Max difference is ~0.00086 (less than 0.1%)\n",
    "- Shapes match exactly (40000, 200)\n",
    "- Reconstruction errors are identical (181.79)"
   ]
  },
  {
   "cell_type": "markdown",
   "metadata": {},
   "source": [
    "## Use Word2Vec embedding method"
   ]
  },
  {
   "cell_type": "code",
   "execution_count": null,
   "metadata": {},
   "outputs": [],
   "source": [
    "from gensim.models import Word2Vec"
   ]
  },
  {
   "cell_type": "code",
   "execution_count": null,
   "metadata": {},
   "outputs": [],
   "source": [
    "# Need to define the class for the word2vec\n",
    "# Word2Vec doesn't have fit_transform like sklearn, so we need to define the class to fit_transform\n",
    "\n",
    "class Word2VecVectorizer:\n",
    "    \"\"\" We need to define the class for the word2vec so that we can do fit_transform like sklearn\n",
    "    \"\"\"\n",
    "\n",
    "    \"\"\"\" Word2VecVectorized does not support workers < 1, so we set the default workers to 4 \"\"\"\n",
    "    def __init__(self, vector_size=200, window=5, min_count=1, workers=4):\n",
    "        self.vector_size = vector_size\n",
    "        self.window = window\n",
    "        self.min_count = min_count\n",
    "        self.workers = workers\n",
    "        self.word2vec = None\n",
    "    \n",
    "    \n",
    "    def fit_transform(self, X):\n",
    "        self.word2vec = Word2Vec(X, vector_size=self.vector_size, window=self.window, min_count=self.min_count, workers=self.workers)\n",
    "        return np.vstack([np.mean([self.word2vec.wv[word] for word in doc if word in self.word2vec.wv], axis=0) for doc in X])\n",
    "    \n",
    "    def transform(self, X):\n",
    "        if self.word2vec is None:\n",
    "            raise ValueError(\"The model is not fitted\")\n",
    "        return np.vstack([np.mean([self.word2vec.wv[word] for word in doc if word in self.word2vec.wv], axis=0) for doc in X])"
   ]
  },
  {
   "cell_type": "code",
   "execution_count": null,
   "metadata": {},
   "outputs": [],
   "source": [
    "# Fit the word2vec model\n",
    "\n",
    "word2vec = Word2VecVectorizer()\n",
    "word2vec_matrix = word2vec.fit_transform(sampled['headline_summary_tokenized'])\n",
    "print(word2vec_matrix.shape)\n",
    "\n",
    "duration = 1\n",
    "freq = 440\n",
    "os.system('play -nq -t coreaudio synth {} sine {}'.format(duration, freq))\n",
    "\n",
    "notify(\"The preprocessing is done\", \"The preprocessing is done\")"
   ]
  },
  {
   "cell_type": "code",
   "execution_count": null,
   "metadata": {},
   "outputs": [],
   "source": [
    "# Save the word2vec model\n",
    "\n",
    "word2vec_path = os.path.join(config['info']['local_data_path'], 'model_news', config['news_model']['input']['word2vec_headline'])\n",
    "\n",
    "joblib.dump(word2vec, word2vec_path)"
   ]
  },
  {
   "cell_type": "markdown",
   "metadata": {},
   "source": [
    "## Metrics to measure the performance"
   ]
  },
  {
   "cell_type": "code",
   "execution_count": 84,
   "metadata": {},
   "outputs": [],
   "source": [
    "from sklearn.metrics import confusion_matrix, accuracy_score, f1_score\n",
    "\n",
    "def get_accuracy(y_true, y_pred):\n",
    "    lables = ['ELSE', 'ENTERTAINMENT', 'POLITICS', 'WELLNESS']\n",
    "    confusion = confusion_matrix(y_true, y_pred,labels = lables)\n",
    "    print(f\"The accuracy is {accuracy_score(y_true, y_pred)}\")\n",
    "    print(f\"The confusion matrix \\n{lables} is \\n{confusion}\")\n",
    "\n",
    "    # Map 'ELSE' to 0 (negative) and others to 1 (positive)\n",
    "    y_test_binary = [0 if label == 'ELSE' else 1 for label in y_true]\n",
    "    y_pred_binary = [0 if label == 'ELSE' else 1 for label in y_pred]\n",
    "\n",
    "    # Compute the F1 score (treating 1 as the positive class)\n",
    "    f1 = f1_score(y_test_binary, y_pred_binary, pos_label=1, average='binary')\n",
    "    print(f\"F1 Score when we treat ELSE as negative: {f1}\")\n",
    "    f1_seperate = f1_score(y_true, y_pred, pos_label=1, average=None)\n",
    "    print(f\"F1 Score for everclass: \\n{lables} \\n{f1_seperate}\")"
   ]
  },
  {
   "cell_type": "code",
   "execution_count": 14,
   "metadata": {},
   "outputs": [],
   "source": [
    "def get_misclassified_samples(y_test, y_pred):\n",
    "    misclassified_idx = np.where(y_test != y_pred)[0]\n",
    "    sampled_test = sampled.loc[y_test.index]\n",
    "    results = {'index': misclassified_idx, 'true': y_test[misclassified_idx], 'pred': y_pred[misclassified_idx], 'headline': sampled_test['headline_summary_tokenized'].iloc[misclassified_idx].apply(lambda x: ' '.join(x))}\n",
    "    return pd.DataFrame(results)"
   ]
  },
  {
   "cell_type": "code",
   "execution_count": 15,
   "metadata": {},
   "outputs": [],
   "source": [
    "# Initialte a dataframe to store the misclassified index of each model\n",
    "misclassified = pd.DataFrame()"
   ]
  },
  {
   "cell_type": "markdown",
   "metadata": {},
   "source": [
    "## Supervised learning classification"
   ]
  },
  {
   "cell_type": "code",
   "execution_count": 16,
   "metadata": {},
   "outputs": [],
   "source": [
    "# import train test split and kfold\n",
    "from sklearn.model_selection import train_test_split, StratifiedKFold, GridSearchCV\n",
    "\n",
    "from sklearn.preprocessing import LabelEncoder"
   ]
  },
  {
   "cell_type": "markdown",
   "metadata": {},
   "source": [
    "### Load the pre-saved features"
   ]
  },
  {
   "cell_type": "code",
   "execution_count": 17,
   "metadata": {},
   "outputs": [],
   "source": [
    "tfidf_path = os.path.join(config['info']['local_data_path'], 'model_news', config['news_model']['input']['tfidf_headline'])\n",
    "nmf_model_path = os.path.join(config['info']['local_data_path'], 'model_news', config['news_model']['input']['tfidf_nmf_headline'])\n",
    "\n",
    "\n",
    "# Load the features using joblib\n",
    "\n",
    "tfidf = joblib.load(tfidf_path)\n",
    "nmf = joblib.load(nmf_model_path)\n",
    "#word2vec = joblib.load(word2vec_path)\n",
    "\n",
    "# Transform the data\n",
    "transformed_data = nmf.transform(tfidf.transform(sampled['headline_summary_tokenized']))\n",
    "\n",
    "# Transform the data using word2vec\n",
    "#transformed_data = word2vec.transform(sampled['headline_summary_tokenized'])"
   ]
  },
  {
   "cell_type": "markdown",
   "metadata": {},
   "source": [
    "For the standard machine learning algorithms, we choose Tf-idf embedding. It will out perform the word2vec embedding a lot. \n",
    "\n",
    "Later, when we try to do the neural network, we can try word2vec."
   ]
  },
  {
   "cell_type": "code",
   "execution_count": 18,
   "metadata": {},
   "outputs": [],
   "source": [
    "# Split the data into training and testing\n",
    "\n",
    "X_train, X_test, y_train, y_test = train_test_split(transformed_data, sampled['category'], test_size=0.2, stratify=sampled['category'], random_state=42)"
   ]
  },
  {
   "cell_type": "markdown",
   "metadata": {},
   "source": [
    "### 1: KNN"
   ]
  },
  {
   "cell_type": "code",
   "execution_count": 19,
   "metadata": {},
   "outputs": [],
   "source": [
    "# import the knn model\n",
    "from sklearn.neighbors import KNeighborsClassifier"
   ]
  },
  {
   "cell_type": "code",
   "execution_count": null,
   "metadata": {},
   "outputs": [],
   "source": [
    "# Train the model, choose the best number of neighbors using cross validation\n",
    "\n",
    "kfold = StratifiedKFold(n_splits=5, random_state =42, shuffle=True)\n",
    "\n",
    "i=0\n",
    "ks = range(1, 1000)\n",
    "accs=np.zeros((5, len(ks)))\n",
    "\n",
    "for train_index, test_index in kfold.split(X_train, y_train):\n",
    "    X_tt, X_ho = X_train[train_index], X_train[test_index]\n",
    "    y_tt, y_ho = y_train.iloc[train_index], y_train.iloc[test_index]\n",
    "\n",
    "    for k in ks:\n",
    "        knn = KNeighborsClassifier(n_neighbors=k)\n",
    "        knn.fit(X_tt, y_tt)\n",
    "        accs[i, k-1] = accuracy_score(y_ho, knn.predict(X_ho))\n",
    "    i += 1\n",
    "\n",
    "duration = 1\n",
    "freq = 440\n",
    "os.system('play -nq -t coreaudio synth {} sine {}'.format(duration, freq))\n",
    "\n",
    "notify(\"KNN\", \"KNN has finished training\")\n"
   ]
  },
  {
   "cell_type": "code",
   "execution_count": null,
   "metadata": {},
   "outputs": [],
   "source": [
    "# Find the best number of neighbors\n",
    "accs_mean = accs.mean(axis=0)\n",
    "best_k = ks[np.argmax(accs_mean)]\n",
    "\n",
    "print(f\"The best number of neighbors is {best_k}\")\n",
    "notify(\"KNN\", f\"The best number of neighbors is {best_k}\")"
   ]
  },
  {
   "cell_type": "markdown",
   "metadata": {},
   "source": [
    "The optimal k is ~70."
   ]
  },
  {
   "cell_type": "code",
   "execution_count": null,
   "metadata": {},
   "outputs": [],
   "source": [
    "plt.figure(figsize=(10, 6))\n",
    "\n",
    "plt.plot(ks, accs_mean)\n",
    "\n",
    "plt.xlabel('Number of Neighbors')\n",
    "plt.ylabel('Accuracy')\n",
    "plt.title('KNN: Accuracy vs Number of Neighbors')\n",
    "\n",
    "plt.show()"
   ]
  },
  {
   "cell_type": "code",
   "execution_count": null,
   "metadata": {},
   "outputs": [],
   "source": [
    "# Final output\n",
    "knn = KNeighborsClassifier(n_neighbors=best_k)\n",
    "knn.fit(X_train, y_train)\n",
    "y_pred = knn.predict(X_test)\n",
    "get_accuracy(y_test, y_pred)"
   ]
  },
  {
   "cell_type": "code",
   "execution_count": null,
   "metadata": {},
   "outputs": [],
   "source": [
    "# Use the grid search to find the best parameters for the KNN model\n",
    "\n",
    "param_grid = {'n_neighbors': range(1, 1000)}\n",
    "knn = KNeighborsClassifier()\n",
    "\n",
    "grid_search = GridSearchCV(knn, param_grid, cv=5, n_jobs=-1)\n",
    "grid_search.fit(X_train, y_train)\n",
    "\n",
    "print(f\"The best parameters are {grid_search.best_params_}\")\n",
    "\n",
    "duration = 1\n",
    "freq = 440\n",
    "os.system('play -nq -t coreaudio synth {} sine {}'.format(duration, freq))\n",
    "\n",
    "notify(\"KNN\", f\"The best parameters are {grid_search.best_params_}\")"
   ]
  },
  {
   "cell_type": "markdown",
   "metadata": {},
   "source": [
    "The best parameters are {'n_neighbors': 38}"
   ]
  },
  {
   "cell_type": "code",
   "execution_count": 20,
   "metadata": {},
   "outputs": [
    {
     "name": "stdout",
     "output_type": "stream",
     "text": [
      "The accuracy is 0.5405\n",
      "The confusion matrix \n",
      "['ELSE', 'ENTERTAINMENT', 'POLITICS', 'WELLNESS'] is \n",
      "[[ 977  588  161  274]\n",
      " [ 447 1246  147  160]\n",
      " [ 466  302 1099  133]\n",
      " [ 569  377   52 1002]]\n",
      "F1 Score when we treat ELSE as negative: 0.7829477514946712\n",
      "F1 Score for everclass: \n",
      "['ELSE', 'ENTERTAINMENT', 'POLITICS', 'WELLNESS'] \n",
      "[0.43821485 0.55218258 0.63544377 0.56150182]\n"
     ]
    },
    {
     "name": "stderr",
     "output_type": "stream",
     "text": [
      "/var/folders/l_/txq0vh11623_5lrnfw_cpmsh0000gn/T/ipykernel_3591/2370515181.py:4: FutureWarning: Series.__getitem__ treating keys as positions is deprecated. In a future version, integer keys will always be treated as labels (consistent with DataFrame behavior). To access a value by position, use `ser.iloc[pos]`\n",
      "  results = {'index': misclassified_idx, 'true': y_test[misclassified_idx], 'pred': y_pred[misclassified_idx], 'headline': sampled_test['headline_summary_tokenized'].iloc[misclassified_idx].apply(lambda x: ' '.join(x))}\n"
     ]
    }
   ],
   "source": [
    "# The best parameter:\n",
    "\n",
    "#best_k = grid_search.best_params_['n_neighbors']\n",
    "best_k=38\n",
    "\n",
    "knn_best = KNeighborsClassifier(n_neighbors=best_k)\n",
    "knn_best.fit(X_train, y_train)\n",
    "y_pred = knn_best.predict(X_test)\n",
    "get_accuracy(y_test, y_pred)\n",
    "mis_KNN = get_misclassified_samples(y_test, y_pred)"
   ]
  },
  {
   "cell_type": "code",
   "execution_count": 21,
   "metadata": {},
   "outputs": [],
   "source": [
    "mis_KNN.rename(columns={'index': 'index_KNN'}, inplace=True)\n",
    "\n",
    "misclassified = pd.concat([misclassified, mis_KNN['index_KNN']], axis=1)"
   ]
  },
  {
   "cell_type": "markdown",
   "metadata": {},
   "source": [
    "### 2: SVM"
   ]
  },
  {
   "cell_type": "code",
   "execution_count": 22,
   "metadata": {},
   "outputs": [],
   "source": [
    "# import svm model\n",
    "from sklearn.svm import SVC"
   ]
  },
  {
   "cell_type": "code",
   "execution_count": null,
   "metadata": {},
   "outputs": [],
   "source": [
    "# Train the model, find the best hyperparameters using cross validation 1:\n",
    "\n",
    "kfold = StratifiedKFold(n_splits=5, random_state =42, shuffle=True)\n",
    "Cs = [0.1, 1, 10, 100, 1000]\n",
    "#kernels = ['linear', 'poly', 'rbf', 'sigmoid']\n",
    "degrees = range(1, 10)\n",
    "\n",
    "i=0\n",
    "start = time.time()\n",
    "t0 = time.time()\n",
    "accs_svc_poly = np.zeros((5, len(Cs), len(degrees)))\n",
    "\n",
    "for train_index, test_index in kfold.split(X_train, y_train):\n",
    "    X_tt, X_ho = X_train[train_index], X_train[test_index]\n",
    "    y_tt, y_ho = y_train.iloc[train_index], y_train.iloc[test_index]\n",
    "\n",
    "    for c in Cs:\n",
    "        for d in degrees:\n",
    "            print(f\"start to process {c} and {d} in the {i+1}th fold\")\n",
    "            svc = SVC(C=c, kernel='poly', degree=d)\n",
    "            svc.fit(X_tt, y_tt)\n",
    "            accs_svc_poly[i, Cs.index(c), degrees.index(d)] = accuracy_score(y_ho, svc.predict(X_ho))\n",
    "            print(f\"To process {c} and {d} in the {i+1}th fold, it takes {time.time()-t0} seconds\")\n",
    "            t0 = time.time()\n",
    "    i += 1\n",
    "\n",
    "duration = 1\n",
    "freq = 440\n",
    "os.system('play -nq -t coreaudio synth {} sine {}'.format(duration, freq))\n",
    "\n",
    "notify(\"SVM\", \"SVM has finished training\")\n"
   ]
  },
  {
   "cell_type": "code",
   "execution_count": null,
   "metadata": {},
   "outputs": [],
   "source": [
    "accs_svc_poly_mean = accs_svc_poly.mean(axis=0)\n",
    "best_c, best_d = np.unravel_index(np.argmax(accs_svc_poly_mean), accs_svc_poly_mean.shape)\n",
    "print(f\"The best C is {Cs[best_c]} and the best degree is {degrees[best_d]}\")\n",
    "notify(\"SVM\", f\"The best C is {Cs[best_c]} and the best degree is {degrees[best_d]}\")"
   ]
  },
  {
   "cell_type": "code",
   "execution_count": null,
   "metadata": {},
   "outputs": [],
   "source": [
    "plt.figure(figsize=(10, 6))\n",
    "\n",
    "plt.plot(Cs, accs_svc_poly_mean[:, best_d])\n",
    "\n",
    "plt.xlabel('C')\n",
    "plt.ylabel('Accuracy')\n",
    "plt.title('SVM: Accuracy vs C')\n",
    "\n",
    "plt.show()"
   ]
  },
  {
   "cell_type": "markdown",
   "metadata": {},
   "source": [
    "Seems like when C is getting larger, the accuracy is getting better. A good trade-off is C=100."
   ]
  },
  {
   "cell_type": "code",
   "execution_count": null,
   "metadata": {},
   "outputs": [],
   "source": [
    "plt.figure(figsize=(10, 6))\n",
    "\n",
    "plt.plot(degrees, accs_svc_poly_mean[best_c])\n",
    "\n",
    "plt.xlabel('Degree')\n",
    "plt.ylabel('Accuracy')\n",
    "plt.title('SVM: Accuracy vs Degree')\n",
    "\n",
    "plt.show()"
   ]
  },
  {
   "cell_type": "markdown",
   "metadata": {},
   "source": [
    "Seems like when the degree of the polynomial is 1 is the optimal. The accuracy is monotonically decreasing. The procedure takes ~6 hours."
   ]
  },
  {
   "cell_type": "code",
   "execution_count": null,
   "metadata": {},
   "outputs": [],
   "source": [
    "# get accuracy\n",
    "svc = SVC(C=Cs[best_c], kernel='poly', degree=degrees[best_d])\n",
    "svc.fit(X_train, y_train)\n",
    "y_pred = svc.predict(X_test)\n",
    "get_accuracy(y_test, y_pred)"
   ]
  },
  {
   "cell_type": "markdown",
   "metadata": {},
   "source": [
    "The output:\n",
    "``` bash\n",
    "The accuracy is 0.7225\n",
    "The confusion matrix is \n",
    "[[1232  305  196  314]\n",
    " [ 398 1382  121   66]\n",
    " [ 291   65 1585   45]\n",
    " [ 349   47   23 1581]]\n",
    " ```"
   ]
  },
  {
   "cell_type": "code",
   "execution_count": null,
   "metadata": {},
   "outputs": [],
   "source": [
    "# Find the best kernel and C using cross validation:\n",
    "kfold = StratifiedKFold(n_splits=5, random_state =42, shuffle=True)\n",
    "Cs = [0.1, 1, 10, 100, 1000]\n",
    "kernels = ['linear', 'rbf', 'sigmoid']\n",
    "\n",
    "i=0\n",
    "start = time.time()\n",
    "t0 = time.time()\n",
    "accs_svc = np.zeros((5, len(Cs), len(kernels)))\n",
    "\n",
    "for train_index, test_index in kfold.split(X_train, y_train):\n",
    "    X_tt, X_ho = X_train[train_index], X_train[test_index]\n",
    "    y_tt, y_ho = y_train.iloc[train_index], y_train.iloc[test_index]\n",
    "\n",
    "    for c in Cs:\n",
    "        for kernel in kernels:\n",
    "            print(f\"start to process {c} and {kernel} in the {i+1}th fold\")\n",
    "            svc = SVC(C=c, kernel=kernel)\n",
    "            svc.fit(X_tt, y_tt)\n",
    "            accs_svc[i, Cs.index(c), kernels.index(kernel)] = accuracy_score(y_ho, svc.predict(X_ho))\n",
    "            print(f\"To process {c} and {kernel} in the {i+1}th fold, it takes {time.time()-t0} seconds\")\n",
    "            t0 = time.time()\n",
    "    i += 1\n",
    "duration = 1\n",
    "freq = 440\n",
    "os.system('play -nq -t coreaudio synth {} sine {}'.format(duration, freq))\n",
    "\n",
    "notify(\"SVM\", \"SVM has finished training\")\n",
    "\n"
   ]
  },
  {
   "cell_type": "code",
   "execution_count": null,
   "metadata": {},
   "outputs": [],
   "source": [
    "accs_svc_mean = accs_svc.mean(axis=0)\n",
    "best_c, best_kernel = np.unravel_index(np.argmax(accs_svc_mean), accs_svc_mean.shape)\n",
    "print(accs_svc_mean)\n",
    "print(f\"The best C is {Cs[best_c]} and the best kernel is {kernels[best_kernel]}\")\n",
    "notify(\"SVM\", f\"The best C is {Cs[best_c]} and the best kernel is {kernels[best_kernel]}\")"
   ]
  },
  {
   "cell_type": "markdown",
   "metadata": {},
   "source": [
    "The best C is 10 and the best kernel is rbf"
   ]
  },
  {
   "cell_type": "code",
   "execution_count": null,
   "metadata": {},
   "outputs": [],
   "source": [
    "plt.figure(figsize=(10, 6))\n",
    "\n",
    "plt.plot(Cs, accs_svc_mean[:, best_kernel])\n",
    "\n",
    "plt.xlabel('C')\n",
    "plt.ylabel('Accuracy')\n",
    "plt.title('SVM: Accuracy vs C')\n",
    "\n",
    "plt.show()"
   ]
  },
  {
   "cell_type": "code",
   "execution_count": null,
   "metadata": {},
   "outputs": [],
   "source": [
    "# get accuracy\n",
    "svc = SVC(C=Cs[best_c], kernel=kernels[best_kernel])\n",
    "svc.fit(X_train, y_train)\n",
    "y_pred = svc.predict(X_test)\n",
    "get_accuracy(y_test, y_pred)"
   ]
  },
  {
   "cell_type": "code",
   "execution_count": null,
   "metadata": {},
   "outputs": [],
   "source": [
    "# Use the grid search to find the best hyperparameters for the SVM model\n",
    "\n",
    "param_grid_1 = {'C': [0.1, 1, 10, 100, 1000], 'kernel': ['linear', 'rbf', 'sigmoid']}\n",
    "param_grid_2 = {'C': [0.1, 1, 10, 100, 1000], 'kernel': ['poly'], 'degree': range(1, 10)}\n",
    "\n",
    "svc = SVC()\n",
    "\n",
    "grid_search_1 = GridSearchCV(svc, param_grid_1, cv=5, n_jobs=-1)\n",
    "grid_search_1.fit(X_train, y_train)\n",
    "\n",
    "print(f\"The best parameters are {grid_search_1.best_params_}\")\n",
    "\n",
    "duration = 1\n",
    "freq = 440\n",
    "os.system('play -nq -t coreaudio synth {} sine {}'.format(duration, freq))\n",
    "\n",
    "notify(\"SVM\", f\"The best parameters are {grid_search_1.best_params_}\")"
   ]
  },
  {
   "cell_type": "markdown",
   "metadata": {},
   "source": [
    "Output:\n",
    "```zsh\n",
    "The best parameters are {'C': 1000, 'kernel': 'linear'}\n",
    "```"
   ]
  },
  {
   "cell_type": "code",
   "execution_count": null,
   "metadata": {},
   "outputs": [],
   "source": [
    "# the output\n",
    "svc_bestkernel = SVC(**grid_search_1.best_params_)\n",
    "svc_bestkernel.fit(X_train, y_train)\n",
    "y_pred = svc_bestkernel.predict(X_test)\n",
    "get_accuracy(y_test, y_pred)"
   ]
  },
  {
   "cell_type": "markdown",
   "metadata": {},
   "source": [
    "Output:\n",
    "``` zsh\n",
    "The accuracy is 0.70325\n",
    "The confusion matrix \n",
    "['ELSE', 'ENTERTAINMENT', 'POLITICS', 'WELLNESS'] is \n",
    "[[1266  277  194  310]\n",
    " [ 446 1307  145   69]\n",
    " [ 335   79 1519   53]\n",
    " [ 387   45   34 1534]]\n",
    " ```"
   ]
  },
  {
   "cell_type": "code",
   "execution_count": null,
   "metadata": {},
   "outputs": [],
   "source": [
    "svc = SVC()\n",
    "\n",
    "grid_search_2 = GridSearchCV(svc, param_grid_2, cv=5, n_jobs=-1)\n",
    "\n",
    "grid_search_2.fit(X_train, y_train)\n",
    "\n",
    "print(f\"The best parameters are {grid_search_2.best_params_}\")\n",
    "\n",
    "duration = 1\n",
    "freq = 440\n",
    "os.system('play -nq -t coreaudio synth {} sine {}'.format(duration, freq))\n",
    "\n",
    "notify(\"SVM\", f\"The best parameters are {grid_search_2.best_params_}\")"
   ]
  },
  {
   "cell_type": "markdown",
   "metadata": {},
   "source": [
    "Output:\n",
    "``` zsh\n",
    "The best parameters are {'C': 1000, 'degree': 1, 'kernel': 'poly'}\n",
    "```\n"
   ]
  },
  {
   "cell_type": "code",
   "execution_count": 23,
   "metadata": {},
   "outputs": [
    {
     "name": "stdout",
     "output_type": "stream",
     "text": [
      "The accuracy is 0.695\n",
      "The confusion matrix \n",
      "['ELSE', 'ENTERTAINMENT', 'POLITICS', 'WELLNESS'] is \n",
      "[[1190  328  194  288]\n",
      " [ 425 1340  132  103]\n",
      " [ 351  100 1505   44]\n",
      " [ 368   77   30 1525]]\n",
      "F1 Score when we treat ELSE as negative: 0.8325047145551174\n",
      "F1 Score for everclass: \n",
      "['ELSE', 'ENTERTAINMENT', 'POLITICS', 'WELLNESS'] \n",
      "[0.54914629 0.6970091  0.77959078 0.77020202]\n"
     ]
    },
    {
     "name": "stderr",
     "output_type": "stream",
     "text": [
      "/var/folders/l_/txq0vh11623_5lrnfw_cpmsh0000gn/T/ipykernel_3591/2370515181.py:4: FutureWarning: Series.__getitem__ treating keys as positions is deprecated. In a future version, integer keys will always be treated as labels (consistent with DataFrame behavior). To access a value by position, use `ser.iloc[pos]`\n",
      "  results = {'index': misclassified_idx, 'true': y_test[misclassified_idx], 'pred': y_pred[misclassified_idx], 'headline': sampled_test['headline_summary_tokenized'].iloc[misclassified_idx].apply(lambda x: ' '.join(x))}\n"
     ]
    }
   ],
   "source": [
    "# the output\n",
    "\n",
    "#svc_bestdegree = SVC(**grid_search_2.best_params_)\n",
    "svc_bestdegree = SVC(C=1, kernel='poly', degree=1)\n",
    "\n",
    "#Fit the model:\n",
    "svc_bestdegree.fit(X_train, y_train)\n",
    "y_pred = svc_bestdegree.predict(X_test)\n",
    "get_accuracy(y_test, y_pred)\n",
    "mis_SVM = get_misclassified_samples(y_test, y_pred)"
   ]
  },
  {
   "cell_type": "markdown",
   "metadata": {},
   "source": [
    "Output:\n",
    "``` zsh\n",
    "The accuracy is 0.72175\n",
    "The confusion matrix \n",
    "['ELSE', 'ENTERTAINMENT', 'POLITICS', 'WELLNESS'] is \n",
    "[[1246  298  192  311]\n",
    " [ 399 1385  122   61]\n",
    " [ 293   79 1570   44]\n",
    " [ 347   50   30 1573]]\n",
    " ```"
   ]
  },
  {
   "cell_type": "code",
   "execution_count": 24,
   "metadata": {},
   "outputs": [],
   "source": [
    "mis_SVM.rename(columns={'index': 'index_SVM'}, inplace=True)\n",
    "\n",
    "misclassified = pd.concat([misclassified, mis_SVM['index_SVM']], axis=1)"
   ]
  },
  {
   "cell_type": "markdown",
   "metadata": {},
   "source": [
    "### 3: Logistic"
   ]
  },
  {
   "cell_type": "code",
   "execution_count": 25,
   "metadata": {},
   "outputs": [],
   "source": [
    "from sklearn.linear_model import LogisticRegression"
   ]
  },
  {
   "cell_type": "code",
   "execution_count": null,
   "metadata": {},
   "outputs": [],
   "source": [
    "# Train the model, find the best hyperparameters using cross validation 1:\n",
    "\n",
    "kfold = StratifiedKFold(n_splits=5, random_state =42, shuffle=True)\n",
    "Cs = [0.1, 1, 10, 100, 1000]\n",
    "solver = ['newton-cg', 'lbfgs', 'sag', 'saga']\n",
    "accs = np.zeros((5, len(Cs), len(solver)))\n",
    "\n",
    "i=0\n",
    "start = time.time()\n",
    "t0 = time.time()\n",
    "\n",
    "for train_index, test_index in kfold.split(X_train, y_train):\n",
    "    X_tt, X_ho = X_train[train_index], X_train[test_index]\n",
    "    y_tt, y_ho = y_train.iloc[train_index], y_train.iloc[test_index]\n",
    "\n",
    "    for c in Cs:\n",
    "        for s in solver:\n",
    "            print(f\"start to process {c} and {s} in the {i+1}th fold\")\n",
    "            lr = LogisticRegression(C=c, solver=s)\n",
    "            lr.fit(X_tt, y_tt)\n",
    "            accs[i, Cs.index(c), solver.index(s)] = accuracy_score(y_ho, lr.predict(X_ho))\n",
    "            print(f\"To process {c} and {s} in the {i+1}th fold, it takes {time.time()-t0} seconds\")\n",
    "            t0 = time.time()\n",
    "    i += 1\n",
    "\n",
    "\n",
    "duration = 1\n",
    "freq = 440\n",
    "os.system('play -nq -t coreaudio synth {} sine {}'.format(duration, freq))\n",
    "\n",
    "notify(\"Logistic\", \"Logistic has finished training\")\n",
    "\n"
   ]
  },
  {
   "cell_type": "code",
   "execution_count": null,
   "metadata": {},
   "outputs": [],
   "source": [
    "accs_mean = accs.mean(axis=0)\n",
    "print(accs_mean)\n",
    "best_c, best_s = np.unravel_index(np.argmax(accs_mean), accs_mean.shape)\n",
    "print(f\"The best C is {Cs[best_c]} and the best solver is {solver[best_s]}\")\n",
    "notify(\"SVM\", f\"The best C is {Cs[best_c]} and the best solver is {solver[best_s]}\")"
   ]
  },
  {
   "cell_type": "markdown",
   "metadata": {},
   "source": [
    "The best C is 1000 and the best solver is newton-cg"
   ]
  },
  {
   "cell_type": "code",
   "execution_count": null,
   "metadata": {},
   "outputs": [],
   "source": [
    "plt.figure(figsize=(10, 6))\n",
    "\n",
    "plt.plot(Cs, accs_mean[:, best_s])\n",
    "\n",
    "plt.xlabel('C')\n",
    "plt.ylabel('Accuracy')\n",
    "plt.title('Logistic Regression: Accuracy vs C')\n",
    "\n",
    "plt.show()"
   ]
  },
  {
   "cell_type": "code",
   "execution_count": null,
   "metadata": {},
   "outputs": [],
   "source": [
    "# get accuracy\n",
    "lr = LogisticRegression(C=Cs[best_c], solver=solver[best_s])\n",
    "lr.fit(X_train, y_train)\n",
    "y_pred = lr.predict(X_test)\n",
    "get_accuracy(y_test, y_pred)"
   ]
  },
  {
   "cell_type": "markdown",
   "metadata": {},
   "source": [
    "The output:\n",
    "``` zsh\n",
    "The accuracy is 0.720875\n",
    "The confusion matrix is \n",
    "[[1127  350  224  346]\n",
    " [ 314 1440  135   78]\n",
    " [ 248   91 1592   55]\n",
    " [ 292   68   32 1608]]\n",
    " ```"
   ]
  },
  {
   "cell_type": "code",
   "execution_count": null,
   "metadata": {},
   "outputs": [],
   "source": [
    "# Using the grid search to find the best hyperparameters for the logistic regression model\n",
    "\n",
    "param_grid = {'C': [0.1, 1, 10, 100, 1000], 'solver': ['newton-cg', 'lbfgs', 'sag', 'saga']}\n",
    "lr = LogisticRegression()\n",
    "\n",
    "grid_search = GridSearchCV(lr, param_grid, cv=5, n_jobs=-1)\n",
    "grid_search.fit(X_train, y_train)\n",
    "\n",
    "print(f\"The best parameters are {grid_search.best_params_}\")\n",
    "\n",
    "duration = 1\n",
    "freq = 440\n",
    "os.system('play -nq -t coreaudio synth {} sine {}'.format(duration, freq))\n",
    "\n",
    "notify(\"Logistic\", f\"The best parameters are {grid_search.best_params_}\")"
   ]
  },
  {
   "cell_type": "code",
   "execution_count": 26,
   "metadata": {},
   "outputs": [
    {
     "name": "stdout",
     "output_type": "stream",
     "text": [
      "The accuracy is 0.708875\n",
      "The confusion matrix \n",
      "['ELSE', 'ENTERTAINMENT', 'POLITICS', 'WELLNESS'] is \n",
      "[[1075  379  224  322]\n",
      " [ 321 1444  130  105]\n",
      " [ 270  119 1552   59]\n",
      " [ 296   75   29 1600]]\n",
      "F1 Score when we treat ELSE as negative: 0.8494766572520352\n",
      "F1 Score for everclass: \n",
      "['ELSE', 'ENTERTAINMENT', 'POLITICS', 'WELLNESS'] \n",
      "[0.54265522 0.71894449 0.7888183  0.78316202]\n"
     ]
    },
    {
     "name": "stderr",
     "output_type": "stream",
     "text": [
      "/var/folders/l_/txq0vh11623_5lrnfw_cpmsh0000gn/T/ipykernel_3591/2370515181.py:4: FutureWarning: Series.__getitem__ treating keys as positions is deprecated. In a future version, integer keys will always be treated as labels (consistent with DataFrame behavior). To access a value by position, use `ser.iloc[pos]`\n",
      "  results = {'index': misclassified_idx, 'true': y_test[misclassified_idx], 'pred': y_pred[misclassified_idx], 'headline': sampled_test['headline_summary_tokenized'].iloc[misclassified_idx].apply(lambda x: ' '.join(x))}\n"
     ]
    }
   ],
   "source": [
    "# the output\n",
    "\n",
    "#lr_best = LogisticRegression(**grid_search.best_params_)\n",
    "lr_best = LogisticRegression(C=1000, solver='newton-cg')\n",
    "\n",
    "lr_best.fit(X_train, y_train)\n",
    "y_pred = lr_best.predict(X_test)\n",
    "get_accuracy(y_test, y_pred)\n",
    "mis_log = get_misclassified_samples(y_test, y_pred)"
   ]
  },
  {
   "cell_type": "code",
   "execution_count": 27,
   "metadata": {},
   "outputs": [],
   "source": [
    "mis_log.rename(columns={'index': 'index_log'}, inplace=True)\n",
    "\n",
    "misclassified = pd.concat([misclassified, mis_log['index_log']], axis=1)"
   ]
  },
  {
   "cell_type": "markdown",
   "metadata": {},
   "source": [
    "### 4: Naive Baysian"
   ]
  },
  {
   "cell_type": "code",
   "execution_count": 28,
   "metadata": {},
   "outputs": [],
   "source": [
    "from sklearn.naive_bayes import GaussianNB, MultinomialNB"
   ]
  },
  {
   "cell_type": "code",
   "execution_count": null,
   "metadata": {},
   "outputs": [],
   "source": [
    "# Fit the model\n",
    "kfold = StratifiedKFold(n_splits=5, random_state =42, shuffle=True)\n",
    "\n",
    "accs = np.zeros((5, 2))\n",
    "models = [GaussianNB(), MultinomialNB()]\n",
    "i = 0\n",
    "accs = np.zeros((5, 2))\n",
    "start = time.time()\n",
    "t0 = start\n",
    "\n",
    "for train_index, test_index in kfold.split(X_train, y_train):\n",
    "    X_tt, X_ho = X_train[train_index], X_train[test_index]\n",
    "    y_tt, y_ho = y_train.iloc[train_index], y_train.iloc[test_index]\n",
    "\n",
    "    for j, model in enumerate(models):\n",
    "        print(f\"start to process {model} in the {i+1}th fold\")\n",
    "        model.fit(X_tt, y_tt)\n",
    "        accs[i, j] = accuracy_score(y_ho, model.predict(X_ho))\n",
    "        print(f\"To process {model} in the {i+1}th fold, it takes {time.time()-t0} seconds\")\n",
    "        t0 = time.time()\n",
    "    i += 1\n",
    "\n",
    "notify(\"Naive Bayes\", \"Naive Bayes has finished training\")"
   ]
  },
  {
   "cell_type": "code",
   "execution_count": null,
   "metadata": {},
   "outputs": [],
   "source": [
    "mean_accs = accs.mean(axis=0)\n",
    "print(mean_accs)\n",
    "best_model = np.argmax(mean_accs)\n",
    "print(f\"The best model is {models[best_model]}\")"
   ]
  },
  {
   "cell_type": "markdown",
   "metadata": {},
   "source": [
    "The best model is MultinomialNB()"
   ]
  },
  {
   "cell_type": "code",
   "execution_count": 29,
   "metadata": {},
   "outputs": [
    {
     "name": "stdout",
     "output_type": "stream",
     "text": [
      "The accuracy is 0.64625\n",
      "The confusion matrix \n",
      "['ELSE', 'ENTERTAINMENT', 'POLITICS', 'WELLNESS'] is \n",
      "[[ 878  340  274  508]\n",
      " [ 331 1221  197  251]\n",
      " [ 243  123 1477  157]\n",
      " [ 243  109   54 1594]]\n",
      "F1 Score when we treat ELSE as negative: 0.8424217797643234\n",
      "F1 Score for everclass: \n",
      "['ELSE', 'ENTERTAINMENT', 'POLITICS', 'WELLNESS'] \n",
      "[0.47523681 0.64381756 0.73813093 0.70687361]\n"
     ]
    },
    {
     "name": "stderr",
     "output_type": "stream",
     "text": [
      "/var/folders/l_/txq0vh11623_5lrnfw_cpmsh0000gn/T/ipykernel_3591/2370515181.py:4: FutureWarning: Series.__getitem__ treating keys as positions is deprecated. In a future version, integer keys will always be treated as labels (consistent with DataFrame behavior). To access a value by position, use `ser.iloc[pos]`\n",
      "  results = {'index': misclassified_idx, 'true': y_test[misclassified_idx], 'pred': y_pred[misclassified_idx], 'headline': sampled_test['headline_summary_tokenized'].iloc[misclassified_idx].apply(lambda x: ' '.join(x))}\n"
     ]
    }
   ],
   "source": [
    "# get accuracy\n",
    "\n",
    "#model = models[best_model]\n",
    "model = MultinomialNB()\n",
    "\n",
    "model.fit(X_train, y_train)\n",
    "y_pred = model.predict(X_test)\n",
    "get_accuracy(y_test, y_pred)\n",
    "mis_NB = get_misclassified_samples(y_test, y_pred)"
   ]
  },
  {
   "cell_type": "code",
   "execution_count": 30,
   "metadata": {},
   "outputs": [],
   "source": [
    "mis_NB.rename(columns={'index': 'index_NB'}, inplace=True)\n",
    "\n",
    "misclassified = pd.concat([misclassified, mis_NB['index_NB']], axis=1)"
   ]
  },
  {
   "cell_type": "markdown",
   "metadata": {},
   "source": [
    "The output:\n",
    "```zsh\n",
    "The accuracy is 0.637\n",
    "The confusion matrix is \n",
    "[[ 468  577  385  617]\n",
    " [ 109 1444  208  206]\n",
    " [ 104  209 1511  162]\n",
    " [  73  160   94 1673]]\n",
    " ```"
   ]
  },
  {
   "cell_type": "markdown",
   "metadata": {},
   "source": [
    "### 5: Random Forest"
   ]
  },
  {
   "cell_type": "code",
   "execution_count": 31,
   "metadata": {},
   "outputs": [],
   "source": [
    "from sklearn.ensemble import RandomForestClassifier"
   ]
  },
  {
   "cell_type": "code",
   "execution_count": null,
   "metadata": {},
   "outputs": [],
   "source": [
    "# Train the model, find the best hyperparameters using cross validation:\n",
    "kfold = StratifiedKFold(n_splits=5, random_state =42, shuffle=True)\n",
    "\n",
    "n_estimators = [10, 50, 100, 200, 500]\n",
    "max_depths = [10, 50, 100, 200]\n",
    "\n",
    "i=0\n",
    "start = time.time()\n",
    "t0 = time.time()\n",
    "accs_rf = np.zeros((5, len(n_estimators), len(max_depths)))\n",
    "\n",
    "for train_index, test_index in kfold.split(X_train, y_train):\n",
    "    X_tt, X_ho = X_train[train_index], X_train[test_index]\n",
    "    y_tt, y_ho = y_train.iloc[train_index], y_train.iloc[test_index]\n",
    "\n",
    "    for n in n_estimators:\n",
    "        for d in max_depths:\n",
    "            print(f\"start to process {n} and {d} in the {i+1}th fold\")\n",
    "            rf = RandomForestClassifier(n_estimators=n, max_depth=d)\n",
    "            rf.fit(X_tt, y_tt)\n",
    "            accs_rf[i, n_estimators.index(n), max_depths.index(d)] = accuracy_score(y_ho, rf.predict(X_ho))\n",
    "            print(f\"To process {n} and {d} in the {i+1}th fold, it takes {time.time()-t0} seconds\")\n",
    "            t0 = time.time()\n",
    "    i += 1\n",
    "\n",
    "duration = 1\n",
    "freq = 440\n",
    "os.system('play -nq -t coreaudio synth {} sine {}'.format(duration, freq))\n",
    "\n",
    "notify(\"RandomForest\", \"RandomForest has finished training\")"
   ]
  },
  {
   "cell_type": "code",
   "execution_count": null,
   "metadata": {},
   "outputs": [],
   "source": [
    "# Find the best number of neighbors\n",
    "accs_rf_mean = accs_rf.mean(axis=0)\n",
    "best_n, best_d = np.unravel_index(np.argmax(accs_rf_mean), accs_rf_mean.shape)\n",
    "print(accs_rf_mean)\n",
    "\n",
    "print(f\"The best number of neighbors is {n_estimators[best_n]} and the best max depth is {max_depths[best_d]}\")\n"
   ]
  },
  {
   "cell_type": "code",
   "execution_count": null,
   "metadata": {},
   "outputs": [],
   "source": [
    "# Plot\n",
    "plt.figure(figsize=(10, 6))\n",
    "\n",
    "plt.plot(n_estimators, accs_rf_mean[:, best_d])\n",
    "\n",
    "plt.xlabel('Number of Estimators')\n",
    "plt.ylabel('Accuracy')\n",
    "plt.title('Random Forest: Accuracy vs Number of Estimators')\n",
    "\n",
    "plt.show()"
   ]
  },
  {
   "cell_type": "code",
   "execution_count": null,
   "metadata": {},
   "outputs": [],
   "source": [
    "plt.figure(figsize=(10, 6))\n",
    "\n",
    "plt.plot(max_depths, accs_rf_mean[best_n])\n",
    "\n",
    "plt.xlabel('Max Depth')\n",
    "plt.ylabel('Accuracy')\n",
    "plt.title('Random Forest: Accuracy vs Max Depth')\n",
    "\n",
    "plt.show()"
   ]
  },
  {
   "cell_type": "code",
   "execution_count": null,
   "metadata": {},
   "outputs": [],
   "source": [
    "# Final output\n",
    "rf = RandomForestClassifier(n_estimators=n_estimators[best_n], max_depth=max_depths[best_d])\n",
    "rf.fit(X_train, y_train)\n",
    "y_pred = rf.predict(X_test)\n",
    "get_accuracy(y_test, y_pred)"
   ]
  },
  {
   "cell_type": "markdown",
   "metadata": {},
   "source": [
    "The output:\n",
    "``` zsh\n",
    "The accuracy is 0.740875\n",
    "The confusion matrix is \n",
    "[[1020  351  279  397]\n",
    " [ 200 1570  135   62]\n",
    " [ 187   67 1673   59]\n",
    " [ 214   71   51 1664]]\n",
    " ```\n",
    " "
   ]
  },
  {
   "cell_type": "code",
   "execution_count": null,
   "metadata": {},
   "outputs": [],
   "source": [
    "# use the grid search to find the best hyperparameters for the random forest model\n",
    "\n",
    "param_grid = {'n_estimators': [500, 600, 700, 800, 900, 1000], 'max_depth': [10, 50, 100, 200]}\n",
    "rf = RandomForestClassifier()\n",
    "\n",
    "grid_search = GridSearchCV(rf, param_grid, cv=5, n_jobs=-1)\n",
    "grid_search.fit(X_train, y_train)\n",
    "\n",
    "print(f\"The best parameters are {grid_search.best_params_}\")\n",
    "\n",
    "duration = 1\n",
    "freq = 440\n",
    "os.system('play -nq -t coreaudio synth {} sine {}'.format(duration, freq))\n",
    "\n",
    "notify(\"RandomForest\", f\"The best parameters are {grid_search.best_params_}\")\n"
   ]
  },
  {
   "cell_type": "markdown",
   "metadata": {},
   "source": [
    "The best parameters are {'max_depth': 200, 'n_estimators': 700}"
   ]
  },
  {
   "cell_type": "code",
   "execution_count": 32,
   "metadata": {},
   "outputs": [
    {
     "name": "stdout",
     "output_type": "stream",
     "text": [
      "The accuracy is 0.734\n",
      "The confusion matrix \n",
      "['ELSE', 'ENTERTAINMENT', 'POLITICS', 'WELLNESS'] is \n",
      "[[ 971  375  262  392]\n",
      " [ 202 1581  146   71]\n",
      " [ 190   82 1661   67]\n",
      " [ 212   77   52 1659]]\n",
      "F1 Score when we treat ELSE as negative: 0.8685714285714285\n",
      "F1 Score for everclass: \n",
      "['ELSE', 'ENTERTAINMENT', 'POLITICS', 'WELLNESS'] \n",
      "[0.54321678 0.76840826 0.80611502 0.79207448]\n"
     ]
    },
    {
     "name": "stderr",
     "output_type": "stream",
     "text": [
      "/var/folders/l_/txq0vh11623_5lrnfw_cpmsh0000gn/T/ipykernel_3591/2370515181.py:4: FutureWarning: Series.__getitem__ treating keys as positions is deprecated. In a future version, integer keys will always be treated as labels (consistent with DataFrame behavior). To access a value by position, use `ser.iloc[pos]`\n",
      "  results = {'index': misclassified_idx, 'true': y_test[misclassified_idx], 'pred': y_pred[misclassified_idx], 'headline': sampled_test['headline_summary_tokenized'].iloc[misclassified_idx].apply(lambda x: ' '.join(x))}\n"
     ]
    }
   ],
   "source": [
    "# the output\n",
    "\n",
    "#rf_best = RandomForestClassifier(**grid_search.best_params_)\n",
    "rf_best = RandomForestClassifier(n_estimators=700, max_depth=200)\n",
    "\n",
    "rf_best.fit(X_train, y_train)\n",
    "y_pred = rf_best.predict(X_test)\n",
    "\n",
    "get_accuracy(y_test, y_pred)\n",
    "mis_RF = get_misclassified_samples(y_test, y_pred)"
   ]
  },
  {
   "cell_type": "markdown",
   "metadata": {},
   "source": [
    "Output:\n",
    "```zsh\n",
    "The accuracy is 0.74075\n",
    "The confusion matrix \n",
    "['ELSE', 'ENTERTAINMENT', 'POLITICS', 'WELLNESS'] is \n",
    "[[1010  363  277  397]\n",
    " [ 198 1568  144   57]\n",
    " [ 193   63 1666   64]\n",
    " [ 199   72   47 1682]]\n",
    " ```"
   ]
  },
  {
   "cell_type": "code",
   "execution_count": 33,
   "metadata": {},
   "outputs": [],
   "source": [
    "mis_RF.rename(columns={'index': 'index_RF'}, inplace=True)\n",
    "\n",
    "misclassified = pd.concat([misclassified, mis_RF['index_RF']], axis=1)"
   ]
  },
  {
   "cell_type": "markdown",
   "metadata": {},
   "source": [
    "### 6: LDA and QDA"
   ]
  },
  {
   "cell_type": "code",
   "execution_count": 34,
   "metadata": {},
   "outputs": [],
   "source": [
    "from sklearn.discriminant_analysis import LinearDiscriminantAnalysis, QuadraticDiscriminantAnalysis"
   ]
  },
  {
   "cell_type": "code",
   "execution_count": null,
   "metadata": {},
   "outputs": [],
   "source": [
    "# Train LDA\n",
    "kfold = StratifiedKFold(n_splits=5, random_state =42, shuffle=True)\n",
    "accs_LDA = np.zeros((5, 1))\n",
    "\n",
    "i = 0\n",
    "start = time.time()\n",
    "t0 = start\n",
    "\n",
    "for train_index, test_index in kfold.split(X_train, y_train):\n",
    "    X_tt, X_ho = X_train[train_index], X_train[test_index]\n",
    "    y_tt, y_ho = y_train.iloc[train_index], y_train.iloc[test_index]\n",
    "\n",
    "    lda = LinearDiscriminantAnalysis()\n",
    "    print(f\"start to process LDA in the {i+1}th fold\")\n",
    "    lda.fit(X_tt, y_tt)\n",
    "    accs_LDA[i, 0] = accuracy_score(y_ho, lda.predict(X_ho))\n",
    "    print(f\"To process LDA in the {i+1}th fold, it takes {time.time()-t0} seconds\")\n",
    "    t0 = time.time()\n",
    "    i += 1\n",
    "\n",
    "duration = 1\n",
    "freq = 440\n",
    "os.system('play -nq -t coreaudio synth {} sine {}'.format(duration, freq))\n",
    "\n",
    "notify(\"LDA\", \"LDA has finished training\")"
   ]
  },
  {
   "cell_type": "code",
   "execution_count": null,
   "metadata": {},
   "outputs": [],
   "source": [
    "mean_accs_LDA = accs_LDA.mean(axis=0)\n",
    "print(mean_accs_LDA)"
   ]
  },
  {
   "cell_type": "code",
   "execution_count": 35,
   "metadata": {},
   "outputs": [
    {
     "name": "stdout",
     "output_type": "stream",
     "text": [
      "The accuracy is 0.69625\n",
      "The confusion matrix \n",
      "['ELSE', 'ENTERTAINMENT', 'POLITICS', 'WELLNESS'] is \n",
      "[[1384  224  173  219]\n",
      " [ 531 1306  105   58]\n",
      " [ 434   65 1455   46]\n",
      " [ 509   44   22 1425]]\n",
      "F1 Score when we treat ELSE as negative: 0.8124214683180757\n",
      "F1 Score for everclass: \n",
      "['ELSE', 'ENTERTAINMENT', 'POLITICS', 'WELLNESS'] \n",
      "[0.5697818  0.71777961 0.77496671 0.76040555]\n"
     ]
    },
    {
     "name": "stderr",
     "output_type": "stream",
     "text": [
      "/var/folders/l_/txq0vh11623_5lrnfw_cpmsh0000gn/T/ipykernel_3591/2370515181.py:4: FutureWarning: Series.__getitem__ treating keys as positions is deprecated. In a future version, integer keys will always be treated as labels (consistent with DataFrame behavior). To access a value by position, use `ser.iloc[pos]`\n",
      "  results = {'index': misclassified_idx, 'true': y_test[misclassified_idx], 'pred': y_pred[misclassified_idx], 'headline': sampled_test['headline_summary_tokenized'].iloc[misclassified_idx].apply(lambda x: ' '.join(x))}\n"
     ]
    }
   ],
   "source": [
    "# get accuracy\n",
    "lda = LinearDiscriminantAnalysis()\n",
    "lda.fit(X_train, y_train)\n",
    "y_pred = lda.predict(X_test)\n",
    "get_accuracy(y_test, y_pred)\n",
    "mis_LDA = get_misclassified_samples(y_test, y_pred)"
   ]
  },
  {
   "cell_type": "markdown",
   "metadata": {},
   "source": [
    "The output:\n",
    "``` zsh\n",
    "The accuracy is 0.694125\n",
    "The confusion matrix is \n",
    "[[1380  244  174  249]\n",
    " [ 543 1258  118   48]\n",
    " [ 409   57 1469   51]\n",
    " [ 491   45   18 1446]]\n",
    " ```\n",
    " "
   ]
  },
  {
   "cell_type": "code",
   "execution_count": 36,
   "metadata": {},
   "outputs": [],
   "source": [
    "mis_LDA.rename(columns={'index': 'index_LDA'}, inplace=True)\n",
    "\n",
    "misclassified = pd.concat([misclassified, mis_LDA['index_LDA']], axis=1)"
   ]
  },
  {
   "cell_type": "code",
   "execution_count": null,
   "metadata": {},
   "outputs": [],
   "source": [
    "# Train QDA\n",
    "kfold = StratifiedKFold(n_splits=5, random_state =42, shuffle=True)\n",
    "accs_QDA = np.zeros((5, 1))\n",
    "\n",
    "i = 0\n",
    "start = time.time()\n",
    "t0 = start\n",
    "\n",
    "for train_index, test_index in kfold.split(X_train, y_train):\n",
    "    X_tt, X_ho = X_train[train_index], X_train[test_index]\n",
    "    y_tt, y_ho = y_train.iloc[train_index], y_train.iloc[test_index]\n",
    "\n",
    "    qda = QuadraticDiscriminantAnalysis()\n",
    "    print(f\"start to process QDA in the {i+1}th fold\")\n",
    "    qda.fit(X_tt, y_tt)\n",
    "    accs_QDA[i, 0] = accuracy_score(y_ho, qda.predict(X_ho))\n",
    "    print(f\"To process QDA in the {i+1}th fold, it takes {time.time()-t0} seconds\")\n",
    "    t0 = time.time()\n",
    "    i += 1\n",
    "\n",
    "duration = 1\n",
    "freq = 440\n",
    "os.system('play -nq -t coreaudio synth {} sine {}'.format(duration, freq))\n",
    "\n",
    "notify(\"QDA\", \"QDA has finished training\")"
   ]
  },
  {
   "cell_type": "code",
   "execution_count": null,
   "metadata": {},
   "outputs": [],
   "source": [
    "mean_accs_QDA = accs_QDA.mean(axis=0)\n",
    "print(mean_accs_QDA)"
   ]
  },
  {
   "cell_type": "code",
   "execution_count": 37,
   "metadata": {},
   "outputs": [
    {
     "name": "stdout",
     "output_type": "stream",
     "text": [
      "The accuracy is 0.637625\n",
      "The confusion matrix \n",
      "['ELSE', 'ENTERTAINMENT', 'POLITICS', 'WELLNESS'] is \n",
      "[[ 520  304  357  819]\n",
      " [ 184 1232  185  399]\n",
      " [ 128  132 1588  152]\n",
      " [ 108   60   71 1761]]\n",
      "F1 Score when we treat ELSE as negative: 0.8545176110260337\n",
      "F1 Score for everclass: \n",
      "['ELSE', 'ENTERTAINMENT', 'POLITICS', 'WELLNESS'] \n",
      "[0.3537415  0.66094421 0.75601047 0.6864159 ]\n"
     ]
    },
    {
     "name": "stderr",
     "output_type": "stream",
     "text": [
      "/var/folders/l_/txq0vh11623_5lrnfw_cpmsh0000gn/T/ipykernel_3591/2370515181.py:4: FutureWarning: Series.__getitem__ treating keys as positions is deprecated. In a future version, integer keys will always be treated as labels (consistent with DataFrame behavior). To access a value by position, use `ser.iloc[pos]`\n",
      "  results = {'index': misclassified_idx, 'true': y_test[misclassified_idx], 'pred': y_pred[misclassified_idx], 'headline': sampled_test['headline_summary_tokenized'].iloc[misclassified_idx].apply(lambda x: ' '.join(x))}\n"
     ]
    }
   ],
   "source": [
    "# get accuracy\n",
    "qda = QuadraticDiscriminantAnalysis()\n",
    "qda.fit(X_train, y_train)\n",
    "y_pred = qda.predict(X_test)\n",
    "get_accuracy(y_test, y_pred)\n",
    "mis_QDA = get_misclassified_samples(y_test, y_pred)"
   ]
  },
  {
   "cell_type": "markdown",
   "metadata": {},
   "source": [
    "The output:\n",
    "``` zsh\n",
    "The accuracy is 0.631875\n",
    "The confusion matrix is \n",
    "[[ 498  354  401  794]\n",
    " [ 158 1211  204  394]\n",
    " [ 129  120 1585  152]\n",
    " [ 126   46   67 1761]]\n",
    " ```"
   ]
  },
  {
   "cell_type": "code",
   "execution_count": 38,
   "metadata": {},
   "outputs": [],
   "source": [
    "mis_QDA.rename(columns={'index': 'index_QDA'}, inplace=True)\n",
    "\n",
    "misclassified = pd.concat([misclassified, mis_QDA['index_QDA']], axis=1)"
   ]
  },
  {
   "cell_type": "markdown",
   "metadata": {},
   "source": [
    "### 7: Gradient Boost Classifier"
   ]
  },
  {
   "cell_type": "code",
   "execution_count": 39,
   "metadata": {},
   "outputs": [],
   "source": [
    "from sklearn.ensemble import GradientBoostingClassifier"
   ]
  },
  {
   "cell_type": "code",
   "execution_count": null,
   "metadata": {},
   "outputs": [],
   "source": [
    "# Train the model, find the best hyperparameters using cross validation:\n",
    "kfold = StratifiedKFold(n_splits=5, random_state =42, shuffle=True)\n",
    "n_estimators = [10, 50, 100, 200, 500]\n",
    "max_depths = [10, 50, 100, 200]\n",
    "\n",
    "i=0\n",
    "start = time.time()\n",
    "t0 = time.time()\n",
    "accs_gb = np.zeros((5, len(n_estimators), len(max_depths)))\n",
    "\n",
    "for train_index, test_index in kfold.split(X_train, y_train):\n",
    "    X_tt, X_ho = X_train[train_index], X_train[test_index]\n",
    "    y_tt, y_ho = y_train.iloc[train_index], y_train.iloc[test_index]\n",
    "\n",
    "    for n in n_estimators:\n",
    "        for d in max_depths:\n",
    "            print(f\"start to process {n} and {d} in the {i+1}th fold\")\n",
    "            gb = GradientBoostingClassifier(n_estimators=n, max_depth=d)\n",
    "            gb.fit(X_tt, y_tt)\n",
    "            accs_gb[i, n_estimators.index(n), max_depths.index(d)] = accuracy_score(y_ho, gb.predict(X_ho))\n",
    "            print(f\"To process {n} and {d} in the {i+1}th fold, it takes {time.time()-t0} seconds\")\n",
    "            t0 = time.time()\n",
    "    i += 1\n",
    "\n",
    "duration = 1\n",
    "freq = 440\n",
    "os.system('play -nq -t coreaudio synth {} sine {}'.format(duration, freq))\n",
    "\n",
    "notify(\"GB\", \"GB has finished training\")"
   ]
  },
  {
   "cell_type": "markdown",
   "metadata": {},
   "source": [
    "Output:\n",
    "``` zsh\n",
    "start to process 10 and 10 in the 1th fold\n",
    "To process 10 and 10 in the 1th fold, it takes 49.2708637714386 seconds\n",
    "start to process 10 and 50 in the 1th fold\n",
    "To process 10 and 50 in the 1th fold, it takes 184.7017343044281 seconds\n",
    "start to process 10 and 100 in the 1th fold\n",
    "To process 10 and 100 in the 1th fold, it takes 225.05927395820618 seconds\n",
    "start to process 10 and 200 in the 1th fold\n",
    "To process 10 and 200 in the 1th fold, it takes 225.06189227104187 seconds\n",
    "start to process 50 and 10 in the 1th fold\n",
    "To process 50 and 10 in the 1th fold, it takes 237.2459499835968 seconds\n",
    "start to process 50 and 50 in the 1th fold\n",
    "To process 50 and 50 in the 1th fold, it takes 926.7899940013885 seconds\n",
    "start to process 50 and 100 in the 1th fold\n",
    "To process 50 and 100 in the 1th fold, it takes 1125.3994789123535 seconds\n",
    "start to process 50 and 200 in the 1th fold\n",
    "To process 50 and 200 in the 1th fold, it takes 1138.620479106903 seconds\n",
    "start to process 100 and 10 in the 1th fold\n",
    "To process 100 and 10 in the 1th fold, it takes 480.2683551311493 seconds\n",
    "start to process 100 and 50 in the 1th fold\n",
    "To process 100 and 50 in the 1th fold, it takes 1830.9834089279175 seconds\n",
    "start to process 100 and 100 in the 1th fold\n",
    "To process 100 and 100 in the 1th fold, it takes 2087.277104139328 seconds\n",
    "start to process 100 and 200 in the 1th fold\n",
    "To process 100 and 200 in the 1th fold, it takes 2109.9916110038757 seconds\n",
    "start to process 200 and 10 in the 1th fold\n",
    "...\n",
    "start to process 500 and 100 in the 5th fold\n",
    "To process 500 and 100 in the 5th fold, it takes 2493.318783044815 seconds\n",
    "start to process 500 and 200 in the 5th fold\n",
    "To process 500 and 200 in the 5th fold, it takes 2527.178970813751 seconds\n",
    "```"
   ]
  },
  {
   "cell_type": "code",
   "execution_count": null,
   "metadata": {},
   "outputs": [],
   "source": [
    "# Best parameters\n",
    "accs_gb_mean = accs_gb.mean(axis=0)\n",
    "print(accs_gb_mean)\n",
    "best_n, best_d = np.unravel_index(np.argmax(accs_gb_mean), accs_gb_mean.shape)\n",
    "print(f\"The best number of estimators is {n_estimators[best_n]} and the best max depth is {max_depths[best_d]}\")\n"
   ]
  },
  {
   "cell_type": "markdown",
   "metadata": {},
   "source": [
    "Output:\n",
    "``` zsh\n",
    "[[0.7168125  0.6551875  0.61746875 0.6205    ]\n",
    " [0.75153125 0.71215625 0.622      0.62478125]\n",
    " [0.75946875 0.7285     0.62328125 0.62659375]\n",
    " [0.76415625 0.736875   0.67715625 0.67771875]\n",
    " [0.770625   0.737      0.6783125  0.677125  ]]\n",
    "The best number of neighbors is 500 and the best max depth is 10\n",
    "```"
   ]
  },
  {
   "cell_type": "code",
   "execution_count": null,
   "metadata": {},
   "outputs": [],
   "source": [
    "# plot\n",
    "plt.figure(figsize=(10, 6))\n",
    "\n",
    "plt.plot(n_estimators, accs_gb_mean[:, best_d])\n",
    "\n",
    "plt.xlabel('Number of Estimators')\n",
    "plt.ylabel('Accuracy')\n",
    "plt.title('Gradient Boosting: Accuracy vs Number of Estimators')\n",
    "\n",
    "plt.show()"
   ]
  },
  {
   "cell_type": "code",
   "execution_count": null,
   "metadata": {},
   "outputs": [],
   "source": [
    "plt.figure(figsize=(10, 6))\n",
    "\n",
    "plt.plot(max_depths, accs_gb_mean[best_n])\n",
    "\n",
    "plt.xlabel('Max Depth')\n",
    "plt.ylabel('Accuracy')\n",
    "plt.title('Gradient Boosting: Accuracy vs Max Depth')\n",
    "\n",
    "plt.show()"
   ]
  },
  {
   "cell_type": "code",
   "execution_count": 40,
   "metadata": {},
   "outputs": [
    {
     "name": "stdout",
     "output_type": "stream",
     "text": [
      "The accuracy is 0.76825\n",
      "The confusion matrix \n",
      "['ELSE', 'ENTERTAINMENT', 'POLITICS', 'WELLNESS'] is \n",
      "[[1188  283  219  310]\n",
      " [ 226 1616  102   56]\n",
      " [ 221   66 1674   39]\n",
      " [ 260   43   29 1668]]\n",
      "F1 Score when we treat ELSE as negative: 0.874514663362247\n",
      "F1 Score for everclass: \n",
      "['ELSE', 'ENTERTAINMENT', 'POLITICS', 'WELLNESS'] \n",
      "[0.61001284 0.80638723 0.83200795 0.8190523 ]\n"
     ]
    },
    {
     "name": "stderr",
     "output_type": "stream",
     "text": [
      "/var/folders/l_/txq0vh11623_5lrnfw_cpmsh0000gn/T/ipykernel_3591/2370515181.py:4: FutureWarning: Series.__getitem__ treating keys as positions is deprecated. In a future version, integer keys will always be treated as labels (consistent with DataFrame behavior). To access a value by position, use `ser.iloc[pos]`\n",
      "  results = {'index': misclassified_idx, 'true': y_test[misclassified_idx], 'pred': y_pred[misclassified_idx], 'headline': sampled_test['headline_summary_tokenized'].iloc[misclassified_idx].apply(lambda x: ' '.join(x))}\n"
     ]
    }
   ],
   "source": [
    "# Final output\n",
    "\n",
    "#gb = GradientBoostingClassifier(n_estimators=n_estimators[best_n], max_depth=max_depths[best_d])\n",
    "gb = GradientBoostingClassifier(n_estimators=500, max_depth=10)\n",
    "\n",
    "gb.fit(X_train, y_train)\n",
    "y_pred = gb.predict(X_test)\n",
    "get_accuracy(y_test, y_pred)\n",
    "mis_GB = get_misclassified_samples(y_test, y_pred)"
   ]
  },
  {
   "cell_type": "markdown",
   "metadata": {},
   "source": [
    "Output:\n",
    "``` zsh\n",
    "The accuracy is 0.773\n",
    "The confusion matrix \n",
    "['ELSE', 'ENTERTAINMENT', 'POLITICS', 'WELLNESS'] is \n",
    "[[1275  273  213  286]\n",
    " [ 228 1591  104   44]\n",
    " [ 233   61 1660   32]\n",
    " [ 271   47   24 1658]]\n",
    "```\n"
   ]
  },
  {
   "cell_type": "code",
   "execution_count": 41,
   "metadata": {},
   "outputs": [],
   "source": [
    "mis_GB.rename(columns={'index': 'index_GB'}, inplace=True)\n",
    "\n",
    "misclassified = pd.concat([misclassified, mis_GB['index_GB']], axis=1)"
   ]
  },
  {
   "cell_type": "code",
   "execution_count": null,
   "metadata": {},
   "outputs": [],
   "source": [
    "# Let's try larger number of estimators\n",
    "n_estimators = [1000, 2000, 5000]\n",
    "for n in n_estimators:\n",
    "    gb = GradientBoostingClassifier(n_estimators=n, max_depth=max_depths[best_d])\n",
    "    gb.fit(X_train, y_train)\n",
    "    y_pred = gb.predict(X_test)\n",
    "    print(f\"The accuracy for {n} estimators is {accuracy_score(y_test, y_pred)}\")\n",
    "\n",
    "duration = 1\n",
    "freq = 440\n",
    "os.system('play -nq -t coreaudio synth {} sine {}'.format(duration, freq))\n",
    "\n",
    "notify(\"GB\", \"GB has finished training\")"
   ]
  },
  {
   "cell_type": "markdown",
   "metadata": {},
   "source": [
    "Output:\n",
    "``` zsh\n",
    "The accuracy for 1000 estimators is 0.7765\n",
    "The accuracy for 2000 estimators is 0.77475\n",
    "The accuracy for 5000 estimators is 0.776875\n",
    "```\n",
    "It does not significantly increase the accuracy."
   ]
  },
  {
   "cell_type": "code",
   "execution_count": 42,
   "metadata": {},
   "outputs": [],
   "source": [
    "# Use the xgboost model\n",
    "from xgboost import XGBClassifier"
   ]
  },
  {
   "cell_type": "code",
   "execution_count": null,
   "metadata": {},
   "outputs": [],
   "source": [
    "#!Warning: It takes a long time to run, about 10 hours\n",
    "\n",
    "# Encode the labels\n",
    "label_encoder = LabelEncoder()\n",
    "y_train_encoded = label_encoder.fit_transform(y_train)\n",
    "y_test_encoded = label_encoder.transform(y_test)\n",
    "\n",
    "# Train the model, find the best hyperparameters using grid search:\n",
    "param_grid = {'n_estimators': [10, 50, 100, 200, 500], 'max_depth': [10, 50, 100, 200], 'learning_rate': [0.01, 0.1, 0.3, 0.5]}\n",
    "xgb = XGBClassifier(early_stopping_rounds=10, eval_metric='mlogloss')\n",
    "\n",
    "grid_search = GridSearchCV(xgb, param_grid, cv=5, n_jobs=-1)\n",
    "grid_search.fit(X_train, y_train_encoded, eval_set=[(X_test, y_test_encoded)])\n",
    "\n",
    "print(f\"The best parameters are {grid_search.best_params_}\")\n",
    "\n",
    "duration = 3\n",
    "freq = 440\n",
    "os.system('play -nq -t coreaudio synth {} sine {}'.format(duration, freq))\n",
    "\n",
    "notify(\"XGBoost\", f\"The best parameters are {grid_search.best_params_}\")"
   ]
  },
  {
   "cell_type": "markdown",
   "metadata": {},
   "source": [
    "Output:\n",
    "```zsh\n",
    "The best parameters are {'learning_rate': 0.1, 'max_depth': 10, 'n_estimators': 500}\n",
    "```"
   ]
  },
  {
   "cell_type": "code",
   "execution_count": 43,
   "metadata": {},
   "outputs": [
    {
     "name": "stdout",
     "output_type": "stream",
     "text": [
      "The accuracy is 0.774125\n",
      "The confusion matrix \n",
      "['ELSE', 'ENTERTAINMENT', 'POLITICS', 'WELLNESS'] is \n",
      "[[1197  268  215  320]\n",
      " [ 207 1638  102   53]\n",
      " [ 204   78 1686   32]\n",
      " [ 248   48   32 1672]]\n",
      "F1 Score when we treat ELSE as negative: 0.8796113306982872\n",
      "F1 Score for everclass: \n",
      "['ELSE', 'ENTERTAINMENT', 'POLITICS', 'WELLNESS'] \n",
      "[0.62085062 0.8125     0.83568773 0.82021094]\n"
     ]
    },
    {
     "name": "stderr",
     "output_type": "stream",
     "text": [
      "/var/folders/l_/txq0vh11623_5lrnfw_cpmsh0000gn/T/ipykernel_3591/2370515181.py:4: FutureWarning: Series.__getitem__ treating keys as positions is deprecated. In a future version, integer keys will always be treated as labels (consistent with DataFrame behavior). To access a value by position, use `ser.iloc[pos]`\n",
      "  results = {'index': misclassified_idx, 'true': y_test[misclassified_idx], 'pred': y_pred[misclassified_idx], 'headline': sampled_test['headline_summary_tokenized'].iloc[misclassified_idx].apply(lambda x: ' '.join(x))}\n"
     ]
    }
   ],
   "source": [
    "# Encode the labels\n",
    "label_encoder = LabelEncoder()\n",
    "y_train_encoded = label_encoder.fit_transform(y_train)\n",
    "#y_test_encoded = label_encoder.transform(y_test)\n",
    "\n",
    "\n",
    "\n",
    "# the output\n",
    "#xgb_best = XGBClassifier(**grid_search.best_params_)\n",
    "xgb_best = XGBClassifier(learning_rate=0.1, max_depth = 10, n_estimators = 500)\n",
    "\n",
    "\n",
    "xgb_best.fit(X_train, y_train_encoded)\n",
    "y_pred_encoded = xgb_best.predict(X_test)\n",
    "y_pred = label_encoder.inverse_transform(y_pred_encoded)\n",
    "#y_test = label_encoder.inverse_transform(y_test_encoded)\n",
    "get_accuracy(y_test, y_pred)\n",
    "\n",
    "\n",
    "mis_XGB = get_misclassified_samples(y_test, y_pred)"
   ]
  },
  {
   "cell_type": "markdown",
   "metadata": {},
   "source": [
    "Output:\n",
    "```zsh\n",
    "The accuracy is 0.77475\n",
    "The confusion matrix \n",
    "['ELSE', 'ENTERTAINMENT', 'POLITICS', 'WELLNESS'] is \n",
    "[[1224  289  230  304]\n",
    " [ 223 1589  106   49]\n",
    " [ 206   62 1686   32]\n",
    " [ 226   44   31 1699]]\n",
    " ```"
   ]
  },
  {
   "cell_type": "code",
   "execution_count": 44,
   "metadata": {},
   "outputs": [],
   "source": [
    "mis_XGB.rename(columns={'index': 'index_XGB'}, inplace=True)\n",
    "\n",
    "misclassified = pd.concat([misclassified, mis_XGB['index_XGB']], axis=1)"
   ]
  },
  {
   "cell_type": "markdown",
   "metadata": {},
   "source": [
    "### 8: Neural Network"
   ]
  },
  {
   "cell_type": "code",
   "execution_count": 45,
   "metadata": {},
   "outputs": [],
   "source": [
    "# Here we use the Keras API to build a neural network. We choose Keras for simplicity and ease of use.\n",
    "import keras"
   ]
  },
  {
   "cell_type": "markdown",
   "metadata": {},
   "source": [
    "#### Prepare the data"
   ]
  },
  {
   "cell_type": "code",
   "execution_count": 46,
   "metadata": {},
   "outputs": [
    {
     "name": "stdout",
     "output_type": "stream",
     "text": [
      "(32000, 200) (32000, 4)\n",
      "(8000, 200) (8000, 4)\n"
     ]
    }
   ],
   "source": [
    "# Encode the labels\n",
    "\n",
    "\n",
    "label_encoder = LabelEncoder()\n",
    "y_train_encoded = label_encoder.fit_transform(y_train)\n",
    "y_test_encoded = label_encoder.transform(y_test)\n",
    "\n",
    "# One-hot encode the labels\n",
    "y_train_encoded = keras.utils.to_categorical(y_train_encoded, num_classes=4)\n",
    "y_test_encoded = keras.utils.to_categorical(y_test_encoded, num_classes=4)\n",
    "\n",
    "print(X_train.shape, y_train_encoded.shape)\n",
    "print(X_test.shape, y_test_encoded.shape)"
   ]
  },
  {
   "cell_type": "markdown",
   "metadata": {},
   "source": [
    "#### Use the usual Neural Network model"
   ]
  },
  {
   "cell_type": "code",
   "execution_count": 47,
   "metadata": {},
   "outputs": [],
   "source": [
    "# Early stopping\n",
    "# Creat early stopping callback\n",
    "early_stopping_nn = keras.callbacks.EarlyStopping(monitor = 'val_loss', patience=10, restore_best_weights=True, min_delta=0.001, verbose=1)"
   ]
  },
  {
   "cell_type": "code",
   "execution_count": 48,
   "metadata": {},
   "outputs": [
    {
     "data": {
      "text/html": [
       "<pre style=\"white-space:pre;overflow-x:auto;line-height:normal;font-family:Menlo,'DejaVu Sans Mono',consolas,'Courier New',monospace\"><span style=\"font-weight: bold\">Model: \"sequential\"</span>\n",
       "</pre>\n"
      ],
      "text/plain": [
       "\u001b[1mModel: \"sequential\"\u001b[0m\n"
      ]
     },
     "metadata": {},
     "output_type": "display_data"
    },
    {
     "data": {
      "text/html": [
       "<pre style=\"white-space:pre;overflow-x:auto;line-height:normal;font-family:Menlo,'DejaVu Sans Mono',consolas,'Courier New',monospace\">┏━━━━━━━━━━━━━━━━━━━━━━━━━━━━━━━━━┳━━━━━━━━━━━━━━━━━━━━━━━━┳━━━━━━━━━━━━━━━┓\n",
       "┃<span style=\"font-weight: bold\"> Layer (type)                    </span>┃<span style=\"font-weight: bold\"> Output Shape           </span>┃<span style=\"font-weight: bold\">       Param # </span>┃\n",
       "┡━━━━━━━━━━━━━━━━━━━━━━━━━━━━━━━━━╇━━━━━━━━━━━━━━━━━━━━━━━━╇━━━━━━━━━━━━━━━┩\n",
       "│ flatten (<span style=\"color: #0087ff; text-decoration-color: #0087ff\">Flatten</span>)               │ ?                      │   <span style=\"color: #00af00; text-decoration-color: #00af00\">0</span> (unbuilt) │\n",
       "├─────────────────────────────────┼────────────────────────┼───────────────┤\n",
       "│ dense (<span style=\"color: #0087ff; text-decoration-color: #0087ff\">Dense</span>)                   │ ?                      │   <span style=\"color: #00af00; text-decoration-color: #00af00\">0</span> (unbuilt) │\n",
       "├─────────────────────────────────┼────────────────────────┼───────────────┤\n",
       "│ dropout (<span style=\"color: #0087ff; text-decoration-color: #0087ff\">Dropout</span>)               │ ?                      │             <span style=\"color: #00af00; text-decoration-color: #00af00\">0</span> │\n",
       "├─────────────────────────────────┼────────────────────────┼───────────────┤\n",
       "│ dense_1 (<span style=\"color: #0087ff; text-decoration-color: #0087ff\">Dense</span>)                 │ ?                      │   <span style=\"color: #00af00; text-decoration-color: #00af00\">0</span> (unbuilt) │\n",
       "├─────────────────────────────────┼────────────────────────┼───────────────┤\n",
       "│ dropout_1 (<span style=\"color: #0087ff; text-decoration-color: #0087ff\">Dropout</span>)             │ ?                      │             <span style=\"color: #00af00; text-decoration-color: #00af00\">0</span> │\n",
       "├─────────────────────────────────┼────────────────────────┼───────────────┤\n",
       "│ dense_2 (<span style=\"color: #0087ff; text-decoration-color: #0087ff\">Dense</span>)                 │ ?                      │   <span style=\"color: #00af00; text-decoration-color: #00af00\">0</span> (unbuilt) │\n",
       "└─────────────────────────────────┴────────────────────────┴───────────────┘\n",
       "</pre>\n"
      ],
      "text/plain": [
       "┏━━━━━━━━━━━━━━━━━━━━━━━━━━━━━━━━━┳━━━━━━━━━━━━━━━━━━━━━━━━┳━━━━━━━━━━━━━━━┓\n",
       "┃\u001b[1m \u001b[0m\u001b[1mLayer (type)                   \u001b[0m\u001b[1m \u001b[0m┃\u001b[1m \u001b[0m\u001b[1mOutput Shape          \u001b[0m\u001b[1m \u001b[0m┃\u001b[1m \u001b[0m\u001b[1m      Param #\u001b[0m\u001b[1m \u001b[0m┃\n",
       "┡━━━━━━━━━━━━━━━━━━━━━━━━━━━━━━━━━╇━━━━━━━━━━━━━━━━━━━━━━━━╇━━━━━━━━━━━━━━━┩\n",
       "│ flatten (\u001b[38;5;33mFlatten\u001b[0m)               │ ?                      │   \u001b[38;5;34m0\u001b[0m (unbuilt) │\n",
       "├─────────────────────────────────┼────────────────────────┼───────────────┤\n",
       "│ dense (\u001b[38;5;33mDense\u001b[0m)                   │ ?                      │   \u001b[38;5;34m0\u001b[0m (unbuilt) │\n",
       "├─────────────────────────────────┼────────────────────────┼───────────────┤\n",
       "│ dropout (\u001b[38;5;33mDropout\u001b[0m)               │ ?                      │             \u001b[38;5;34m0\u001b[0m │\n",
       "├─────────────────────────────────┼────────────────────────┼───────────────┤\n",
       "│ dense_1 (\u001b[38;5;33mDense\u001b[0m)                 │ ?                      │   \u001b[38;5;34m0\u001b[0m (unbuilt) │\n",
       "├─────────────────────────────────┼────────────────────────┼───────────────┤\n",
       "│ dropout_1 (\u001b[38;5;33mDropout\u001b[0m)             │ ?                      │             \u001b[38;5;34m0\u001b[0m │\n",
       "├─────────────────────────────────┼────────────────────────┼───────────────┤\n",
       "│ dense_2 (\u001b[38;5;33mDense\u001b[0m)                 │ ?                      │   \u001b[38;5;34m0\u001b[0m (unbuilt) │\n",
       "└─────────────────────────────────┴────────────────────────┴───────────────┘\n"
      ]
     },
     "metadata": {},
     "output_type": "display_data"
    },
    {
     "data": {
      "text/html": [
       "<pre style=\"white-space:pre;overflow-x:auto;line-height:normal;font-family:Menlo,'DejaVu Sans Mono',consolas,'Courier New',monospace\"><span style=\"font-weight: bold\"> Total params: </span><span style=\"color: #00af00; text-decoration-color: #00af00\">0</span> (0.00 B)\n",
       "</pre>\n"
      ],
      "text/plain": [
       "\u001b[1m Total params: \u001b[0m\u001b[38;5;34m0\u001b[0m (0.00 B)\n"
      ]
     },
     "metadata": {},
     "output_type": "display_data"
    },
    {
     "data": {
      "text/html": [
       "<pre style=\"white-space:pre;overflow-x:auto;line-height:normal;font-family:Menlo,'DejaVu Sans Mono',consolas,'Courier New',monospace\"><span style=\"font-weight: bold\"> Trainable params: </span><span style=\"color: #00af00; text-decoration-color: #00af00\">0</span> (0.00 B)\n",
       "</pre>\n"
      ],
      "text/plain": [
       "\u001b[1m Trainable params: \u001b[0m\u001b[38;5;34m0\u001b[0m (0.00 B)\n"
      ]
     },
     "metadata": {},
     "output_type": "display_data"
    },
    {
     "data": {
      "text/html": [
       "<pre style=\"white-space:pre;overflow-x:auto;line-height:normal;font-family:Menlo,'DejaVu Sans Mono',consolas,'Courier New',monospace\"><span style=\"font-weight: bold\"> Non-trainable params: </span><span style=\"color: #00af00; text-decoration-color: #00af00\">0</span> (0.00 B)\n",
       "</pre>\n"
      ],
      "text/plain": [
       "\u001b[1m Non-trainable params: \u001b[0m\u001b[38;5;34m0\u001b[0m (0.00 B)\n"
      ]
     },
     "metadata": {},
     "output_type": "display_data"
    }
   ],
   "source": [
    "# The usual Neural Network model\n",
    "\n",
    "NNmodel = keras.models.Sequential()\n",
    "\n",
    "NNmodel.add(keras.layers.Flatten())\n",
    "NNmodel.add(keras.layers.Dense(128, activation='relu'))\n",
    "#Use dropout to prevent overfitting\n",
    "NNmodel.add(keras.layers.Dropout(0.4))\n",
    "NNmodel.add(keras.layers.Dense(64, activation='relu'))\n",
    "#Use dropout to prevent overfitting\n",
    "NNmodel.add(keras.layers.Dropout(0.3))\n",
    "NNmodel.add(keras.layers.Dense(4, activation = 'softmax'))\n",
    "\n",
    "NNmodel.compile(optimizer='adam', loss='categorical_crossentropy', metrics=['accuracy'])\n",
    "\n",
    "NNmodel.summary()\n"
   ]
  },
  {
   "cell_type": "code",
   "execution_count": 49,
   "metadata": {},
   "outputs": [
    {
     "name": "stdout",
     "output_type": "stream",
     "text": [
      "Epoch 1/200\n",
      "\u001b[1m64/64\u001b[0m \u001b[32m━━━━━━━━━━━━━━━━━━━━\u001b[0m\u001b[37m\u001b[0m \u001b[1m1s\u001b[0m 2ms/step - accuracy: 0.3197 - loss: 1.3809 - val_accuracy: 0.4320 - val_loss: 1.3357\n",
      "Epoch 2/200\n",
      "\u001b[1m64/64\u001b[0m \u001b[32m━━━━━━━━━━━━━━━━━━━━\u001b[0m\u001b[37m\u001b[0m \u001b[1m0s\u001b[0m 1ms/step - accuracy: 0.4760 - loss: 1.2941 - val_accuracy: 0.6084 - val_loss: 1.1280\n",
      "Epoch 3/200\n",
      "\u001b[1m64/64\u001b[0m \u001b[32m━━━━━━━━━━━━━━━━━━━━\u001b[0m\u001b[37m\u001b[0m \u001b[1m0s\u001b[0m 1ms/step - accuracy: 0.5543 - loss: 1.0983 - val_accuracy: 0.6005 - val_loss: 0.9820\n",
      "Epoch 4/200\n",
      "\u001b[1m64/64\u001b[0m \u001b[32m━━━━━━━━━━━━━━━━━━━━\u001b[0m\u001b[37m\u001b[0m \u001b[1m0s\u001b[0m 1ms/step - accuracy: 0.5972 - loss: 0.9780 - val_accuracy: 0.6332 - val_loss: 0.9060\n",
      "Epoch 5/200\n",
      "\u001b[1m64/64\u001b[0m \u001b[32m━━━━━━━━━━━━━━━━━━━━\u001b[0m\u001b[37m\u001b[0m \u001b[1m0s\u001b[0m 1ms/step - accuracy: 0.6270 - loss: 0.9105 - val_accuracy: 0.6553 - val_loss: 0.8568\n",
      "Epoch 6/200\n",
      "\u001b[1m64/64\u001b[0m \u001b[32m━━━━━━━━━━━━━━━━━━━━\u001b[0m\u001b[37m\u001b[0m \u001b[1m0s\u001b[0m 1ms/step - accuracy: 0.6460 - loss: 0.8641 - val_accuracy: 0.6622 - val_loss: 0.8329\n",
      "Epoch 7/200\n",
      "\u001b[1m64/64\u001b[0m \u001b[32m━━━━━━━━━━━━━━━━━━━━\u001b[0m\u001b[37m\u001b[0m \u001b[1m0s\u001b[0m 1ms/step - accuracy: 0.6605 - loss: 0.8357 - val_accuracy: 0.6752 - val_loss: 0.8102\n",
      "Epoch 8/200\n",
      "\u001b[1m64/64\u001b[0m \u001b[32m━━━━━━━━━━━━━━━━━━━━\u001b[0m\u001b[37m\u001b[0m \u001b[1m0s\u001b[0m 1ms/step - accuracy: 0.6695 - loss: 0.8225 - val_accuracy: 0.6869 - val_loss: 0.7869\n",
      "Epoch 9/200\n",
      "\u001b[1m64/64\u001b[0m \u001b[32m━━━━━━━━━━━━━━━━━━━━\u001b[0m\u001b[37m\u001b[0m \u001b[1m0s\u001b[0m 1ms/step - accuracy: 0.6791 - loss: 0.7981 - val_accuracy: 0.6901 - val_loss: 0.7780\n",
      "Epoch 10/200\n",
      "\u001b[1m64/64\u001b[0m \u001b[32m━━━━━━━━━━━━━━━━━━━━\u001b[0m\u001b[37m\u001b[0m \u001b[1m0s\u001b[0m 1ms/step - accuracy: 0.6881 - loss: 0.7790 - val_accuracy: 0.7005 - val_loss: 0.7599\n",
      "Epoch 11/200\n",
      "\u001b[1m64/64\u001b[0m \u001b[32m━━━━━━━━━━━━━━━━━━━━\u001b[0m\u001b[37m\u001b[0m \u001b[1m0s\u001b[0m 1ms/step - accuracy: 0.6977 - loss: 0.7615 - val_accuracy: 0.7039 - val_loss: 0.7537\n",
      "Epoch 12/200\n",
      "\u001b[1m64/64\u001b[0m \u001b[32m━━━━━━━━━━━━━━━━━━━━\u001b[0m\u001b[37m\u001b[0m \u001b[1m0s\u001b[0m 1ms/step - accuracy: 0.6970 - loss: 0.7593 - val_accuracy: 0.7080 - val_loss: 0.7416\n",
      "Epoch 13/200\n",
      "\u001b[1m64/64\u001b[0m \u001b[32m━━━━━━━━━━━━━━━━━━━━\u001b[0m\u001b[37m\u001b[0m \u001b[1m0s\u001b[0m 1ms/step - accuracy: 0.7040 - loss: 0.7534 - val_accuracy: 0.7115 - val_loss: 0.7368\n",
      "Epoch 14/200\n",
      "\u001b[1m64/64\u001b[0m \u001b[32m━━━━━━━━━━━━━━━━━━━━\u001b[0m\u001b[37m\u001b[0m \u001b[1m0s\u001b[0m 1ms/step - accuracy: 0.7039 - loss: 0.7537 - val_accuracy: 0.7155 - val_loss: 0.7302\n",
      "Epoch 15/200\n",
      "\u001b[1m64/64\u001b[0m \u001b[32m━━━━━━━━━━━━━━━━━━━━\u001b[0m\u001b[37m\u001b[0m \u001b[1m0s\u001b[0m 1ms/step - accuracy: 0.7104 - loss: 0.7369 - val_accuracy: 0.7160 - val_loss: 0.7248\n",
      "Epoch 16/200\n",
      "\u001b[1m64/64\u001b[0m \u001b[32m━━━━━━━━━━━━━━━━━━━━\u001b[0m\u001b[37m\u001b[0m \u001b[1m0s\u001b[0m 1ms/step - accuracy: 0.7110 - loss: 0.7414 - val_accuracy: 0.7182 - val_loss: 0.7226\n",
      "Epoch 17/200\n",
      "\u001b[1m64/64\u001b[0m \u001b[32m━━━━━━━━━━━━━━━━━━━━\u001b[0m\u001b[37m\u001b[0m \u001b[1m0s\u001b[0m 1ms/step - accuracy: 0.7137 - loss: 0.7298 - val_accuracy: 0.7216 - val_loss: 0.7161\n",
      "Epoch 18/200\n",
      "\u001b[1m64/64\u001b[0m \u001b[32m━━━━━━━━━━━━━━━━━━━━\u001b[0m\u001b[37m\u001b[0m \u001b[1m0s\u001b[0m 1ms/step - accuracy: 0.7146 - loss: 0.7309 - val_accuracy: 0.7184 - val_loss: 0.7153\n",
      "Epoch 19/200\n",
      "\u001b[1m64/64\u001b[0m \u001b[32m━━━━━━━━━━━━━━━━━━━━\u001b[0m\u001b[37m\u001b[0m \u001b[1m0s\u001b[0m 1ms/step - accuracy: 0.7179 - loss: 0.7196 - val_accuracy: 0.7250 - val_loss: 0.7113\n",
      "Epoch 20/200\n",
      "\u001b[1m64/64\u001b[0m \u001b[32m━━━━━━━━━━━━━━━━━━━━\u001b[0m\u001b[37m\u001b[0m \u001b[1m0s\u001b[0m 1ms/step - accuracy: 0.7201 - loss: 0.7140 - val_accuracy: 0.7229 - val_loss: 0.7064\n",
      "Epoch 21/200\n",
      "\u001b[1m64/64\u001b[0m \u001b[32m━━━━━━━━━━━━━━━━━━━━\u001b[0m\u001b[37m\u001b[0m \u001b[1m0s\u001b[0m 1ms/step - accuracy: 0.7225 - loss: 0.7158 - val_accuracy: 0.7221 - val_loss: 0.7107\n",
      "Epoch 22/200\n",
      "\u001b[1m64/64\u001b[0m \u001b[32m━━━━━━━━━━━━━━━━━━━━\u001b[0m\u001b[37m\u001b[0m \u001b[1m0s\u001b[0m 1ms/step - accuracy: 0.7243 - loss: 0.7060 - val_accuracy: 0.7264 - val_loss: 0.7032\n",
      "Epoch 23/200\n",
      "\u001b[1m64/64\u001b[0m \u001b[32m━━━━━━━━━━━━━━━━━━━━\u001b[0m\u001b[37m\u001b[0m \u001b[1m0s\u001b[0m 1ms/step - accuracy: 0.7242 - loss: 0.7099 - val_accuracy: 0.7247 - val_loss: 0.6993\n",
      "Epoch 24/200\n",
      "\u001b[1m64/64\u001b[0m \u001b[32m━━━━━━━━━━━━━━━━━━━━\u001b[0m\u001b[37m\u001b[0m \u001b[1m0s\u001b[0m 1ms/step - accuracy: 0.7188 - loss: 0.7114 - val_accuracy: 0.7272 - val_loss: 0.6958\n",
      "Epoch 25/200\n",
      "\u001b[1m64/64\u001b[0m \u001b[32m━━━━━━━━━━━━━━━━━━━━\u001b[0m\u001b[37m\u001b[0m \u001b[1m0s\u001b[0m 1ms/step - accuracy: 0.7213 - loss: 0.7093 - val_accuracy: 0.7264 - val_loss: 0.6951\n",
      "Epoch 26/200\n",
      "\u001b[1m64/64\u001b[0m \u001b[32m━━━━━━━━━━━━━━━━━━━━\u001b[0m\u001b[37m\u001b[0m \u001b[1m0s\u001b[0m 1ms/step - accuracy: 0.7247 - loss: 0.7030 - val_accuracy: 0.7279 - val_loss: 0.6939\n",
      "Epoch 27/200\n",
      "\u001b[1m64/64\u001b[0m \u001b[32m━━━━━━━━━━━━━━━━━━━━\u001b[0m\u001b[37m\u001b[0m \u001b[1m0s\u001b[0m 1ms/step - accuracy: 0.7231 - loss: 0.7043 - val_accuracy: 0.7274 - val_loss: 0.6905\n",
      "Epoch 28/200\n",
      "\u001b[1m64/64\u001b[0m \u001b[32m━━━━━━━━━━━━━━━━━━━━\u001b[0m\u001b[37m\u001b[0m \u001b[1m0s\u001b[0m 1ms/step - accuracy: 0.7304 - loss: 0.6932 - val_accuracy: 0.7280 - val_loss: 0.6940\n",
      "Epoch 29/200\n",
      "\u001b[1m64/64\u001b[0m \u001b[32m━━━━━━━━━━━━━━━━━━━━\u001b[0m\u001b[37m\u001b[0m \u001b[1m0s\u001b[0m 1ms/step - accuracy: 0.7302 - loss: 0.6932 - val_accuracy: 0.7286 - val_loss: 0.6909\n",
      "Epoch 30/200\n",
      "\u001b[1m64/64\u001b[0m \u001b[32m━━━━━━━━━━━━━━━━━━━━\u001b[0m\u001b[37m\u001b[0m \u001b[1m0s\u001b[0m 1ms/step - accuracy: 0.7272 - loss: 0.6889 - val_accuracy: 0.7311 - val_loss: 0.6858\n",
      "Epoch 31/200\n",
      "\u001b[1m64/64\u001b[0m \u001b[32m━━━━━━━━━━━━━━━━━━━━\u001b[0m\u001b[37m\u001b[0m \u001b[1m0s\u001b[0m 1ms/step - accuracy: 0.7306 - loss: 0.6877 - val_accuracy: 0.7296 - val_loss: 0.6879\n",
      "Epoch 32/200\n",
      "\u001b[1m64/64\u001b[0m \u001b[32m━━━━━━━━━━━━━━━━━━━━\u001b[0m\u001b[37m\u001b[0m \u001b[1m0s\u001b[0m 1ms/step - accuracy: 0.7346 - loss: 0.6787 - val_accuracy: 0.7247 - val_loss: 0.6937\n",
      "Epoch 33/200\n",
      "\u001b[1m64/64\u001b[0m \u001b[32m━━━━━━━━━━━━━━━━━━━━\u001b[0m\u001b[37m\u001b[0m \u001b[1m0s\u001b[0m 1ms/step - accuracy: 0.7306 - loss: 0.6864 - val_accuracy: 0.7301 - val_loss: 0.6847\n",
      "Epoch 34/200\n",
      "\u001b[1m64/64\u001b[0m \u001b[32m━━━━━━━━━━━━━━━━━━━━\u001b[0m\u001b[37m\u001b[0m \u001b[1m0s\u001b[0m 1ms/step - accuracy: 0.7333 - loss: 0.6825 - val_accuracy: 0.7291 - val_loss: 0.6812\n",
      "Epoch 35/200\n",
      "\u001b[1m64/64\u001b[0m \u001b[32m━━━━━━━━━━━━━━━━━━━━\u001b[0m\u001b[37m\u001b[0m \u001b[1m0s\u001b[0m 1ms/step - accuracy: 0.7399 - loss: 0.6734 - val_accuracy: 0.7333 - val_loss: 0.6802\n",
      "Epoch 36/200\n",
      "\u001b[1m64/64\u001b[0m \u001b[32m━━━━━━━━━━━━━━━━━━━━\u001b[0m\u001b[37m\u001b[0m \u001b[1m0s\u001b[0m 1ms/step - accuracy: 0.7330 - loss: 0.6807 - val_accuracy: 0.7300 - val_loss: 0.6776\n",
      "Epoch 37/200\n",
      "\u001b[1m64/64\u001b[0m \u001b[32m━━━━━━━━━━━━━━━━━━━━\u001b[0m\u001b[37m\u001b[0m \u001b[1m0s\u001b[0m 1ms/step - accuracy: 0.7329 - loss: 0.6781 - val_accuracy: 0.7308 - val_loss: 0.6772\n",
      "Epoch 38/200\n",
      "\u001b[1m64/64\u001b[0m \u001b[32m━━━━━━━━━━━━━━━━━━━━\u001b[0m\u001b[37m\u001b[0m \u001b[1m0s\u001b[0m 1ms/step - accuracy: 0.7333 - loss: 0.6799 - val_accuracy: 0.7315 - val_loss: 0.6758\n",
      "Epoch 39/200\n",
      "\u001b[1m64/64\u001b[0m \u001b[32m━━━━━━━━━━━━━━━━━━━━\u001b[0m\u001b[37m\u001b[0m \u001b[1m0s\u001b[0m 1ms/step - accuracy: 0.7348 - loss: 0.6737 - val_accuracy: 0.7340 - val_loss: 0.6736\n",
      "Epoch 40/200\n",
      "\u001b[1m64/64\u001b[0m \u001b[32m━━━━━━━━━━━━━━━━━━━━\u001b[0m\u001b[37m\u001b[0m \u001b[1m0s\u001b[0m 1ms/step - accuracy: 0.7374 - loss: 0.6712 - val_accuracy: 0.7314 - val_loss: 0.6729\n",
      "Epoch 41/200\n",
      "\u001b[1m64/64\u001b[0m \u001b[32m━━━━━━━━━━━━━━━━━━━━\u001b[0m\u001b[37m\u001b[0m \u001b[1m0s\u001b[0m 1ms/step - accuracy: 0.7400 - loss: 0.6739 - val_accuracy: 0.7337 - val_loss: 0.6735\n",
      "Epoch 42/200\n",
      "\u001b[1m64/64\u001b[0m \u001b[32m━━━━━━━━━━━━━━━━━━━━\u001b[0m\u001b[37m\u001b[0m \u001b[1m0s\u001b[0m 1ms/step - accuracy: 0.7382 - loss: 0.6701 - val_accuracy: 0.7335 - val_loss: 0.6724\n",
      "Epoch 43/200\n",
      "\u001b[1m64/64\u001b[0m \u001b[32m━━━━━━━━━━━━━━━━━━━━\u001b[0m\u001b[37m\u001b[0m \u001b[1m0s\u001b[0m 1ms/step - accuracy: 0.7406 - loss: 0.6630 - val_accuracy: 0.7325 - val_loss: 0.6728\n",
      "Epoch 44/200\n",
      "\u001b[1m64/64\u001b[0m \u001b[32m━━━━━━━━━━━━━━━━━━━━\u001b[0m\u001b[37m\u001b[0m \u001b[1m0s\u001b[0m 2ms/step - accuracy: 0.7457 - loss: 0.6617 - val_accuracy: 0.7359 - val_loss: 0.6711\n",
      "Epoch 45/200\n",
      "\u001b[1m64/64\u001b[0m \u001b[32m━━━━━━━━━━━━━━━━━━━━\u001b[0m\u001b[37m\u001b[0m \u001b[1m0s\u001b[0m 1ms/step - accuracy: 0.7406 - loss: 0.6636 - val_accuracy: 0.7326 - val_loss: 0.6691\n",
      "Epoch 46/200\n",
      "\u001b[1m64/64\u001b[0m \u001b[32m━━━━━━━━━━━━━━━━━━━━\u001b[0m\u001b[37m\u001b[0m \u001b[1m0s\u001b[0m 1ms/step - accuracy: 0.7437 - loss: 0.6609 - val_accuracy: 0.7335 - val_loss: 0.6674\n",
      "Epoch 47/200\n",
      "\u001b[1m64/64\u001b[0m \u001b[32m━━━━━━━━━━━━━━━━━━━━\u001b[0m\u001b[37m\u001b[0m \u001b[1m0s\u001b[0m 1ms/step - accuracy: 0.7486 - loss: 0.6512 - val_accuracy: 0.7359 - val_loss: 0.6652\n",
      "Epoch 48/200\n",
      "\u001b[1m64/64\u001b[0m \u001b[32m━━━━━━━━━━━━━━━━━━━━\u001b[0m\u001b[37m\u001b[0m \u001b[1m0s\u001b[0m 1ms/step - accuracy: 0.7468 - loss: 0.6500 - val_accuracy: 0.7385 - val_loss: 0.6636\n",
      "Epoch 49/200\n",
      "\u001b[1m64/64\u001b[0m \u001b[32m━━━━━━━━━━━━━━━━━━━━\u001b[0m\u001b[37m\u001b[0m \u001b[1m0s\u001b[0m 1ms/step - accuracy: 0.7505 - loss: 0.6436 - val_accuracy: 0.7341 - val_loss: 0.6629\n",
      "Epoch 50/200\n",
      "\u001b[1m64/64\u001b[0m \u001b[32m━━━━━━━━━━━━━━━━━━━━\u001b[0m\u001b[37m\u001b[0m \u001b[1m0s\u001b[0m 1ms/step - accuracy: 0.7459 - loss: 0.6480 - val_accuracy: 0.7385 - val_loss: 0.6633\n",
      "Epoch 51/200\n",
      "\u001b[1m64/64\u001b[0m \u001b[32m━━━━━━━━━━━━━━━━━━━━\u001b[0m\u001b[37m\u001b[0m \u001b[1m0s\u001b[0m 1ms/step - accuracy: 0.7503 - loss: 0.6401 - val_accuracy: 0.7368 - val_loss: 0.6618\n",
      "Epoch 52/200\n",
      "\u001b[1m64/64\u001b[0m \u001b[32m━━━━━━━━━━━━━━━━━━━━\u001b[0m\u001b[37m\u001b[0m \u001b[1m0s\u001b[0m 1ms/step - accuracy: 0.7454 - loss: 0.6478 - val_accuracy: 0.7368 - val_loss: 0.6604\n",
      "Epoch 53/200\n",
      "\u001b[1m64/64\u001b[0m \u001b[32m━━━━━━━━━━━━━━━━━━━━\u001b[0m\u001b[37m\u001b[0m \u001b[1m0s\u001b[0m 1ms/step - accuracy: 0.7441 - loss: 0.6544 - val_accuracy: 0.7380 - val_loss: 0.6626\n",
      "Epoch 54/200\n",
      "\u001b[1m64/64\u001b[0m \u001b[32m━━━━━━━━━━━━━━━━━━━━\u001b[0m\u001b[37m\u001b[0m \u001b[1m0s\u001b[0m 1ms/step - accuracy: 0.7494 - loss: 0.6428 - val_accuracy: 0.7371 - val_loss: 0.6616\n",
      "Epoch 55/200\n",
      "\u001b[1m64/64\u001b[0m \u001b[32m━━━━━━━━━━━━━━━━━━━━\u001b[0m\u001b[37m\u001b[0m \u001b[1m0s\u001b[0m 1ms/step - accuracy: 0.7495 - loss: 0.6451 - val_accuracy: 0.7398 - val_loss: 0.6582\n",
      "Epoch 56/200\n",
      "\u001b[1m64/64\u001b[0m \u001b[32m━━━━━━━━━━━━━━━━━━━━\u001b[0m\u001b[37m\u001b[0m \u001b[1m0s\u001b[0m 1ms/step - accuracy: 0.7535 - loss: 0.6395 - val_accuracy: 0.7410 - val_loss: 0.6599\n",
      "Epoch 57/200\n",
      "\u001b[1m64/64\u001b[0m \u001b[32m━━━━━━━━━━━━━━━━━━━━\u001b[0m\u001b[37m\u001b[0m \u001b[1m0s\u001b[0m 1ms/step - accuracy: 0.7504 - loss: 0.6426 - val_accuracy: 0.7369 - val_loss: 0.6582\n",
      "Epoch 58/200\n",
      "\u001b[1m64/64\u001b[0m \u001b[32m━━━━━━━━━━━━━━━━━━━━\u001b[0m\u001b[37m\u001b[0m \u001b[1m0s\u001b[0m 1ms/step - accuracy: 0.7567 - loss: 0.6375 - val_accuracy: 0.7401 - val_loss: 0.6601\n",
      "Epoch 59/200\n",
      "\u001b[1m64/64\u001b[0m \u001b[32m━━━━━━━━━━━━━━━━━━━━\u001b[0m\u001b[37m\u001b[0m \u001b[1m0s\u001b[0m 1ms/step - accuracy: 0.7490 - loss: 0.6441 - val_accuracy: 0.7421 - val_loss: 0.6543\n",
      "Epoch 60/200\n",
      "\u001b[1m64/64\u001b[0m \u001b[32m━━━━━━━━━━━━━━━━━━━━\u001b[0m\u001b[37m\u001b[0m \u001b[1m0s\u001b[0m 1ms/step - accuracy: 0.7509 - loss: 0.6410 - val_accuracy: 0.7396 - val_loss: 0.6544\n",
      "Epoch 61/200\n",
      "\u001b[1m64/64\u001b[0m \u001b[32m━━━━━━━━━━━━━━━━━━━━\u001b[0m\u001b[37m\u001b[0m \u001b[1m0s\u001b[0m 1ms/step - accuracy: 0.7532 - loss: 0.6346 - val_accuracy: 0.7418 - val_loss: 0.6581\n",
      "Epoch 62/200\n",
      "\u001b[1m64/64\u001b[0m \u001b[32m━━━━━━━━━━━━━━━━━━━━\u001b[0m\u001b[37m\u001b[0m \u001b[1m0s\u001b[0m 1ms/step - accuracy: 0.7542 - loss: 0.6356 - val_accuracy: 0.7420 - val_loss: 0.6554\n",
      "Epoch 63/200\n",
      "\u001b[1m64/64\u001b[0m \u001b[32m━━━━━━━━━━━━━━━━━━━━\u001b[0m\u001b[37m\u001b[0m \u001b[1m0s\u001b[0m 1ms/step - accuracy: 0.7588 - loss: 0.6288 - val_accuracy: 0.7431 - val_loss: 0.6553\n",
      "Epoch 64/200\n",
      "\u001b[1m64/64\u001b[0m \u001b[32m━━━━━━━━━━━━━━━━━━━━\u001b[0m\u001b[37m\u001b[0m \u001b[1m0s\u001b[0m 1ms/step - accuracy: 0.7535 - loss: 0.6335 - val_accuracy: 0.7429 - val_loss: 0.6525\n",
      "Epoch 65/200\n",
      "\u001b[1m64/64\u001b[0m \u001b[32m━━━━━━━━━━━━━━━━━━━━\u001b[0m\u001b[37m\u001b[0m \u001b[1m0s\u001b[0m 1ms/step - accuracy: 0.7577 - loss: 0.6288 - val_accuracy: 0.7415 - val_loss: 0.6549\n",
      "Epoch 66/200\n",
      "\u001b[1m64/64\u001b[0m \u001b[32m━━━━━━━━━━━━━━━━━━━━\u001b[0m\u001b[37m\u001b[0m \u001b[1m0s\u001b[0m 2ms/step - accuracy: 0.7529 - loss: 0.6358 - val_accuracy: 0.7434 - val_loss: 0.6508\n",
      "Epoch 67/200\n",
      "\u001b[1m64/64\u001b[0m \u001b[32m━━━━━━━━━━━━━━━━━━━━\u001b[0m\u001b[37m\u001b[0m \u001b[1m0s\u001b[0m 1ms/step - accuracy: 0.7582 - loss: 0.6333 - val_accuracy: 0.7419 - val_loss: 0.6508\n",
      "Epoch 68/200\n",
      "\u001b[1m64/64\u001b[0m \u001b[32m━━━━━━━━━━━━━━━━━━━━\u001b[0m\u001b[37m\u001b[0m \u001b[1m0s\u001b[0m 1ms/step - accuracy: 0.7508 - loss: 0.6370 - val_accuracy: 0.7421 - val_loss: 0.6517\n",
      "Epoch 69/200\n",
      "\u001b[1m64/64\u001b[0m \u001b[32m━━━━━━━━━━━━━━━━━━━━\u001b[0m\u001b[37m\u001b[0m \u001b[1m0s\u001b[0m 1ms/step - accuracy: 0.7545 - loss: 0.6314 - val_accuracy: 0.7419 - val_loss: 0.6501\n",
      "Epoch 70/200\n",
      "\u001b[1m64/64\u001b[0m \u001b[32m━━━━━━━━━━━━━━━━━━━━\u001b[0m\u001b[37m\u001b[0m \u001b[1m0s\u001b[0m 1ms/step - accuracy: 0.7570 - loss: 0.6214 - val_accuracy: 0.7400 - val_loss: 0.6502\n",
      "Epoch 71/200\n",
      "\u001b[1m64/64\u001b[0m \u001b[32m━━━━━━━━━━━━━━━━━━━━\u001b[0m\u001b[37m\u001b[0m \u001b[1m0s\u001b[0m 1ms/step - accuracy: 0.7621 - loss: 0.6159 - val_accuracy: 0.7430 - val_loss: 0.6495\n",
      "Epoch 72/200\n",
      "\u001b[1m64/64\u001b[0m \u001b[32m━━━━━━━━━━━━━━━━━━━━\u001b[0m\u001b[37m\u001b[0m \u001b[1m0s\u001b[0m 1ms/step - accuracy: 0.7638 - loss: 0.6174 - val_accuracy: 0.7416 - val_loss: 0.6543\n",
      "Epoch 73/200\n",
      "\u001b[1m64/64\u001b[0m \u001b[32m━━━━━━━━━━━━━━━━━━━━\u001b[0m\u001b[37m\u001b[0m \u001b[1m0s\u001b[0m 1ms/step - accuracy: 0.7584 - loss: 0.6268 - val_accuracy: 0.7420 - val_loss: 0.6503\n",
      "Epoch 74/200\n",
      "\u001b[1m64/64\u001b[0m \u001b[32m━━━━━━━━━━━━━━━━━━━━\u001b[0m\u001b[37m\u001b[0m \u001b[1m0s\u001b[0m 1ms/step - accuracy: 0.7592 - loss: 0.6220 - val_accuracy: 0.7418 - val_loss: 0.6515\n",
      "Epoch 75/200\n",
      "\u001b[1m64/64\u001b[0m \u001b[32m━━━━━━━━━━━━━━━━━━━━\u001b[0m\u001b[37m\u001b[0m \u001b[1m0s\u001b[0m 1ms/step - accuracy: 0.7599 - loss: 0.6218 - val_accuracy: 0.7419 - val_loss: 0.6482\n",
      "Epoch 76/200\n",
      "\u001b[1m64/64\u001b[0m \u001b[32m━━━━━━━━━━━━━━━━━━━━\u001b[0m\u001b[37m\u001b[0m \u001b[1m0s\u001b[0m 1ms/step - accuracy: 0.7575 - loss: 0.6190 - val_accuracy: 0.7450 - val_loss: 0.6470\n",
      "Epoch 77/200\n",
      "\u001b[1m64/64\u001b[0m \u001b[32m━━━━━━━━━━━━━━━━━━━━\u001b[0m\u001b[37m\u001b[0m \u001b[1m0s\u001b[0m 1ms/step - accuracy: 0.7623 - loss: 0.6148 - val_accuracy: 0.7426 - val_loss: 0.6468\n",
      "Epoch 78/200\n",
      "\u001b[1m64/64\u001b[0m \u001b[32m━━━━━━━━━━━━━━━━━━━━\u001b[0m\u001b[37m\u001b[0m \u001b[1m0s\u001b[0m 1ms/step - accuracy: 0.7654 - loss: 0.6103 - val_accuracy: 0.7437 - val_loss: 0.6453\n",
      "Epoch 79/200\n",
      "\u001b[1m64/64\u001b[0m \u001b[32m━━━━━━━━━━━━━━━━━━━━\u001b[0m\u001b[37m\u001b[0m \u001b[1m0s\u001b[0m 1ms/step - accuracy: 0.7647 - loss: 0.6175 - val_accuracy: 0.7455 - val_loss: 0.6494\n",
      "Epoch 80/200\n",
      "\u001b[1m64/64\u001b[0m \u001b[32m━━━━━━━━━━━━━━━━━━━━\u001b[0m\u001b[37m\u001b[0m \u001b[1m0s\u001b[0m 1ms/step - accuracy: 0.7673 - loss: 0.6059 - val_accuracy: 0.7477 - val_loss: 0.6473\n",
      "Epoch 81/200\n",
      "\u001b[1m64/64\u001b[0m \u001b[32m━━━━━━━━━━━━━━━━━━━━\u001b[0m\u001b[37m\u001b[0m \u001b[1m0s\u001b[0m 1ms/step - accuracy: 0.7604 - loss: 0.6191 - val_accuracy: 0.7410 - val_loss: 0.6479\n",
      "Epoch 82/200\n",
      "\u001b[1m64/64\u001b[0m \u001b[32m━━━━━━━━━━━━━━━━━━━━\u001b[0m\u001b[37m\u001b[0m \u001b[1m0s\u001b[0m 1ms/step - accuracy: 0.7612 - loss: 0.6108 - val_accuracy: 0.7425 - val_loss: 0.6477\n",
      "Epoch 83/200\n",
      "\u001b[1m64/64\u001b[0m \u001b[32m━━━━━━━━━━━━━━━━━━━━\u001b[0m\u001b[37m\u001b[0m \u001b[1m0s\u001b[0m 1ms/step - accuracy: 0.7650 - loss: 0.6055 - val_accuracy: 0.7464 - val_loss: 0.6438\n",
      "Epoch 84/200\n",
      "\u001b[1m64/64\u001b[0m \u001b[32m━━━━━━━━━━━━━━━━━━━━\u001b[0m\u001b[37m\u001b[0m \u001b[1m0s\u001b[0m 1ms/step - accuracy: 0.7620 - loss: 0.6135 - val_accuracy: 0.7437 - val_loss: 0.6457\n",
      "Epoch 85/200\n",
      "\u001b[1m64/64\u001b[0m \u001b[32m━━━━━━━━━━━━━━━━━━━━\u001b[0m\u001b[37m\u001b[0m \u001b[1m0s\u001b[0m 1ms/step - accuracy: 0.7668 - loss: 0.6083 - val_accuracy: 0.7464 - val_loss: 0.6426\n",
      "Epoch 86/200\n",
      "\u001b[1m64/64\u001b[0m \u001b[32m━━━━━━━━━━━━━━━━━━━━\u001b[0m\u001b[37m\u001b[0m \u001b[1m0s\u001b[0m 1ms/step - accuracy: 0.7658 - loss: 0.6080 - val_accuracy: 0.7461 - val_loss: 0.6455\n",
      "Epoch 87/200\n",
      "\u001b[1m64/64\u001b[0m \u001b[32m━━━━━━━━━━━━━━━━━━━━\u001b[0m\u001b[37m\u001b[0m \u001b[1m0s\u001b[0m 1ms/step - accuracy: 0.7640 - loss: 0.6151 - val_accuracy: 0.7449 - val_loss: 0.6460\n",
      "Epoch 88/200\n",
      "\u001b[1m64/64\u001b[0m \u001b[32m━━━━━━━━━━━━━━━━━━━━\u001b[0m\u001b[37m\u001b[0m \u001b[1m0s\u001b[0m 1ms/step - accuracy: 0.7696 - loss: 0.5998 - val_accuracy: 0.7454 - val_loss: 0.6456\n",
      "Epoch 89/200\n",
      "\u001b[1m64/64\u001b[0m \u001b[32m━━━━━━━━━━━━━━━━━━━━\u001b[0m\u001b[37m\u001b[0m \u001b[1m0s\u001b[0m 1ms/step - accuracy: 0.7667 - loss: 0.6028 - val_accuracy: 0.7445 - val_loss: 0.6429\n",
      "Epoch 90/200\n",
      "\u001b[1m64/64\u001b[0m \u001b[32m━━━━━━━━━━━━━━━━━━━━\u001b[0m\u001b[37m\u001b[0m \u001b[1m0s\u001b[0m 1ms/step - accuracy: 0.7680 - loss: 0.5994 - val_accuracy: 0.7461 - val_loss: 0.6433\n",
      "Epoch 91/200\n",
      "\u001b[1m64/64\u001b[0m \u001b[32m━━━━━━━━━━━━━━━━━━━━\u001b[0m\u001b[37m\u001b[0m \u001b[1m0s\u001b[0m 1ms/step - accuracy: 0.7645 - loss: 0.6050 - val_accuracy: 0.7460 - val_loss: 0.6441\n",
      "Epoch 92/200\n",
      "\u001b[1m64/64\u001b[0m \u001b[32m━━━━━━━━━━━━━━━━━━━━\u001b[0m\u001b[37m\u001b[0m \u001b[1m0s\u001b[0m 1ms/step - accuracy: 0.7655 - loss: 0.5992 - val_accuracy: 0.7465 - val_loss: 0.6439\n",
      "Epoch 93/200\n",
      "\u001b[1m64/64\u001b[0m \u001b[32m━━━━━━━━━━━━━━━━━━━━\u001b[0m\u001b[37m\u001b[0m \u001b[1m0s\u001b[0m 1ms/step - accuracy: 0.7688 - loss: 0.6010 - val_accuracy: 0.7421 - val_loss: 0.6507\n",
      "Epoch 94/200\n",
      "\u001b[1m64/64\u001b[0m \u001b[32m━━━━━━━━━━━━━━━━━━━━\u001b[0m\u001b[37m\u001b[0m \u001b[1m0s\u001b[0m 1ms/step - accuracy: 0.7708 - loss: 0.5960 - val_accuracy: 0.7448 - val_loss: 0.6470\n",
      "Epoch 95/200\n",
      "\u001b[1m64/64\u001b[0m \u001b[32m━━━━━━━━━━━━━━━━━━━━\u001b[0m\u001b[37m\u001b[0m \u001b[1m0s\u001b[0m 1ms/step - accuracy: 0.7687 - loss: 0.6015 - val_accuracy: 0.7475 - val_loss: 0.6449\n",
      "Epoch 95: early stopping\n",
      "Restoring model weights from the end of the best epoch: 85.\n"
     ]
    }
   ],
   "source": [
    "\n",
    "# Train the model\n",
    "hist_nn = NNmodel.fit(X_train, y_train_encoded, epochs=200, batch_size=500, validation_split=0.2, validation_data=(X_test, y_test_encoded), callbacks=[early_stopping_nn])\n"
   ]
  },
  {
   "cell_type": "code",
   "execution_count": 50,
   "metadata": {},
   "outputs": [
    {
     "data": {
      "text/html": [
       "<pre style=\"white-space:pre;overflow-x:auto;line-height:normal;font-family:Menlo,'DejaVu Sans Mono',consolas,'Courier New',monospace\"><span style=\"font-weight: bold\">Model: \"sequential\"</span>\n",
       "</pre>\n"
      ],
      "text/plain": [
       "\u001b[1mModel: \"sequential\"\u001b[0m\n"
      ]
     },
     "metadata": {},
     "output_type": "display_data"
    },
    {
     "data": {
      "text/html": [
       "<pre style=\"white-space:pre;overflow-x:auto;line-height:normal;font-family:Menlo,'DejaVu Sans Mono',consolas,'Courier New',monospace\">┏━━━━━━━━━━━━━━━━━━━━━━━━━━━━━━━━━┳━━━━━━━━━━━━━━━━━━━━━━━━┳━━━━━━━━━━━━━━━┓\n",
       "┃<span style=\"font-weight: bold\"> Layer (type)                    </span>┃<span style=\"font-weight: bold\"> Output Shape           </span>┃<span style=\"font-weight: bold\">       Param # </span>┃\n",
       "┡━━━━━━━━━━━━━━━━━━━━━━━━━━━━━━━━━╇━━━━━━━━━━━━━━━━━━━━━━━━╇━━━━━━━━━━━━━━━┩\n",
       "│ flatten (<span style=\"color: #0087ff; text-decoration-color: #0087ff\">Flatten</span>)               │ (<span style=\"color: #00af00; text-decoration-color: #00af00\">500</span>, <span style=\"color: #00af00; text-decoration-color: #00af00\">200</span>)             │             <span style=\"color: #00af00; text-decoration-color: #00af00\">0</span> │\n",
       "├─────────────────────────────────┼────────────────────────┼───────────────┤\n",
       "│ dense (<span style=\"color: #0087ff; text-decoration-color: #0087ff\">Dense</span>)                   │ (<span style=\"color: #00af00; text-decoration-color: #00af00\">500</span>, <span style=\"color: #00af00; text-decoration-color: #00af00\">128</span>)             │        <span style=\"color: #00af00; text-decoration-color: #00af00\">25,728</span> │\n",
       "├─────────────────────────────────┼────────────────────────┼───────────────┤\n",
       "│ dropout (<span style=\"color: #0087ff; text-decoration-color: #0087ff\">Dropout</span>)               │ (<span style=\"color: #00af00; text-decoration-color: #00af00\">500</span>, <span style=\"color: #00af00; text-decoration-color: #00af00\">128</span>)             │             <span style=\"color: #00af00; text-decoration-color: #00af00\">0</span> │\n",
       "├─────────────────────────────────┼────────────────────────┼───────────────┤\n",
       "│ dense_1 (<span style=\"color: #0087ff; text-decoration-color: #0087ff\">Dense</span>)                 │ (<span style=\"color: #00af00; text-decoration-color: #00af00\">500</span>, <span style=\"color: #00af00; text-decoration-color: #00af00\">64</span>)              │         <span style=\"color: #00af00; text-decoration-color: #00af00\">8,256</span> │\n",
       "├─────────────────────────────────┼────────────────────────┼───────────────┤\n",
       "│ dropout_1 (<span style=\"color: #0087ff; text-decoration-color: #0087ff\">Dropout</span>)             │ (<span style=\"color: #00af00; text-decoration-color: #00af00\">500</span>, <span style=\"color: #00af00; text-decoration-color: #00af00\">64</span>)              │             <span style=\"color: #00af00; text-decoration-color: #00af00\">0</span> │\n",
       "├─────────────────────────────────┼────────────────────────┼───────────────┤\n",
       "│ dense_2 (<span style=\"color: #0087ff; text-decoration-color: #0087ff\">Dense</span>)                 │ (<span style=\"color: #00af00; text-decoration-color: #00af00\">500</span>, <span style=\"color: #00af00; text-decoration-color: #00af00\">4</span>)               │           <span style=\"color: #00af00; text-decoration-color: #00af00\">260</span> │\n",
       "└─────────────────────────────────┴────────────────────────┴───────────────┘\n",
       "</pre>\n"
      ],
      "text/plain": [
       "┏━━━━━━━━━━━━━━━━━━━━━━━━━━━━━━━━━┳━━━━━━━━━━━━━━━━━━━━━━━━┳━━━━━━━━━━━━━━━┓\n",
       "┃\u001b[1m \u001b[0m\u001b[1mLayer (type)                   \u001b[0m\u001b[1m \u001b[0m┃\u001b[1m \u001b[0m\u001b[1mOutput Shape          \u001b[0m\u001b[1m \u001b[0m┃\u001b[1m \u001b[0m\u001b[1m      Param #\u001b[0m\u001b[1m \u001b[0m┃\n",
       "┡━━━━━━━━━━━━━━━━━━━━━━━━━━━━━━━━━╇━━━━━━━━━━━━━━━━━━━━━━━━╇━━━━━━━━━━━━━━━┩\n",
       "│ flatten (\u001b[38;5;33mFlatten\u001b[0m)               │ (\u001b[38;5;34m500\u001b[0m, \u001b[38;5;34m200\u001b[0m)             │             \u001b[38;5;34m0\u001b[0m │\n",
       "├─────────────────────────────────┼────────────────────────┼───────────────┤\n",
       "│ dense (\u001b[38;5;33mDense\u001b[0m)                   │ (\u001b[38;5;34m500\u001b[0m, \u001b[38;5;34m128\u001b[0m)             │        \u001b[38;5;34m25,728\u001b[0m │\n",
       "├─────────────────────────────────┼────────────────────────┼───────────────┤\n",
       "│ dropout (\u001b[38;5;33mDropout\u001b[0m)               │ (\u001b[38;5;34m500\u001b[0m, \u001b[38;5;34m128\u001b[0m)             │             \u001b[38;5;34m0\u001b[0m │\n",
       "├─────────────────────────────────┼────────────────────────┼───────────────┤\n",
       "│ dense_1 (\u001b[38;5;33mDense\u001b[0m)                 │ (\u001b[38;5;34m500\u001b[0m, \u001b[38;5;34m64\u001b[0m)              │         \u001b[38;5;34m8,256\u001b[0m │\n",
       "├─────────────────────────────────┼────────────────────────┼───────────────┤\n",
       "│ dropout_1 (\u001b[38;5;33mDropout\u001b[0m)             │ (\u001b[38;5;34m500\u001b[0m, \u001b[38;5;34m64\u001b[0m)              │             \u001b[38;5;34m0\u001b[0m │\n",
       "├─────────────────────────────────┼────────────────────────┼───────────────┤\n",
       "│ dense_2 (\u001b[38;5;33mDense\u001b[0m)                 │ (\u001b[38;5;34m500\u001b[0m, \u001b[38;5;34m4\u001b[0m)               │           \u001b[38;5;34m260\u001b[0m │\n",
       "└─────────────────────────────────┴────────────────────────┴───────────────┘\n"
      ]
     },
     "metadata": {},
     "output_type": "display_data"
    },
    {
     "data": {
      "text/html": [
       "<pre style=\"white-space:pre;overflow-x:auto;line-height:normal;font-family:Menlo,'DejaVu Sans Mono',consolas,'Courier New',monospace\"><span style=\"font-weight: bold\"> Total params: </span><span style=\"color: #00af00; text-decoration-color: #00af00\">102,734</span> (401.31 KB)\n",
       "</pre>\n"
      ],
      "text/plain": [
       "\u001b[1m Total params: \u001b[0m\u001b[38;5;34m102,734\u001b[0m (401.31 KB)\n"
      ]
     },
     "metadata": {},
     "output_type": "display_data"
    },
    {
     "data": {
      "text/html": [
       "<pre style=\"white-space:pre;overflow-x:auto;line-height:normal;font-family:Menlo,'DejaVu Sans Mono',consolas,'Courier New',monospace\"><span style=\"font-weight: bold\"> Trainable params: </span><span style=\"color: #00af00; text-decoration-color: #00af00\">34,244</span> (133.77 KB)\n",
       "</pre>\n"
      ],
      "text/plain": [
       "\u001b[1m Trainable params: \u001b[0m\u001b[38;5;34m34,244\u001b[0m (133.77 KB)\n"
      ]
     },
     "metadata": {},
     "output_type": "display_data"
    },
    {
     "data": {
      "text/html": [
       "<pre style=\"white-space:pre;overflow-x:auto;line-height:normal;font-family:Menlo,'DejaVu Sans Mono',consolas,'Courier New',monospace\"><span style=\"font-weight: bold\"> Non-trainable params: </span><span style=\"color: #00af00; text-decoration-color: #00af00\">0</span> (0.00 B)\n",
       "</pre>\n"
      ],
      "text/plain": [
       "\u001b[1m Non-trainable params: \u001b[0m\u001b[38;5;34m0\u001b[0m (0.00 B)\n"
      ]
     },
     "metadata": {},
     "output_type": "display_data"
    },
    {
     "data": {
      "text/html": [
       "<pre style=\"white-space:pre;overflow-x:auto;line-height:normal;font-family:Menlo,'DejaVu Sans Mono',consolas,'Courier New',monospace\"><span style=\"font-weight: bold\"> Optimizer params: </span><span style=\"color: #00af00; text-decoration-color: #00af00\">68,490</span> (267.54 KB)\n",
       "</pre>\n"
      ],
      "text/plain": [
       "\u001b[1m Optimizer params: \u001b[0m\u001b[38;5;34m68,490\u001b[0m (267.54 KB)\n"
      ]
     },
     "metadata": {},
     "output_type": "display_data"
    },
    {
     "data": {
      "text/plain": [
       "[]"
      ]
     },
     "execution_count": 50,
     "metadata": {},
     "output_type": "execute_result"
    },
    {
     "data": {
      "image/png": "[encoded data removed]",
      "text/plain": [
       "<Figure size 640x480 with 1 Axes>"
      ]
     },
     "metadata": {},
     "output_type": "display_data"
    }
   ],
   "source": [
    "NNmodel.summary()\n",
    "\n",
    "acc_nn = hist_nn.history['accuracy']\n",
    "val_nn = hist_nn.history['val_accuracy']\n",
    "epochs_nn = range(1, len(acc_nn) + 1)\n",
    "\n",
    "plt.plot(epochs_nn, acc_nn, '-', label='Training accuracy')\n",
    "plt.plot(epochs_nn, val_nn, ':', label='Validation accuracy')\n",
    "plt.title('Training and Validation Accuracy: NN')\n",
    "plt.xlabel('Epoch')\n",
    "plt.ylabel('Accuracy')\n",
    "plt.legend(loc='lower right')\n",
    "plt.plot()"
   ]
  },
  {
   "cell_type": "code",
   "execution_count": 51,
   "metadata": {},
   "outputs": [
    {
     "name": "stdout",
     "output_type": "stream",
     "text": [
      "\u001b[1m250/250\u001b[0m \u001b[32m━━━━━━━━━━━━━━━━━━━━\u001b[0m\u001b[37m\u001b[0m \u001b[1m0s\u001b[0m 250us/step\n",
      "The accuracy is 0.746375\n",
      "The confusion matrix \n",
      "['ELSE', 'ENTERTAINMENT', 'POLITICS', 'WELLNESS'] is \n",
      "[[1078  326  284  312]\n",
      " [ 235 1573  134   58]\n",
      " [ 193   73 1697   37]\n",
      " [ 279   62   36 1623]]\n",
      "F1 Score when we treat ELSE as negative: 0.8666393778141629\n",
      "F1 Score for everclass: \n",
      "['ELSE', 'ENTERTAINMENT', 'POLITICS', 'WELLNESS'] \n",
      "[0.56961691 0.7798711  0.8176343  0.80545906]\n"
     ]
    },
    {
     "name": "stderr",
     "output_type": "stream",
     "text": [
      "/var/folders/l_/txq0vh11623_5lrnfw_cpmsh0000gn/T/ipykernel_3591/2370515181.py:4: FutureWarning: Series.__getitem__ treating keys as positions is deprecated. In a future version, integer keys will always be treated as labels (consistent with DataFrame behavior). To access a value by position, use `ser.iloc[pos]`\n",
      "  results = {'index': misclassified_idx, 'true': y_test[misclassified_idx], 'pred': y_pred[misclassified_idx], 'headline': sampled_test['headline_summary_tokenized'].iloc[misclassified_idx].apply(lambda x: ' '.join(x))}\n"
     ]
    }
   ],
   "source": [
    "y_pred_NN_encoded = np.argmax(NNmodel.predict(X_test), axis=1)\n",
    "y_pred_NN = label_encoder.inverse_transform(y_pred_NN_encoded)\n",
    "\n",
    "get_accuracy(y_test, y_pred_NN)\n",
    "mis_NN = get_misclassified_samples(y_test, y_pred_NN)"
   ]
  },
  {
   "cell_type": "code",
   "execution_count": 52,
   "metadata": {},
   "outputs": [],
   "source": [
    "mis_NN.rename(columns={'index': 'index_NN'}, inplace=True)\n",
    "\n",
    "misclassified = pd.concat([misclassified, mis_NN['index_NN']], axis=1)"
   ]
  },
  {
   "cell_type": "markdown",
   "metadata": {},
   "source": [
    "We need to stop early. The usual Neural Network method tends to overfit the training data while the validation accuracy does not change too much."
   ]
  },
  {
   "cell_type": "markdown",
   "metadata": {},
   "source": [
    "#### Use the CNN model"
   ]
  },
  {
   "cell_type": "code",
   "execution_count": 53,
   "metadata": {},
   "outputs": [],
   "source": [
    "# Early stopping\n",
    "# Creat early stopping callback\n",
    "early_stopping_cnn = keras.callbacks.EarlyStopping(monitor = 'val_loss', patience=10, restore_best_weights=True, min_delta=0.0001, verbose=1)"
   ]
  },
  {
   "cell_type": "code",
   "execution_count": 54,
   "metadata": {},
   "outputs": [
    {
     "name": "stderr",
     "output_type": "stream",
     "text": [
      "/Users/xiaokangwang/Library/Caches/pypoetry/virtualenvs/erdosnewsfinanceproject-fYB74UfD-py3.12/lib/python3.12/site-packages/keras/src/layers/reshaping/reshape.py:39: UserWarning: Do not pass an `input_shape`/`input_dim` argument to a layer. When using Sequential models, prefer using an `Input(shape)` object as the first layer in the model instead.\n",
      "  super().__init__(**kwargs)\n"
     ]
    },
    {
     "data": {
      "text/html": [
       "<pre style=\"white-space:pre;overflow-x:auto;line-height:normal;font-family:Menlo,'DejaVu Sans Mono',consolas,'Courier New',monospace\"><span style=\"font-weight: bold\">Model: \"sequential_1\"</span>\n",
       "</pre>\n"
      ],
      "text/plain": [
       "\u001b[1mModel: \"sequential_1\"\u001b[0m\n"
      ]
     },
     "metadata": {},
     "output_type": "display_data"
    },
    {
     "data": {
      "text/html": [
       "<pre style=\"white-space:pre;overflow-x:auto;line-height:normal;font-family:Menlo,'DejaVu Sans Mono',consolas,'Courier New',monospace\">┏━━━━━━━━━━━━━━━━━━━━━━━━━━━━━━━━━┳━━━━━━━━━━━━━━━━━━━━━━━━┳━━━━━━━━━━━━━━━┓\n",
       "┃<span style=\"font-weight: bold\"> Layer (type)                    </span>┃<span style=\"font-weight: bold\"> Output Shape           </span>┃<span style=\"font-weight: bold\">       Param # </span>┃\n",
       "┡━━━━━━━━━━━━━━━━━━━━━━━━━━━━━━━━━╇━━━━━━━━━━━━━━━━━━━━━━━━╇━━━━━━━━━━━━━━━┩\n",
       "│ reshape (<span style=\"color: #0087ff; text-decoration-color: #0087ff\">Reshape</span>)               │ (<span style=\"color: #00d7ff; text-decoration-color: #00d7ff\">None</span>, <span style=\"color: #00af00; text-decoration-color: #00af00\">200</span>, <span style=\"color: #00af00; text-decoration-color: #00af00\">1</span>)         │             <span style=\"color: #00af00; text-decoration-color: #00af00\">0</span> │\n",
       "├─────────────────────────────────┼────────────────────────┼───────────────┤\n",
       "│ conv1d (<span style=\"color: #0087ff; text-decoration-color: #0087ff\">Conv1D</span>)                 │ (<span style=\"color: #00d7ff; text-decoration-color: #00d7ff\">None</span>, <span style=\"color: #00af00; text-decoration-color: #00af00\">198</span>, <span style=\"color: #00af00; text-decoration-color: #00af00\">32</span>)        │           <span style=\"color: #00af00; text-decoration-color: #00af00\">128</span> │\n",
       "├─────────────────────────────────┼────────────────────────┼───────────────┤\n",
       "│ max_pooling1d (<span style=\"color: #0087ff; text-decoration-color: #0087ff\">MaxPooling1D</span>)    │ (<span style=\"color: #00d7ff; text-decoration-color: #00d7ff\">None</span>, <span style=\"color: #00af00; text-decoration-color: #00af00\">99</span>, <span style=\"color: #00af00; text-decoration-color: #00af00\">32</span>)         │             <span style=\"color: #00af00; text-decoration-color: #00af00\">0</span> │\n",
       "├─────────────────────────────────┼────────────────────────┼───────────────┤\n",
       "│ flatten_1 (<span style=\"color: #0087ff; text-decoration-color: #0087ff\">Flatten</span>)             │ (<span style=\"color: #00d7ff; text-decoration-color: #00d7ff\">None</span>, <span style=\"color: #00af00; text-decoration-color: #00af00\">3168</span>)           │             <span style=\"color: #00af00; text-decoration-color: #00af00\">0</span> │\n",
       "├─────────────────────────────────┼────────────────────────┼───────────────┤\n",
       "│ dense_3 (<span style=\"color: #0087ff; text-decoration-color: #0087ff\">Dense</span>)                 │ (<span style=\"color: #00d7ff; text-decoration-color: #00d7ff\">None</span>, <span style=\"color: #00af00; text-decoration-color: #00af00\">128</span>)            │       <span style=\"color: #00af00; text-decoration-color: #00af00\">405,632</span> │\n",
       "├─────────────────────────────────┼────────────────────────┼───────────────┤\n",
       "│ dropout_2 (<span style=\"color: #0087ff; text-decoration-color: #0087ff\">Dropout</span>)             │ (<span style=\"color: #00d7ff; text-decoration-color: #00d7ff\">None</span>, <span style=\"color: #00af00; text-decoration-color: #00af00\">128</span>)            │             <span style=\"color: #00af00; text-decoration-color: #00af00\">0</span> │\n",
       "├─────────────────────────────────┼────────────────────────┼───────────────┤\n",
       "│ dense_4 (<span style=\"color: #0087ff; text-decoration-color: #0087ff\">Dense</span>)                 │ (<span style=\"color: #00d7ff; text-decoration-color: #00d7ff\">None</span>, <span style=\"color: #00af00; text-decoration-color: #00af00\">64</span>)             │         <span style=\"color: #00af00; text-decoration-color: #00af00\">8,256</span> │\n",
       "├─────────────────────────────────┼────────────────────────┼───────────────┤\n",
       "│ dropout_3 (<span style=\"color: #0087ff; text-decoration-color: #0087ff\">Dropout</span>)             │ (<span style=\"color: #00d7ff; text-decoration-color: #00d7ff\">None</span>, <span style=\"color: #00af00; text-decoration-color: #00af00\">64</span>)             │             <span style=\"color: #00af00; text-decoration-color: #00af00\">0</span> │\n",
       "├─────────────────────────────────┼────────────────────────┼───────────────┤\n",
       "│ dense_5 (<span style=\"color: #0087ff; text-decoration-color: #0087ff\">Dense</span>)                 │ (<span style=\"color: #00d7ff; text-decoration-color: #00d7ff\">None</span>, <span style=\"color: #00af00; text-decoration-color: #00af00\">4</span>)              │           <span style=\"color: #00af00; text-decoration-color: #00af00\">260</span> │\n",
       "└─────────────────────────────────┴────────────────────────┴───────────────┘\n",
       "</pre>\n"
      ],
      "text/plain": [
       "┏━━━━━━━━━━━━━━━━━━━━━━━━━━━━━━━━━┳━━━━━━━━━━━━━━━━━━━━━━━━┳━━━━━━━━━━━━━━━┓\n",
       "┃\u001b[1m \u001b[0m\u001b[1mLayer (type)                   \u001b[0m\u001b[1m \u001b[0m┃\u001b[1m \u001b[0m\u001b[1mOutput Shape          \u001b[0m\u001b[1m \u001b[0m┃\u001b[1m \u001b[0m\u001b[1m      Param #\u001b[0m\u001b[1m \u001b[0m┃\n",
       "┡━━━━━━━━━━━━━━━━━━━━━━━━━━━━━━━━━╇━━━━━━━━━━━━━━━━━━━━━━━━╇━━━━━━━━━━━━━━━┩\n",
       "│ reshape (\u001b[38;5;33mReshape\u001b[0m)               │ (\u001b[38;5;45mNone\u001b[0m, \u001b[38;5;34m200\u001b[0m, \u001b[38;5;34m1\u001b[0m)         │             \u001b[38;5;34m0\u001b[0m │\n",
       "├─────────────────────────────────┼────────────────────────┼───────────────┤\n",
       "│ conv1d (\u001b[38;5;33mConv1D\u001b[0m)                 │ (\u001b[38;5;45mNone\u001b[0m, \u001b[38;5;34m198\u001b[0m, \u001b[38;5;34m32\u001b[0m)        │           \u001b[38;5;34m128\u001b[0m │\n",
       "├─────────────────────────────────┼────────────────────────┼───────────────┤\n",
       "│ max_pooling1d (\u001b[38;5;33mMaxPooling1D\u001b[0m)    │ (\u001b[38;5;45mNone\u001b[0m, \u001b[38;5;34m99\u001b[0m, \u001b[38;5;34m32\u001b[0m)         │             \u001b[38;5;34m0\u001b[0m │\n",
       "├─────────────────────────────────┼────────────────────────┼───────────────┤\n",
       "│ flatten_1 (\u001b[38;5;33mFlatten\u001b[0m)             │ (\u001b[38;5;45mNone\u001b[0m, \u001b[38;5;34m3168\u001b[0m)           │             \u001b[38;5;34m0\u001b[0m │\n",
       "├─────────────────────────────────┼────────────────────────┼───────────────┤\n",
       "│ dense_3 (\u001b[38;5;33mDense\u001b[0m)                 │ (\u001b[38;5;45mNone\u001b[0m, \u001b[38;5;34m128\u001b[0m)            │       \u001b[38;5;34m405,632\u001b[0m │\n",
       "├─────────────────────────────────┼────────────────────────┼───────────────┤\n",
       "│ dropout_2 (\u001b[38;5;33mDropout\u001b[0m)             │ (\u001b[38;5;45mNone\u001b[0m, \u001b[38;5;34m128\u001b[0m)            │             \u001b[38;5;34m0\u001b[0m │\n",
       "├─────────────────────────────────┼────────────────────────┼───────────────┤\n",
       "│ dense_4 (\u001b[38;5;33mDense\u001b[0m)                 │ (\u001b[38;5;45mNone\u001b[0m, \u001b[38;5;34m64\u001b[0m)             │         \u001b[38;5;34m8,256\u001b[0m │\n",
       "├─────────────────────────────────┼────────────────────────┼───────────────┤\n",
       "│ dropout_3 (\u001b[38;5;33mDropout\u001b[0m)             │ (\u001b[38;5;45mNone\u001b[0m, \u001b[38;5;34m64\u001b[0m)             │             \u001b[38;5;34m0\u001b[0m │\n",
       "├─────────────────────────────────┼────────────────────────┼───────────────┤\n",
       "│ dense_5 (\u001b[38;5;33mDense\u001b[0m)                 │ (\u001b[38;5;45mNone\u001b[0m, \u001b[38;5;34m4\u001b[0m)              │           \u001b[38;5;34m260\u001b[0m │\n",
       "└─────────────────────────────────┴────────────────────────┴───────────────┘\n"
      ]
     },
     "metadata": {},
     "output_type": "display_data"
    },
    {
     "data": {
      "text/html": [
       "<pre style=\"white-space:pre;overflow-x:auto;line-height:normal;font-family:Menlo,'DejaVu Sans Mono',consolas,'Courier New',monospace\"><span style=\"font-weight: bold\"> Total params: </span><span style=\"color: #00af00; text-decoration-color: #00af00\">414,276</span> (1.58 MB)\n",
       "</pre>\n"
      ],
      "text/plain": [
       "\u001b[1m Total params: \u001b[0m\u001b[38;5;34m414,276\u001b[0m (1.58 MB)\n"
      ]
     },
     "metadata": {},
     "output_type": "display_data"
    },
    {
     "data": {
      "text/html": [
       "<pre style=\"white-space:pre;overflow-x:auto;line-height:normal;font-family:Menlo,'DejaVu Sans Mono',consolas,'Courier New',monospace\"><span style=\"font-weight: bold\"> Trainable params: </span><span style=\"color: #00af00; text-decoration-color: #00af00\">414,276</span> (1.58 MB)\n",
       "</pre>\n"
      ],
      "text/plain": [
       "\u001b[1m Trainable params: \u001b[0m\u001b[38;5;34m414,276\u001b[0m (1.58 MB)\n"
      ]
     },
     "metadata": {},
     "output_type": "display_data"
    },
    {
     "data": {
      "text/html": [
       "<pre style=\"white-space:pre;overflow-x:auto;line-height:normal;font-family:Menlo,'DejaVu Sans Mono',consolas,'Courier New',monospace\"><span style=\"font-weight: bold\"> Non-trainable params: </span><span style=\"color: #00af00; text-decoration-color: #00af00\">0</span> (0.00 B)\n",
       "</pre>\n"
      ],
      "text/plain": [
       "\u001b[1m Non-trainable params: \u001b[0m\u001b[38;5;34m0\u001b[0m (0.00 B)\n"
      ]
     },
     "metadata": {},
     "output_type": "display_data"
    }
   ],
   "source": [
    "# Using CNN model (Adding Convolutional and MaxPooling layers)\n",
    "\n",
    "CNNmodel = keras.models.Sequential()\n",
    "\n",
    "# Add an additional dimension to the data for the convolutional layer\n",
    "CNNmodel.add(keras.layers.Reshape((X_train.shape[1], 1), input_shape=(X_train.shape[1],)))\n",
    "\n",
    "# Add the convolutional layer\n",
    "CNNmodel.add(keras.layers.Conv1D(filters=32, kernel_size=3, activation='relu'))\n",
    "\n",
    "# Add the max pooling layer\n",
    "CNNmodel.add(keras.layers.MaxPooling1D(pool_size=2))\n",
    "\n",
    "# Flatten the output\n",
    "CNNmodel.add(keras.layers.Flatten())\n",
    "\n",
    "# Add the dense layers\n",
    "CNNmodel.add(keras.layers.Dense(128, activation='relu'))\n",
    "CNNmodel.add(keras.layers.Dropout(0.4))\n",
    "CNNmodel.add(keras.layers.Dense(64, activation='relu'))\n",
    "CNNmodel.add(keras.layers.Dropout(0.3))\n",
    "CNNmodel.add(keras.layers.Dense(4, activation='softmax'))\n",
    "\n",
    "CNNmodel.compile(optimizer='adam', loss='categorical_crossentropy', metrics=['accuracy'])\n",
    "\n",
    "CNNmodel.summary()\n",
    "\n",
    "\n"
   ]
  },
  {
   "cell_type": "code",
   "execution_count": 55,
   "metadata": {},
   "outputs": [
    {
     "name": "stdout",
     "output_type": "stream",
     "text": [
      "Epoch 1/200\n",
      "\u001b[1m64/64\u001b[0m \u001b[32m━━━━━━━━━━━━━━━━━━━━\u001b[0m\u001b[37m\u001b[0m \u001b[1m1s\u001b[0m 11ms/step - accuracy: 0.2946 - loss: 1.3798 - val_accuracy: 0.4882 - val_loss: 1.3098\n",
      "Epoch 2/200\n",
      "\u001b[1m64/64\u001b[0m \u001b[32m━━━━━━━━━━━━━━━━━━━━\u001b[0m\u001b[37m\u001b[0m \u001b[1m1s\u001b[0m 10ms/step - accuracy: 0.4450 - loss: 1.2656 - val_accuracy: 0.5249 - val_loss: 1.1194\n",
      "Epoch 3/200\n",
      "\u001b[1m64/64\u001b[0m \u001b[32m━━━━━━━━━━━━━━━━━━━━\u001b[0m\u001b[37m\u001b[0m \u001b[1m1s\u001b[0m 10ms/step - accuracy: 0.5300 - loss: 1.1049 - val_accuracy: 0.5935 - val_loss: 0.9981\n",
      "Epoch 4/200\n",
      "\u001b[1m64/64\u001b[0m \u001b[32m━━━━━━━━━━━━━━━━━━━━\u001b[0m\u001b[37m\u001b[0m \u001b[1m1s\u001b[0m 10ms/step - accuracy: 0.5838 - loss: 1.0031 - val_accuracy: 0.6323 - val_loss: 0.9336\n",
      "Epoch 5/200\n",
      "\u001b[1m64/64\u001b[0m \u001b[32m━━━━━━━━━━━━━━━━━━━━\u001b[0m\u001b[37m\u001b[0m \u001b[1m1s\u001b[0m 10ms/step - accuracy: 0.6183 - loss: 0.9345 - val_accuracy: 0.6456 - val_loss: 0.8853\n",
      "Epoch 6/200\n",
      "\u001b[1m64/64\u001b[0m \u001b[32m━━━━━━━━━━━━━━━━━━━━\u001b[0m\u001b[37m\u001b[0m \u001b[1m1s\u001b[0m 10ms/step - accuracy: 0.6377 - loss: 0.8954 - val_accuracy: 0.6411 - val_loss: 0.8717\n",
      "Epoch 7/200\n",
      "\u001b[1m64/64\u001b[0m \u001b[32m━━━━━━━━━━━━━━━━━━━━\u001b[0m\u001b[37m\u001b[0m \u001b[1m1s\u001b[0m 10ms/step - accuracy: 0.6447 - loss: 0.8730 - val_accuracy: 0.6671 - val_loss: 0.8316\n",
      "Epoch 8/200\n",
      "\u001b[1m64/64\u001b[0m \u001b[32m━━━━━━━━━━━━━━━━━━━━\u001b[0m\u001b[37m\u001b[0m \u001b[1m1s\u001b[0m 10ms/step - accuracy: 0.6660 - loss: 0.8455 - val_accuracy: 0.6760 - val_loss: 0.8165\n",
      "Epoch 9/200\n",
      "\u001b[1m64/64\u001b[0m \u001b[32m━━━━━━━━━━━━━━━━━━━━\u001b[0m\u001b[37m\u001b[0m \u001b[1m1s\u001b[0m 10ms/step - accuracy: 0.6672 - loss: 0.8272 - val_accuracy: 0.6804 - val_loss: 0.7968\n",
      "Epoch 10/200\n",
      "\u001b[1m64/64\u001b[0m \u001b[32m━━━━━━━━━━━━━━━━━━━━\u001b[0m\u001b[37m\u001b[0m \u001b[1m1s\u001b[0m 10ms/step - accuracy: 0.6763 - loss: 0.8199 - val_accuracy: 0.6852 - val_loss: 0.7929\n",
      "Epoch 11/200\n",
      "\u001b[1m64/64\u001b[0m \u001b[32m━━━━━━━━━━━━━━━━━━━━\u001b[0m\u001b[37m\u001b[0m \u001b[1m1s\u001b[0m 10ms/step - accuracy: 0.6777 - loss: 0.8053 - val_accuracy: 0.6873 - val_loss: 0.7807\n",
      "Epoch 12/200\n",
      "\u001b[1m64/64\u001b[0m \u001b[32m━━━━━━━━━━━━━━━━━━━━\u001b[0m\u001b[37m\u001b[0m \u001b[1m1s\u001b[0m 10ms/step - accuracy: 0.6863 - loss: 0.7961 - val_accuracy: 0.6916 - val_loss: 0.7732\n",
      "Epoch 13/200\n",
      "\u001b[1m64/64\u001b[0m \u001b[32m━━━━━━━━━━━━━━━━━━━━\u001b[0m\u001b[37m\u001b[0m \u001b[1m1s\u001b[0m 10ms/step - accuracy: 0.6906 - loss: 0.7862 - val_accuracy: 0.6941 - val_loss: 0.7701\n",
      "Epoch 14/200\n",
      "\u001b[1m64/64\u001b[0m \u001b[32m━━━━━━━━━━━━━━━━━━━━\u001b[0m\u001b[37m\u001b[0m \u001b[1m1s\u001b[0m 10ms/step - accuracy: 0.6911 - loss: 0.7786 - val_accuracy: 0.6995 - val_loss: 0.7582\n",
      "Epoch 15/200\n",
      "\u001b[1m64/64\u001b[0m \u001b[32m━━━━━━━━━━━━━━━━━━━━\u001b[0m\u001b[37m\u001b[0m \u001b[1m1s\u001b[0m 10ms/step - accuracy: 0.6988 - loss: 0.7682 - val_accuracy: 0.7006 - val_loss: 0.7555\n",
      "Epoch 16/200\n",
      "\u001b[1m64/64\u001b[0m \u001b[32m━━━━━━━━━━━━━━━━━━━━\u001b[0m\u001b[37m\u001b[0m \u001b[1m1s\u001b[0m 10ms/step - accuracy: 0.7028 - loss: 0.7563 - val_accuracy: 0.7038 - val_loss: 0.7466\n",
      "Epoch 17/200\n",
      "\u001b[1m64/64\u001b[0m \u001b[32m━━━━━━━━━━━━━━━━━━━━\u001b[0m\u001b[37m\u001b[0m \u001b[1m1s\u001b[0m 11ms/step - accuracy: 0.7048 - loss: 0.7524 - val_accuracy: 0.7021 - val_loss: 0.7557\n",
      "Epoch 18/200\n",
      "\u001b[1m64/64\u001b[0m \u001b[32m━━━━━━━━━━━━━━━━━━━━\u001b[0m\u001b[37m\u001b[0m \u001b[1m1s\u001b[0m 10ms/step - accuracy: 0.7041 - loss: 0.7479 - val_accuracy: 0.7109 - val_loss: 0.7348\n",
      "Epoch 19/200\n",
      "\u001b[1m64/64\u001b[0m \u001b[32m━━━━━━━━━━━━━━━━━━━━\u001b[0m\u001b[37m\u001b[0m \u001b[1m1s\u001b[0m 11ms/step - accuracy: 0.7079 - loss: 0.7402 - val_accuracy: 0.7110 - val_loss: 0.7295\n",
      "Epoch 20/200\n",
      "\u001b[1m64/64\u001b[0m \u001b[32m━━━━━━━━━━━━━━━━━━━━\u001b[0m\u001b[37m\u001b[0m \u001b[1m1s\u001b[0m 10ms/step - accuracy: 0.7060 - loss: 0.7367 - val_accuracy: 0.7105 - val_loss: 0.7274\n",
      "Epoch 21/200\n",
      "\u001b[1m64/64\u001b[0m \u001b[32m━━━━━━━━━━━━━━━━━━━━\u001b[0m\u001b[37m\u001b[0m \u001b[1m1s\u001b[0m 10ms/step - accuracy: 0.7083 - loss: 0.7299 - val_accuracy: 0.7141 - val_loss: 0.7235\n",
      "Epoch 22/200\n",
      "\u001b[1m64/64\u001b[0m \u001b[32m━━━━━━━━━━━━━━━━━━━━\u001b[0m\u001b[37m\u001b[0m \u001b[1m1s\u001b[0m 10ms/step - accuracy: 0.7139 - loss: 0.7258 - val_accuracy: 0.7147 - val_loss: 0.7172\n",
      "Epoch 23/200\n",
      "\u001b[1m64/64\u001b[0m \u001b[32m━━━━━━━━━━━━━━━━━━━━\u001b[0m\u001b[37m\u001b[0m \u001b[1m1s\u001b[0m 10ms/step - accuracy: 0.7204 - loss: 0.7165 - val_accuracy: 0.7164 - val_loss: 0.7169\n",
      "Epoch 24/200\n",
      "\u001b[1m64/64\u001b[0m \u001b[32m━━━━━━━━━━━━━━━━━━━━\u001b[0m\u001b[37m\u001b[0m \u001b[1m1s\u001b[0m 10ms/step - accuracy: 0.7208 - loss: 0.7154 - val_accuracy: 0.7194 - val_loss: 0.7122\n",
      "Epoch 25/200\n",
      "\u001b[1m64/64\u001b[0m \u001b[32m━━━━━━━━━━━━━━━━━━━━\u001b[0m\u001b[37m\u001b[0m \u001b[1m1s\u001b[0m 10ms/step - accuracy: 0.7217 - loss: 0.7103 - val_accuracy: 0.7194 - val_loss: 0.7122\n",
      "Epoch 26/200\n",
      "\u001b[1m64/64\u001b[0m \u001b[32m━━━━━━━━━━━━━━━━━━━━\u001b[0m\u001b[37m\u001b[0m \u001b[1m1s\u001b[0m 10ms/step - accuracy: 0.7264 - loss: 0.7049 - val_accuracy: 0.7235 - val_loss: 0.7047\n",
      "Epoch 27/200\n",
      "\u001b[1m64/64\u001b[0m \u001b[32m━━━━━━━━━━━━━━━━━━━━\u001b[0m\u001b[37m\u001b[0m \u001b[1m1s\u001b[0m 10ms/step - accuracy: 0.7230 - loss: 0.7060 - val_accuracy: 0.7203 - val_loss: 0.7088\n",
      "Epoch 28/200\n",
      "\u001b[1m64/64\u001b[0m \u001b[32m━━━━━━━━━━━━━━━━━━━━\u001b[0m\u001b[37m\u001b[0m \u001b[1m1s\u001b[0m 10ms/step - accuracy: 0.7248 - loss: 0.7073 - val_accuracy: 0.7230 - val_loss: 0.7003\n",
      "Epoch 29/200\n",
      "\u001b[1m64/64\u001b[0m \u001b[32m━━━━━━━━━━━━━━━━━━━━\u001b[0m\u001b[37m\u001b[0m \u001b[1m1s\u001b[0m 10ms/step - accuracy: 0.7260 - loss: 0.6958 - val_accuracy: 0.7240 - val_loss: 0.7019\n",
      "Epoch 30/200\n",
      "\u001b[1m64/64\u001b[0m \u001b[32m━━━━━━━━━━━━━━━━━━━━\u001b[0m\u001b[37m\u001b[0m \u001b[1m1s\u001b[0m 10ms/step - accuracy: 0.7299 - loss: 0.6943 - val_accuracy: 0.7278 - val_loss: 0.6950\n",
      "Epoch 31/200\n",
      "\u001b[1m64/64\u001b[0m \u001b[32m━━━━━━━━━━━━━━━━━━━━\u001b[0m\u001b[37m\u001b[0m \u001b[1m1s\u001b[0m 10ms/step - accuracy: 0.7325 - loss: 0.6837 - val_accuracy: 0.7254 - val_loss: 0.6935\n",
      "Epoch 32/200\n",
      "\u001b[1m64/64\u001b[0m \u001b[32m━━━━━━━━━━━━━━━━━━━━\u001b[0m\u001b[37m\u001b[0m \u001b[1m1s\u001b[0m 10ms/step - accuracy: 0.7287 - loss: 0.6882 - val_accuracy: 0.7296 - val_loss: 0.6894\n",
      "Epoch 33/200\n",
      "\u001b[1m64/64\u001b[0m \u001b[32m━━━━━━━━━━━━━━━━━━━━\u001b[0m\u001b[37m\u001b[0m \u001b[1m1s\u001b[0m 10ms/step - accuracy: 0.7312 - loss: 0.6796 - val_accuracy: 0.7283 - val_loss: 0.6928\n",
      "Epoch 34/200\n",
      "\u001b[1m64/64\u001b[0m \u001b[32m━━━━━━━━━━━━━━━━━━━━\u001b[0m\u001b[37m\u001b[0m \u001b[1m1s\u001b[0m 10ms/step - accuracy: 0.7336 - loss: 0.6741 - val_accuracy: 0.7271 - val_loss: 0.6885\n",
      "Epoch 35/200\n",
      "\u001b[1m64/64\u001b[0m \u001b[32m━━━━━━━━━━━━━━━━━━━━\u001b[0m\u001b[37m\u001b[0m \u001b[1m1s\u001b[0m 12ms/step - accuracy: 0.7303 - loss: 0.6822 - val_accuracy: 0.7259 - val_loss: 0.6900\n",
      "Epoch 36/200\n",
      "\u001b[1m64/64\u001b[0m \u001b[32m━━━━━━━━━━━━━━━━━━━━\u001b[0m\u001b[37m\u001b[0m \u001b[1m1s\u001b[0m 11ms/step - accuracy: 0.7388 - loss: 0.6677 - val_accuracy: 0.7369 - val_loss: 0.6832\n",
      "Epoch 37/200\n",
      "\u001b[1m64/64\u001b[0m \u001b[32m━━━━━━━━━━━━━━━━━━━━\u001b[0m\u001b[37m\u001b[0m \u001b[1m1s\u001b[0m 11ms/step - accuracy: 0.7338 - loss: 0.6697 - val_accuracy: 0.7311 - val_loss: 0.6863\n",
      "Epoch 38/200\n",
      "\u001b[1m64/64\u001b[0m \u001b[32m━━━━━━━━━━━━━━━━━━━━\u001b[0m\u001b[37m\u001b[0m \u001b[1m1s\u001b[0m 11ms/step - accuracy: 0.7384 - loss: 0.6668 - val_accuracy: 0.7356 - val_loss: 0.6854\n",
      "Epoch 39/200\n",
      "\u001b[1m64/64\u001b[0m \u001b[32m━━━━━━━━━━━━━━━━━━━━\u001b[0m\u001b[37m\u001b[0m \u001b[1m1s\u001b[0m 11ms/step - accuracy: 0.7377 - loss: 0.6689 - val_accuracy: 0.7296 - val_loss: 0.6859\n",
      "Epoch 40/200\n",
      "\u001b[1m64/64\u001b[0m \u001b[32m━━━━━━━━━━━━━━━━━━━━\u001b[0m\u001b[37m\u001b[0m \u001b[1m1s\u001b[0m 11ms/step - accuracy: 0.7381 - loss: 0.6578 - val_accuracy: 0.7330 - val_loss: 0.6798\n",
      "Epoch 41/200\n",
      "\u001b[1m64/64\u001b[0m \u001b[32m━━━━━━━━━━━━━━━━━━━━\u001b[0m\u001b[37m\u001b[0m \u001b[1m1s\u001b[0m 11ms/step - accuracy: 0.7455 - loss: 0.6554 - val_accuracy: 0.7356 - val_loss: 0.6848\n",
      "Epoch 42/200\n",
      "\u001b[1m64/64\u001b[0m \u001b[32m━━━━━━━━━━━━━━━━━━━━\u001b[0m\u001b[37m\u001b[0m \u001b[1m1s\u001b[0m 11ms/step - accuracy: 0.7424 - loss: 0.6504 - val_accuracy: 0.7358 - val_loss: 0.6765\n",
      "Epoch 43/200\n",
      "\u001b[1m64/64\u001b[0m \u001b[32m━━━━━━━━━━━━━━━━━━━━\u001b[0m\u001b[37m\u001b[0m \u001b[1m1s\u001b[0m 10ms/step - accuracy: 0.7480 - loss: 0.6476 - val_accuracy: 0.7345 - val_loss: 0.6785\n",
      "Epoch 44/200\n",
      "\u001b[1m64/64\u001b[0m \u001b[32m━━━━━━━━━━━━━━━━━━━━\u001b[0m\u001b[37m\u001b[0m \u001b[1m1s\u001b[0m 10ms/step - accuracy: 0.7399 - loss: 0.6527 - val_accuracy: 0.7333 - val_loss: 0.6763\n",
      "Epoch 45/200\n",
      "\u001b[1m64/64\u001b[0m \u001b[32m━━━━━━━━━━━━━━━━━━━━\u001b[0m\u001b[37m\u001b[0m \u001b[1m1s\u001b[0m 11ms/step - accuracy: 0.7444 - loss: 0.6539 - val_accuracy: 0.7364 - val_loss: 0.6710\n",
      "Epoch 46/200\n",
      "\u001b[1m64/64\u001b[0m \u001b[32m━━━━━━━━━━━━━━━━━━━━\u001b[0m\u001b[37m\u001b[0m \u001b[1m1s\u001b[0m 10ms/step - accuracy: 0.7454 - loss: 0.6511 - val_accuracy: 0.7351 - val_loss: 0.6703\n",
      "Epoch 47/200\n",
      "\u001b[1m64/64\u001b[0m \u001b[32m━━━━━━━━━━━━━━━━━━━━\u001b[0m\u001b[37m\u001b[0m \u001b[1m1s\u001b[0m 11ms/step - accuracy: 0.7515 - loss: 0.6311 - val_accuracy: 0.7340 - val_loss: 0.6753\n",
      "Epoch 48/200\n",
      "\u001b[1m64/64\u001b[0m \u001b[32m━━━━━━━━━━━━━━━━━━━━\u001b[0m\u001b[37m\u001b[0m \u001b[1m1s\u001b[0m 11ms/step - accuracy: 0.7515 - loss: 0.6328 - val_accuracy: 0.7384 - val_loss: 0.6686\n",
      "Epoch 49/200\n",
      "\u001b[1m64/64\u001b[0m \u001b[32m━━━━━━━━━━━━━━━━━━━━\u001b[0m\u001b[37m\u001b[0m \u001b[1m1s\u001b[0m 11ms/step - accuracy: 0.7523 - loss: 0.6329 - val_accuracy: 0.7380 - val_loss: 0.6716\n",
      "Epoch 50/200\n",
      "\u001b[1m64/64\u001b[0m \u001b[32m━━━━━━━━━━━━━━━━━━━━\u001b[0m\u001b[37m\u001b[0m \u001b[1m1s\u001b[0m 11ms/step - accuracy: 0.7513 - loss: 0.6334 - val_accuracy: 0.7364 - val_loss: 0.6695\n",
      "Epoch 51/200\n",
      "\u001b[1m64/64\u001b[0m \u001b[32m━━━━━━━━━━━━━━━━━━━━\u001b[0m\u001b[37m\u001b[0m \u001b[1m1s\u001b[0m 11ms/step - accuracy: 0.7517 - loss: 0.6299 - val_accuracy: 0.7386 - val_loss: 0.6699\n",
      "Epoch 52/200\n",
      "\u001b[1m64/64\u001b[0m \u001b[32m━━━━━━━━━━━━━━━━━━━━\u001b[0m\u001b[37m\u001b[0m \u001b[1m1s\u001b[0m 12ms/step - accuracy: 0.7510 - loss: 0.6308 - val_accuracy: 0.7359 - val_loss: 0.6747\n",
      "Epoch 53/200\n",
      "\u001b[1m64/64\u001b[0m \u001b[32m━━━━━━━━━━━━━━━━━━━━\u001b[0m\u001b[37m\u001b[0m \u001b[1m1s\u001b[0m 11ms/step - accuracy: 0.7562 - loss: 0.6298 - val_accuracy: 0.7385 - val_loss: 0.6685\n",
      "Epoch 54/200\n",
      "\u001b[1m64/64\u001b[0m \u001b[32m━━━━━━━━━━━━━━━━━━━━\u001b[0m\u001b[37m\u001b[0m \u001b[1m1s\u001b[0m 11ms/step - accuracy: 0.7525 - loss: 0.6329 - val_accuracy: 0.7308 - val_loss: 0.6731\n",
      "Epoch 55/200\n",
      "\u001b[1m64/64\u001b[0m \u001b[32m━━━━━━━━━━━━━━━━━━━━\u001b[0m\u001b[37m\u001b[0m \u001b[1m1s\u001b[0m 11ms/step - accuracy: 0.7558 - loss: 0.6319 - val_accuracy: 0.7347 - val_loss: 0.6691\n",
      "Epoch 56/200\n",
      "\u001b[1m64/64\u001b[0m \u001b[32m━━━━━━━━━━━━━━━━━━━━\u001b[0m\u001b[37m\u001b[0m \u001b[1m1s\u001b[0m 11ms/step - accuracy: 0.7560 - loss: 0.6250 - val_accuracy: 0.7385 - val_loss: 0.6690\n",
      "Epoch 57/200\n",
      "\u001b[1m64/64\u001b[0m \u001b[32m━━━━━━━━━━━━━━━━━━━━\u001b[0m\u001b[37m\u001b[0m \u001b[1m1s\u001b[0m 11ms/step - accuracy: 0.7565 - loss: 0.6200 - val_accuracy: 0.7400 - val_loss: 0.6675\n",
      "Epoch 58/200\n",
      "\u001b[1m64/64\u001b[0m \u001b[32m━━━━━━━━━━━━━━━━━━━━\u001b[0m\u001b[37m\u001b[0m \u001b[1m1s\u001b[0m 11ms/step - accuracy: 0.7613 - loss: 0.6121 - val_accuracy: 0.7399 - val_loss: 0.6649\n",
      "Epoch 59/200\n",
      "\u001b[1m64/64\u001b[0m \u001b[32m━━━━━━━━━━━━━━━━━━━━\u001b[0m\u001b[37m\u001b[0m \u001b[1m1s\u001b[0m 11ms/step - accuracy: 0.7548 - loss: 0.6257 - val_accuracy: 0.7410 - val_loss: 0.6637\n",
      "Epoch 60/200\n",
      "\u001b[1m64/64\u001b[0m \u001b[32m━━━━━━━━━━━━━━━━━━━━\u001b[0m\u001b[37m\u001b[0m \u001b[1m1s\u001b[0m 11ms/step - accuracy: 0.7614 - loss: 0.6113 - val_accuracy: 0.7383 - val_loss: 0.6699\n",
      "Epoch 61/200\n",
      "\u001b[1m64/64\u001b[0m \u001b[32m━━━━━━━━━━━━━━━━━━━━\u001b[0m\u001b[37m\u001b[0m \u001b[1m1s\u001b[0m 11ms/step - accuracy: 0.7609 - loss: 0.6109 - val_accuracy: 0.7375 - val_loss: 0.6663\n",
      "Epoch 62/200\n",
      "\u001b[1m64/64\u001b[0m \u001b[32m━━━━━━━━━━━━━━━━━━━━\u001b[0m\u001b[37m\u001b[0m \u001b[1m1s\u001b[0m 11ms/step - accuracy: 0.7666 - loss: 0.6024 - val_accuracy: 0.7390 - val_loss: 0.6605\n",
      "Epoch 63/200\n",
      "\u001b[1m64/64\u001b[0m \u001b[32m━━━━━━━━━━━━━━━━━━━━\u001b[0m\u001b[37m\u001b[0m \u001b[1m1s\u001b[0m 11ms/step - accuracy: 0.7641 - loss: 0.6018 - val_accuracy: 0.7439 - val_loss: 0.6594\n",
      "Epoch 64/200\n",
      "\u001b[1m64/64\u001b[0m \u001b[32m━━━━━━━━━━━━━━━━━━━━\u001b[0m\u001b[37m\u001b[0m \u001b[1m1s\u001b[0m 11ms/step - accuracy: 0.7625 - loss: 0.6104 - val_accuracy: 0.7375 - val_loss: 0.6690\n",
      "Epoch 65/200\n",
      "\u001b[1m64/64\u001b[0m \u001b[32m━━━━━━━━━━━━━━━━━━━━\u001b[0m\u001b[37m\u001b[0m \u001b[1m1s\u001b[0m 11ms/step - accuracy: 0.7617 - loss: 0.6090 - val_accuracy: 0.7408 - val_loss: 0.6557\n",
      "Epoch 66/200\n",
      "\u001b[1m64/64\u001b[0m \u001b[32m━━━━━━━━━━━━━━━━━━━━\u001b[0m\u001b[37m\u001b[0m \u001b[1m1s\u001b[0m 12ms/step - accuracy: 0.7638 - loss: 0.6002 - val_accuracy: 0.7347 - val_loss: 0.6736\n",
      "Epoch 67/200\n",
      "\u001b[1m64/64\u001b[0m \u001b[32m━━━━━━━━━━━━━━━━━━━━\u001b[0m\u001b[37m\u001b[0m \u001b[1m1s\u001b[0m 11ms/step - accuracy: 0.7643 - loss: 0.6008 - val_accuracy: 0.7419 - val_loss: 0.6672\n",
      "Epoch 68/200\n",
      "\u001b[1m64/64\u001b[0m \u001b[32m━━━━━━━━━━━━━━━━━━━━\u001b[0m\u001b[37m\u001b[0m \u001b[1m1s\u001b[0m 11ms/step - accuracy: 0.7668 - loss: 0.5914 - val_accuracy: 0.7399 - val_loss: 0.6613\n",
      "Epoch 69/200\n",
      "\u001b[1m64/64\u001b[0m \u001b[32m━━━━━━━━━━━━━━━━━━━━\u001b[0m\u001b[37m\u001b[0m \u001b[1m1s\u001b[0m 11ms/step - accuracy: 0.7686 - loss: 0.5934 - val_accuracy: 0.7372 - val_loss: 0.6623\n",
      "Epoch 70/200\n",
      "\u001b[1m64/64\u001b[0m \u001b[32m━━━━━━━━━━━━━━━━━━━━\u001b[0m\u001b[37m\u001b[0m \u001b[1m1s\u001b[0m 11ms/step - accuracy: 0.7709 - loss: 0.5958 - val_accuracy: 0.7404 - val_loss: 0.6553\n",
      "Epoch 71/200\n",
      "\u001b[1m64/64\u001b[0m \u001b[32m━━━━━━━━━━━━━━━━━━━━\u001b[0m\u001b[37m\u001b[0m \u001b[1m1s\u001b[0m 11ms/step - accuracy: 0.7718 - loss: 0.5902 - val_accuracy: 0.7389 - val_loss: 0.6647\n",
      "Epoch 72/200\n",
      "\u001b[1m64/64\u001b[0m \u001b[32m━━━━━━━━━━━━━━━━━━━━\u001b[0m\u001b[37m\u001b[0m \u001b[1m1s\u001b[0m 11ms/step - accuracy: 0.7711 - loss: 0.5924 - val_accuracy: 0.7426 - val_loss: 0.6628\n",
      "Epoch 73/200\n",
      "\u001b[1m64/64\u001b[0m \u001b[32m━━━━━━━━━━━━━━━━━━━━\u001b[0m\u001b[37m\u001b[0m \u001b[1m1s\u001b[0m 11ms/step - accuracy: 0.7752 - loss: 0.5873 - val_accuracy: 0.7405 - val_loss: 0.6605\n",
      "Epoch 74/200\n",
      "\u001b[1m64/64\u001b[0m \u001b[32m━━━━━━━━━━━━━━━━━━━━\u001b[0m\u001b[37m\u001b[0m \u001b[1m1s\u001b[0m 11ms/step - accuracy: 0.7697 - loss: 0.5887 - val_accuracy: 0.7381 - val_loss: 0.6629\n",
      "Epoch 75/200\n",
      "\u001b[1m64/64\u001b[0m \u001b[32m━━━━━━━━━━━━━━━━━━━━\u001b[0m\u001b[37m\u001b[0m \u001b[1m1s\u001b[0m 11ms/step - accuracy: 0.7722 - loss: 0.5900 - val_accuracy: 0.7414 - val_loss: 0.6690\n",
      "Epoch 76/200\n",
      "\u001b[1m64/64\u001b[0m \u001b[32m━━━━━━━━━━━━━━━━━━━━\u001b[0m\u001b[37m\u001b[0m \u001b[1m1s\u001b[0m 11ms/step - accuracy: 0.7730 - loss: 0.5839 - val_accuracy: 0.7425 - val_loss: 0.6585\n",
      "Epoch 77/200\n",
      "\u001b[1m64/64\u001b[0m \u001b[32m━━━━━━━━━━━━━━━━━━━━\u001b[0m\u001b[37m\u001b[0m \u001b[1m1s\u001b[0m 11ms/step - accuracy: 0.7714 - loss: 0.5878 - val_accuracy: 0.7399 - val_loss: 0.6618\n",
      "Epoch 78/200\n",
      "\u001b[1m64/64\u001b[0m \u001b[32m━━━━━━━━━━━━━━━━━━━━\u001b[0m\u001b[37m\u001b[0m \u001b[1m1s\u001b[0m 12ms/step - accuracy: 0.7754 - loss: 0.5819 - val_accuracy: 0.7426 - val_loss: 0.6649\n",
      "Epoch 79/200\n",
      "\u001b[1m64/64\u001b[0m \u001b[32m━━━━━━━━━━━━━━━━━━━━\u001b[0m\u001b[37m\u001b[0m \u001b[1m1s\u001b[0m 11ms/step - accuracy: 0.7742 - loss: 0.5784 - val_accuracy: 0.7416 - val_loss: 0.6578\n",
      "Epoch 80/200\n",
      "\u001b[1m64/64\u001b[0m \u001b[32m━━━━━━━━━━━━━━━━━━━━\u001b[0m\u001b[37m\u001b[0m \u001b[1m1s\u001b[0m 11ms/step - accuracy: 0.7751 - loss: 0.5778 - val_accuracy: 0.7448 - val_loss: 0.6579\n",
      "Epoch 80: early stopping\n",
      "Restoring model weights from the end of the best epoch: 70.\n"
     ]
    }
   ],
   "source": [
    "# Train the model\n",
    "hist_cnn = CNNmodel.fit(X_train, y_train_encoded, epochs=200, batch_size=500, validation_split=0.2, validation_data=(X_test, y_test_encoded), callbacks=[early_stopping_cnn])"
   ]
  },
  {
   "cell_type": "code",
   "execution_count": 56,
   "metadata": {},
   "outputs": [
    {
     "data": {
      "text/html": [
       "<pre style=\"white-space:pre;overflow-x:auto;line-height:normal;font-family:Menlo,'DejaVu Sans Mono',consolas,'Courier New',monospace\"><span style=\"font-weight: bold\">Model: \"sequential_1\"</span>\n",
       "</pre>\n"
      ],
      "text/plain": [
       "\u001b[1mModel: \"sequential_1\"\u001b[0m\n"
      ]
     },
     "metadata": {},
     "output_type": "display_data"
    },
    {
     "data": {
      "text/html": [
       "<pre style=\"white-space:pre;overflow-x:auto;line-height:normal;font-family:Menlo,'DejaVu Sans Mono',consolas,'Courier New',monospace\">┏━━━━━━━━━━━━━━━━━━━━━━━━━━━━━━━━━┳━━━━━━━━━━━━━━━━━━━━━━━━┳━━━━━━━━━━━━━━━┓\n",
       "┃<span style=\"font-weight: bold\"> Layer (type)                    </span>┃<span style=\"font-weight: bold\"> Output Shape           </span>┃<span style=\"font-weight: bold\">       Param # </span>┃\n",
       "┡━━━━━━━━━━━━━━━━━━━━━━━━━━━━━━━━━╇━━━━━━━━━━━━━━━━━━━━━━━━╇━━━━━━━━━━━━━━━┩\n",
       "│ reshape (<span style=\"color: #0087ff; text-decoration-color: #0087ff\">Reshape</span>)               │ (<span style=\"color: #00d7ff; text-decoration-color: #00d7ff\">None</span>, <span style=\"color: #00af00; text-decoration-color: #00af00\">200</span>, <span style=\"color: #00af00; text-decoration-color: #00af00\">1</span>)         │             <span style=\"color: #00af00; text-decoration-color: #00af00\">0</span> │\n",
       "├─────────────────────────────────┼────────────────────────┼───────────────┤\n",
       "│ conv1d (<span style=\"color: #0087ff; text-decoration-color: #0087ff\">Conv1D</span>)                 │ (<span style=\"color: #00d7ff; text-decoration-color: #00d7ff\">None</span>, <span style=\"color: #00af00; text-decoration-color: #00af00\">198</span>, <span style=\"color: #00af00; text-decoration-color: #00af00\">32</span>)        │           <span style=\"color: #00af00; text-decoration-color: #00af00\">128</span> │\n",
       "├─────────────────────────────────┼────────────────────────┼───────────────┤\n",
       "│ max_pooling1d (<span style=\"color: #0087ff; text-decoration-color: #0087ff\">MaxPooling1D</span>)    │ (<span style=\"color: #00d7ff; text-decoration-color: #00d7ff\">None</span>, <span style=\"color: #00af00; text-decoration-color: #00af00\">99</span>, <span style=\"color: #00af00; text-decoration-color: #00af00\">32</span>)         │             <span style=\"color: #00af00; text-decoration-color: #00af00\">0</span> │\n",
       "├─────────────────────────────────┼────────────────────────┼───────────────┤\n",
       "│ flatten_1 (<span style=\"color: #0087ff; text-decoration-color: #0087ff\">Flatten</span>)             │ (<span style=\"color: #00d7ff; text-decoration-color: #00d7ff\">None</span>, <span style=\"color: #00af00; text-decoration-color: #00af00\">3168</span>)           │             <span style=\"color: #00af00; text-decoration-color: #00af00\">0</span> │\n",
       "├─────────────────────────────────┼────────────────────────┼───────────────┤\n",
       "│ dense_3 (<span style=\"color: #0087ff; text-decoration-color: #0087ff\">Dense</span>)                 │ (<span style=\"color: #00d7ff; text-decoration-color: #00d7ff\">None</span>, <span style=\"color: #00af00; text-decoration-color: #00af00\">128</span>)            │       <span style=\"color: #00af00; text-decoration-color: #00af00\">405,632</span> │\n",
       "├─────────────────────────────────┼────────────────────────┼───────────────┤\n",
       "│ dropout_2 (<span style=\"color: #0087ff; text-decoration-color: #0087ff\">Dropout</span>)             │ (<span style=\"color: #00d7ff; text-decoration-color: #00d7ff\">None</span>, <span style=\"color: #00af00; text-decoration-color: #00af00\">128</span>)            │             <span style=\"color: #00af00; text-decoration-color: #00af00\">0</span> │\n",
       "├─────────────────────────────────┼────────────────────────┼───────────────┤\n",
       "│ dense_4 (<span style=\"color: #0087ff; text-decoration-color: #0087ff\">Dense</span>)                 │ (<span style=\"color: #00d7ff; text-decoration-color: #00d7ff\">None</span>, <span style=\"color: #00af00; text-decoration-color: #00af00\">64</span>)             │         <span style=\"color: #00af00; text-decoration-color: #00af00\">8,256</span> │\n",
       "├─────────────────────────────────┼────────────────────────┼───────────────┤\n",
       "│ dropout_3 (<span style=\"color: #0087ff; text-decoration-color: #0087ff\">Dropout</span>)             │ (<span style=\"color: #00d7ff; text-decoration-color: #00d7ff\">None</span>, <span style=\"color: #00af00; text-decoration-color: #00af00\">64</span>)             │             <span style=\"color: #00af00; text-decoration-color: #00af00\">0</span> │\n",
       "├─────────────────────────────────┼────────────────────────┼───────────────┤\n",
       "│ dense_5 (<span style=\"color: #0087ff; text-decoration-color: #0087ff\">Dense</span>)                 │ (<span style=\"color: #00d7ff; text-decoration-color: #00d7ff\">None</span>, <span style=\"color: #00af00; text-decoration-color: #00af00\">4</span>)              │           <span style=\"color: #00af00; text-decoration-color: #00af00\">260</span> │\n",
       "└─────────────────────────────────┴────────────────────────┴───────────────┘\n",
       "</pre>\n"
      ],
      "text/plain": [
       "┏━━━━━━━━━━━━━━━━━━━━━━━━━━━━━━━━━┳━━━━━━━━━━━━━━━━━━━━━━━━┳━━━━━━━━━━━━━━━┓\n",
       "┃\u001b[1m \u001b[0m\u001b[1mLayer (type)                   \u001b[0m\u001b[1m \u001b[0m┃\u001b[1m \u001b[0m\u001b[1mOutput Shape          \u001b[0m\u001b[1m \u001b[0m┃\u001b[1m \u001b[0m\u001b[1m      Param #\u001b[0m\u001b[1m \u001b[0m┃\n",
       "┡━━━━━━━━━━━━━━━━━━━━━━━━━━━━━━━━━╇━━━━━━━━━━━━━━━━━━━━━━━━╇━━━━━━━━━━━━━━━┩\n",
       "│ reshape (\u001b[38;5;33mReshape\u001b[0m)               │ (\u001b[38;5;45mNone\u001b[0m, \u001b[38;5;34m200\u001b[0m, \u001b[38;5;34m1\u001b[0m)         │             \u001b[38;5;34m0\u001b[0m │\n",
       "├─────────────────────────────────┼────────────────────────┼───────────────┤\n",
       "│ conv1d (\u001b[38;5;33mConv1D\u001b[0m)                 │ (\u001b[38;5;45mNone\u001b[0m, \u001b[38;5;34m198\u001b[0m, \u001b[38;5;34m32\u001b[0m)        │           \u001b[38;5;34m128\u001b[0m │\n",
       "├─────────────────────────────────┼────────────────────────┼───────────────┤\n",
       "│ max_pooling1d (\u001b[38;5;33mMaxPooling1D\u001b[0m)    │ (\u001b[38;5;45mNone\u001b[0m, \u001b[38;5;34m99\u001b[0m, \u001b[38;5;34m32\u001b[0m)         │             \u001b[38;5;34m0\u001b[0m │\n",
       "├─────────────────────────────────┼────────────────────────┼───────────────┤\n",
       "│ flatten_1 (\u001b[38;5;33mFlatten\u001b[0m)             │ (\u001b[38;5;45mNone\u001b[0m, \u001b[38;5;34m3168\u001b[0m)           │             \u001b[38;5;34m0\u001b[0m │\n",
       "├─────────────────────────────────┼────────────────────────┼───────────────┤\n",
       "│ dense_3 (\u001b[38;5;33mDense\u001b[0m)                 │ (\u001b[38;5;45mNone\u001b[0m, \u001b[38;5;34m128\u001b[0m)            │       \u001b[38;5;34m405,632\u001b[0m │\n",
       "├─────────────────────────────────┼────────────────────────┼───────────────┤\n",
       "│ dropout_2 (\u001b[38;5;33mDropout\u001b[0m)             │ (\u001b[38;5;45mNone\u001b[0m, \u001b[38;5;34m128\u001b[0m)            │             \u001b[38;5;34m0\u001b[0m │\n",
       "├─────────────────────────────────┼────────────────────────┼───────────────┤\n",
       "│ dense_4 (\u001b[38;5;33mDense\u001b[0m)                 │ (\u001b[38;5;45mNone\u001b[0m, \u001b[38;5;34m64\u001b[0m)             │         \u001b[38;5;34m8,256\u001b[0m │\n",
       "├─────────────────────────────────┼────────────────────────┼───────────────┤\n",
       "│ dropout_3 (\u001b[38;5;33mDropout\u001b[0m)             │ (\u001b[38;5;45mNone\u001b[0m, \u001b[38;5;34m64\u001b[0m)             │             \u001b[38;5;34m0\u001b[0m │\n",
       "├─────────────────────────────────┼────────────────────────┼───────────────┤\n",
       "│ dense_5 (\u001b[38;5;33mDense\u001b[0m)                 │ (\u001b[38;5;45mNone\u001b[0m, \u001b[38;5;34m4\u001b[0m)              │           \u001b[38;5;34m260\u001b[0m │\n",
       "└─────────────────────────────────┴────────────────────────┴───────────────┘\n"
      ]
     },
     "metadata": {},
     "output_type": "display_data"
    },
    {
     "data": {
      "text/html": [
       "<pre style=\"white-space:pre;overflow-x:auto;line-height:normal;font-family:Menlo,'DejaVu Sans Mono',consolas,'Courier New',monospace\"><span style=\"font-weight: bold\"> Total params: </span><span style=\"color: #00af00; text-decoration-color: #00af00\">1,242,830</span> (4.74 MB)\n",
       "</pre>\n"
      ],
      "text/plain": [
       "\u001b[1m Total params: \u001b[0m\u001b[38;5;34m1,242,830\u001b[0m (4.74 MB)\n"
      ]
     },
     "metadata": {},
     "output_type": "display_data"
    },
    {
     "data": {
      "text/html": [
       "<pre style=\"white-space:pre;overflow-x:auto;line-height:normal;font-family:Menlo,'DejaVu Sans Mono',consolas,'Courier New',monospace\"><span style=\"font-weight: bold\"> Trainable params: </span><span style=\"color: #00af00; text-decoration-color: #00af00\">414,276</span> (1.58 MB)\n",
       "</pre>\n"
      ],
      "text/plain": [
       "\u001b[1m Trainable params: \u001b[0m\u001b[38;5;34m414,276\u001b[0m (1.58 MB)\n"
      ]
     },
     "metadata": {},
     "output_type": "display_data"
    },
    {
     "data": {
      "text/html": [
       "<pre style=\"white-space:pre;overflow-x:auto;line-height:normal;font-family:Menlo,'DejaVu Sans Mono',consolas,'Courier New',monospace\"><span style=\"font-weight: bold\"> Non-trainable params: </span><span style=\"color: #00af00; text-decoration-color: #00af00\">0</span> (0.00 B)\n",
       "</pre>\n"
      ],
      "text/plain": [
       "\u001b[1m Non-trainable params: \u001b[0m\u001b[38;5;34m0\u001b[0m (0.00 B)\n"
      ]
     },
     "metadata": {},
     "output_type": "display_data"
    },
    {
     "data": {
      "text/html": [
       "<pre style=\"white-space:pre;overflow-x:auto;line-height:normal;font-family:Menlo,'DejaVu Sans Mono',consolas,'Courier New',monospace\"><span style=\"font-weight: bold\"> Optimizer params: </span><span style=\"color: #00af00; text-decoration-color: #00af00\">828,554</span> (3.16 MB)\n",
       "</pre>\n"
      ],
      "text/plain": [
       "\u001b[1m Optimizer params: \u001b[0m\u001b[38;5;34m828,554\u001b[0m (3.16 MB)\n"
      ]
     },
     "metadata": {},
     "output_type": "display_data"
    },
    {
     "data": {
      "text/plain": [
       "[]"
      ]
     },
     "execution_count": 56,
     "metadata": {},
     "output_type": "execute_result"
    },
    {
     "data": {
      "image/png": "[encoded data removed]",
      "text/plain": [
       "<Figure size 640x480 with 1 Axes>"
      ]
     },
     "metadata": {},
     "output_type": "display_data"
    }
   ],
   "source": [
    "CNNmodel.summary()\n",
    "\n",
    "acc_cnn = hist_cnn.history['accuracy']\n",
    "val_cnn = hist_cnn.history['val_accuracy']\n",
    "epochs_cnn = range(1, len(acc_cnn) + 1)\n",
    "\n",
    "plt.plot(epochs_cnn, acc_cnn, '-', label='Training accuracy')\n",
    "plt.plot(epochs_cnn, val_cnn, ':', label='Validation accuracy')\n",
    "plt.title('Training and Validation Accuracy: CNN')\n",
    "plt.xlabel('Epoch')\n",
    "plt.ylabel('Accuracy')\n",
    "plt.legend(loc='lower right')\n",
    "plt.plot()"
   ]
  },
  {
   "cell_type": "code",
   "execution_count": 57,
   "metadata": {},
   "outputs": [
    {
     "name": "stdout",
     "output_type": "stream",
     "text": [
      "\u001b[1m250/250\u001b[0m \u001b[32m━━━━━━━━━━━━━━━━━━━━\u001b[0m\u001b[37m\u001b[0m \u001b[1m0s\u001b[0m 697us/step\n",
      "The accuracy is 0.740375\n",
      "The confusion matrix \n",
      "['ELSE', 'ENTERTAINMENT', 'POLITICS', 'WELLNESS'] is \n",
      "[[1078  316  275  331]\n",
      " [ 276 1499  143   82]\n",
      " [ 203   66 1688   43]\n",
      " [ 261   47   34 1658]]\n",
      "F1 Score when we treat ELSE as negative: 0.8635692004596947\n",
      "F1 Score for everclass: \n",
      "['ELSE', 'ENTERTAINMENT', 'POLITICS', 'WELLNESS'] \n",
      "[0.56469356 0.76323829 0.81545894 0.8060282 ]\n"
     ]
    },
    {
     "name": "stderr",
     "output_type": "stream",
     "text": [
      "/var/folders/l_/txq0vh11623_5lrnfw_cpmsh0000gn/T/ipykernel_3591/2370515181.py:4: FutureWarning: Series.__getitem__ treating keys as positions is deprecated. In a future version, integer keys will always be treated as labels (consistent with DataFrame behavior). To access a value by position, use `ser.iloc[pos]`\n",
      "  results = {'index': misclassified_idx, 'true': y_test[misclassified_idx], 'pred': y_pred[misclassified_idx], 'headline': sampled_test['headline_summary_tokenized'].iloc[misclassified_idx].apply(lambda x: ' '.join(x))}\n"
     ]
    }
   ],
   "source": [
    "y_pred_CNN_encoded = np.argmax(CNNmodel.predict(X_test), axis=1)\n",
    "y_pred_CNN = label_encoder.inverse_transform(y_pred_CNN_encoded)\n",
    "\n",
    "get_accuracy(y_test, y_pred_CNN)\n",
    "mis_CNN = get_misclassified_samples(y_test, y_pred_CNN)"
   ]
  },
  {
   "cell_type": "code",
   "execution_count": 58,
   "metadata": {},
   "outputs": [],
   "source": [
    "mis_CNN.rename(columns={'index': 'index_CNN'}, inplace=True)\n",
    "\n",
    "misclassified = pd.concat([misclassified, mis_CNN['index_CNN']], axis=1)"
   ]
  },
  {
   "cell_type": "markdown",
   "metadata": {},
   "source": [
    "The common indices of CNN and NN:"
   ]
  },
  {
   "cell_type": "code",
   "execution_count": null,
   "metadata": {},
   "outputs": [],
   "source": [
    "common_indes = np.intersect1d(mis_NN['index'], mis_CNN['index'])"
   ]
  },
  {
   "cell_type": "code",
   "execution_count": null,
   "metadata": {},
   "outputs": [],
   "source": [
    "common_indes\n",
    "print(f\"The common percentage is {len(common_indes)/len(mis_NN)*100}%, and {len(common_indes)/len(mis_CNN)*100}%\")"
   ]
  },
  {
   "cell_type": "markdown",
   "metadata": {},
   "source": [
    "#### Use RNN model (LSTM)"
   ]
  },
  {
   "cell_type": "code",
   "execution_count": null,
   "metadata": {},
   "outputs": [],
   "source": [
    "# Define the early stopping callback\n",
    "early_stopping_RNN = keras.callbacks.EarlyStopping(monitor = 'val_loss', patience=10, restore_best_weights=True, min_delta=0.00001, verbose=1)"
   ]
  },
  {
   "cell_type": "code",
   "execution_count": null,
   "metadata": {},
   "outputs": [],
   "source": [
    "# The RNN model\n",
    "\n",
    "RNN_model = keras.models.Sequential()\n",
    "\n",
    "# Add a reshape layer\n",
    "RNN_model.add(keras.layers.Reshape((X_train.shape[1], 1), input_shape=(X_train.shape[1],)))\n",
    "\n",
    "# Add an bidirectional LSTM layer\n",
    "RNN_model.add(keras.layers.Bidirectional(keras.layers.LSTM(units = 64, return_sequences=True, dropout=0.0, recurrent_dropout=0.0)))\n",
    "\n",
    "# Add another bidirectional LSTM layer\n",
    "RNN_model.add(keras.layers.Bidirectional(keras.layers.LSTM(units = 32, return_sequences=False, dropout=0.0, recurrent_dropout=0.0)))\n",
    "\n",
    "# Add the dense layers\n",
    "RNN_model.add(keras.layers.Dense(64, activation='relu'))\n",
    "#RNN_model.add(keras.layers.Dropout(0.4))\n",
    "#RNN_model.add(keras.layers.Dense(64, activation='relu'))\n",
    "#RNN_model.add(keras.layers.Dropout(0.3))\n",
    "# Add the output layer\n",
    "RNN_model.add(keras.layers.Dense(4, activation='softmax'))\n",
    "\n",
    "# Compile the model\n",
    "RNN_model.compile(optimizer='adam', loss='categorical_crossentropy', metrics=['accuracy'])\n",
    "\n",
    "RNN_model.summary()"
   ]
  },
  {
   "cell_type": "code",
   "execution_count": null,
   "metadata": {},
   "outputs": [],
   "source": [
    "# Train the model\n",
    "\n",
    "hist_RNN = RNN_model.fit(X_train, y_train_encoded, epochs=200, batch_size=100, validation_split=0.2, validation_data=(X_test, y_test_encoded), callbacks=[early_stopping_RNN])"
   ]
  },
  {
   "cell_type": "code",
   "execution_count": null,
   "metadata": {},
   "outputs": [],
   "source": [
    "RNN_model.summary()\n",
    "\n",
    "acc_RNN = hist_RNN.history['accuracy']\n",
    "val_RNN = hist_RNN.history['val_accuracy']\n",
    "epochs_RNN = range(1, len(acc_RNN) + 1)\n",
    "\n",
    "plt.plot(epochs_RNN, acc_RNN, '-', label='Training accuracy')\n",
    "plt.plot(epochs_RNN, val_RNN, ':', label='Validation accuracy')\n",
    "plt.title('Training and Validation Accuracy: RNN')\n",
    "plt.xlabel('Epoch')\n",
    "plt.ylabel('Accuracy')\n",
    "plt.legend(loc='lower right')\n",
    "plt.plot()"
   ]
  },
  {
   "cell_type": "code",
   "execution_count": null,
   "metadata": {},
   "outputs": [],
   "source": [
    "y_pred_RNN_encoded = np.argmax(RNN_model.predict(X_test), axis=1)\n",
    "y_pred_RNN = label_encoder.inverse_transform(y_pred_RNN_encoded)\n",
    "\n",
    "get_accuracy(y_test, y_pred_RNN)\n",
    "mis_RNN = get_misclassified_samples(y_test, y_pred_RNN)"
   ]
  },
  {
   "cell_type": "markdown",
   "metadata": {},
   "source": [
    "Maybe instead of using TF-IDF, we can use the word2vec embedding since we do not need to specify the siginificance of each words anymore."
   ]
  },
  {
   "cell_type": "markdown",
   "metadata": {},
   "source": [
    "### 9: Ensemble"
   ]
  },
  {
   "cell_type": "markdown",
   "metadata": {},
   "source": [
    "#### Analyze the misclassified samples"
   ]
  },
  {
   "cell_type": "code",
   "execution_count": 59,
   "metadata": {},
   "outputs": [],
   "source": [
    "# Return the unclassified samples by any of the model\n",
    "complete_mask = misclassified.notna().all(axis=1)\n",
    "\n",
    "unclassified = misclassified[complete_mask]"
   ]
  },
  {
   "cell_type": "code",
   "execution_count": 60,
   "metadata": {},
   "outputs": [
    {
     "data": {
      "text/plain": [
       "542"
      ]
     },
     "execution_count": 60,
     "metadata": {},
     "output_type": "execute_result"
    }
   ],
   "source": [
    "len(unclassified)"
   ]
  },
  {
   "cell_type": "code",
   "execution_count": 61,
   "metadata": {},
   "outputs": [
    {
     "data": {
      "text/plain": [
       "category        \n",
       "ELSE      24175     [ ' 1 0 ' ,   ' t o x i c ' ,   ' p e o p l e ...\n",
       "          57370     [ ' t e l e v i s i o n ' ,   ' a c a d e m y ...\n",
       "          140885    [ ' f o o d ' ,   ' p o e m ' ,   ' b e s t ' ...\n",
       "POLITICS  74271     [ ' k i m ' ,   ' d a v i s ' ,   ' l o s e s ...\n",
       "ELSE      130515    [ ' f e a r ' ,   ' g o i n g ' ,   ' b e t t ...\n",
       "Name: headline, dtype: object"
      ]
     },
     "execution_count": 61,
     "metadata": {},
     "output_type": "execute_result"
    }
   ],
   "source": [
    "unclassified_token = mis_XGB['headline'].loc[complete_mask]\n",
    "unclassified_token.head()"
   ]
  },
  {
   "cell_type": "code",
   "execution_count": 62,
   "metadata": {},
   "outputs": [
    {
     "data": {
      "text/plain": [
       "\"[ ' t e l e v i s i o n ' ,   ' a c a d e m y ' ,   ' s u e ' ,   ' b l o c k ' ,   ' s a l e ' ,   ' w h i t n e y ' ,   ' h o u s t o n ' ,   ' e m m y ' ,   ' t e l e v i s i o n ' ,   ' a c a d e m y ' ,   ' s u i n g ' ,   ' s t o p ' ,   ' w h i t n e y ' ,   ' h o u s t o n ' ,   ' h e i r ' ,   ' s e l l i n g ' ,   ' e m m y ' ,   ' s t a t u e t t e ' ,   ' s a l e ' ,   ' w o u l d ' ,   ' t a r n i s h ' ]\""
      ]
     },
     "execution_count": 62,
     "metadata": {},
     "output_type": "execute_result"
    }
   ],
   "source": [
    "unclassified_token.iloc[1]"
   ]
  },
  {
   "cell_type": "markdown",
   "metadata": {},
   "source": [
    "The category for this headline is blurred. Even humans cannot get the category correctly.\n",
    "\n",
    "On the other hand, the `Else` category contains some similar categories to the remaining three. We just brutally threw them away. To refine the classifier, it is important to merge all these simlar categories and then do the classification."
   ]
  },
  {
   "cell_type": "code",
   "execution_count": 63,
   "metadata": {},
   "outputs": [
    {
     "data": {
      "text/html": [
       "<div>\n",
       "<style scoped>\n",
       "    .dataframe tbody tr th:only-of-type {\n",
       "        vertical-align: middle;\n",
       "    }\n",
       "\n",
       "    .dataframe tbody tr th {\n",
       "        vertical-align: top;\n",
       "    }\n",
       "\n",
       "    .dataframe thead th {\n",
       "        text-align: right;\n",
       "    }\n",
       "</style>\n",
       "<table border=\"1\" class=\"dataframe\">\n",
       "  <thead>\n",
       "    <tr style=\"text-align: right;\">\n",
       "      <th></th>\n",
       "      <th></th>\n",
       "      <th>index_KNN</th>\n",
       "      <th>index_SVM</th>\n",
       "      <th>index_log</th>\n",
       "      <th>index_NB</th>\n",
       "      <th>index_RF</th>\n",
       "      <th>index_LDA</th>\n",
       "      <th>index_QDA</th>\n",
       "      <th>index_GB</th>\n",
       "      <th>index_XGB</th>\n",
       "      <th>index_NN</th>\n",
       "      <th>index_CNN</th>\n",
       "    </tr>\n",
       "  </thead>\n",
       "  <tbody>\n",
       "    <tr>\n",
       "      <th>ENTERTAINMENT</th>\n",
       "      <th>541</th>\n",
       "      <td>1</td>\n",
       "      <td>0</td>\n",
       "      <td>0</td>\n",
       "      <td>0</td>\n",
       "      <td>1</td>\n",
       "      <td>0</td>\n",
       "      <td>0</td>\n",
       "      <td>0</td>\n",
       "      <td>0</td>\n",
       "      <td>0</td>\n",
       "      <td>0</td>\n",
       "    </tr>\n",
       "    <tr>\n",
       "      <th rowspan=\"3\" valign=\"top\">ELSE</th>\n",
       "      <th>71019</th>\n",
       "      <td>1</td>\n",
       "      <td>1</td>\n",
       "      <td>1</td>\n",
       "      <td>1</td>\n",
       "      <td>0</td>\n",
       "      <td>1</td>\n",
       "      <td>1</td>\n",
       "      <td>0</td>\n",
       "      <td>0</td>\n",
       "      <td>1</td>\n",
       "      <td>1</td>\n",
       "    </tr>\n",
       "    <tr>\n",
       "      <th>24175</th>\n",
       "      <td>1</td>\n",
       "      <td>1</td>\n",
       "      <td>1</td>\n",
       "      <td>1</td>\n",
       "      <td>1</td>\n",
       "      <td>1</td>\n",
       "      <td>1</td>\n",
       "      <td>1</td>\n",
       "      <td>1</td>\n",
       "      <td>1</td>\n",
       "      <td>1</td>\n",
       "    </tr>\n",
       "    <tr>\n",
       "      <th>57370</th>\n",
       "      <td>1</td>\n",
       "      <td>1</td>\n",
       "      <td>1</td>\n",
       "      <td>1</td>\n",
       "      <td>1</td>\n",
       "      <td>1</td>\n",
       "      <td>1</td>\n",
       "      <td>1</td>\n",
       "      <td>1</td>\n",
       "      <td>1</td>\n",
       "      <td>1</td>\n",
       "    </tr>\n",
       "    <tr>\n",
       "      <th>POLITICS</th>\n",
       "      <th>26459</th>\n",
       "      <td>1</td>\n",
       "      <td>1</td>\n",
       "      <td>1</td>\n",
       "      <td>1</td>\n",
       "      <td>1</td>\n",
       "      <td>1</td>\n",
       "      <td>1</td>\n",
       "      <td>0</td>\n",
       "      <td>0</td>\n",
       "      <td>1</td>\n",
       "      <td>1</td>\n",
       "    </tr>\n",
       "  </tbody>\n",
       "</table>\n",
       "</div>"
      ],
      "text/plain": [
       "                     index_KNN  index_SVM  index_log  index_NB  index_RF  \\\n",
       "ENTERTAINMENT 541            1          0          0         0         1   \n",
       "ELSE          71019          1          1          1         1         0   \n",
       "              24175          1          1          1         1         1   \n",
       "              57370          1          1          1         1         1   \n",
       "POLITICS      26459          1          1          1         1         1   \n",
       "\n",
       "                     index_LDA  index_QDA  index_GB  index_XGB  index_NN  \\\n",
       "ENTERTAINMENT 541            0          0         0          0         0   \n",
       "ELSE          71019          1          1         0          0         1   \n",
       "              24175          1          1         1          1         1   \n",
       "              57370          1          1         1          1         1   \n",
       "POLITICS      26459          1          1         0          0         1   \n",
       "\n",
       "                     index_CNN  \n",
       "ENTERTAINMENT 541            0  \n",
       "ELSE          71019          1  \n",
       "              24175          1  \n",
       "              57370          1  \n",
       "POLITICS      26459          1  "
      ]
     },
     "execution_count": 63,
     "metadata": {},
     "output_type": "execute_result"
    }
   ],
   "source": [
    "# Analyze the similarity of classification of two models\n",
    "binary_misclassified = misclassified.notna().astype(int)\n",
    "\n",
    "binary_misclassified.head()"
   ]
  },
  {
   "cell_type": "code",
   "execution_count": 64,
   "metadata": {},
   "outputs": [],
   "source": [
    "# calculate the hamming distance between two models\n",
    "def hamming_distance(col1, col2):\n",
    "    differences = sum(a != b for a, b in zip(col1, col2))\n",
    "    return 1-differences/len(col1)\n",
    "\n",
    "hamming_similarity_matrix = pd.DataFrame(index=binary_misclassified.columns, columns=binary_misclassified.columns)\n",
    "\n",
    "for col1 in binary_misclassified.columns:\n",
    "    for col2 in binary_misclassified.columns:\n",
    "        hamming_similarity_matrix.loc[col1, col2] = hamming_distance(binary_misclassified[col1], binary_misclassified[col2])"
   ]
  },
  {
   "cell_type": "code",
   "execution_count": 65,
   "metadata": {},
   "outputs": [
    {
     "data": {
      "text/html": [
       "<div>\n",
       "<style scoped>\n",
       "    .dataframe tbody tr th:only-of-type {\n",
       "        vertical-align: middle;\n",
       "    }\n",
       "\n",
       "    .dataframe tbody tr th {\n",
       "        vertical-align: top;\n",
       "    }\n",
       "\n",
       "    .dataframe thead th {\n",
       "        text-align: right;\n",
       "    }\n",
       "</style>\n",
       "<table border=\"1\" class=\"dataframe\">\n",
       "  <thead>\n",
       "    <tr style=\"text-align: right;\">\n",
       "      <th></th>\n",
       "      <th>index_KNN</th>\n",
       "      <th>index_SVM</th>\n",
       "      <th>index_log</th>\n",
       "      <th>index_NB</th>\n",
       "      <th>index_RF</th>\n",
       "      <th>index_LDA</th>\n",
       "      <th>index_QDA</th>\n",
       "      <th>index_GB</th>\n",
       "      <th>index_XGB</th>\n",
       "      <th>index_NN</th>\n",
       "      <th>index_CNN</th>\n",
       "    </tr>\n",
       "  </thead>\n",
       "  <tbody>\n",
       "    <tr>\n",
       "      <th>index_KNN</th>\n",
       "      <td>1.0</td>\n",
       "      <td>0.57578</td>\n",
       "      <td>0.538447</td>\n",
       "      <td>0.613299</td>\n",
       "      <td>0.429421</td>\n",
       "      <td>0.524517</td>\n",
       "      <td>0.44075</td>\n",
       "      <td>0.448366</td>\n",
       "      <td>0.43815</td>\n",
       "      <td>0.487184</td>\n",
       "      <td>0.477526</td>\n",
       "    </tr>\n",
       "    <tr>\n",
       "      <th>index_SVM</th>\n",
       "      <td>0.57578</td>\n",
       "      <td>1.0</td>\n",
       "      <td>0.895431</td>\n",
       "      <td>0.761887</td>\n",
       "      <td>0.630386</td>\n",
       "      <td>0.820951</td>\n",
       "      <td>0.656204</td>\n",
       "      <td>0.688336</td>\n",
       "      <td>0.682949</td>\n",
       "      <td>0.77916</td>\n",
       "      <td>0.757244</td>\n",
       "    </tr>\n",
       "    <tr>\n",
       "      <th>index_log</th>\n",
       "      <td>0.538447</td>\n",
       "      <td>0.895431</td>\n",
       "      <td>1.0</td>\n",
       "      <td>0.753529</td>\n",
       "      <td>0.656575</td>\n",
       "      <td>0.803306</td>\n",
       "      <td>0.711367</td>\n",
       "      <td>0.71081</td>\n",
       "      <td>0.708767</td>\n",
       "      <td>0.826152</td>\n",
       "      <td>0.789747</td>\n",
       "    </tr>\n",
       "    <tr>\n",
       "      <th>index_NB</th>\n",
       "      <td>0.613299</td>\n",
       "      <td>0.761887</td>\n",
       "      <td>0.753529</td>\n",
       "      <td>1.0</td>\n",
       "      <td>0.614413</td>\n",
       "      <td>0.656018</td>\n",
       "      <td>0.656947</td>\n",
       "      <td>0.628529</td>\n",
       "      <td>0.626114</td>\n",
       "      <td>0.707467</td>\n",
       "      <td>0.696694</td>\n",
       "    </tr>\n",
       "    <tr>\n",
       "      <th>index_RF</th>\n",
       "      <td>0.429421</td>\n",
       "      <td>0.630386</td>\n",
       "      <td>0.656575</td>\n",
       "      <td>0.614413</td>\n",
       "      <td>1.0</td>\n",
       "      <td>0.625186</td>\n",
       "      <td>0.57448</td>\n",
       "      <td>0.821322</td>\n",
       "      <td>0.822994</td>\n",
       "      <td>0.731612</td>\n",
       "      <td>0.744242</td>\n",
       "    </tr>\n",
       "    <tr>\n",
       "      <th>index_LDA</th>\n",
       "      <td>0.524517</td>\n",
       "      <td>0.820951</td>\n",
       "      <td>0.803306</td>\n",
       "      <td>0.656018</td>\n",
       "      <td>0.625186</td>\n",
       "      <td>1.0</td>\n",
       "      <td>0.634287</td>\n",
       "      <td>0.699851</td>\n",
       "      <td>0.681092</td>\n",
       "      <td>0.769502</td>\n",
       "      <td>0.722325</td>\n",
       "    </tr>\n",
       "    <tr>\n",
       "      <th>index_QDA</th>\n",
       "      <td>0.44075</td>\n",
       "      <td>0.656204</td>\n",
       "      <td>0.711367</td>\n",
       "      <td>0.656947</td>\n",
       "      <td>0.57448</td>\n",
       "      <td>0.634287</td>\n",
       "      <td>1.0</td>\n",
       "      <td>0.594168</td>\n",
       "      <td>0.596954</td>\n",
       "      <td>0.689822</td>\n",
       "      <td>0.656018</td>\n",
       "    </tr>\n",
       "    <tr>\n",
       "      <th>index_GB</th>\n",
       "      <td>0.448366</td>\n",
       "      <td>0.688336</td>\n",
       "      <td>0.71081</td>\n",
       "      <td>0.628529</td>\n",
       "      <td>0.821322</td>\n",
       "      <td>0.699851</td>\n",
       "      <td>0.594168</td>\n",
       "      <td>1.0</td>\n",
       "      <td>0.894688</td>\n",
       "      <td>0.787704</td>\n",
       "      <td>0.793648</td>\n",
       "    </tr>\n",
       "    <tr>\n",
       "      <th>index_XGB</th>\n",
       "      <td>0.43815</td>\n",
       "      <td>0.682949</td>\n",
       "      <td>0.708767</td>\n",
       "      <td>0.626114</td>\n",
       "      <td>0.822994</td>\n",
       "      <td>0.681092</td>\n",
       "      <td>0.596954</td>\n",
       "      <td>0.894688</td>\n",
       "      <td>1.0</td>\n",
       "      <td>0.783432</td>\n",
       "      <td>0.78789</td>\n",
       "    </tr>\n",
       "    <tr>\n",
       "      <th>index_NN</th>\n",
       "      <td>0.487184</td>\n",
       "      <td>0.77916</td>\n",
       "      <td>0.826152</td>\n",
       "      <td>0.707467</td>\n",
       "      <td>0.731612</td>\n",
       "      <td>0.769502</td>\n",
       "      <td>0.689822</td>\n",
       "      <td>0.787704</td>\n",
       "      <td>0.783432</td>\n",
       "      <td>1.0</td>\n",
       "      <td>0.864413</td>\n",
       "    </tr>\n",
       "    <tr>\n",
       "      <th>index_CNN</th>\n",
       "      <td>0.477526</td>\n",
       "      <td>0.757244</td>\n",
       "      <td>0.789747</td>\n",
       "      <td>0.696694</td>\n",
       "      <td>0.744242</td>\n",
       "      <td>0.722325</td>\n",
       "      <td>0.656018</td>\n",
       "      <td>0.793648</td>\n",
       "      <td>0.78789</td>\n",
       "      <td>0.864413</td>\n",
       "      <td>1.0</td>\n",
       "    </tr>\n",
       "  </tbody>\n",
       "</table>\n",
       "</div>"
      ],
      "text/plain": [
       "          index_KNN index_SVM index_log  index_NB  index_RF index_LDA  \\\n",
       "index_KNN       1.0   0.57578  0.538447  0.613299  0.429421  0.524517   \n",
       "index_SVM   0.57578       1.0  0.895431  0.761887  0.630386  0.820951   \n",
       "index_log  0.538447  0.895431       1.0  0.753529  0.656575  0.803306   \n",
       "index_NB   0.613299  0.761887  0.753529       1.0  0.614413  0.656018   \n",
       "index_RF   0.429421  0.630386  0.656575  0.614413       1.0  0.625186   \n",
       "index_LDA  0.524517  0.820951  0.803306  0.656018  0.625186       1.0   \n",
       "index_QDA   0.44075  0.656204  0.711367  0.656947   0.57448  0.634287   \n",
       "index_GB   0.448366  0.688336   0.71081  0.628529  0.821322  0.699851   \n",
       "index_XGB   0.43815  0.682949  0.708767  0.626114  0.822994  0.681092   \n",
       "index_NN   0.487184   0.77916  0.826152  0.707467  0.731612  0.769502   \n",
       "index_CNN  0.477526  0.757244  0.789747  0.696694  0.744242  0.722325   \n",
       "\n",
       "          index_QDA  index_GB index_XGB  index_NN index_CNN  \n",
       "index_KNN   0.44075  0.448366   0.43815  0.487184  0.477526  \n",
       "index_SVM  0.656204  0.688336  0.682949   0.77916  0.757244  \n",
       "index_log  0.711367   0.71081  0.708767  0.826152  0.789747  \n",
       "index_NB   0.656947  0.628529  0.626114  0.707467  0.696694  \n",
       "index_RF    0.57448  0.821322  0.822994  0.731612  0.744242  \n",
       "index_LDA  0.634287  0.699851  0.681092  0.769502  0.722325  \n",
       "index_QDA       1.0  0.594168  0.596954  0.689822  0.656018  \n",
       "index_GB   0.594168       1.0  0.894688  0.787704  0.793648  \n",
       "index_XGB  0.596954  0.894688       1.0  0.783432   0.78789  \n",
       "index_NN   0.689822  0.787704  0.783432       1.0  0.864413  \n",
       "index_CNN  0.656018  0.793648   0.78789  0.864413       1.0  "
      ]
     },
     "execution_count": 65,
     "metadata": {},
     "output_type": "execute_result"
    }
   ],
   "source": [
    "hamming_similarity_matrix"
   ]
  },
  {
   "cell_type": "markdown",
   "metadata": {},
   "source": [
    "Now the precision:\n",
    "\n",
    "- KNN: 54%\n",
    "- SVM: 70%\n",
    "- LOG: 70%\n",
    "- NB: 64%\n",
    "- RF: 74%\n",
    "- LDA: 69%\n",
    "- QDA: 63%\n",
    "- GB: 77%\n",
    "- XGB: 77%\n",
    "- NN: 74%\n",
    "- CNN: 74%\n",
    "\n",
    "Based on these information, we should try to use models where the hamming distance is small and itself the precision is high.\n",
    "\n",
    "So we choose: Logistic, RandomForest, XGB, CNN for a voting classifier."
   ]
  },
  {
   "cell_type": "markdown",
   "metadata": {},
   "source": [
    "#### Building a Voting classifier"
   ]
  },
  {
   "cell_type": "markdown",
   "metadata": {},
   "source": [
    "Since we have different classifiers using different shape of data and API, we will make a customized classifier"
   ]
  },
  {
   "cell_type": "code",
   "execution_count": 66,
   "metadata": {},
   "outputs": [],
   "source": [
    "\n",
    "class customized_voting_classifier:\n",
    "    def __init__(self, X_train):\n",
    "        self.log = LogisticRegression(C=1000, solver='newton-cg')\n",
    "        self.rf = RandomForestClassifier(n_estimators=700, max_depth=200)\n",
    "        self.xgb = XGBClassifier(learning_rate=0.1, max_depth = 10, n_estimators = 500)\n",
    "        self.cnn = keras.models.Sequential()\n",
    "        # Add an additional dimension to the data for the convolutional layer\n",
    "        self.cnn.add(keras.layers.Reshape((X_train.shape[1], 1), input_shape=(X_train.shape[1],)))\n",
    "\n",
    "        # Add the convolutional layer\n",
    "        self.cnn.add(keras.layers.Conv1D(filters=32, kernel_size=3, activation='relu'))\n",
    "\n",
    "        # Add the max pooling layer\n",
    "        self.cnn.add(keras.layers.MaxPooling1D(pool_size=2))\n",
    "\n",
    "        # Flatten the output\n",
    "        self.cnn.add(keras.layers.Flatten())\n",
    "\n",
    "        # Add the dense layers\n",
    "        self.cnn.add(keras.layers.Dense(128, activation='relu'))\n",
    "        self.cnn.add(keras.layers.Dropout(0.4))\n",
    "        self.cnn.add(keras.layers.Dense(64, activation='relu'))\n",
    "        self.cnn.add(keras.layers.Dropout(0.3))\n",
    "        self.cnn.add(keras.layers.Dense(4, activation='softmax'))\n",
    "\n",
    "        self.cnn.compile(optimizer='adam', loss='categorical_crossentropy', metrics=['accuracy'])\n",
    "\n",
    "        # Lable encoder\n",
    "        self.label_encoder = LabelEncoder()\n",
    "\n",
    "    def fit(self, X_train, y_train):\n",
    "        print(\"Start to train the models: Logistic\")\n",
    "        self.log.fit(X_train, y_train)\n",
    "        print(\"Logistic Regression has been trained\")\n",
    "        print(\"Start to train the models: Random Forest\")\n",
    "        self.rf.fit(X_train, y_train)\n",
    "        print(\"Random Forest has been trained\")\n",
    "        # Encode the labels\n",
    "        y_train_encoded = self.label_encoder.fit_transform(y_train)\n",
    "        \n",
    "\n",
    "        # One-hot encode the labels\n",
    "        y_train_encoded_cnn = keras.utils.to_categorical(y_train_encoded, num_classes=4)\n",
    "       \n",
    "        print(\"Start to train the models: XGBoost\")\n",
    "        self.xgb.fit(X_train, y_train_encoded)\n",
    "        print(\"XGBoost has been trained\")\n",
    "        # Early stopping\n",
    "        print(\"Start to train the models: CNN\")\n",
    "        early_stopping_cnn = keras.callbacks.EarlyStopping(monitor = 'val_loss', patience=10, restore_best_weights=True, min_delta=0.0001, verbose=1)\n",
    "        self.cnn.fit(X_train, y_train_encoded_cnn, epochs=200, batch_size=500, validation_split=0.2, callbacks=[early_stopping_cnn], verbose=1)\n",
    "        print(\"CNN has been trained\")\n",
    "\n",
    "    def predict(self, X_test, arg = \"soft\", weights = [0.1, 0.2, 0.4, 0.3]):\n",
    "        # print(f\"The accuracy for Logistic Regression is {accuracy_score(y_test, self.log.predict(X_test))}\")\n",
    "        # print(f\"The accuracy for Random Forest is {accuracy_score(y_test, self.rf.predict(X_test))}\")\n",
    "        # print(f\"The accuracy for XGBoost is {accuracy_score(y_test, self.label_encoder.inverse_transform(self.xgb.predict(X_test)))}\")\n",
    "        # print(f\"The accuracy for CNN is {accuracy_score(y_test, self.label_encoder.inverse_transform(np.argmax(self.cnn.predict(X_test), axis=1)))}\")\n",
    "        ##############################\n",
    "        if arg == \"soft\":\n",
    "            log_prob = self.log.predict_proba(X_test)\n",
    "            rf_prob = self.rf.predict_proba(X_test)\n",
    "            xgb_prob = self.xgb.predict_proba(X_test)\n",
    "            cnn_prob = self.cnn.predict(X_test)\n",
    "\n",
    "            weight = weights\n",
    "\n",
    "            average_prob = log_prob*weight[0] + rf_prob*weight[1] + xgb_prob*weight[2] + cnn_prob*weight[3]\n",
    "\n",
    "            y_pred = self.label_encoder.inverse_transform(np.argmax(average_prob, axis=1))\n",
    "        elif arg == \"hard\":\n",
    "            log_pred = self.log.predict(X_test)\n",
    "            rf_pred = self.rf.predict(X_test)\n",
    "            xgb_pred = self.label_encoder.inverse_transform(self.xgb.predict(X_test))\n",
    "            cnn_pred = self.label_encoder.inverse_transform(np.argmax(self.cnn.predict(X_test), axis=1))\n",
    "\n",
    "            y_pred = []\n",
    "            for i in range(len(X_test)):\n",
    "                pred = [log_pred[i], rf_pred[i], xgb_pred[i], cnn_pred[i]]\n",
    "                y_pred.append(max(set(pred), key = pred.count))\n",
    "            y_pred = pd.Series(y_pred)\n",
    "            y_pred.index = y_test.index\n",
    "\n",
    "        else:\n",
    "            print(\"The arg should be either soft or hard\")\n",
    "            y_pred = None\n",
    "\n",
    "        \n",
    "        return y_pred\n",
    "\n",
    "        \n",
    "\n",
    "        "
   ]
  },
  {
   "cell_type": "code",
   "execution_count": 67,
   "metadata": {},
   "outputs": [
    {
     "name": "stderr",
     "output_type": "stream",
     "text": [
      "/Users/xiaokangwang/Library/Caches/pypoetry/virtualenvs/erdosnewsfinanceproject-fYB74UfD-py3.12/lib/python3.12/site-packages/keras/src/layers/reshaping/reshape.py:39: UserWarning: Do not pass an `input_shape`/`input_dim` argument to a layer. When using Sequential models, prefer using an `Input(shape)` object as the first layer in the model instead.\n",
      "  super().__init__(**kwargs)\n"
     ]
    },
    {
     "name": "stdout",
     "output_type": "stream",
     "text": [
      "Start to train the models: Logistic\n",
      "Logistic Regression has been trained\n",
      "Start to train the models: Random Forest\n",
      "Random Forest has been trained\n",
      "Start to train the models: XGBoost\n",
      "XGBoost has been trained\n",
      "Start to train the models: CNN\n",
      "Epoch 1/200\n",
      "\u001b[1m52/52\u001b[0m \u001b[32m━━━━━━━━━━━━━━━━━━━━\u001b[0m\u001b[37m\u001b[0m \u001b[1m1s\u001b[0m 12ms/step - accuracy: 0.2708 - loss: 1.3839 - val_accuracy: 0.4613 - val_loss: 1.3566\n",
      "Epoch 2/200\n",
      "\u001b[1m52/52\u001b[0m \u001b[32m━━━━━━━━━━━━━━━━━━━━\u001b[0m\u001b[37m\u001b[0m \u001b[1m1s\u001b[0m 11ms/step - accuracy: 0.3940 - loss: 1.3285 - val_accuracy: 0.5255 - val_loss: 1.1972\n",
      "Epoch 3/200\n",
      "\u001b[1m52/52\u001b[0m \u001b[32m━━━━━━━━━━━━━━━━━━━━\u001b[0m\u001b[37m\u001b[0m \u001b[1m1s\u001b[0m 11ms/step - accuracy: 0.4953 - loss: 1.1783 - val_accuracy: 0.5478 - val_loss: 1.0823\n",
      "Epoch 4/200\n",
      "\u001b[1m52/52\u001b[0m \u001b[32m━━━━━━━━━━━━━━━━━━━━\u001b[0m\u001b[37m\u001b[0m \u001b[1m1s\u001b[0m 11ms/step - accuracy: 0.5406 - loss: 1.0781 - val_accuracy: 0.5892 - val_loss: 1.0058\n",
      "Epoch 5/200\n",
      "\u001b[1m52/52\u001b[0m \u001b[32m━━━━━━━━━━━━━━━━━━━━\u001b[0m\u001b[37m\u001b[0m \u001b[1m1s\u001b[0m 11ms/step - accuracy: 0.5797 - loss: 1.0073 - val_accuracy: 0.6225 - val_loss: 0.9509\n",
      "Epoch 6/200\n",
      "\u001b[1m52/52\u001b[0m \u001b[32m━━━━━━━━━━━━━━━━━━━━\u001b[0m\u001b[37m\u001b[0m \u001b[1m1s\u001b[0m 11ms/step - accuracy: 0.6049 - loss: 0.9579 - val_accuracy: 0.6420 - val_loss: 0.9049\n",
      "Epoch 7/200\n",
      "\u001b[1m52/52\u001b[0m \u001b[32m━━━━━━━━━━━━━━━━━━━━\u001b[0m\u001b[37m\u001b[0m \u001b[1m1s\u001b[0m 11ms/step - accuracy: 0.6272 - loss: 0.9126 - val_accuracy: 0.6475 - val_loss: 0.8768\n",
      "Epoch 8/200\n",
      "\u001b[1m52/52\u001b[0m \u001b[32m━━━━━━━━━━━━━━━━━━━━\u001b[0m\u001b[37m\u001b[0m \u001b[1m1s\u001b[0m 11ms/step - accuracy: 0.6371 - loss: 0.8885 - val_accuracy: 0.6489 - val_loss: 0.8677\n",
      "Epoch 9/200\n",
      "\u001b[1m52/52\u001b[0m \u001b[32m━━━━━━━━━━━━━━━━━━━━\u001b[0m\u001b[37m\u001b[0m \u001b[1m1s\u001b[0m 11ms/step - accuracy: 0.6452 - loss: 0.8762 - val_accuracy: 0.6716 - val_loss: 0.8309\n",
      "Epoch 10/200\n",
      "\u001b[1m52/52\u001b[0m \u001b[32m━━━━━━━━━━━━━━━━━━━━\u001b[0m\u001b[37m\u001b[0m \u001b[1m1s\u001b[0m 11ms/step - accuracy: 0.6560 - loss: 0.8492 - val_accuracy: 0.6772 - val_loss: 0.8188\n",
      "Epoch 11/200\n",
      "\u001b[1m52/52\u001b[0m \u001b[32m━━━━━━━━━━━━━━━━━━━━\u001b[0m\u001b[37m\u001b[0m \u001b[1m1s\u001b[0m 11ms/step - accuracy: 0.6614 - loss: 0.8388 - val_accuracy: 0.6798 - val_loss: 0.8098\n",
      "Epoch 12/200\n",
      "\u001b[1m52/52\u001b[0m \u001b[32m━━━━━━━━━━━━━━━━━━━━\u001b[0m\u001b[37m\u001b[0m \u001b[1m1s\u001b[0m 11ms/step - accuracy: 0.6801 - loss: 0.8112 - val_accuracy: 0.6827 - val_loss: 0.8038\n",
      "Epoch 13/200\n",
      "\u001b[1m52/52\u001b[0m \u001b[32m━━━━━━━━━━━━━━━━━━━━\u001b[0m\u001b[37m\u001b[0m \u001b[1m1s\u001b[0m 11ms/step - accuracy: 0.6719 - loss: 0.8129 - val_accuracy: 0.6783 - val_loss: 0.8020\n",
      "Epoch 14/200\n",
      "\u001b[1m52/52\u001b[0m \u001b[32m━━━━━━━━━━━━━━━━━━━━\u001b[0m\u001b[37m\u001b[0m \u001b[1m1s\u001b[0m 11ms/step - accuracy: 0.6788 - loss: 0.8067 - val_accuracy: 0.6934 - val_loss: 0.7815\n",
      "Epoch 15/200\n",
      "\u001b[1m52/52\u001b[0m \u001b[32m━━━━━━━━━━━━━━━━━━━━\u001b[0m\u001b[37m\u001b[0m \u001b[1m1s\u001b[0m 11ms/step - accuracy: 0.6871 - loss: 0.7888 - val_accuracy: 0.6930 - val_loss: 0.7907\n",
      "Epoch 16/200\n",
      "\u001b[1m52/52\u001b[0m \u001b[32m━━━━━━━━━━━━━━━━━━━━\u001b[0m\u001b[37m\u001b[0m \u001b[1m1s\u001b[0m 11ms/step - accuracy: 0.6862 - loss: 0.7841 - val_accuracy: 0.6942 - val_loss: 0.7742\n",
      "Epoch 17/200\n",
      "\u001b[1m52/52\u001b[0m \u001b[32m━━━━━━━━━━━━━━━━━━━━\u001b[0m\u001b[37m\u001b[0m \u001b[1m1s\u001b[0m 11ms/step - accuracy: 0.6925 - loss: 0.7795 - val_accuracy: 0.7047 - val_loss: 0.7669\n",
      "Epoch 18/200\n",
      "\u001b[1m52/52\u001b[0m \u001b[32m━━━━━━━━━━━━━━━━━━━━\u001b[0m\u001b[37m\u001b[0m \u001b[1m1s\u001b[0m 11ms/step - accuracy: 0.6930 - loss: 0.7760 - val_accuracy: 0.6919 - val_loss: 0.7717\n",
      "Epoch 19/200\n",
      "\u001b[1m52/52\u001b[0m \u001b[32m━━━━━━━━━━━━━━━━━━━━\u001b[0m\u001b[37m\u001b[0m \u001b[1m1s\u001b[0m 13ms/step - accuracy: 0.6984 - loss: 0.7645 - val_accuracy: 0.6952 - val_loss: 0.7702\n",
      "Epoch 20/200\n",
      "\u001b[1m52/52\u001b[0m \u001b[32m━━━━━━━━━━━━━━━━━━━━\u001b[0m\u001b[37m\u001b[0m \u001b[1m1s\u001b[0m 11ms/step - accuracy: 0.6970 - loss: 0.7605 - val_accuracy: 0.7072 - val_loss: 0.7537\n",
      "Epoch 21/200\n",
      "\u001b[1m52/52\u001b[0m \u001b[32m━━━━━━━━━━━━━━━━━━━━\u001b[0m\u001b[37m\u001b[0m \u001b[1m1s\u001b[0m 11ms/step - accuracy: 0.7041 - loss: 0.7491 - val_accuracy: 0.7036 - val_loss: 0.7520\n",
      "Epoch 22/200\n",
      "\u001b[1m52/52\u001b[0m \u001b[32m━━━━━━━━━━━━━━━━━━━━\u001b[0m\u001b[37m\u001b[0m \u001b[1m1s\u001b[0m 11ms/step - accuracy: 0.7050 - loss: 0.7380 - val_accuracy: 0.7083 - val_loss: 0.7543\n",
      "Epoch 23/200\n",
      "\u001b[1m52/52\u001b[0m \u001b[32m━━━━━━━━━━━━━━━━━━━━\u001b[0m\u001b[37m\u001b[0m \u001b[1m1s\u001b[0m 11ms/step - accuracy: 0.7101 - loss: 0.7359 - val_accuracy: 0.7083 - val_loss: 0.7459\n",
      "Epoch 24/200\n",
      "\u001b[1m52/52\u001b[0m \u001b[32m━━━━━━━━━━━━━━━━━━━━\u001b[0m\u001b[37m\u001b[0m \u001b[1m1s\u001b[0m 11ms/step - accuracy: 0.7053 - loss: 0.7365 - val_accuracy: 0.7148 - val_loss: 0.7396\n",
      "Epoch 25/200\n",
      "\u001b[1m52/52\u001b[0m \u001b[32m━━━━━━━━━━━━━━━━━━━━\u001b[0m\u001b[37m\u001b[0m \u001b[1m1s\u001b[0m 11ms/step - accuracy: 0.7125 - loss: 0.7299 - val_accuracy: 0.7155 - val_loss: 0.7333\n",
      "Epoch 26/200\n",
      "\u001b[1m52/52\u001b[0m \u001b[32m━━━━━━━━━━━━━━━━━━━━\u001b[0m\u001b[37m\u001b[0m \u001b[1m1s\u001b[0m 11ms/step - accuracy: 0.7142 - loss: 0.7282 - val_accuracy: 0.7127 - val_loss: 0.7335\n",
      "Epoch 27/200\n",
      "\u001b[1m52/52\u001b[0m \u001b[32m━━━━━━━━━━━━━━━━━━━━\u001b[0m\u001b[37m\u001b[0m \u001b[1m1s\u001b[0m 11ms/step - accuracy: 0.7179 - loss: 0.7147 - val_accuracy: 0.7136 - val_loss: 0.7369\n",
      "Epoch 28/200\n",
      "\u001b[1m52/52\u001b[0m \u001b[32m━━━━━━━━━━━━━━━━━━━━\u001b[0m\u001b[37m\u001b[0m \u001b[1m1s\u001b[0m 11ms/step - accuracy: 0.7190 - loss: 0.7129 - val_accuracy: 0.7139 - val_loss: 0.7279\n",
      "Epoch 29/200\n",
      "\u001b[1m52/52\u001b[0m \u001b[32m━━━━━━━━━━━━━━━━━━━━\u001b[0m\u001b[37m\u001b[0m \u001b[1m1s\u001b[0m 11ms/step - accuracy: 0.7255 - loss: 0.7102 - val_accuracy: 0.7181 - val_loss: 0.7235\n",
      "Epoch 30/200\n",
      "\u001b[1m52/52\u001b[0m \u001b[32m━━━━━━━━━━━━━━━━━━━━\u001b[0m\u001b[37m\u001b[0m \u001b[1m1s\u001b[0m 11ms/step - accuracy: 0.7251 - loss: 0.6980 - val_accuracy: 0.7172 - val_loss: 0.7241\n",
      "Epoch 31/200\n",
      "\u001b[1m52/52\u001b[0m \u001b[32m━━━━━━━━━━━━━━━━━━━━\u001b[0m\u001b[37m\u001b[0m \u001b[1m1s\u001b[0m 11ms/step - accuracy: 0.7234 - loss: 0.7060 - val_accuracy: 0.7177 - val_loss: 0.7240\n",
      "Epoch 32/200\n",
      "\u001b[1m52/52\u001b[0m \u001b[32m━━━━━━━━━━━━━━━━━━━━\u001b[0m\u001b[37m\u001b[0m \u001b[1m1s\u001b[0m 11ms/step - accuracy: 0.7260 - loss: 0.6940 - val_accuracy: 0.7184 - val_loss: 0.7214\n",
      "Epoch 33/200\n",
      "\u001b[1m52/52\u001b[0m \u001b[32m━━━━━━━━━━━━━━━━━━━━\u001b[0m\u001b[37m\u001b[0m \u001b[1m1s\u001b[0m 11ms/step - accuracy: 0.7274 - loss: 0.6910 - val_accuracy: 0.7209 - val_loss: 0.7224\n",
      "Epoch 34/200\n",
      "\u001b[1m52/52\u001b[0m \u001b[32m━━━━━━━━━━━━━━━━━━━━\u001b[0m\u001b[37m\u001b[0m \u001b[1m1s\u001b[0m 11ms/step - accuracy: 0.7314 - loss: 0.6892 - val_accuracy: 0.7234 - val_loss: 0.7147\n",
      "Epoch 35/200\n",
      "\u001b[1m52/52\u001b[0m \u001b[32m━━━━━━━━━━━━━━━━━━━━\u001b[0m\u001b[37m\u001b[0m \u001b[1m1s\u001b[0m 11ms/step - accuracy: 0.7252 - loss: 0.6918 - val_accuracy: 0.7248 - val_loss: 0.7143\n",
      "Epoch 36/200\n",
      "\u001b[1m52/52\u001b[0m \u001b[32m━━━━━━━━━━━━━━━━━━━━\u001b[0m\u001b[37m\u001b[0m \u001b[1m1s\u001b[0m 11ms/step - accuracy: 0.7319 - loss: 0.6795 - val_accuracy: 0.7197 - val_loss: 0.7223\n",
      "Epoch 37/200\n",
      "\u001b[1m52/52\u001b[0m \u001b[32m━━━━━━━━━━━━━━━━━━━━\u001b[0m\u001b[37m\u001b[0m \u001b[1m1s\u001b[0m 11ms/step - accuracy: 0.7260 - loss: 0.6865 - val_accuracy: 0.7212 - val_loss: 0.7136\n",
      "Epoch 38/200\n",
      "\u001b[1m52/52\u001b[0m \u001b[32m━━━━━━━━━━━━━━━━━━━━\u001b[0m\u001b[37m\u001b[0m \u001b[1m1s\u001b[0m 13ms/step - accuracy: 0.7320 - loss: 0.6803 - val_accuracy: 0.7239 - val_loss: 0.7106\n",
      "Epoch 39/200\n",
      "\u001b[1m52/52\u001b[0m \u001b[32m━━━━━━━━━━━━━━━━━━━━\u001b[0m\u001b[37m\u001b[0m \u001b[1m1s\u001b[0m 11ms/step - accuracy: 0.7334 - loss: 0.6822 - val_accuracy: 0.7242 - val_loss: 0.7095\n",
      "Epoch 40/200\n",
      "\u001b[1m52/52\u001b[0m \u001b[32m━━━━━━━━━━━━━━━━━━━━\u001b[0m\u001b[37m\u001b[0m \u001b[1m1s\u001b[0m 11ms/step - accuracy: 0.7330 - loss: 0.6738 - val_accuracy: 0.7241 - val_loss: 0.7070\n",
      "Epoch 41/200\n",
      "\u001b[1m52/52\u001b[0m \u001b[32m━━━━━━━━━━━━━━━━━━━━\u001b[0m\u001b[37m\u001b[0m \u001b[1m1s\u001b[0m 11ms/step - accuracy: 0.7291 - loss: 0.6795 - val_accuracy: 0.7289 - val_loss: 0.7000\n",
      "Epoch 42/200\n",
      "\u001b[1m52/52\u001b[0m \u001b[32m━━━━━━━━━━━━━━━━━━━━\u001b[0m\u001b[37m\u001b[0m \u001b[1m1s\u001b[0m 11ms/step - accuracy: 0.7412 - loss: 0.6644 - val_accuracy: 0.7262 - val_loss: 0.7023\n",
      "Epoch 43/200\n",
      "\u001b[1m52/52\u001b[0m \u001b[32m━━━━━━━━━━━━━━━━━━━━\u001b[0m\u001b[37m\u001b[0m \u001b[1m1s\u001b[0m 11ms/step - accuracy: 0.7369 - loss: 0.6693 - val_accuracy: 0.7256 - val_loss: 0.7009\n",
      "Epoch 44/200\n",
      "\u001b[1m52/52\u001b[0m \u001b[32m━━━━━━━━━━━━━━━━━━━━\u001b[0m\u001b[37m\u001b[0m \u001b[1m1s\u001b[0m 11ms/step - accuracy: 0.7382 - loss: 0.6676 - val_accuracy: 0.7281 - val_loss: 0.7061\n",
      "Epoch 45/200\n",
      "\u001b[1m52/52\u001b[0m \u001b[32m━━━━━━━━━━━━━━━━━━━━\u001b[0m\u001b[37m\u001b[0m \u001b[1m1s\u001b[0m 11ms/step - accuracy: 0.7442 - loss: 0.6539 - val_accuracy: 0.7300 - val_loss: 0.6929\n",
      "Epoch 46/200\n",
      "\u001b[1m52/52\u001b[0m \u001b[32m━━━━━━━━━━━━━━━━━━━━\u001b[0m\u001b[37m\u001b[0m \u001b[1m1s\u001b[0m 11ms/step - accuracy: 0.7405 - loss: 0.6615 - val_accuracy: 0.7256 - val_loss: 0.6993\n",
      "Epoch 47/200\n",
      "\u001b[1m52/52\u001b[0m \u001b[32m━━━━━━━━━━━━━━━━━━━━\u001b[0m\u001b[37m\u001b[0m \u001b[1m1s\u001b[0m 11ms/step - accuracy: 0.7509 - loss: 0.6446 - val_accuracy: 0.7284 - val_loss: 0.7012\n",
      "Epoch 48/200\n",
      "\u001b[1m52/52\u001b[0m \u001b[32m━━━━━━━━━━━━━━━━━━━━\u001b[0m\u001b[37m\u001b[0m \u001b[1m1s\u001b[0m 11ms/step - accuracy: 0.7466 - loss: 0.6513 - val_accuracy: 0.7306 - val_loss: 0.6929\n",
      "Epoch 49/200\n",
      "\u001b[1m52/52\u001b[0m \u001b[32m━━━━━━━━━━━━━━━━━━━━\u001b[0m\u001b[37m\u001b[0m \u001b[1m1s\u001b[0m 11ms/step - accuracy: 0.7456 - loss: 0.6494 - val_accuracy: 0.7333 - val_loss: 0.6918\n",
      "Epoch 50/200\n",
      "\u001b[1m52/52\u001b[0m \u001b[32m━━━━━━━━━━━━━━━━━━━━\u001b[0m\u001b[37m\u001b[0m \u001b[1m1s\u001b[0m 11ms/step - accuracy: 0.7437 - loss: 0.6518 - val_accuracy: 0.7280 - val_loss: 0.7009\n",
      "Epoch 51/200\n",
      "\u001b[1m52/52\u001b[0m \u001b[32m━━━━━━━━━━━━━━━━━━━━\u001b[0m\u001b[37m\u001b[0m \u001b[1m1s\u001b[0m 11ms/step - accuracy: 0.7568 - loss: 0.6311 - val_accuracy: 0.7262 - val_loss: 0.6965\n",
      "Epoch 52/200\n",
      "\u001b[1m52/52\u001b[0m \u001b[32m━━━━━━━━━━━━━━━━━━━━\u001b[0m\u001b[37m\u001b[0m \u001b[1m1s\u001b[0m 11ms/step - accuracy: 0.7478 - loss: 0.6460 - val_accuracy: 0.7339 - val_loss: 0.6893\n",
      "Epoch 53/200\n",
      "\u001b[1m52/52\u001b[0m \u001b[32m━━━━━━━━━━━━━━━━━━━━\u001b[0m\u001b[37m\u001b[0m \u001b[1m1s\u001b[0m 11ms/step - accuracy: 0.7495 - loss: 0.6455 - val_accuracy: 0.7297 - val_loss: 0.6957\n",
      "Epoch 54/200\n",
      "\u001b[1m52/52\u001b[0m \u001b[32m━━━━━━━━━━━━━━━━━━━━\u001b[0m\u001b[37m\u001b[0m \u001b[1m1s\u001b[0m 12ms/step - accuracy: 0.7532 - loss: 0.6267 - val_accuracy: 0.7325 - val_loss: 0.6921\n",
      "Epoch 55/200\n",
      "\u001b[1m52/52\u001b[0m \u001b[32m━━━━━━━━━━━━━━━━━━━━\u001b[0m\u001b[37m\u001b[0m \u001b[1m1s\u001b[0m 12ms/step - accuracy: 0.7493 - loss: 0.6395 - val_accuracy: 0.7359 - val_loss: 0.6862\n",
      "Epoch 56/200\n",
      "\u001b[1m52/52\u001b[0m \u001b[32m━━━━━━━━━━━━━━━━━━━━\u001b[0m\u001b[37m\u001b[0m \u001b[1m1s\u001b[0m 11ms/step - accuracy: 0.7547 - loss: 0.6294 - val_accuracy: 0.7327 - val_loss: 0.6906\n",
      "Epoch 57/200\n",
      "\u001b[1m52/52\u001b[0m \u001b[32m━━━━━━━━━━━━━━━━━━━━\u001b[0m\u001b[37m\u001b[0m \u001b[1m1s\u001b[0m 11ms/step - accuracy: 0.7528 - loss: 0.6323 - val_accuracy: 0.7367 - val_loss: 0.6873\n",
      "Epoch 58/200\n",
      "\u001b[1m52/52\u001b[0m \u001b[32m━━━━━━━━━━━━━━━━━━━━\u001b[0m\u001b[37m\u001b[0m \u001b[1m1s\u001b[0m 11ms/step - accuracy: 0.7573 - loss: 0.6237 - val_accuracy: 0.7342 - val_loss: 0.6899\n",
      "Epoch 59/200\n",
      "\u001b[1m52/52\u001b[0m \u001b[32m━━━━━━━━━━━━━━━━━━━━\u001b[0m\u001b[37m\u001b[0m \u001b[1m1s\u001b[0m 11ms/step - accuracy: 0.7528 - loss: 0.6284 - val_accuracy: 0.7339 - val_loss: 0.6865\n",
      "Epoch 60/200\n",
      "\u001b[1m52/52\u001b[0m \u001b[32m━━━━━━━━━━━━━━━━━━━━\u001b[0m\u001b[37m\u001b[0m \u001b[1m1s\u001b[0m 11ms/step - accuracy: 0.7542 - loss: 0.6267 - val_accuracy: 0.7353 - val_loss: 0.6844\n",
      "Epoch 61/200\n",
      "\u001b[1m52/52\u001b[0m \u001b[32m━━━━━━━━━━━━━━━━━━━━\u001b[0m\u001b[37m\u001b[0m \u001b[1m1s\u001b[0m 11ms/step - accuracy: 0.7554 - loss: 0.6232 - val_accuracy: 0.7355 - val_loss: 0.6847\n",
      "Epoch 62/200\n",
      "\u001b[1m52/52\u001b[0m \u001b[32m━━━━━━━━━━━━━━━━━━━━\u001b[0m\u001b[37m\u001b[0m \u001b[1m1s\u001b[0m 11ms/step - accuracy: 0.7624 - loss: 0.6165 - val_accuracy: 0.7356 - val_loss: 0.6950\n",
      "Epoch 63/200\n",
      "\u001b[1m52/52\u001b[0m \u001b[32m━━━━━━━━━━━━━━━━━━━━\u001b[0m\u001b[37m\u001b[0m \u001b[1m1s\u001b[0m 11ms/step - accuracy: 0.7618 - loss: 0.6069 - val_accuracy: 0.7312 - val_loss: 0.6849\n",
      "Epoch 64/200\n",
      "\u001b[1m52/52\u001b[0m \u001b[32m━━━━━━━━━━━━━━━━━━━━\u001b[0m\u001b[37m\u001b[0m \u001b[1m1s\u001b[0m 11ms/step - accuracy: 0.7574 - loss: 0.6192 - val_accuracy: 0.7356 - val_loss: 0.6847\n",
      "Epoch 65/200\n",
      "\u001b[1m52/52\u001b[0m \u001b[32m━━━━━━━━━━━━━━━━━━━━\u001b[0m\u001b[37m\u001b[0m \u001b[1m1s\u001b[0m 11ms/step - accuracy: 0.7572 - loss: 0.6208 - val_accuracy: 0.7339 - val_loss: 0.6931\n",
      "Epoch 66/200\n",
      "\u001b[1m52/52\u001b[0m \u001b[32m━━━━━━━━━━━━━━━━━━━━\u001b[0m\u001b[37m\u001b[0m \u001b[1m1s\u001b[0m 11ms/step - accuracy: 0.7605 - loss: 0.6103 - val_accuracy: 0.7397 - val_loss: 0.6818\n",
      "Epoch 67/200\n",
      "\u001b[1m52/52\u001b[0m \u001b[32m━━━━━━━━━━━━━━━━━━━━\u001b[0m\u001b[37m\u001b[0m \u001b[1m1s\u001b[0m 11ms/step - accuracy: 0.7646 - loss: 0.6084 - val_accuracy: 0.7355 - val_loss: 0.6846\n",
      "Epoch 68/200\n",
      "\u001b[1m52/52\u001b[0m \u001b[32m━━━━━━━━━━━━━━━━━━━━\u001b[0m\u001b[37m\u001b[0m \u001b[1m1s\u001b[0m 11ms/step - accuracy: 0.7686 - loss: 0.5998 - val_accuracy: 0.7377 - val_loss: 0.6833\n",
      "Epoch 69/200\n",
      "\u001b[1m52/52\u001b[0m \u001b[32m━━━━━━━━━━━━━━━━━━━━\u001b[0m\u001b[37m\u001b[0m \u001b[1m1s\u001b[0m 13ms/step - accuracy: 0.7671 - loss: 0.6007 - val_accuracy: 0.7358 - val_loss: 0.6848\n",
      "Epoch 70/200\n",
      "\u001b[1m52/52\u001b[0m \u001b[32m━━━━━━━━━━━━━━━━━━━━\u001b[0m\u001b[37m\u001b[0m \u001b[1m1s\u001b[0m 11ms/step - accuracy: 0.7593 - loss: 0.6049 - val_accuracy: 0.7353 - val_loss: 0.6906\n",
      "Epoch 71/200\n",
      "\u001b[1m52/52\u001b[0m \u001b[32m━━━━━━━━━━━━━━━━━━━━\u001b[0m\u001b[37m\u001b[0m \u001b[1m1s\u001b[0m 11ms/step - accuracy: 0.7640 - loss: 0.6080 - val_accuracy: 0.7414 - val_loss: 0.6883\n",
      "Epoch 72/200\n",
      "\u001b[1m52/52\u001b[0m \u001b[32m━━━━━━━━━━━━━━━━━━━━\u001b[0m\u001b[37m\u001b[0m \u001b[1m1s\u001b[0m 11ms/step - accuracy: 0.7648 - loss: 0.6038 - val_accuracy: 0.7362 - val_loss: 0.6800\n",
      "Epoch 73/200\n",
      "\u001b[1m52/52\u001b[0m \u001b[32m━━━━━━━━━━━━━━━━━━━━\u001b[0m\u001b[37m\u001b[0m \u001b[1m1s\u001b[0m 11ms/step - accuracy: 0.7655 - loss: 0.6013 - val_accuracy: 0.7380 - val_loss: 0.6832\n",
      "Epoch 74/200\n",
      "\u001b[1m52/52\u001b[0m \u001b[32m━━━━━━━━━━━━━━━━━━━━\u001b[0m\u001b[37m\u001b[0m \u001b[1m1s\u001b[0m 11ms/step - accuracy: 0.7681 - loss: 0.5912 - val_accuracy: 0.7369 - val_loss: 0.6824\n",
      "Epoch 75/200\n",
      "\u001b[1m52/52\u001b[0m \u001b[32m━━━━━━━━━━━━━━━━━━━━\u001b[0m\u001b[37m\u001b[0m \u001b[1m1s\u001b[0m 11ms/step - accuracy: 0.7694 - loss: 0.5876 - val_accuracy: 0.7342 - val_loss: 0.6960\n",
      "Epoch 76/200\n",
      "\u001b[1m52/52\u001b[0m \u001b[32m━━━━━━━━━━━━━━━━━━━━\u001b[0m\u001b[37m\u001b[0m \u001b[1m1s\u001b[0m 11ms/step - accuracy: 0.7676 - loss: 0.5905 - val_accuracy: 0.7352 - val_loss: 0.6891\n",
      "Epoch 77/200\n",
      "\u001b[1m52/52\u001b[0m \u001b[32m━━━━━━━━━━━━━━━━━━━━\u001b[0m\u001b[37m\u001b[0m \u001b[1m1s\u001b[0m 11ms/step - accuracy: 0.7669 - loss: 0.5959 - val_accuracy: 0.7384 - val_loss: 0.6908\n",
      "Epoch 78/200\n",
      "\u001b[1m52/52\u001b[0m \u001b[32m━━━━━━━━━━━━━━━━━━━━\u001b[0m\u001b[37m\u001b[0m \u001b[1m1s\u001b[0m 11ms/step - accuracy: 0.7732 - loss: 0.5855 - val_accuracy: 0.7330 - val_loss: 0.6913\n",
      "Epoch 79/200\n",
      "\u001b[1m52/52\u001b[0m \u001b[32m━━━━━━━━━━━━━━━━━━━━\u001b[0m\u001b[37m\u001b[0m \u001b[1m1s\u001b[0m 15ms/step - accuracy: 0.7693 - loss: 0.5890 - val_accuracy: 0.7387 - val_loss: 0.6771\n",
      "Epoch 80/200\n",
      "\u001b[1m52/52\u001b[0m \u001b[32m━━━━━━━━━━━━━━━━━━━━\u001b[0m\u001b[37m\u001b[0m \u001b[1m1s\u001b[0m 11ms/step - accuracy: 0.7663 - loss: 0.5961 - val_accuracy: 0.7391 - val_loss: 0.6760\n",
      "Epoch 81/200\n",
      "\u001b[1m52/52\u001b[0m \u001b[32m━━━━━━━━━━━━━━━━━━━━\u001b[0m\u001b[37m\u001b[0m \u001b[1m1s\u001b[0m 11ms/step - accuracy: 0.7730 - loss: 0.5830 - val_accuracy: 0.7359 - val_loss: 0.6855\n",
      "Epoch 82/200\n",
      "\u001b[1m52/52\u001b[0m \u001b[32m━━━━━━━━━━━━━━━━━━━━\u001b[0m\u001b[37m\u001b[0m \u001b[1m1s\u001b[0m 11ms/step - accuracy: 0.7713 - loss: 0.5877 - val_accuracy: 0.7392 - val_loss: 0.6832\n",
      "Epoch 83/200\n",
      "\u001b[1m52/52\u001b[0m \u001b[32m━━━━━━━━━━━━━━━━━━━━\u001b[0m\u001b[37m\u001b[0m \u001b[1m1s\u001b[0m 11ms/step - accuracy: 0.7707 - loss: 0.5829 - val_accuracy: 0.7377 - val_loss: 0.6841\n",
      "Epoch 84/200\n",
      "\u001b[1m52/52\u001b[0m \u001b[32m━━━━━━━━━━━━━━━━━━━━\u001b[0m\u001b[37m\u001b[0m \u001b[1m1s\u001b[0m 11ms/step - accuracy: 0.7768 - loss: 0.5776 - val_accuracy: 0.7394 - val_loss: 0.6856\n",
      "Epoch 85/200\n",
      "\u001b[1m52/52\u001b[0m \u001b[32m━━━━━━━━━━━━━━━━━━━━\u001b[0m\u001b[37m\u001b[0m \u001b[1m1s\u001b[0m 11ms/step - accuracy: 0.7753 - loss: 0.5790 - val_accuracy: 0.7369 - val_loss: 0.6821\n",
      "Epoch 86/200\n",
      "\u001b[1m52/52\u001b[0m \u001b[32m━━━━━━━━━━━━━━━━━━━━\u001b[0m\u001b[37m\u001b[0m \u001b[1m1s\u001b[0m 11ms/step - accuracy: 0.7779 - loss: 0.5753 - val_accuracy: 0.7344 - val_loss: 0.6899\n",
      "Epoch 87/200\n",
      "\u001b[1m52/52\u001b[0m \u001b[32m━━━━━━━━━━━━━━━━━━━━\u001b[0m\u001b[37m\u001b[0m \u001b[1m1s\u001b[0m 11ms/step - accuracy: 0.7713 - loss: 0.5767 - val_accuracy: 0.7408 - val_loss: 0.6853\n",
      "Epoch 88/200\n",
      "\u001b[1m52/52\u001b[0m \u001b[32m━━━━━━━━━━━━━━━━━━━━\u001b[0m\u001b[37m\u001b[0m \u001b[1m1s\u001b[0m 11ms/step - accuracy: 0.7764 - loss: 0.5749 - val_accuracy: 0.7384 - val_loss: 0.6864\n",
      "Epoch 89/200\n",
      "\u001b[1m52/52\u001b[0m \u001b[32m━━━━━━━━━━━━━━━━━━━━\u001b[0m\u001b[37m\u001b[0m \u001b[1m1s\u001b[0m 11ms/step - accuracy: 0.7829 - loss: 0.5654 - val_accuracy: 0.7377 - val_loss: 0.6811\n",
      "Epoch 90/200\n",
      "\u001b[1m52/52\u001b[0m \u001b[32m━━━━━━━━━━━━━━━━━━━━\u001b[0m\u001b[37m\u001b[0m \u001b[1m1s\u001b[0m 11ms/step - accuracy: 0.7790 - loss: 0.5608 - val_accuracy: 0.7375 - val_loss: 0.6866\n",
      "Epoch 90: early stopping\n",
      "Restoring model weights from the end of the best epoch: 80.\n",
      "CNN has been trained\n"
     ]
    }
   ],
   "source": [
    "voting = customized_voting_classifier(X_train)\n",
    "voting.fit(X_train, y_train)"
   ]
  },
  {
   "cell_type": "code",
   "execution_count": 68,
   "metadata": {},
   "outputs": [
    {
     "name": "stdout",
     "output_type": "stream",
     "text": [
      "\u001b[1m250/250\u001b[0m \u001b[32m━━━━━━━━━━━━━━━━━━━━\u001b[0m\u001b[37m\u001b[0m \u001b[1m0s\u001b[0m 566us/step\n",
      "The accuracy is 0.763875\n",
      "The confusion matrix \n",
      "['ELSE', 'ENTERTAINMENT', 'POLITICS', 'WELLNESS'] is \n",
      "[[1034  292  273  401]\n",
      " [ 201 1572  148   79]\n",
      " [ 157   46 1744   53]\n",
      " [ 175   41   23 1761]]\n",
      "F1 Score when we treat ELSE as negative: 0.8794337649802944\n",
      "F1 Score for everclass: \n",
      "['ELSE', 'ENTERTAINMENT', 'POLITICS', 'WELLNESS'] \n",
      "[0.5797589  0.79574791 0.83285578 0.82021425]\n"
     ]
    },
    {
     "name": "stderr",
     "output_type": "stream",
     "text": [
      "/var/folders/l_/txq0vh11623_5lrnfw_cpmsh0000gn/T/ipykernel_3591/2370515181.py:4: FutureWarning: Series.__getitem__ treating keys as positions is deprecated. In a future version, integer keys will always be treated as labels (consistent with DataFrame behavior). To access a value by position, use `ser.iloc[pos]`\n",
      "  results = {'index': misclassified_idx, 'true': y_test[misclassified_idx], 'pred': y_pred[misclassified_idx], 'headline': sampled_test['headline_summary_tokenized'].iloc[misclassified_idx].apply(lambda x: ' '.join(x))}\n"
     ]
    }
   ],
   "source": [
    "voting_pred = voting.predict(X_test, arg=\"hard\")\n",
    "get_accuracy(y_test, voting_pred)\n",
    "mis_voting_hard = get_misclassified_samples(y_test, voting_pred)"
   ]
  },
  {
   "cell_type": "code",
   "execution_count": 69,
   "metadata": {},
   "outputs": [
    {
     "name": "stdout",
     "output_type": "stream",
     "text": [
      "\u001b[1m250/250\u001b[0m \u001b[32m━━━━━━━━━━━━━━━━━━━━\u001b[0m\u001b[37m\u001b[0m \u001b[1m0s\u001b[0m 556us/step\n",
      "\u001b[1m250/250\u001b[0m \u001b[32m━━━━━━━━━━━━━━━━━━━━\u001b[0m\u001b[37m\u001b[0m \u001b[1m0s\u001b[0m 549us/step\n",
      "\u001b[1m250/250\u001b[0m \u001b[32m━━━━━━━━━━━━━━━━━━━━\u001b[0m\u001b[37m\u001b[0m \u001b[1m0s\u001b[0m 550us/step\n",
      "\u001b[1m250/250\u001b[0m \u001b[32m━━━━━━━━━━━━━━━━━━━━\u001b[0m\u001b[37m\u001b[0m \u001b[1m0s\u001b[0m 548us/step\n",
      "\u001b[1m250/250\u001b[0m \u001b[32m━━━━━━━━━━━━━━━━━━━━\u001b[0m\u001b[37m\u001b[0m \u001b[1m0s\u001b[0m 549us/step\n",
      "\u001b[1m250/250\u001b[0m \u001b[32m━━━━━━━━━━━━━━━━━━━━\u001b[0m\u001b[37m\u001b[0m \u001b[1m0s\u001b[0m 549us/step\n",
      "\u001b[1m250/250\u001b[0m \u001b[32m━━━━━━━━━━━━━━━━━━━━\u001b[0m\u001b[37m\u001b[0m \u001b[1m0s\u001b[0m 547us/step\n",
      "\u001b[1m250/250\u001b[0m \u001b[32m━━━━━━━━━━━━━━━━━━━━\u001b[0m\u001b[37m\u001b[0m \u001b[1m0s\u001b[0m 549us/step\n",
      "\u001b[1m250/250\u001b[0m \u001b[32m━━━━━━━━━━━━━━━━━━━━\u001b[0m\u001b[37m\u001b[0m \u001b[1m0s\u001b[0m 551us/step\n",
      "\u001b[1m250/250\u001b[0m \u001b[32m━━━━━━━━━━━━━━━━━━━━\u001b[0m\u001b[37m\u001b[0m \u001b[1m0s\u001b[0m 547us/step\n",
      "\u001b[1m250/250\u001b[0m \u001b[32m━━━━━━━━━━━━━━━━━━━━\u001b[0m\u001b[37m\u001b[0m \u001b[1m0s\u001b[0m 552us/step\n",
      "\u001b[1m250/250\u001b[0m \u001b[32m━━━━━━━━━━━━━━━━━━━━\u001b[0m\u001b[37m\u001b[0m \u001b[1m0s\u001b[0m 546us/step\n",
      "\u001b[1m250/250\u001b[0m \u001b[32m━━━━━━━━━━━━━━━━━━━━\u001b[0m\u001b[37m\u001b[0m \u001b[1m0s\u001b[0m 553us/step\n",
      "\u001b[1m250/250\u001b[0m \u001b[32m━━━━━━━━━━━━━━━━━━━━\u001b[0m\u001b[37m\u001b[0m \u001b[1m0s\u001b[0m 552us/step\n",
      "\u001b[1m250/250\u001b[0m \u001b[32m━━━━━━━━━━━━━━━━━━━━\u001b[0m\u001b[37m\u001b[0m \u001b[1m0s\u001b[0m 550us/step\n",
      "\u001b[1m250/250\u001b[0m \u001b[32m━━━━━━━━━━━━━━━━━━━━\u001b[0m\u001b[37m\u001b[0m \u001b[1m0s\u001b[0m 547us/step\n",
      "\u001b[1m250/250\u001b[0m \u001b[32m━━━━━━━━━━━━━━━━━━━━\u001b[0m\u001b[37m\u001b[0m \u001b[1m0s\u001b[0m 541us/step\n",
      "\u001b[1m250/250\u001b[0m \u001b[32m━━━━━━━━━━━━━━━━━━━━\u001b[0m\u001b[37m\u001b[0m \u001b[1m0s\u001b[0m 549us/step\n",
      "\u001b[1m250/250\u001b[0m \u001b[32m━━━━━━━━━━━━━━━━━━━━\u001b[0m\u001b[37m\u001b[0m \u001b[1m0s\u001b[0m 550us/step\n",
      "\u001b[1m250/250\u001b[0m \u001b[32m━━━━━━━━━━━━━━━━━━━━\u001b[0m\u001b[37m\u001b[0m \u001b[1m0s\u001b[0m 552us/step\n",
      "\u001b[1m250/250\u001b[0m \u001b[32m━━━━━━━━━━━━━━━━━━━━\u001b[0m\u001b[37m\u001b[0m \u001b[1m0s\u001b[0m 550us/step\n",
      "\u001b[1m250/250\u001b[0m \u001b[32m━━━━━━━━━━━━━━━━━━━━\u001b[0m\u001b[37m\u001b[0m \u001b[1m0s\u001b[0m 549us/step\n",
      "\u001b[1m250/250\u001b[0m \u001b[32m━━━━━━━━━━━━━━━━━━━━\u001b[0m\u001b[37m\u001b[0m \u001b[1m0s\u001b[0m 550us/step\n",
      "\u001b[1m250/250\u001b[0m \u001b[32m━━━━━━━━━━━━━━━━━━━━\u001b[0m\u001b[37m\u001b[0m \u001b[1m0s\u001b[0m 545us/step\n",
      "\u001b[1m250/250\u001b[0m \u001b[32m━━━━━━━━━━━━━━━━━━━━\u001b[0m\u001b[37m\u001b[0m \u001b[1m0s\u001b[0m 550us/step\n",
      "\u001b[1m250/250\u001b[0m \u001b[32m━━━━━━━━━━━━━━━━━━━━\u001b[0m\u001b[37m\u001b[0m \u001b[1m0s\u001b[0m 549us/step\n",
      "\u001b[1m250/250\u001b[0m \u001b[32m━━━━━━━━━━━━━━━━━━━━\u001b[0m\u001b[37m\u001b[0m \u001b[1m0s\u001b[0m 549us/step\n",
      "\u001b[1m250/250\u001b[0m \u001b[32m━━━━━━━━━━━━━━━━━━━━\u001b[0m\u001b[37m\u001b[0m \u001b[1m0s\u001b[0m 548us/step\n",
      "\u001b[1m250/250\u001b[0m \u001b[32m━━━━━━━━━━━━━━━━━━━━\u001b[0m\u001b[37m\u001b[0m \u001b[1m0s\u001b[0m 545us/step\n",
      "\u001b[1m250/250\u001b[0m \u001b[32m━━━━━━━━━━━━━━━━━━━━\u001b[0m\u001b[37m\u001b[0m \u001b[1m0s\u001b[0m 549us/step\n",
      "\u001b[1m250/250\u001b[0m \u001b[32m━━━━━━━━━━━━━━━━━━━━\u001b[0m\u001b[37m\u001b[0m \u001b[1m0s\u001b[0m 551us/step\n",
      "\u001b[1m250/250\u001b[0m \u001b[32m━━━━━━━━━━━━━━━━━━━━\u001b[0m\u001b[37m\u001b[0m \u001b[1m0s\u001b[0m 552us/step\n",
      "\u001b[1m250/250\u001b[0m \u001b[32m━━━━━━━━━━━━━━━━━━━━\u001b[0m\u001b[37m\u001b[0m \u001b[1m0s\u001b[0m 548us/step\n",
      "\u001b[1m250/250\u001b[0m \u001b[32m━━━━━━━━━━━━━━━━━━━━\u001b[0m\u001b[37m\u001b[0m \u001b[1m0s\u001b[0m 547us/step\n",
      "\u001b[1m250/250\u001b[0m \u001b[32m━━━━━━━━━━━━━━━━━━━━\u001b[0m\u001b[37m\u001b[0m \u001b[1m0s\u001b[0m 820us/step\n",
      "\u001b[1m250/250\u001b[0m \u001b[32m━━━━━━━━━━━━━━━━━━━━\u001b[0m\u001b[37m\u001b[0m \u001b[1m0s\u001b[0m 549us/step\n",
      "\u001b[1m250/250\u001b[0m \u001b[32m━━━━━━━━━━━━━━━━━━━━\u001b[0m\u001b[37m\u001b[0m \u001b[1m0s\u001b[0m 549us/step\n",
      "\u001b[1m250/250\u001b[0m \u001b[32m━━━━━━━━━━━━━━━━━━━━\u001b[0m\u001b[37m\u001b[0m \u001b[1m0s\u001b[0m 549us/step\n",
      "\u001b[1m250/250\u001b[0m \u001b[32m━━━━━━━━━━━━━━━━━━━━\u001b[0m\u001b[37m\u001b[0m \u001b[1m0s\u001b[0m 551us/step\n",
      "\u001b[1m250/250\u001b[0m \u001b[32m━━━━━━━━━━━━━━━━━━━━\u001b[0m\u001b[37m\u001b[0m \u001b[1m0s\u001b[0m 550us/step\n",
      "\u001b[1m250/250\u001b[0m \u001b[32m━━━━━━━━━━━━━━━━━━━━\u001b[0m\u001b[37m\u001b[0m \u001b[1m0s\u001b[0m 549us/step\n",
      "\u001b[1m250/250\u001b[0m \u001b[32m━━━━━━━━━━━━━━━━━━━━\u001b[0m\u001b[37m\u001b[0m \u001b[1m0s\u001b[0m 552us/step\n",
      "\u001b[1m250/250\u001b[0m \u001b[32m━━━━━━━━━━━━━━━━━━━━\u001b[0m\u001b[37m\u001b[0m \u001b[1m0s\u001b[0m 551us/step\n",
      "\u001b[1m250/250\u001b[0m \u001b[32m━━━━━━━━━━━━━━━━━━━━\u001b[0m\u001b[37m\u001b[0m \u001b[1m0s\u001b[0m 548us/step\n",
      "\u001b[1m250/250\u001b[0m \u001b[32m━━━━━━━━━━━━━━━━━━━━\u001b[0m\u001b[37m\u001b[0m \u001b[1m0s\u001b[0m 548us/step\n",
      "\u001b[1m250/250\u001b[0m \u001b[32m━━━━━━━━━━━━━━━━━━━━\u001b[0m\u001b[37m\u001b[0m \u001b[1m0s\u001b[0m 549us/step\n",
      "\u001b[1m250/250\u001b[0m \u001b[32m━━━━━━━━━━━━━━━━━━━━\u001b[0m\u001b[37m\u001b[0m \u001b[1m0s\u001b[0m 550us/step\n",
      "\u001b[1m250/250\u001b[0m \u001b[32m━━━━━━━━━━━━━━━━━━━━\u001b[0m\u001b[37m\u001b[0m \u001b[1m0s\u001b[0m 550us/step\n",
      "\u001b[1m250/250\u001b[0m \u001b[32m━━━━━━━━━━━━━━━━━━━━\u001b[0m\u001b[37m\u001b[0m \u001b[1m0s\u001b[0m 550us/step\n",
      "\u001b[1m250/250\u001b[0m \u001b[32m━━━━━━━━━━━━━━━━━━━━\u001b[0m\u001b[37m\u001b[0m \u001b[1m0s\u001b[0m 553us/step\n",
      "\u001b[1m250/250\u001b[0m \u001b[32m━━━━━━━━━━━━━━━━━━━━\u001b[0m\u001b[37m\u001b[0m \u001b[1m0s\u001b[0m 551us/step\n",
      "\u001b[1m250/250\u001b[0m \u001b[32m━━━━━━━━━━━━━━━━━━━━\u001b[0m\u001b[37m\u001b[0m \u001b[1m0s\u001b[0m 548us/step\n",
      "\u001b[1m250/250\u001b[0m \u001b[32m━━━━━━━━━━━━━━━━━━━━\u001b[0m\u001b[37m\u001b[0m \u001b[1m0s\u001b[0m 566us/step\n",
      "\u001b[1m250/250\u001b[0m \u001b[32m━━━━━━━━━━━━━━━━━━━━\u001b[0m\u001b[37m\u001b[0m \u001b[1m0s\u001b[0m 549us/step\n",
      "\u001b[1m250/250\u001b[0m \u001b[32m━━━━━━━━━━━━━━━━━━━━\u001b[0m\u001b[37m\u001b[0m \u001b[1m0s\u001b[0m 546us/step\n",
      "\u001b[1m250/250\u001b[0m \u001b[32m━━━━━━━━━━━━━━━━━━━━\u001b[0m\u001b[37m\u001b[0m \u001b[1m0s\u001b[0m 551us/step\n",
      "\u001b[1m250/250\u001b[0m \u001b[32m━━━━━━━━━━━━━━━━━━━━\u001b[0m\u001b[37m\u001b[0m \u001b[1m0s\u001b[0m 551us/step\n",
      "\u001b[1m250/250\u001b[0m \u001b[32m━━━━━━━━━━━━━━━━━━━━\u001b[0m\u001b[37m\u001b[0m \u001b[1m0s\u001b[0m 549us/step\n",
      "\u001b[1m250/250\u001b[0m \u001b[32m━━━━━━━━━━━━━━━━━━━━\u001b[0m\u001b[37m\u001b[0m \u001b[1m0s\u001b[0m 552us/step\n",
      "\u001b[1m250/250\u001b[0m \u001b[32m━━━━━━━━━━━━━━━━━━━━\u001b[0m\u001b[37m\u001b[0m \u001b[1m0s\u001b[0m 549us/step\n",
      "\u001b[1m250/250\u001b[0m \u001b[32m━━━━━━━━━━━━━━━━━━━━\u001b[0m\u001b[37m\u001b[0m \u001b[1m0s\u001b[0m 548us/step\n",
      "\u001b[1m250/250\u001b[0m \u001b[32m━━━━━━━━━━━━━━━━━━━━\u001b[0m\u001b[37m\u001b[0m \u001b[1m0s\u001b[0m 551us/step\n",
      "\u001b[1m250/250\u001b[0m \u001b[32m━━━━━━━━━━━━━━━━━━━━\u001b[0m\u001b[37m\u001b[0m \u001b[1m0s\u001b[0m 582us/step\n",
      "\u001b[1m250/250\u001b[0m \u001b[32m━━━━━━━━━━━━━━━━━━━━\u001b[0m\u001b[37m\u001b[0m \u001b[1m0s\u001b[0m 554us/step\n",
      "\u001b[1m250/250\u001b[0m \u001b[32m━━━━━━━━━━━━━━━━━━━━\u001b[0m\u001b[37m\u001b[0m \u001b[1m0s\u001b[0m 538us/step\n",
      "\u001b[1m250/250\u001b[0m \u001b[32m━━━━━━━━━━━━━━━━━━━━\u001b[0m\u001b[37m\u001b[0m \u001b[1m0s\u001b[0m 551us/step\n",
      "\u001b[1m250/250\u001b[0m \u001b[32m━━━━━━━━━━━━━━━━━━━━\u001b[0m\u001b[37m\u001b[0m \u001b[1m0s\u001b[0m 548us/step\n",
      "\u001b[1m250/250\u001b[0m \u001b[32m━━━━━━━━━━━━━━━━━━━━\u001b[0m\u001b[37m\u001b[0m \u001b[1m0s\u001b[0m 556us/step\n",
      "\u001b[1m250/250\u001b[0m \u001b[32m━━━━━━━━━━━━━━━━━━━━\u001b[0m\u001b[37m\u001b[0m \u001b[1m0s\u001b[0m 551us/step\n",
      "\u001b[1m250/250\u001b[0m \u001b[32m━━━━━━━━━━━━━━━━━━━━\u001b[0m\u001b[37m\u001b[0m \u001b[1m0s\u001b[0m 552us/step\n",
      "\u001b[1m250/250\u001b[0m \u001b[32m━━━━━━━━━━━━━━━━━━━━\u001b[0m\u001b[37m\u001b[0m \u001b[1m0s\u001b[0m 548us/step\n",
      "\u001b[1m250/250\u001b[0m \u001b[32m━━━━━━━━━━━━━━━━━━━━\u001b[0m\u001b[37m\u001b[0m \u001b[1m0s\u001b[0m 552us/step\n",
      "\u001b[1m250/250\u001b[0m \u001b[32m━━━━━━━━━━━━━━━━━━━━\u001b[0m\u001b[37m\u001b[0m \u001b[1m0s\u001b[0m 550us/step\n",
      "\u001b[1m250/250\u001b[0m \u001b[32m━━━━━━━━━━━━━━━━━━━━\u001b[0m\u001b[37m\u001b[0m \u001b[1m0s\u001b[0m 550us/step\n",
      "\u001b[1m250/250\u001b[0m \u001b[32m━━━━━━━━━━━━━━━━━━━━\u001b[0m\u001b[37m\u001b[0m \u001b[1m0s\u001b[0m 549us/step\n",
      "\u001b[1m250/250\u001b[0m \u001b[32m━━━━━━━━━━━━━━━━━━━━\u001b[0m\u001b[37m\u001b[0m \u001b[1m0s\u001b[0m 550us/step\n",
      "\u001b[1m250/250\u001b[0m \u001b[32m━━━━━━━━━━━━━━━━━━━━\u001b[0m\u001b[37m\u001b[0m \u001b[1m0s\u001b[0m 547us/step\n",
      "\u001b[1m250/250\u001b[0m \u001b[32m━━━━━━━━━━━━━━━━━━━━\u001b[0m\u001b[37m\u001b[0m \u001b[1m0s\u001b[0m 551us/step\n",
      "\u001b[1m250/250\u001b[0m \u001b[32m━━━━━━━━━━━━━━━━━━━━\u001b[0m\u001b[37m\u001b[0m \u001b[1m0s\u001b[0m 551us/step\n",
      "\u001b[1m250/250\u001b[0m \u001b[32m━━━━━━━━━━━━━━━━━━━━\u001b[0m\u001b[37m\u001b[0m \u001b[1m0s\u001b[0m 548us/step\n",
      "\u001b[1m250/250\u001b[0m \u001b[32m━━━━━━━━━━━━━━━━━━━━\u001b[0m\u001b[37m\u001b[0m \u001b[1m0s\u001b[0m 549us/step\n",
      "\u001b[1m250/250\u001b[0m \u001b[32m━━━━━━━━━━━━━━━━━━━━\u001b[0m\u001b[37m\u001b[0m \u001b[1m0s\u001b[0m 564us/step\n",
      "\u001b[1m250/250\u001b[0m \u001b[32m━━━━━━━━━━━━━━━━━━━━\u001b[0m\u001b[37m\u001b[0m \u001b[1m0s\u001b[0m 823us/step\n",
      "\u001b[1m250/250\u001b[0m \u001b[32m━━━━━━━━━━━━━━━━━━━━\u001b[0m\u001b[37m\u001b[0m \u001b[1m0s\u001b[0m 547us/step\n",
      "\u001b[1m250/250\u001b[0m \u001b[32m━━━━━━━━━━━━━━━━━━━━\u001b[0m\u001b[37m\u001b[0m \u001b[1m0s\u001b[0m 552us/step\n",
      "\u001b[1m250/250\u001b[0m \u001b[32m━━━━━━━━━━━━━━━━━━━━\u001b[0m\u001b[37m\u001b[0m \u001b[1m0s\u001b[0m 552us/step\n",
      "\u001b[1m250/250\u001b[0m \u001b[32m━━━━━━━━━━━━━━━━━━━━\u001b[0m\u001b[37m\u001b[0m \u001b[1m0s\u001b[0m 542us/step\n",
      "\u001b[1m250/250\u001b[0m \u001b[32m━━━━━━━━━━━━━━━━━━━━\u001b[0m\u001b[37m\u001b[0m \u001b[1m0s\u001b[0m 554us/step\n",
      "\u001b[1m250/250\u001b[0m \u001b[32m━━━━━━━━━━━━━━━━━━━━\u001b[0m\u001b[37m\u001b[0m \u001b[1m0s\u001b[0m 556us/step\n",
      "\u001b[1m250/250\u001b[0m \u001b[32m━━━━━━━━━━━━━━━━━━━━\u001b[0m\u001b[37m\u001b[0m \u001b[1m0s\u001b[0m 556us/step\n",
      "\u001b[1m250/250\u001b[0m \u001b[32m━━━━━━━━━━━━━━━━━━━━\u001b[0m\u001b[37m\u001b[0m \u001b[1m0s\u001b[0m 551us/step\n",
      "\u001b[1m250/250\u001b[0m \u001b[32m━━━━━━━━━━━━━━━━━━━━\u001b[0m\u001b[37m\u001b[0m \u001b[1m0s\u001b[0m 532us/step\n",
      "\u001b[1m250/250\u001b[0m \u001b[32m━━━━━━━━━━━━━━━━━━━━\u001b[0m\u001b[37m\u001b[0m \u001b[1m0s\u001b[0m 549us/step\n",
      "\u001b[1m250/250\u001b[0m \u001b[32m━━━━━━━━━━━━━━━━━━━━\u001b[0m\u001b[37m\u001b[0m \u001b[1m0s\u001b[0m 550us/step\n",
      "\u001b[1m250/250\u001b[0m \u001b[32m━━━━━━━━━━━━━━━━━━━━\u001b[0m\u001b[37m\u001b[0m \u001b[1m0s\u001b[0m 552us/step\n",
      "\u001b[1m250/250\u001b[0m \u001b[32m━━━━━━━━━━━━━━━━━━━━\u001b[0m\u001b[37m\u001b[0m \u001b[1m0s\u001b[0m 563us/step\n",
      "\u001b[1m250/250\u001b[0m \u001b[32m━━━━━━━━━━━━━━━━━━━━\u001b[0m\u001b[37m\u001b[0m \u001b[1m0s\u001b[0m 563us/step\n",
      "\u001b[1m250/250\u001b[0m \u001b[32m━━━━━━━━━━━━━━━━━━━━\u001b[0m\u001b[37m\u001b[0m \u001b[1m0s\u001b[0m 563us/step\n",
      "\u001b[1m250/250\u001b[0m \u001b[32m━━━━━━━━━━━━━━━━━━━━\u001b[0m\u001b[37m\u001b[0m \u001b[1m0s\u001b[0m 560us/step\n",
      "\u001b[1m250/250\u001b[0m \u001b[32m━━━━━━━━━━━━━━━━━━━━\u001b[0m\u001b[37m\u001b[0m \u001b[1m0s\u001b[0m 538us/step\n",
      "\u001b[1m250/250\u001b[0m \u001b[32m━━━━━━━━━━━━━━━━━━━━\u001b[0m\u001b[37m\u001b[0m \u001b[1m0s\u001b[0m 529us/step\n",
      "\u001b[1m250/250\u001b[0m \u001b[32m━━━━━━━━━━━━━━━━━━━━\u001b[0m\u001b[37m\u001b[0m \u001b[1m0s\u001b[0m 530us/step\n",
      "\u001b[1m250/250\u001b[0m \u001b[32m━━━━━━━━━━━━━━━━━━━━\u001b[0m\u001b[37m\u001b[0m \u001b[1m0s\u001b[0m 530us/step\n",
      "\u001b[1m250/250\u001b[0m \u001b[32m━━━━━━━━━━━━━━━━━━━━\u001b[0m\u001b[37m\u001b[0m \u001b[1m0s\u001b[0m 526us/step\n",
      "\u001b[1m250/250\u001b[0m \u001b[32m━━━━━━━━━━━━━━━━━━━━\u001b[0m\u001b[37m\u001b[0m \u001b[1m0s\u001b[0m 538us/step\n",
      "\u001b[1m250/250\u001b[0m \u001b[32m━━━━━━━━━━━━━━━━━━━━\u001b[0m\u001b[37m\u001b[0m \u001b[1m0s\u001b[0m 548us/step\n",
      "\u001b[1m250/250\u001b[0m \u001b[32m━━━━━━━━━━━━━━━━━━━━\u001b[0m\u001b[37m\u001b[0m \u001b[1m0s\u001b[0m 540us/step\n",
      "\u001b[1m250/250\u001b[0m \u001b[32m━━━━━━━━━━━━━━━━━━━━\u001b[0m\u001b[37m\u001b[0m \u001b[1m0s\u001b[0m 531us/step\n",
      "\u001b[1m250/250\u001b[0m \u001b[32m━━━━━━━━━━━━━━━━━━━━\u001b[0m\u001b[37m\u001b[0m \u001b[1m0s\u001b[0m 534us/step\n",
      "\u001b[1m250/250\u001b[0m \u001b[32m━━━━━━━━━━━━━━━━━━━━\u001b[0m\u001b[37m\u001b[0m \u001b[1m0s\u001b[0m 539us/step\n",
      "\u001b[1m250/250\u001b[0m \u001b[32m━━━━━━━━━━━━━━━━━━━━\u001b[0m\u001b[37m\u001b[0m \u001b[1m0s\u001b[0m 552us/step\n",
      "\u001b[1m250/250\u001b[0m \u001b[32m━━━━━━━━━━━━━━━━━━━━\u001b[0m\u001b[37m\u001b[0m \u001b[1m0s\u001b[0m 537us/step\n",
      "\u001b[1m250/250\u001b[0m \u001b[32m━━━━━━━━━━━━━━━━━━━━\u001b[0m\u001b[37m\u001b[0m \u001b[1m0s\u001b[0m 544us/step\n",
      "\u001b[1m250/250\u001b[0m \u001b[32m━━━━━━━━━━━━━━━━━━━━\u001b[0m\u001b[37m\u001b[0m \u001b[1m0s\u001b[0m 540us/step\n",
      "\u001b[1m250/250\u001b[0m \u001b[32m━━━━━━━━━━━━━━━━━━━━\u001b[0m\u001b[37m\u001b[0m \u001b[1m0s\u001b[0m 534us/step\n",
      "\u001b[1m250/250\u001b[0m \u001b[32m━━━━━━━━━━━━━━━━━━━━\u001b[0m\u001b[37m\u001b[0m \u001b[1m0s\u001b[0m 543us/step\n",
      "\u001b[1m250/250\u001b[0m \u001b[32m━━━━━━━━━━━━━━━━━━━━\u001b[0m\u001b[37m\u001b[0m \u001b[1m0s\u001b[0m 553us/step\n",
      "\u001b[1m250/250\u001b[0m \u001b[32m━━━━━━━━━━━━━━━━━━━━\u001b[0m\u001b[37m\u001b[0m \u001b[1m0s\u001b[0m 551us/step\n",
      "\u001b[1m250/250\u001b[0m \u001b[32m━━━━━━━━━━━━━━━━━━━━\u001b[0m\u001b[37m\u001b[0m \u001b[1m0s\u001b[0m 540us/step\n",
      "\u001b[1m250/250\u001b[0m \u001b[32m━━━━━━━━━━━━━━━━━━━━\u001b[0m\u001b[37m\u001b[0m \u001b[1m0s\u001b[0m 537us/step\n",
      "\u001b[1m250/250\u001b[0m \u001b[32m━━━━━━━━━━━━━━━━━━━━\u001b[0m\u001b[37m\u001b[0m \u001b[1m0s\u001b[0m 532us/step\n",
      "\u001b[1m250/250\u001b[0m \u001b[32m━━━━━━━━━━━━━━━━━━━━\u001b[0m\u001b[37m\u001b[0m \u001b[1m0s\u001b[0m 556us/step\n",
      "\u001b[1m250/250\u001b[0m \u001b[32m━━━━━━━━━━━━━━━━━━━━\u001b[0m\u001b[37m\u001b[0m \u001b[1m0s\u001b[0m 804us/step\n",
      "\u001b[1m250/250\u001b[0m \u001b[32m━━━━━━━━━━━━━━━━━━━━\u001b[0m\u001b[37m\u001b[0m \u001b[1m0s\u001b[0m 558us/step\n",
      "\u001b[1m250/250\u001b[0m \u001b[32m━━━━━━━━━━━━━━━━━━━━\u001b[0m\u001b[37m\u001b[0m \u001b[1m0s\u001b[0m 534us/step\n",
      "\u001b[1m250/250\u001b[0m \u001b[32m━━━━━━━━━━━━━━━━━━━━\u001b[0m\u001b[37m\u001b[0m \u001b[1m0s\u001b[0m 531us/step\n",
      "\u001b[1m250/250\u001b[0m \u001b[32m━━━━━━━━━━━━━━━━━━━━\u001b[0m\u001b[37m\u001b[0m \u001b[1m0s\u001b[0m 541us/step\n",
      "\u001b[1m250/250\u001b[0m \u001b[32m━━━━━━━━━━━━━━━━━━━━\u001b[0m\u001b[37m\u001b[0m \u001b[1m0s\u001b[0m 541us/step\n",
      "\u001b[1m250/250\u001b[0m \u001b[32m━━━━━━━━━━━━━━━━━━━━\u001b[0m\u001b[37m\u001b[0m \u001b[1m0s\u001b[0m 540us/step\n",
      "\u001b[1m250/250\u001b[0m \u001b[32m━━━━━━━━━━━━━━━━━━━━\u001b[0m\u001b[37m\u001b[0m \u001b[1m0s\u001b[0m 537us/step\n",
      "\u001b[1m250/250\u001b[0m \u001b[32m━━━━━━━━━━━━━━━━━━━━\u001b[0m\u001b[37m\u001b[0m \u001b[1m0s\u001b[0m 548us/step\n",
      "\u001b[1m250/250\u001b[0m \u001b[32m━━━━━━━━━━━━━━━━━━━━\u001b[0m\u001b[37m\u001b[0m \u001b[1m0s\u001b[0m 531us/step\n",
      "\u001b[1m250/250\u001b[0m \u001b[32m━━━━━━━━━━━━━━━━━━━━\u001b[0m\u001b[37m\u001b[0m \u001b[1m0s\u001b[0m 533us/step\n",
      "\u001b[1m250/250\u001b[0m \u001b[32m━━━━━━━━━━━━━━━━━━━━\u001b[0m\u001b[37m\u001b[0m \u001b[1m0s\u001b[0m 536us/step\n",
      "\u001b[1m250/250\u001b[0m \u001b[32m━━━━━━━━━━━━━━━━━━━━\u001b[0m\u001b[37m\u001b[0m \u001b[1m0s\u001b[0m 553us/step\n",
      "\u001b[1m250/250\u001b[0m \u001b[32m━━━━━━━━━━━━━━━━━━━━\u001b[0m\u001b[37m\u001b[0m \u001b[1m0s\u001b[0m 534us/step\n",
      "\u001b[1m250/250\u001b[0m \u001b[32m━━━━━━━━━━━━━━━━━━━━\u001b[0m\u001b[37m\u001b[0m \u001b[1m0s\u001b[0m 537us/step\n",
      "\u001b[1m250/250\u001b[0m \u001b[32m━━━━━━━━━━━━━━━━━━━━\u001b[0m\u001b[37m\u001b[0m \u001b[1m0s\u001b[0m 553us/step\n",
      "\u001b[1m250/250\u001b[0m \u001b[32m━━━━━━━━━━━━━━━━━━━━\u001b[0m\u001b[37m\u001b[0m \u001b[1m0s\u001b[0m 537us/step\n",
      "\u001b[1m250/250\u001b[0m \u001b[32m━━━━━━━━━━━━━━━━━━━━\u001b[0m\u001b[37m\u001b[0m \u001b[1m0s\u001b[0m 538us/step\n",
      "\u001b[1m250/250\u001b[0m \u001b[32m━━━━━━━━━━━━━━━━━━━━\u001b[0m\u001b[37m\u001b[0m \u001b[1m0s\u001b[0m 547us/step\n",
      "\u001b[1m250/250\u001b[0m \u001b[32m━━━━━━━━━━━━━━━━━━━━\u001b[0m\u001b[37m\u001b[0m \u001b[1m0s\u001b[0m 542us/step\n",
      "\u001b[1m250/250\u001b[0m \u001b[32m━━━━━━━━━━━━━━━━━━━━\u001b[0m\u001b[37m\u001b[0m \u001b[1m0s\u001b[0m 541us/step\n",
      "\u001b[1m250/250\u001b[0m \u001b[32m━━━━━━━━━━━━━━━━━━━━\u001b[0m\u001b[37m\u001b[0m \u001b[1m0s\u001b[0m 553us/step\n",
      "\u001b[1m250/250\u001b[0m \u001b[32m━━━━━━━━━━━━━━━━━━━━\u001b[0m\u001b[37m\u001b[0m \u001b[1m0s\u001b[0m 545us/step\n",
      "\u001b[1m250/250\u001b[0m \u001b[32m━━━━━━━━━━━━━━━━━━━━\u001b[0m\u001b[37m\u001b[0m \u001b[1m0s\u001b[0m 534us/step\n",
      "\u001b[1m250/250\u001b[0m \u001b[32m━━━━━━━━━━━━━━━━━━━━\u001b[0m\u001b[37m\u001b[0m \u001b[1m0s\u001b[0m 535us/step\n",
      "\u001b[1m250/250\u001b[0m \u001b[32m━━━━━━━━━━━━━━━━━━━━\u001b[0m\u001b[37m\u001b[0m \u001b[1m0s\u001b[0m 544us/step\n",
      "\u001b[1m250/250\u001b[0m \u001b[32m━━━━━━━━━━━━━━━━━━━━\u001b[0m\u001b[37m\u001b[0m \u001b[1m0s\u001b[0m 530us/step\n",
      "\u001b[1m250/250\u001b[0m \u001b[32m━━━━━━━━━━━━━━━━━━━━\u001b[0m\u001b[37m\u001b[0m \u001b[1m0s\u001b[0m 539us/step\n",
      "\u001b[1m250/250\u001b[0m \u001b[32m━━━━━━━━━━━━━━━━━━━━\u001b[0m\u001b[37m\u001b[0m \u001b[1m0s\u001b[0m 536us/step\n",
      "\u001b[1m250/250\u001b[0m \u001b[32m━━━━━━━━━━━━━━━━━━━━\u001b[0m\u001b[37m\u001b[0m \u001b[1m0s\u001b[0m 536us/step\n",
      "\u001b[1m250/250\u001b[0m \u001b[32m━━━━━━━━━━━━━━━━━━━━\u001b[0m\u001b[37m\u001b[0m \u001b[1m0s\u001b[0m 544us/step\n",
      "\u001b[1m250/250\u001b[0m \u001b[32m━━━━━━━━━━━━━━━━━━━━\u001b[0m\u001b[37m\u001b[0m \u001b[1m0s\u001b[0m 535us/step\n",
      "\u001b[1m250/250\u001b[0m \u001b[32m━━━━━━━━━━━━━━━━━━━━\u001b[0m\u001b[37m\u001b[0m \u001b[1m0s\u001b[0m 540us/step\n",
      "\u001b[1m250/250\u001b[0m \u001b[32m━━━━━━━━━━━━━━━━━━━━\u001b[0m\u001b[37m\u001b[0m \u001b[1m0s\u001b[0m 540us/step\n",
      "\u001b[1m250/250\u001b[0m \u001b[32m━━━━━━━━━━━━━━━━━━━━\u001b[0m\u001b[37m\u001b[0m \u001b[1m0s\u001b[0m 544us/step\n",
      "\u001b[1m250/250\u001b[0m \u001b[32m━━━━━━━━━━━━━━━━━━━━\u001b[0m\u001b[37m\u001b[0m \u001b[1m0s\u001b[0m 539us/step\n",
      "\u001b[1m250/250\u001b[0m \u001b[32m━━━━━━━━━━━━━━━━━━━━\u001b[0m\u001b[37m\u001b[0m \u001b[1m0s\u001b[0m 537us/step\n",
      "\u001b[1m250/250\u001b[0m \u001b[32m━━━━━━━━━━━━━━━━━━━━\u001b[0m\u001b[37m\u001b[0m \u001b[1m0s\u001b[0m 537us/step\n",
      "\u001b[1m250/250\u001b[0m \u001b[32m━━━━━━━━━━━━━━━━━━━━\u001b[0m\u001b[37m\u001b[0m \u001b[1m0s\u001b[0m 800us/step\n",
      "\u001b[1m250/250\u001b[0m \u001b[32m━━━━━━━━━━━━━━━━━━━━\u001b[0m\u001b[37m\u001b[0m \u001b[1m0s\u001b[0m 540us/step\n",
      "\u001b[1m250/250\u001b[0m \u001b[32m━━━━━━━━━━━━━━━━━━━━\u001b[0m\u001b[37m\u001b[0m \u001b[1m0s\u001b[0m 538us/step\n",
      "\u001b[1m250/250\u001b[0m \u001b[32m━━━━━━━━━━━━━━━━━━━━\u001b[0m\u001b[37m\u001b[0m \u001b[1m0s\u001b[0m 534us/step\n",
      "\u001b[1m250/250\u001b[0m \u001b[32m━━━━━━━━━━━━━━━━━━━━\u001b[0m\u001b[37m\u001b[0m \u001b[1m0s\u001b[0m 532us/step\n",
      "\u001b[1m250/250\u001b[0m \u001b[32m━━━━━━━━━━━━━━━━━━━━\u001b[0m\u001b[37m\u001b[0m \u001b[1m0s\u001b[0m 546us/step\n",
      "\u001b[1m250/250\u001b[0m \u001b[32m━━━━━━━━━━━━━━━━━━━━\u001b[0m\u001b[37m\u001b[0m \u001b[1m0s\u001b[0m 538us/step\n",
      "\u001b[1m250/250\u001b[0m \u001b[32m━━━━━━━━━━━━━━━━━━━━\u001b[0m\u001b[37m\u001b[0m \u001b[1m0s\u001b[0m 550us/step\n",
      "\u001b[1m250/250\u001b[0m \u001b[32m━━━━━━━━━━━━━━━━━━━━\u001b[0m\u001b[37m\u001b[0m \u001b[1m0s\u001b[0m 547us/step\n",
      "\u001b[1m250/250\u001b[0m \u001b[32m━━━━━━━━━━━━━━━━━━━━\u001b[0m\u001b[37m\u001b[0m \u001b[1m0s\u001b[0m 536us/step\n",
      "\u001b[1m250/250\u001b[0m \u001b[32m━━━━━━━━━━━━━━━━━━━━\u001b[0m\u001b[37m\u001b[0m \u001b[1m0s\u001b[0m 536us/step\n",
      "\u001b[1m250/250\u001b[0m \u001b[32m━━━━━━━━━━━━━━━━━━━━\u001b[0m\u001b[37m\u001b[0m \u001b[1m0s\u001b[0m 538us/step\n",
      "\u001b[1m250/250\u001b[0m \u001b[32m━━━━━━━━━━━━━━━━━━━━\u001b[0m\u001b[37m\u001b[0m \u001b[1m0s\u001b[0m 545us/step\n",
      "\u001b[1m250/250\u001b[0m \u001b[32m━━━━━━━━━━━━━━━━━━━━\u001b[0m\u001b[37m\u001b[0m \u001b[1m0s\u001b[0m 535us/step\n",
      "\u001b[1m250/250\u001b[0m \u001b[32m━━━━━━━━━━━━━━━━━━━━\u001b[0m\u001b[37m\u001b[0m \u001b[1m0s\u001b[0m 543us/step\n",
      "\u001b[1m250/250\u001b[0m \u001b[32m━━━━━━━━━━━━━━━━━━━━\u001b[0m\u001b[37m\u001b[0m \u001b[1m0s\u001b[0m 540us/step\n",
      "\u001b[1m250/250\u001b[0m \u001b[32m━━━━━━━━━━━━━━━━━━━━\u001b[0m\u001b[37m\u001b[0m \u001b[1m0s\u001b[0m 534us/step\n",
      "\u001b[1m250/250\u001b[0m \u001b[32m━━━━━━━━━━━━━━━━━━━━\u001b[0m\u001b[37m\u001b[0m \u001b[1m0s\u001b[0m 535us/step\n",
      "\u001b[1m250/250\u001b[0m \u001b[32m━━━━━━━━━━━━━━━━━━━━\u001b[0m\u001b[37m\u001b[0m \u001b[1m0s\u001b[0m 546us/step\n",
      "\u001b[1m250/250\u001b[0m \u001b[32m━━━━━━━━━━━━━━━━━━━━\u001b[0m\u001b[37m\u001b[0m \u001b[1m0s\u001b[0m 537us/step\n",
      "\u001b[1m250/250\u001b[0m \u001b[32m━━━━━━━━━━━━━━━━━━━━\u001b[0m\u001b[37m\u001b[0m \u001b[1m0s\u001b[0m 534us/step\n",
      "\u001b[1m250/250\u001b[0m \u001b[32m━━━━━━━━━━━━━━━━━━━━\u001b[0m\u001b[37m\u001b[0m \u001b[1m0s\u001b[0m 533us/step\n",
      "\u001b[1m250/250\u001b[0m \u001b[32m━━━━━━━━━━━━━━━━━━━━\u001b[0m\u001b[37m\u001b[0m \u001b[1m0s\u001b[0m 557us/step\n",
      "\u001b[1m250/250\u001b[0m \u001b[32m━━━━━━━━━━━━━━━━━━━━\u001b[0m\u001b[37m\u001b[0m \u001b[1m0s\u001b[0m 539us/step\n",
      "\u001b[1m250/250\u001b[0m \u001b[32m━━━━━━━━━━━━━━━━━━━━\u001b[0m\u001b[37m\u001b[0m \u001b[1m0s\u001b[0m 533us/step\n",
      "\u001b[1m250/250\u001b[0m \u001b[32m━━━━━━━━━━━━━━━━━━━━\u001b[0m\u001b[37m\u001b[0m \u001b[1m0s\u001b[0m 537us/step\n",
      "\u001b[1m250/250\u001b[0m \u001b[32m━━━━━━━━━━━━━━━━━━━━\u001b[0m\u001b[37m\u001b[0m \u001b[1m0s\u001b[0m 533us/step\n",
      "\u001b[1m250/250\u001b[0m \u001b[32m━━━━━━━━━━━━━━━━━━━━\u001b[0m\u001b[37m\u001b[0m \u001b[1m0s\u001b[0m 537us/step\n",
      "\u001b[1m250/250\u001b[0m \u001b[32m━━━━━━━━━━━━━━━━━━━━\u001b[0m\u001b[37m\u001b[0m \u001b[1m0s\u001b[0m 556us/step\n",
      "\u001b[1m250/250\u001b[0m \u001b[32m━━━━━━━━━━━━━━━━━━━━\u001b[0m\u001b[37m\u001b[0m \u001b[1m0s\u001b[0m 537us/step\n",
      "\u001b[1m250/250\u001b[0m \u001b[32m━━━━━━━━━━━━━━━━━━━━\u001b[0m\u001b[37m\u001b[0m \u001b[1m0s\u001b[0m 540us/step\n",
      "\u001b[1m250/250\u001b[0m \u001b[32m━━━━━━━━━━━━━━━━━━━━\u001b[0m\u001b[37m\u001b[0m \u001b[1m0s\u001b[0m 536us/step\n",
      "\u001b[1m250/250\u001b[0m \u001b[32m━━━━━━━━━━━━━━━━━━━━\u001b[0m\u001b[37m\u001b[0m \u001b[1m0s\u001b[0m 535us/step\n",
      "\u001b[1m250/250\u001b[0m \u001b[32m━━━━━━━━━━━━━━━━━━━━\u001b[0m\u001b[37m\u001b[0m \u001b[1m0s\u001b[0m 537us/step\n",
      "\u001b[1m250/250\u001b[0m \u001b[32m━━━━━━━━━━━━━━━━━━━━\u001b[0m\u001b[37m\u001b[0m \u001b[1m0s\u001b[0m 533us/step\n",
      "\u001b[1m250/250\u001b[0m \u001b[32m━━━━━━━━━━━━━━━━━━━━\u001b[0m\u001b[37m\u001b[0m \u001b[1m0s\u001b[0m 801us/step\n",
      "\u001b[1m250/250\u001b[0m \u001b[32m━━━━━━━━━━━━━━━━━━━━\u001b[0m\u001b[37m\u001b[0m \u001b[1m0s\u001b[0m 536us/step\n",
      "\u001b[1m250/250\u001b[0m \u001b[32m━━━━━━━━━━━━━━━━━━━━\u001b[0m\u001b[37m\u001b[0m \u001b[1m0s\u001b[0m 547us/step\n",
      "\u001b[1m250/250\u001b[0m \u001b[32m━━━━━━━━━━━━━━━━━━━━\u001b[0m\u001b[37m\u001b[0m \u001b[1m0s\u001b[0m 537us/step\n",
      "\u001b[1m250/250\u001b[0m \u001b[32m━━━━━━━━━━━━━━━━━━━━\u001b[0m\u001b[37m\u001b[0m \u001b[1m0s\u001b[0m 532us/step\n",
      "\u001b[1m250/250\u001b[0m \u001b[32m━━━━━━━━━━━━━━━━━━━━\u001b[0m\u001b[37m\u001b[0m \u001b[1m0s\u001b[0m 541us/step\n",
      "\u001b[1m250/250\u001b[0m \u001b[32m━━━━━━━━━━━━━━━━━━━━\u001b[0m\u001b[37m\u001b[0m \u001b[1m0s\u001b[0m 536us/step\n",
      "\u001b[1m250/250\u001b[0m \u001b[32m━━━━━━━━━━━━━━━━━━━━\u001b[0m\u001b[37m\u001b[0m \u001b[1m0s\u001b[0m 538us/step\n",
      "\u001b[1m250/250\u001b[0m \u001b[32m━━━━━━━━━━━━━━━━━━━━\u001b[0m\u001b[37m\u001b[0m \u001b[1m0s\u001b[0m 539us/step\n",
      "\u001b[1m250/250\u001b[0m \u001b[32m━━━━━━━━━━━━━━━━━━━━\u001b[0m\u001b[37m\u001b[0m \u001b[1m0s\u001b[0m 537us/step\n",
      "\u001b[1m250/250\u001b[0m \u001b[32m━━━━━━━━━━━━━━━━━━━━\u001b[0m\u001b[37m\u001b[0m \u001b[1m0s\u001b[0m 538us/step\n",
      "\u001b[1m250/250\u001b[0m \u001b[32m━━━━━━━━━━━━━━━━━━━━\u001b[0m\u001b[37m\u001b[0m \u001b[1m0s\u001b[0m 532us/step\n",
      "\u001b[1m250/250\u001b[0m \u001b[32m━━━━━━━━━━━━━━━━━━━━\u001b[0m\u001b[37m\u001b[0m \u001b[1m0s\u001b[0m 552us/step\n",
      "\u001b[1m250/250\u001b[0m \u001b[32m━━━━━━━━━━━━━━━━━━━━\u001b[0m\u001b[37m\u001b[0m \u001b[1m0s\u001b[0m 537us/step\n",
      "\u001b[1m250/250\u001b[0m \u001b[32m━━━━━━━━━━━━━━━━━━━━\u001b[0m\u001b[37m\u001b[0m \u001b[1m0s\u001b[0m 530us/step\n",
      "\u001b[1m250/250\u001b[0m \u001b[32m━━━━━━━━━━━━━━━━━━━━\u001b[0m\u001b[37m\u001b[0m \u001b[1m0s\u001b[0m 538us/step\n",
      "\u001b[1m250/250\u001b[0m \u001b[32m━━━━━━━━━━━━━━━━━━━━\u001b[0m\u001b[37m\u001b[0m \u001b[1m0s\u001b[0m 546us/step\n",
      "\u001b[1m250/250\u001b[0m \u001b[32m━━━━━━━━━━━━━━━━━━━━\u001b[0m\u001b[37m\u001b[0m \u001b[1m0s\u001b[0m 534us/step\n",
      "\u001b[1m250/250\u001b[0m \u001b[32m━━━━━━━━━━━━━━━━━━━━\u001b[0m\u001b[37m\u001b[0m \u001b[1m0s\u001b[0m 556us/step\n",
      "\u001b[1m250/250\u001b[0m \u001b[32m━━━━━━━━━━━━━━━━━━━━\u001b[0m\u001b[37m\u001b[0m \u001b[1m0s\u001b[0m 593us/step\n",
      "\u001b[1m250/250\u001b[0m \u001b[32m━━━━━━━━━━━━━━━━━━━━\u001b[0m\u001b[37m\u001b[0m \u001b[1m0s\u001b[0m 561us/step\n",
      "\u001b[1m250/250\u001b[0m \u001b[32m━━━━━━━━━━━━━━━━━━━━\u001b[0m\u001b[37m\u001b[0m \u001b[1m0s\u001b[0m 572us/step\n",
      "\u001b[1m250/250\u001b[0m \u001b[32m━━━━━━━━━━━━━━━━━━━━\u001b[0m\u001b[37m\u001b[0m \u001b[1m0s\u001b[0m 553us/step\n",
      "\u001b[1m250/250\u001b[0m \u001b[32m━━━━━━━━━━━━━━━━━━━━\u001b[0m\u001b[37m\u001b[0m \u001b[1m0s\u001b[0m 551us/step\n",
      "\u001b[1m250/250\u001b[0m \u001b[32m━━━━━━━━━━━━━━━━━━━━\u001b[0m\u001b[37m\u001b[0m \u001b[1m0s\u001b[0m 550us/step\n",
      "\u001b[1m250/250\u001b[0m \u001b[32m━━━━━━━━━━━━━━━━━━━━\u001b[0m\u001b[37m\u001b[0m \u001b[1m0s\u001b[0m 555us/step\n",
      "\u001b[1m250/250\u001b[0m \u001b[32m━━━━━━━━━━━━━━━━━━━━\u001b[0m\u001b[37m\u001b[0m \u001b[1m0s\u001b[0m 553us/step\n",
      "\u001b[1m250/250\u001b[0m \u001b[32m━━━━━━━━━━━━━━━━━━━━\u001b[0m\u001b[37m\u001b[0m \u001b[1m0s\u001b[0m 551us/step\n",
      "\u001b[1m250/250\u001b[0m \u001b[32m━━━━━━━━━━━━━━━━━━━━\u001b[0m\u001b[37m\u001b[0m \u001b[1m0s\u001b[0m 556us/step\n",
      "\u001b[1m250/250\u001b[0m \u001b[32m━━━━━━━━━━━━━━━━━━━━\u001b[0m\u001b[37m\u001b[0m \u001b[1m0s\u001b[0m 564us/step\n",
      "\u001b[1m250/250\u001b[0m \u001b[32m━━━━━━━━━━━━━━━━━━━━\u001b[0m\u001b[37m\u001b[0m \u001b[1m0s\u001b[0m 551us/step\n",
      "\u001b[1m250/250\u001b[0m \u001b[32m━━━━━━━━━━━━━━━━━━━━\u001b[0m\u001b[37m\u001b[0m \u001b[1m0s\u001b[0m 553us/step\n",
      "\u001b[1m250/250\u001b[0m \u001b[32m━━━━━━━━━━━━━━━━━━━━\u001b[0m\u001b[37m\u001b[0m \u001b[1m0s\u001b[0m 551us/step\n",
      "\u001b[1m250/250\u001b[0m \u001b[32m━━━━━━━━━━━━━━━━━━━━\u001b[0m\u001b[37m\u001b[0m \u001b[1m0s\u001b[0m 555us/step\n",
      "\u001b[1m250/250\u001b[0m \u001b[32m━━━━━━━━━━━━━━━━━━━━\u001b[0m\u001b[37m\u001b[0m \u001b[1m0s\u001b[0m 553us/step\n",
      "\u001b[1m250/250\u001b[0m \u001b[32m━━━━━━━━━━━━━━━━━━━━\u001b[0m\u001b[37m\u001b[0m \u001b[1m0s\u001b[0m 552us/step\n",
      "\u001b[1m250/250\u001b[0m \u001b[32m━━━━━━━━━━━━━━━━━━━━\u001b[0m\u001b[37m\u001b[0m \u001b[1m0s\u001b[0m 550us/step\n",
      "\u001b[1m250/250\u001b[0m \u001b[32m━━━━━━━━━━━━━━━━━━━━\u001b[0m\u001b[37m\u001b[0m \u001b[1m0s\u001b[0m 552us/step\n",
      "\u001b[1m250/250\u001b[0m \u001b[32m━━━━━━━━━━━━━━━━━━━━\u001b[0m\u001b[37m\u001b[0m \u001b[1m0s\u001b[0m 556us/step\n",
      "\u001b[1m250/250\u001b[0m \u001b[32m━━━━━━━━━━━━━━━━━━━━\u001b[0m\u001b[37m\u001b[0m \u001b[1m0s\u001b[0m 614us/step\n",
      "\u001b[1m250/250\u001b[0m \u001b[32m━━━━━━━━━━━━━━━━━━━━\u001b[0m\u001b[37m\u001b[0m \u001b[1m0s\u001b[0m 631us/step\n",
      "\u001b[1m250/250\u001b[0m \u001b[32m━━━━━━━━━━━━━━━━━━━━\u001b[0m\u001b[37m\u001b[0m \u001b[1m0s\u001b[0m 622us/step\n",
      "\u001b[1m250/250\u001b[0m \u001b[32m━━━━━━━━━━━━━━━━━━━━\u001b[0m\u001b[37m\u001b[0m \u001b[1m0s\u001b[0m 743us/step\n",
      "\u001b[1m250/250\u001b[0m \u001b[32m━━━━━━━━━━━━━━━━━━━━\u001b[0m\u001b[37m\u001b[0m \u001b[1m0s\u001b[0m 624us/step\n",
      "\u001b[1m250/250\u001b[0m \u001b[32m━━━━━━━━━━━━━━━━━━━━\u001b[0m\u001b[37m\u001b[0m \u001b[1m0s\u001b[0m 634us/step\n",
      "\u001b[1m250/250\u001b[0m \u001b[32m━━━━━━━━━━━━━━━━━━━━\u001b[0m\u001b[37m\u001b[0m \u001b[1m0s\u001b[0m 555us/step\n",
      "\u001b[1m250/250\u001b[0m \u001b[32m━━━━━━━━━━━━━━━━━━━━\u001b[0m\u001b[37m\u001b[0m \u001b[1m0s\u001b[0m 553us/step\n",
      "\u001b[1m250/250\u001b[0m \u001b[32m━━━━━━━━━━━━━━━━━━━━\u001b[0m\u001b[37m\u001b[0m \u001b[1m0s\u001b[0m 553us/step\n",
      "\u001b[1m250/250\u001b[0m \u001b[32m━━━━━━━━━━━━━━━━━━━━\u001b[0m\u001b[37m\u001b[0m \u001b[1m0s\u001b[0m 568us/step\n",
      "\u001b[1m250/250\u001b[0m \u001b[32m━━━━━━━━━━━━━━━━━━━━\u001b[0m\u001b[37m\u001b[0m \u001b[1m0s\u001b[0m 557us/step\n",
      "\u001b[1m250/250\u001b[0m \u001b[32m━━━━━━━━━━━━━━━━━━━━\u001b[0m\u001b[37m\u001b[0m \u001b[1m0s\u001b[0m 539us/step\n",
      "\u001b[1m250/250\u001b[0m \u001b[32m━━━━━━━━━━━━━━━━━━━━\u001b[0m\u001b[37m\u001b[0m \u001b[1m0s\u001b[0m 534us/step\n",
      "\u001b[1m250/250\u001b[0m \u001b[32m━━━━━━━━━━━━━━━━━━━━\u001b[0m\u001b[37m\u001b[0m \u001b[1m0s\u001b[0m 533us/step\n",
      "\u001b[1m250/250\u001b[0m \u001b[32m━━━━━━━━━━━━━━━━━━━━\u001b[0m\u001b[37m\u001b[0m \u001b[1m0s\u001b[0m 531us/step\n",
      "\u001b[1m250/250\u001b[0m \u001b[32m━━━━━━━━━━━━━━━━━━━━\u001b[0m\u001b[37m\u001b[0m \u001b[1m0s\u001b[0m 534us/step\n",
      "\u001b[1m250/250\u001b[0m \u001b[32m━━━━━━━━━━━━━━━━━━━━\u001b[0m\u001b[37m\u001b[0m \u001b[1m0s\u001b[0m 533us/step\n",
      "\u001b[1m250/250\u001b[0m \u001b[32m━━━━━━━━━━━━━━━━━━━━\u001b[0m\u001b[37m\u001b[0m \u001b[1m0s\u001b[0m 556us/step\n",
      "\u001b[1m250/250\u001b[0m \u001b[32m━━━━━━━━━━━━━━━━━━━━\u001b[0m\u001b[37m\u001b[0m \u001b[1m0s\u001b[0m 555us/step\n",
      "\u001b[1m250/250\u001b[0m \u001b[32m━━━━━━━━━━━━━━━━━━━━\u001b[0m\u001b[37m\u001b[0m \u001b[1m0s\u001b[0m 556us/step\n",
      "\u001b[1m250/250\u001b[0m \u001b[32m━━━━━━━━━━━━━━━━━━━━\u001b[0m\u001b[37m\u001b[0m \u001b[1m0s\u001b[0m 565us/step\n",
      "\u001b[1m250/250\u001b[0m \u001b[32m━━━━━━━━━━━━━━━━━━━━\u001b[0m\u001b[37m\u001b[0m \u001b[1m0s\u001b[0m 557us/step\n",
      "\u001b[1m250/250\u001b[0m \u001b[32m━━━━━━━━━━━━━━━━━━━━\u001b[0m\u001b[37m\u001b[0m \u001b[1m0s\u001b[0m 838us/step\n",
      "\u001b[1m250/250\u001b[0m \u001b[32m━━━━━━━━━━━━━━━━━━━━\u001b[0m\u001b[37m\u001b[0m \u001b[1m0s\u001b[0m 559us/step\n",
      "\u001b[1m250/250\u001b[0m \u001b[32m━━━━━━━━━━━━━━━━━━━━\u001b[0m\u001b[37m\u001b[0m \u001b[1m0s\u001b[0m 558us/step\n",
      "\u001b[1m250/250\u001b[0m \u001b[32m━━━━━━━━━━━━━━━━━━━━\u001b[0m\u001b[37m\u001b[0m \u001b[1m0s\u001b[0m 559us/step\n",
      "\u001b[1m250/250\u001b[0m \u001b[32m━━━━━━━━━━━━━━━━━━━━\u001b[0m\u001b[37m\u001b[0m \u001b[1m0s\u001b[0m 560us/step\n",
      "\u001b[1m250/250\u001b[0m \u001b[32m━━━━━━━━━━━━━━━━━━━━\u001b[0m\u001b[37m\u001b[0m \u001b[1m0s\u001b[0m 558us/step\n",
      "\u001b[1m250/250\u001b[0m \u001b[32m━━━━━━━━━━━━━━━━━━━━\u001b[0m\u001b[37m\u001b[0m \u001b[1m0s\u001b[0m 572us/step\n",
      "\u001b[1m250/250\u001b[0m \u001b[32m━━━━━━━━━━━━━━━━━━━━\u001b[0m\u001b[37m\u001b[0m \u001b[1m0s\u001b[0m 556us/step\n",
      "\u001b[1m250/250\u001b[0m \u001b[32m━━━━━━━━━━━━━━━━━━━━\u001b[0m\u001b[37m\u001b[0m \u001b[1m0s\u001b[0m 558us/step\n",
      "\u001b[1m250/250\u001b[0m \u001b[32m━━━━━━━━━━━━━━━━━━━━\u001b[0m\u001b[37m\u001b[0m \u001b[1m0s\u001b[0m 552us/step\n",
      "\u001b[1m250/250\u001b[0m \u001b[32m━━━━━━━━━━━━━━━━━━━━\u001b[0m\u001b[37m\u001b[0m \u001b[1m0s\u001b[0m 557us/step\n",
      "\u001b[1m250/250\u001b[0m \u001b[32m━━━━━━━━━━━━━━━━━━━━\u001b[0m\u001b[37m\u001b[0m \u001b[1m0s\u001b[0m 561us/step\n",
      "\u001b[1m250/250\u001b[0m \u001b[32m━━━━━━━━━━━━━━━━━━━━\u001b[0m\u001b[37m\u001b[0m \u001b[1m0s\u001b[0m 560us/step\n",
      "\u001b[1m250/250\u001b[0m \u001b[32m━━━━━━━━━━━━━━━━━━━━\u001b[0m\u001b[37m\u001b[0m \u001b[1m0s\u001b[0m 574us/step\n",
      "\u001b[1m250/250\u001b[0m \u001b[32m━━━━━━━━━━━━━━━━━━━━\u001b[0m\u001b[37m\u001b[0m \u001b[1m0s\u001b[0m 556us/step\n",
      "\u001b[1m250/250\u001b[0m \u001b[32m━━━━━━━━━━━━━━━━━━━━\u001b[0m\u001b[37m\u001b[0m \u001b[1m0s\u001b[0m 555us/step\n",
      "\u001b[1m250/250\u001b[0m \u001b[32m━━━━━━━━━━━━━━━━━━━━\u001b[0m\u001b[37m\u001b[0m \u001b[1m0s\u001b[0m 556us/step\n",
      "\u001b[1m250/250\u001b[0m \u001b[32m━━━━━━━━━━━━━━━━━━━━\u001b[0m\u001b[37m\u001b[0m \u001b[1m0s\u001b[0m 557us/step\n",
      "\u001b[1m250/250\u001b[0m \u001b[32m━━━━━━━━━━━━━━━━━━━━\u001b[0m\u001b[37m\u001b[0m \u001b[1m0s\u001b[0m 559us/step\n",
      "\u001b[1m250/250\u001b[0m \u001b[32m━━━━━━━━━━━━━━━━━━━━\u001b[0m\u001b[37m\u001b[0m \u001b[1m0s\u001b[0m 569us/step\n",
      "\u001b[1m250/250\u001b[0m \u001b[32m━━━━━━━━━━━━━━━━━━━━\u001b[0m\u001b[37m\u001b[0m \u001b[1m0s\u001b[0m 557us/step\n",
      "\u001b[1m250/250\u001b[0m \u001b[32m━━━━━━━━━━━━━━━━━━━━\u001b[0m\u001b[37m\u001b[0m \u001b[1m0s\u001b[0m 560us/step\n",
      "\u001b[1m250/250\u001b[0m \u001b[32m━━━━━━━━━━━━━━━━━━━━\u001b[0m\u001b[37m\u001b[0m \u001b[1m0s\u001b[0m 559us/step\n",
      "\u001b[1m250/250\u001b[0m \u001b[32m━━━━━━━━━━━━━━━━━━━━\u001b[0m\u001b[37m\u001b[0m \u001b[1m0s\u001b[0m 554us/step\n",
      "\u001b[1m250/250\u001b[0m \u001b[32m━━━━━━━━━━━━━━━━━━━━\u001b[0m\u001b[37m\u001b[0m \u001b[1m0s\u001b[0m 557us/step\n",
      "\u001b[1m250/250\u001b[0m \u001b[32m━━━━━━━━━━━━━━━━━━━━\u001b[0m\u001b[37m\u001b[0m \u001b[1m0s\u001b[0m 556us/step\n",
      "\u001b[1m250/250\u001b[0m \u001b[32m━━━━━━━━━━━━━━━━━━━━\u001b[0m\u001b[37m\u001b[0m \u001b[1m0s\u001b[0m 569us/step\n",
      "\u001b[1m250/250\u001b[0m \u001b[32m━━━━━━━━━━━━━━━━━━━━\u001b[0m\u001b[37m\u001b[0m \u001b[1m0s\u001b[0m 560us/step\n",
      "\u001b[1m250/250\u001b[0m \u001b[32m━━━━━━━━━━━━━━━━━━━━\u001b[0m\u001b[37m\u001b[0m \u001b[1m0s\u001b[0m 555us/step\n",
      "\u001b[1m250/250\u001b[0m \u001b[32m━━━━━━━━━━━━━━━━━━━━\u001b[0m\u001b[37m\u001b[0m \u001b[1m0s\u001b[0m 559us/step\n",
      "\u001b[1m250/250\u001b[0m \u001b[32m━━━━━━━━━━━━━━━━━━━━\u001b[0m\u001b[37m\u001b[0m \u001b[1m0s\u001b[0m 559us/step\n",
      "\u001b[1m250/250\u001b[0m \u001b[32m━━━━━━━━━━━━━━━━━━━━\u001b[0m\u001b[37m\u001b[0m \u001b[1m0s\u001b[0m 554us/step\n",
      "\u001b[1m250/250\u001b[0m \u001b[32m━━━━━━━━━━━━━━━━━━━━\u001b[0m\u001b[37m\u001b[0m \u001b[1m0s\u001b[0m 560us/step\n",
      "\u001b[1m250/250\u001b[0m \u001b[32m━━━━━━━━━━━━━━━━━━━━\u001b[0m\u001b[37m\u001b[0m \u001b[1m0s\u001b[0m 553us/step\n",
      "\u001b[1m250/250\u001b[0m \u001b[32m━━━━━━━━━━━━━━━━━━━━\u001b[0m\u001b[37m\u001b[0m \u001b[1m0s\u001b[0m 560us/step\n",
      "\u001b[1m250/250\u001b[0m \u001b[32m━━━━━━━━━━━━━━━━━━━━\u001b[0m\u001b[37m\u001b[0m \u001b[1m0s\u001b[0m 557us/step\n",
      "\u001b[1m250/250\u001b[0m \u001b[32m━━━━━━━━━━━━━━━━━━━━\u001b[0m\u001b[37m\u001b[0m \u001b[1m0s\u001b[0m 557us/step\n",
      "\u001b[1m250/250\u001b[0m \u001b[32m━━━━━━━━━━━━━━━━━━━━\u001b[0m\u001b[37m\u001b[0m \u001b[1m0s\u001b[0m 557us/step\n",
      "\u001b[1m250/250\u001b[0m \u001b[32m━━━━━━━━━━━━━━━━━━━━\u001b[0m\u001b[37m\u001b[0m \u001b[1m0s\u001b[0m 553us/step\n",
      "\u001b[1m250/250\u001b[0m \u001b[32m━━━━━━━━━━━━━━━━━━━━\u001b[0m\u001b[37m\u001b[0m \u001b[1m0s\u001b[0m 568us/step\n",
      "\u001b[1m250/250\u001b[0m \u001b[32m━━━━━━━━━━━━━━━━━━━━\u001b[0m\u001b[37m\u001b[0m \u001b[1m0s\u001b[0m 560us/step\n",
      "\u001b[1m250/250\u001b[0m \u001b[32m━━━━━━━━━━━━━━━━━━━━\u001b[0m\u001b[37m\u001b[0m \u001b[1m0s\u001b[0m 557us/step\n",
      "\u001b[1m250/250\u001b[0m \u001b[32m━━━━━━━━━━━━━━━━━━━━\u001b[0m\u001b[37m\u001b[0m \u001b[1m0s\u001b[0m 567us/step\n",
      "\u001b[1m250/250\u001b[0m \u001b[32m━━━━━━━━━━━━━━━━━━━━\u001b[0m\u001b[37m\u001b[0m \u001b[1m0s\u001b[0m 557us/step\n",
      "\u001b[1m250/250\u001b[0m \u001b[32m━━━━━━━━━━━━━━━━━━━━\u001b[0m\u001b[37m\u001b[0m \u001b[1m0s\u001b[0m 556us/step\n",
      "\u001b[1m250/250\u001b[0m \u001b[32m━━━━━━━━━━━━━━━━━━━━\u001b[0m\u001b[37m\u001b[0m \u001b[1m0s\u001b[0m 556us/step\n",
      "\u001b[1m250/250\u001b[0m \u001b[32m━━━━━━━━━━━━━━━━━━━━\u001b[0m\u001b[37m\u001b[0m \u001b[1m0s\u001b[0m 557us/step\n",
      "\u001b[1m250/250\u001b[0m \u001b[32m━━━━━━━━━━━━━━━━━━━━\u001b[0m\u001b[37m\u001b[0m \u001b[1m0s\u001b[0m 556us/step\n",
      "\u001b[1m250/250\u001b[0m \u001b[32m━━━━━━━━━━━━━━━━━━━━\u001b[0m\u001b[37m\u001b[0m \u001b[1m0s\u001b[0m 554us/step\n",
      "\u001b[1m250/250\u001b[0m \u001b[32m━━━━━━━━━━━━━━━━━━━━\u001b[0m\u001b[37m\u001b[0m \u001b[1m0s\u001b[0m 557us/step\n",
      "\u001b[1m250/250\u001b[0m \u001b[32m━━━━━━━━━━━━━━━━━━━━\u001b[0m\u001b[37m\u001b[0m \u001b[1m0s\u001b[0m 557us/step\n",
      "\u001b[1m250/250\u001b[0m \u001b[32m━━━━━━━━━━━━━━━━━━━━\u001b[0m\u001b[37m\u001b[0m \u001b[1m0s\u001b[0m 556us/step\n",
      "\u001b[1m250/250\u001b[0m \u001b[32m━━━━━━━━━━━━━━━━━━━━\u001b[0m\u001b[37m\u001b[0m \u001b[1m0s\u001b[0m 567us/step\n",
      "\u001b[1m250/250\u001b[0m \u001b[32m━━━━━━━━━━━━━━━━━━━━\u001b[0m\u001b[37m\u001b[0m \u001b[1m0s\u001b[0m 833us/step\n",
      "\u001b[1m250/250\u001b[0m \u001b[32m━━━━━━━━━━━━━━━━━━━━\u001b[0m\u001b[37m\u001b[0m \u001b[1m0s\u001b[0m 556us/step\n",
      "\u001b[1m250/250\u001b[0m \u001b[32m━━━━━━━━━━━━━━━━━━━━\u001b[0m\u001b[37m\u001b[0m \u001b[1m0s\u001b[0m 554us/step\n",
      "\u001b[1m250/250\u001b[0m \u001b[32m━━━━━━━━━━━━━━━━━━━━\u001b[0m\u001b[37m\u001b[0m \u001b[1m0s\u001b[0m 556us/step\n",
      "\u001b[1m250/250\u001b[0m \u001b[32m━━━━━━━━━━━━━━━━━━━━\u001b[0m\u001b[37m\u001b[0m \u001b[1m0s\u001b[0m 551us/step\n",
      "\u001b[1m250/250\u001b[0m \u001b[32m━━━━━━━━━━━━━━━━━━━━\u001b[0m\u001b[37m\u001b[0m \u001b[1m0s\u001b[0m 558us/step\n",
      "\u001b[1m250/250\u001b[0m \u001b[32m━━━━━━━━━━━━━━━━━━━━\u001b[0m\u001b[37m\u001b[0m \u001b[1m0s\u001b[0m 556us/step\n",
      "\u001b[1m250/250\u001b[0m \u001b[32m━━━━━━━━━━━━━━━━━━━━\u001b[0m\u001b[37m\u001b[0m \u001b[1m0s\u001b[0m 556us/step\n",
      "\u001b[1m250/250\u001b[0m \u001b[32m━━━━━━━━━━━━━━━━━━━━\u001b[0m\u001b[37m\u001b[0m \u001b[1m0s\u001b[0m 556us/step\n",
      "Maximum accuracy: 0.777\n",
      "Best weights: [0.2, 0.2, 0.6000000000000001, 0.0]\n"
     ]
    }
   ],
   "source": [
    "# Initialize variables to track best weights and accuracy\n",
    "best_acc = 0\n",
    "best_weights = None\n",
    "acc_voting = []\n",
    "\n",
    "# Iterate over possible weights\n",
    "for i in np.arange(0, 1.1, 0.1):\n",
    "    for j in np.arange(0, 1.1 - i, 0.1):\n",
    "        for k in np.arange(0, 1.1 - i - j, 0.1):\n",
    "            weights = [i, j, k, 1 - i - j - k]\n",
    "            voting_pred = voting.predict(X_test, arg=\"soft\", weights=weights)\n",
    "            acc = accuracy_score(y_test, voting_pred)\n",
    "            acc_voting.append((acc, weights))\n",
    "            \n",
    "            # Update best weights if current accuracy is higher\n",
    "            if acc > best_acc:\n",
    "                best_acc = acc\n",
    "                best_weights = weights\n",
    "\n",
    "# Get the maximum accuracy and corresponding weights\n",
    "max_acc, max_weights = max(acc_voting, key=lambda x: x[0])\n",
    "\n",
    "print(f\"Maximum accuracy: {max_acc}\")\n",
    "print(f\"Best weights: {max_weights}\")"
   ]
  },
  {
   "cell_type": "code",
   "execution_count": 70,
   "metadata": {},
   "outputs": [
    {
     "name": "stdout",
     "output_type": "stream",
     "text": [
      "\u001b[1m250/250\u001b[0m \u001b[32m━━━━━━━━━━━━━━━━━━━━\u001b[0m\u001b[37m\u001b[0m \u001b[1m0s\u001b[0m 554us/step\n",
      "The accuracy is 0.77675\n",
      "The confusion matrix \n",
      "['ELSE', 'ENTERTAINMENT', 'POLITICS', 'WELLNESS'] is \n",
      "[[1177  271  221  331]\n",
      " [ 199 1641  107   53]\n",
      " [ 200   70 1698   32]\n",
      " [ 224   46   32 1698]]\n",
      "F1 Score when we treat ELSE as negative: 0.8814754098360655\n",
      "F1 Score for everclass: \n",
      "['ELSE', 'ENTERTAINMENT', 'POLITICS', 'WELLNESS'] \n",
      "[0.61947368 0.81479643 0.83686545 0.82547399]\n"
     ]
    }
   ],
   "source": [
    "voting_pred = voting.predict(X_test, arg=\"soft\", weights=[0.2, 0.3, 0.5, 0.0])\n",
    "get_accuracy(y_test, voting_pred)"
   ]
  },
  {
   "cell_type": "markdown",
   "metadata": {},
   "source": [
    "Note that hard voting sometimes is not good enough. We prefer using the soft with a slightly change of weights."
   ]
  },
  {
   "cell_type": "code",
   "execution_count": 71,
   "metadata": {},
   "outputs": [
    {
     "name": "stdout",
     "output_type": "stream",
     "text": [
      "\u001b[1m250/250\u001b[0m \u001b[32m━━━━━━━━━━━━━━━━━━━━\u001b[0m\u001b[37m\u001b[0m \u001b[1m0s\u001b[0m 554us/step\n",
      "The accuracy is 0.776625\n",
      "The confusion matrix \n",
      "['ELSE', 'ENTERTAINMENT', 'POLITICS', 'WELLNESS'] is \n",
      "[[1163  284  232  321]\n",
      " [ 201 1630  113   56]\n",
      " [ 195   57 1712   36]\n",
      " [ 228   39   25 1708]]\n",
      "F1 Score when we treat ELSE as negative: 0.880373372635716\n",
      "F1 Score for everclass: \n",
      "['ELSE', 'ENTERTAINMENT', 'POLITICS', 'WELLNESS'] \n",
      "[0.6142065  0.81296758 0.83880451 0.82892502]\n"
     ]
    },
    {
     "name": "stderr",
     "output_type": "stream",
     "text": [
      "/var/folders/l_/txq0vh11623_5lrnfw_cpmsh0000gn/T/ipykernel_3591/2370515181.py:4: FutureWarning: Series.__getitem__ treating keys as positions is deprecated. In a future version, integer keys will always be treated as labels (consistent with DataFrame behavior). To access a value by position, use `ser.iloc[pos]`\n",
      "  results = {'index': misclassified_idx, 'true': y_test[misclassified_idx], 'pred': y_pred[misclassified_idx], 'headline': sampled_test['headline_summary_tokenized'].iloc[misclassified_idx].apply(lambda x: ' '.join(x))}\n"
     ]
    }
   ],
   "source": [
    "voting_pred = voting.predict(X_test, arg=\"soft\", weights=[0.2, 0.2, 0.4, 0.2])\n",
    "get_accuracy(y_test, voting_pred)\n",
    "mis_voting_soft = get_misclassified_samples(y_test, voting_pred)"
   ]
  },
  {
   "cell_type": "code",
   "execution_count": 79,
   "metadata": {},
   "outputs": [
    {
     "data": {
      "text/plain": [
       "['/Users/xiaokangwang/Documents/PycharmProjects/Projects for Erdos 2024 fall/data_set/model_news/classification_headline.joblib']"
      ]
     },
     "execution_count": 79,
     "metadata": {},
     "output_type": "execute_result"
    }
   ],
   "source": [
    "# Save the fitted model\n",
    "votting_model_path = os.path.join(config['info']['local_data_path'], 'model_news', config['news_model']['input']['classification_headlines'])\n",
    "joblib.dump(voting, votting_model_path)"
   ]
  },
  {
   "cell_type": "markdown",
   "metadata": {},
   "source": [
    "It is good enough to seperate the lables except 'ELSE'. And this is beacuse our choice of 'ELSE' is quite arbitary, the f1 score of this class is relatively low."
   ]
  },
  {
   "cell_type": "markdown",
   "metadata": {},
   "source": [
    "## Use the model to predict the ALL_news dataset"
   ]
  },
  {
   "cell_type": "code",
   "execution_count": 72,
   "metadata": {},
   "outputs": [],
   "source": [
    "# Load the political data\n",
    "political_path = os.path.join(config['info']['local_data_path'], 'data_clean', config['news_preprocessing']['output']['all_news_politic_cleaned_file'])\n",
    "political = pd.read_csv(political_path)"
   ]
  },
  {
   "cell_type": "code",
   "execution_count": 73,
   "metadata": {},
   "outputs": [
    {
     "data": {
      "text/html": [
       "<div>\n",
       "<style scoped>\n",
       "    .dataframe tbody tr th:only-of-type {\n",
       "        vertical-align: middle;\n",
       "    }\n",
       "\n",
       "    .dataframe tbody tr th {\n",
       "        vertical-align: top;\n",
       "    }\n",
       "\n",
       "    .dataframe thead th {\n",
       "        text-align: right;\n",
       "    }\n",
       "</style>\n",
       "<table border=\"1\" class=\"dataframe\">\n",
       "  <thead>\n",
       "    <tr style=\"text-align: right;\">\n",
       "      <th></th>\n",
       "      <th>date</th>\n",
       "      <th>title</th>\n",
       "      <th>section</th>\n",
       "      <th>publication</th>\n",
       "      <th>summary</th>\n",
       "      <th>token</th>\n",
       "      <th>word_count</th>\n",
       "    </tr>\n",
       "  </thead>\n",
       "  <tbody>\n",
       "    <tr>\n",
       "      <th>0</th>\n",
       "      <td>2017-04-07 00:00:00</td>\n",
       "      <td>U.S. lawmakers ask for disclosure of number of...</td>\n",
       "      <td>Politics</td>\n",
       "      <td>Reuters</td>\n",
       "      <td>WASHINGTON (Reuters) - A U.S. congressional co...</td>\n",
       "      <td>['washington', 'reuters', 'congressional', 'co...</td>\n",
       "      <td>402</td>\n",
       "    </tr>\n",
       "    <tr>\n",
       "      <th>1</th>\n",
       "      <td>2017-10-16 00:00:00</td>\n",
       "      <td>Trump keeping options open as Republican feud ...</td>\n",
       "      <td>Politics</td>\n",
       "      <td>Reuters</td>\n",
       "      <td>WASHINGTON (Reuters) - Like the deal-maker he ...</td>\n",
       "      <td>['washington', 'reuters', 'like', 'say', 'pres...</td>\n",
       "      <td>575</td>\n",
       "    </tr>\n",
       "    <tr>\n",
       "      <th>2</th>\n",
       "      <td>2019-01-18 00:00:00</td>\n",
       "      <td>Trump tells anti-abortion marchers he will sup...</td>\n",
       "      <td>Politics</td>\n",
       "      <td>Reuters</td>\n",
       "      <td>WASHINGTON (Reuters) - U.S. President Donald T...</td>\n",
       "      <td>['washington', 'reuters', 'president', 'donald...</td>\n",
       "      <td>421</td>\n",
       "    </tr>\n",
       "    <tr>\n",
       "      <th>3</th>\n",
       "      <td>2016-07-21 00:00:00</td>\n",
       "      <td>Exclusive: Trump considering fracking mogul Ha...</td>\n",
       "      <td>Politics</td>\n",
       "      <td>Reuters</td>\n",
       "      <td>CLEVELAND (Reuters) - Republican presidential ...</td>\n",
       "      <td>['cleveland', 'reuters', 'republican', 'presid...</td>\n",
       "      <td>610</td>\n",
       "    </tr>\n",
       "    <tr>\n",
       "      <th>4</th>\n",
       "      <td>2017-10-06 00:00:00</td>\n",
       "      <td>White House chief of staff's personal cellphon...</td>\n",
       "      <td>Politics</td>\n",
       "      <td>Reuters</td>\n",
       "      <td>WASHINGTON (Reuters) - White House officials b...</td>\n",
       "      <td>['washington', 'reuters', 'white', 'house', 'o...</td>\n",
       "      <td>174</td>\n",
       "    </tr>\n",
       "  </tbody>\n",
       "</table>\n",
       "</div>"
      ],
      "text/plain": [
       "                  date                                              title  \\\n",
       "0  2017-04-07 00:00:00  U.S. lawmakers ask for disclosure of number of...   \n",
       "1  2017-10-16 00:00:00  Trump keeping options open as Republican feud ...   \n",
       "2  2019-01-18 00:00:00  Trump tells anti-abortion marchers he will sup...   \n",
       "3  2016-07-21 00:00:00  Exclusive: Trump considering fracking mogul Ha...   \n",
       "4  2017-10-06 00:00:00  White House chief of staff's personal cellphon...   \n",
       "\n",
       "    section publication                                            summary  \\\n",
       "0  Politics     Reuters  WASHINGTON (Reuters) - A U.S. congressional co...   \n",
       "1  Politics     Reuters  WASHINGTON (Reuters) - Like the deal-maker he ...   \n",
       "2  Politics     Reuters  WASHINGTON (Reuters) - U.S. President Donald T...   \n",
       "3  Politics     Reuters  CLEVELAND (Reuters) - Republican presidential ...   \n",
       "4  Politics     Reuters  WASHINGTON (Reuters) - White House officials b...   \n",
       "\n",
       "                                               token  word_count  \n",
       "0  ['washington', 'reuters', 'congressional', 'co...         402  \n",
       "1  ['washington', 'reuters', 'like', 'say', 'pres...         575  \n",
       "2  ['washington', 'reuters', 'president', 'donald...         421  \n",
       "3  ['cleveland', 'reuters', 'republican', 'presid...         610  \n",
       "4  ['washington', 'reuters', 'white', 'house', 'o...         174  "
      ]
     },
     "execution_count": 73,
     "metadata": {},
     "output_type": "execute_result"
    }
   ],
   "source": [
    "political.head()"
   ]
  },
  {
   "cell_type": "code",
   "execution_count": 74,
   "metadata": {},
   "outputs": [],
   "source": [
    "# Leave only the first 100 tokens\n",
    "political_headlines = political['token'].apply(lambda x: x.split()[2:102])"
   ]
  },
  {
   "cell_type": "code",
   "execution_count": 75,
   "metadata": {},
   "outputs": [
    {
     "data": {
      "text/plain": [
       "0    ['congressional',, 'committee',, 'friday',, 'a...\n",
       "1    ['like',, 'say',, 'president',, 'donald',, 'tr...\n",
       "2    ['president',, 'donald',, 'trump',, 'spoke',, ...\n",
       "3    ['republican',, 'presidential',, 'candidate',,...\n",
       "4    ['white',, 'house',, 'official',, 'believe',, ...\n",
       "Name: token, dtype: object"
      ]
     },
     "execution_count": 75,
     "metadata": {},
     "output_type": "execute_result"
    }
   ],
   "source": [
    "political_headlines.head()"
   ]
  },
  {
   "cell_type": "code",
   "execution_count": 76,
   "metadata": {},
   "outputs": [],
   "source": [
    "# use the tfidf vectorizer to transform the data\n",
    "political_headlines_joined = political_headlines.apply(lambda x: ' '.join(x))\n",
    "political_tfidf = nmf.transform(tfidf.transform(political_headlines_joined))"
   ]
  },
  {
   "cell_type": "code",
   "execution_count": 77,
   "metadata": {},
   "outputs": [
    {
     "name": "stdout",
     "output_type": "stream",
     "text": [
      "\u001b[1m910/910\u001b[0m \u001b[32m━━━━━━━━━━━━━━━━━━━━\u001b[0m\u001b[37m\u001b[0m \u001b[1m1s\u001b[0m 572us/step\n"
     ]
    }
   ],
   "source": [
    "pred = voting.predict(political_tfidf, arg=\"soft\", weights=[0.2, 0.2, 0.4, 0.2])"
   ]
  },
  {
   "cell_type": "code",
   "execution_count": 78,
   "metadata": {},
   "outputs": [
    {
     "name": "stdout",
     "output_type": "stream",
     "text": [
      "The percentage of the true politic detection is 96.7513493072983%\n"
     ]
    }
   ],
   "source": [
    "pd.Series(pred).describe()\n",
    "print(f\"The percentage of the true politic detection is {pd.Series(pred).value_counts(normalize=True)['POLITICS']*100}%\")"
   ]
  },
  {
   "cell_type": "markdown",
   "metadata": {},
   "source": [
    "It works!"
   ]
  },
  {
   "cell_type": "code",
   "execution_count": null,
   "metadata": {},
   "outputs": [],
   "source": []
  }
 ],
 "metadata": {
  "kernelspec": {
   "display_name": "erdosnewsfinanceproject-fYB74UfD-py3.12",
   "language": "python",
   "name": "python3"
  },
  "language_info": {
   "codemirror_mode": {
    "name": "ipython",
    "version": 3
   },
   "file_extension": ".py",
   "mimetype": "text/x-python",
   "name": "python",
   "nbconvert_exporter": "python",
   "pygments_lexer": "ipython3",
   "version": "3.12.0"
  }
 },
 "nbformat": 4,
 "nbformat_minor": 2
}
