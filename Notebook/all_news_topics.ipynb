{
 "cells": [
  {
   "cell_type": "code",
   "execution_count": 1,
   "metadata": {},
   "outputs": [],
   "source": [
    "import os\n",
    "import pandas as pd"
   ]
  },
  {
   "cell_type": "code",
   "execution_count": 2,
   "metadata": {},
   "outputs": [],
   "source": [
    "local_data_path = \"/Users/xwpeng/Projects/Erdos_NewsFin/data/model_news\""
   ]
  },
  {
   "cell_type": "code",
   "execution_count": 3,
   "metadata": {},
   "outputs": [],
   "source": [
    "# experiment 1\n",
    "# 150 topics\n",
    "# filter tokens:\n",
    "# (1) shown at least 100 news articles\n",
    "# (2) 30% of the total number of documents\n",
    "# (3) 1000 high frequency tokens\n",
    "\n",
    "# experiment 2\n",
    "# 150 topics\n",
    "# filter tokens:\n",
    "# (1) shown at least 10 news articles\n",
    "# (2) 50% of the total number of documents\n",
    "# (3) 5000 high frequency tokens\n",
    "\n",
    "topics_1 = pd.read_csv(os.path.join(local_data_path, \"all_100_03_1000\", \"HDP_150_news_topics.csv\"))\n",
    "topics_2 = pd.read_csv(os.path.join(local_data_path, \"all_10_05_5000\", \"HDP_150_news_topics.csv\"))"
   ]
  },
  {
   "cell_type": "code",
   "execution_count": 4,
   "metadata": {},
   "outputs": [
    {
     "data": {
      "text/html": [
       "<div>\n",
       "<style scoped>\n",
       "    .dataframe tbody tr th:only-of-type {\n",
       "        vertical-align: middle;\n",
       "    }\n",
       "\n",
       "    .dataframe tbody tr th {\n",
       "        vertical-align: top;\n",
       "    }\n",
       "\n",
       "    .dataframe thead th {\n",
       "        text-align: right;\n",
       "    }\n",
       "</style>\n",
       "<table border=\"1\" class=\"dataframe\">\n",
       "  <thead>\n",
       "    <tr style=\"text-align: right;\">\n",
       "      <th></th>\n",
       "      <th>topic</th>\n",
       "      <th>words</th>\n",
       "      <th>weights</th>\n",
       "    </tr>\n",
       "  </thead>\n",
       "  <tbody>\n",
       "    <tr>\n",
       "      <th>0</th>\n",
       "      <td>0</td>\n",
       "      <td>['worth', 'higher', 'build', 'man', 'fact', 'h...</td>\n",
       "      <td>[0.001324, 0.001311, 0.001278, 0.001276, 0.001...</td>\n",
       "    </tr>\n",
       "    <tr>\n",
       "      <th>1</th>\n",
       "      <td>1</td>\n",
       "      <td>['budget', 'seems', 'intelligence', 'go', 'fac...</td>\n",
       "      <td>[0.001347, 0.001305, 0.001285, 0.001277, 0.001...</td>\n",
       "    </tr>\n",
       "    <tr>\n",
       "      <th>2</th>\n",
       "      <td>2</td>\n",
       "      <td>['directly', 'trumpdonald', 'especially', 'kin...</td>\n",
       "      <td>[0.001307, 0.00129, 0.001289, 0.001287, 0.0012...</td>\n",
       "    </tr>\n",
       "    <tr>\n",
       "      <th>3</th>\n",
       "      <td>3</td>\n",
       "      <td>['issued', 'nine', 'washington', 'previously',...</td>\n",
       "      <td>[0.001401, 0.001378, 0.001325, 0.001309, 0.001...</td>\n",
       "    </tr>\n",
       "    <tr>\n",
       "      <th>4</th>\n",
       "      <td>4</td>\n",
       "      <td>['crisis', '2', 'took', 'remains', 'second', '...</td>\n",
       "      <td>[0.001296, 0.001281, 0.001278, 0.001278, 0.001...</td>\n",
       "    </tr>\n",
       "  </tbody>\n",
       "</table>\n",
       "</div>"
      ],
      "text/plain": [
       "   topic                                              words  \\\n",
       "0      0  ['worth', 'higher', 'build', 'man', 'fact', 'h...   \n",
       "1      1  ['budget', 'seems', 'intelligence', 'go', 'fac...   \n",
       "2      2  ['directly', 'trumpdonald', 'especially', 'kin...   \n",
       "3      3  ['issued', 'nine', 'washington', 'previously',...   \n",
       "4      4  ['crisis', '2', 'took', 'remains', 'second', '...   \n",
       "\n",
       "                                             weights  \n",
       "0  [0.001324, 0.001311, 0.001278, 0.001276, 0.001...  \n",
       "1  [0.001347, 0.001305, 0.001285, 0.001277, 0.001...  \n",
       "2  [0.001307, 0.00129, 0.001289, 0.001287, 0.0012...  \n",
       "3  [0.001401, 0.001378, 0.001325, 0.001309, 0.001...  \n",
       "4  [0.001296, 0.001281, 0.001278, 0.001278, 0.001...  "
      ]
     },
     "execution_count": 4,
     "metadata": {},
     "output_type": "execute_result"
    }
   ],
   "source": [
    "topics_1.head()"
   ]
  },
  {
   "cell_type": "code",
   "execution_count": 5,
   "metadata": {},
   "outputs": [
    {
     "data": {
      "text/html": [
       "<div>\n",
       "<style scoped>\n",
       "    .dataframe tbody tr th:only-of-type {\n",
       "        vertical-align: middle;\n",
       "    }\n",
       "\n",
       "    .dataframe tbody tr th {\n",
       "        vertical-align: top;\n",
       "    }\n",
       "\n",
       "    .dataframe thead th {\n",
       "        text-align: right;\n",
       "    }\n",
       "</style>\n",
       "<table border=\"1\" class=\"dataframe\">\n",
       "  <thead>\n",
       "    <tr style=\"text-align: right;\">\n",
       "      <th></th>\n",
       "      <th>topic</th>\n",
       "      <th>words</th>\n",
       "      <th>weights</th>\n",
       "    </tr>\n",
       "  </thead>\n",
       "  <tbody>\n",
       "    <tr>\n",
       "      <th>0</th>\n",
       "      <td>0</td>\n",
       "      <td>['launching', 'scene', 'gym', 'kid', 'publishe...</td>\n",
       "      <td>[0.000277, 0.000276, 0.000273, 0.000273, 0.000...</td>\n",
       "    </tr>\n",
       "    <tr>\n",
       "      <th>1</th>\n",
       "      <td>1</td>\n",
       "      <td>['guideline', 'assured', 'weigh', 'resulting',...</td>\n",
       "      <td>[0.000278, 0.000277, 0.000274, 0.000271, 0.000...</td>\n",
       "    </tr>\n",
       "    <tr>\n",
       "      <th>2</th>\n",
       "      <td>2</td>\n",
       "      <td>['professional', 'teammate', 'commentator', 'd...</td>\n",
       "      <td>[0.000277, 0.000268, 0.000266, 0.000265, 0.000...</td>\n",
       "    </tr>\n",
       "    <tr>\n",
       "      <th>3</th>\n",
       "      <td>3</td>\n",
       "      <td>['control', 'solar', 'idea', 'state', 'forward...</td>\n",
       "      <td>[0.000278, 0.000278, 0.000275, 0.00027, 0.0002...</td>\n",
       "    </tr>\n",
       "    <tr>\n",
       "      <th>4</th>\n",
       "      <td>4</td>\n",
       "      <td>['described', 'funded', 'specific', 'ken', 'ri...</td>\n",
       "      <td>[0.000286, 0.000271, 0.000269, 0.000269, 0.000...</td>\n",
       "    </tr>\n",
       "  </tbody>\n",
       "</table>\n",
       "</div>"
      ],
      "text/plain": [
       "   topic                                              words  \\\n",
       "0      0  ['launching', 'scene', 'gym', 'kid', 'publishe...   \n",
       "1      1  ['guideline', 'assured', 'weigh', 'resulting',...   \n",
       "2      2  ['professional', 'teammate', 'commentator', 'd...   \n",
       "3      3  ['control', 'solar', 'idea', 'state', 'forward...   \n",
       "4      4  ['described', 'funded', 'specific', 'ken', 'ri...   \n",
       "\n",
       "                                             weights  \n",
       "0  [0.000277, 0.000276, 0.000273, 0.000273, 0.000...  \n",
       "1  [0.000278, 0.000277, 0.000274, 0.000271, 0.000...  \n",
       "2  [0.000277, 0.000268, 0.000266, 0.000265, 0.000...  \n",
       "3  [0.000278, 0.000278, 0.000275, 0.00027, 0.0002...  \n",
       "4  [0.000286, 0.000271, 0.000269, 0.000269, 0.000...  "
      ]
     },
     "execution_count": 5,
     "metadata": {},
     "output_type": "execute_result"
    }
   ],
   "source": [
    "topics_2.head()"
   ]
  },
  {
   "cell_type": "code",
   "execution_count": 6,
   "metadata": {},
   "outputs": [
    {
     "data": {
      "text/plain": [
       "\"['reserve', 'string', 'stated', 'gary', 'expected', 'nelson', 'boosting', 'tom', 'secretary', 'explain', 'succeed', '42', 'perfectly', 'typical', 'traditionally', 'immigration', 'purchase', 'cautious', 'code', 'unlike', 'use', 'attract', 'drawing', 'finance', 'protest', 'unclear', 'republic', 'approach', 'ball', 'opposition', 'mounting', 'armed', 'basically', 'floor', 'city', 'truly', 'sit', 'comedy', 'flood', 'establishment', 'essential', 'somehow', 'legally', 'surveillance', 'arm', 'milk', 'touch', 'panel', 'venezuela', 'africa', 'equipment', 'understood', 'promised', 'disclosure', 'sent', 'survey', 'spur', 'hiding', 'need', 'range', 'inspector', 'holiday', 'collins', 'marijuana', 'signing', 'announce', 'voiced', 'department', 'voting', 'projection', 'bought', 'area', 'outside', 'comparison', 'reporting', 'carefully', 'bunch', 'celebrity', 'holder', 'heaven', 'alphabet', 'jump', 'innovation', 'northeast', 'spoke', 'revealed', 'direction', 'return', 'nevertheless', 'excitement', 'declaration', 'necessary', 'officer', 'court', 'desk', 'chaos', 'making', 'pen', 'running', 'hill']\""
      ]
     },
     "execution_count": 6,
     "metadata": {},
     "output_type": "execute_result"
    }
   ],
   "source": [
    "topics_2[\"words\"][137]"
   ]
  },
  {
   "cell_type": "code",
   "execution_count": 7,
   "metadata": {},
   "outputs": [],
   "source": [
    "news_w_topic_1 = pd.read_csv(os.path.join(local_data_path, \"all_100_03_1000\", \"HDP_150_news_w_topic.csv\"))\n",
    "news_w_topic_2 = pd.read_csv(os.path.join(local_data_path, \"all_10_05_5000\", \"HDP_150_news_w_topic.csv\"))"
   ]
  },
  {
   "cell_type": "code",
   "execution_count": 8,
   "metadata": {},
   "outputs": [
    {
     "data": {
      "text/html": [
       "<div>\n",
       "<style scoped>\n",
       "    .dataframe tbody tr th:only-of-type {\n",
       "        vertical-align: middle;\n",
       "    }\n",
       "\n",
       "    .dataframe tbody tr th {\n",
       "        vertical-align: top;\n",
       "    }\n",
       "\n",
       "    .dataframe thead th {\n",
       "        text-align: right;\n",
       "    }\n",
       "</style>\n",
       "<table border=\"1\" class=\"dataframe\">\n",
       "  <thead>\n",
       "    <tr style=\"text-align: right;\">\n",
       "      <th></th>\n",
       "      <th>date</th>\n",
       "      <th>key_topic</th>\n",
       "      <th>key_topic_wights</th>\n",
       "      <th>all_topics</th>\n",
       "    </tr>\n",
       "  </thead>\n",
       "  <tbody>\n",
       "    <tr>\n",
       "      <th>0</th>\n",
       "      <td>2016-01-01</td>\n",
       "      <td>12</td>\n",
       "      <td>0.987655</td>\n",
       "      <td>[(12, 0.9876548586157392)]</td>\n",
       "    </tr>\n",
       "    <tr>\n",
       "      <th>1</th>\n",
       "      <td>2016-01-01</td>\n",
       "      <td>14</td>\n",
       "      <td>0.676232</td>\n",
       "      <td>[(14, 0.676231652882754), (24, 0.2931798569325...</td>\n",
       "    </tr>\n",
       "    <tr>\n",
       "      <th>2</th>\n",
       "      <td>2016-01-01</td>\n",
       "      <td>24</td>\n",
       "      <td>0.458178</td>\n",
       "      <td>[(24, 0.45817803494638304), (2, 0.415793153306...</td>\n",
       "    </tr>\n",
       "    <tr>\n",
       "      <th>3</th>\n",
       "      <td>2016-01-01</td>\n",
       "      <td>8</td>\n",
       "      <td>0.374486</td>\n",
       "      <td>[(8, 0.3744858154658396), (41, 0.3131695471469...</td>\n",
       "    </tr>\n",
       "    <tr>\n",
       "      <th>4</th>\n",
       "      <td>2016-01-01</td>\n",
       "      <td>18</td>\n",
       "      <td>0.332912</td>\n",
       "      <td>[(18, 0.3329120096822193), (0, 0.3090773959657...</td>\n",
       "    </tr>\n",
       "  </tbody>\n",
       "</table>\n",
       "</div>"
      ],
      "text/plain": [
       "         date  key_topic  key_topic_wights  \\\n",
       "0  2016-01-01         12          0.987655   \n",
       "1  2016-01-01         14          0.676232   \n",
       "2  2016-01-01         24          0.458178   \n",
       "3  2016-01-01          8          0.374486   \n",
       "4  2016-01-01         18          0.332912   \n",
       "\n",
       "                                          all_topics  \n",
       "0                         [(12, 0.9876548586157392)]  \n",
       "1  [(14, 0.676231652882754), (24, 0.2931798569325...  \n",
       "2  [(24, 0.45817803494638304), (2, 0.415793153306...  \n",
       "3  [(8, 0.3744858154658396), (41, 0.3131695471469...  \n",
       "4  [(18, 0.3329120096822193), (0, 0.3090773959657...  "
      ]
     },
     "execution_count": 8,
     "metadata": {},
     "output_type": "execute_result"
    }
   ],
   "source": [
    "news_w_topic_1.head()"
   ]
  },
  {
   "cell_type": "code",
   "execution_count": 9,
   "metadata": {},
   "outputs": [
    {
     "data": {
      "text/plain": [
       "count       150.000000\n",
       "mean      11859.253333\n",
       "std       27377.974688\n",
       "min          14.000000\n",
       "25%          68.250000\n",
       "50%         185.500000\n",
       "75%        2071.500000\n",
       "max      184213.000000\n",
       "dtype: float64"
      ]
     },
     "execution_count": 9,
     "metadata": {},
     "output_type": "execute_result"
    }
   ],
   "source": [
    "key_topic_counts_1 = news_w_topic_1.groupby('key_topic').size()\n",
    "key_topic_counts_1.describe()"
   ]
  },
  {
   "cell_type": "code",
   "execution_count": 10,
   "metadata": {},
   "outputs": [
    {
     "data": {
      "text/plain": [
       "count      148.000000\n",
       "mean     12019.513514\n",
       "std      19249.405285\n",
       "min          1.000000\n",
       "25%         10.000000\n",
       "50%         94.000000\n",
       "75%      26521.000000\n",
       "max      92494.000000\n",
       "dtype: float64"
      ]
     },
     "execution_count": 10,
     "metadata": {},
     "output_type": "execute_result"
    }
   ],
   "source": [
    "key_topic_counts_2 = news_w_topic_2.groupby('key_topic').size()\n",
    "key_topic_counts_2.describe()"
   ]
  },
  {
   "cell_type": "code",
   "execution_count": 11,
   "metadata": {},
   "outputs": [
    {
     "data": {
      "text/plain": [
       "key_topic\n",
       "130    9357\n",
       "131    1281\n",
       "132     639\n",
       "133       5\n",
       "134       5\n",
       "135       9\n",
       "136      18\n",
       "137     853\n",
       "138       7\n",
       "139       4\n",
       "140    2304\n",
       "141      14\n",
       "142     796\n",
       "143      15\n",
       "144      16\n",
       "145       4\n",
       "146      46\n",
       "147      40\n",
       "148      70\n",
       "149     328\n",
       "dtype: int64"
      ]
     },
     "execution_count": 11,
     "metadata": {},
     "output_type": "execute_result"
    }
   ],
   "source": [
    "key_topic_counts_2.tail(20)"
   ]
  },
  {
   "cell_type": "code",
   "execution_count": 12,
   "metadata": {},
   "outputs": [
    {
     "data": {
      "text/plain": [
       "key_topic\n",
       "0     92494\n",
       "1     54241\n",
       "2     55081\n",
       "3     49379\n",
       "4     48365\n",
       "5     39591\n",
       "6     37574\n",
       "7     49417\n",
       "8     58765\n",
       "9     47644\n",
       "10    41662\n",
       "11    28067\n",
       "12    14744\n",
       "13    46144\n",
       "14    29477\n",
       "15    39572\n",
       "16    49421\n",
       "17    56494\n",
       "18    48339\n",
       "19    35816\n",
       "dtype: int64"
      ]
     },
     "execution_count": 12,
     "metadata": {},
     "output_type": "execute_result"
    }
   ],
   "source": [
    "key_topic_counts_2.head(20)"
   ]
  }
 ],
 "metadata": {
  "kernelspec": {
   "display_name": "erdosnewsfinanceproject-Kds226ew-py3.12",
   "language": "python",
   "name": "python3"
  },
  "language_info": {
   "codemirror_mode": {
    "name": "ipython",
    "version": 3
   },
   "file_extension": ".py",
   "mimetype": "text/x-python",
   "name": "python",
   "nbconvert_exporter": "python",
   "pygments_lexer": "ipython3",
   "version": "3.12.0"
  }
 },
 "nbformat": 4,
 "nbformat_minor": 2
}
