{
 "cells": [
  {
   "cell_type": "markdown",
   "metadata": {},
   "source": [
    "# This note book is for testing the functions and example"
   ]
  },
  {
   "cell_type": "markdown",
   "metadata": {},
   "source": []
  },
  {
   "cell_type": "code",
   "execution_count": 1,
   "metadata": {},
   "outputs": [],
   "source": [
    "import pandas as pd\n",
    "import os\n",
    "import sys"
   ]
  },
  {
   "cell_type": "code",
   "execution_count": 2,
   "metadata": {},
   "outputs": [],
   "source": [
    "# Add ../src to Python path\n",
    "project_root = os.path.abspath(os.path.join(os.path.dirname('__file__'), '../src'))\n",
    "sys.path.insert(0, project_root)\n",
    "\n",
    "# Import the parse config function to parse the .toml file\n",
    "from utils.config_tool import parse_config\n",
    "from utils.logging_tool import initialize_logger\n",
    "\n",
    "from engine.clean import clean_All_news as cc\n"
   ]
  },
  {
   "cell_type": "code",
   "execution_count": 3,
   "metadata": {},
   "outputs": [
    {
     "data": {
      "text/html": [
       "<div>\n",
       "<style scoped>\n",
       "    .dataframe tbody tr th:only-of-type {\n",
       "        vertical-align: middle;\n",
       "    }\n",
       "\n",
       "    .dataframe tbody tr th {\n",
       "        vertical-align: top;\n",
       "    }\n",
       "\n",
       "    .dataframe thead th {\n",
       "        text-align: right;\n",
       "    }\n",
       "</style>\n",
       "<table border=\"1\" class=\"dataframe\">\n",
       "  <thead>\n",
       "    <tr style=\"text-align: right;\">\n",
       "      <th></th>\n",
       "      <th>Unnamed: 0</th>\n",
       "      <th>date</th>\n",
       "      <th>year</th>\n",
       "      <th>month</th>\n",
       "      <th>day</th>\n",
       "      <th>author</th>\n",
       "      <th>title</th>\n",
       "      <th>article</th>\n",
       "      <th>url</th>\n",
       "      <th>section</th>\n",
       "      <th>publication</th>\n",
       "    </tr>\n",
       "  </thead>\n",
       "  <tbody>\n",
       "    <tr>\n",
       "      <th>0</th>\n",
       "      <td>0</td>\n",
       "      <td>2016-12-09 18:31:00</td>\n",
       "      <td>2016</td>\n",
       "      <td>12.0</td>\n",
       "      <td>9</td>\n",
       "      <td>Lee Drutman</td>\n",
       "      <td>We should take concerns about the health of li...</td>\n",
       "      <td>This post is part of Polyarchy, an independent...</td>\n",
       "      <td>https://www.vox.com/polyarchy/2016/12/9/138983...</td>\n",
       "      <td>NaN</td>\n",
       "      <td>Vox</td>\n",
       "    </tr>\n",
       "    <tr>\n",
       "      <th>1</th>\n",
       "      <td>1</td>\n",
       "      <td>2016-10-07 21:26:46</td>\n",
       "      <td>2016</td>\n",
       "      <td>10.0</td>\n",
       "      <td>7</td>\n",
       "      <td>Scott Davis</td>\n",
       "      <td>Colts GM Ryan Grigson says Andrew Luck's contr...</td>\n",
       "      <td>The Indianapolis Colts made Andrew Luck the h...</td>\n",
       "      <td>https://www.businessinsider.com/colts-gm-ryan-...</td>\n",
       "      <td>NaN</td>\n",
       "      <td>Business Insider</td>\n",
       "    </tr>\n",
       "  </tbody>\n",
       "</table>\n",
       "</div>"
      ],
      "text/plain": [
       "   Unnamed: 0                 date  year  month  day       author  \\\n",
       "0           0  2016-12-09 18:31:00  2016   12.0    9  Lee Drutman   \n",
       "1           1  2016-10-07 21:26:46  2016   10.0    7  Scott Davis   \n",
       "\n",
       "                                               title  \\\n",
       "0  We should take concerns about the health of li...   \n",
       "1  Colts GM Ryan Grigson says Andrew Luck's contr...   \n",
       "\n",
       "                                             article  \\\n",
       "0  This post is part of Polyarchy, an independent...   \n",
       "1   The Indianapolis Colts made Andrew Luck the h...   \n",
       "\n",
       "                                                 url section       publication  \n",
       "0  https://www.vox.com/polyarchy/2016/12/9/138983...     NaN               Vox  \n",
       "1  https://www.businessinsider.com/colts-gm-ryan-...     NaN  Business Insider  "
      ]
     },
     "execution_count": 3,
     "metadata": {},
     "output_type": "execute_result"
    }
   ],
   "source": [
    "# Load the example dataset\n",
    "config_file = \"../config/predict_stock_w_news.toml\"\n",
    "config = parse_config(config_file)\n",
    "\n",
    "local_data_path = os.path.join(config['info']['local_data_path'],'data_raw', config['news_ingestion']['input'][\"all_news_eg1_file\"])\n",
    "df = pd.read_csv(local_data_path)\n",
    "\n",
    "df.head(2)"
   ]
  },
  {
   "cell_type": "markdown",
   "metadata": {},
   "source": [
    "## Check if the preprocessing function works"
   ]
  },
  {
   "cell_type": "markdown",
   "metadata": {},
   "source": [
    "## 1: Get the global parmeters"
   ]
  },
  {
   "cell_type": "code",
   "execution_count": 4,
   "metadata": {},
   "outputs": [
    {
     "name": "stdout",
     "output_type": "stream",
     "text": [
      "colums to drop: ['Unnamed: 0', 'author', 'year', 'month', 'day', 'url']\n",
      "publisher: {}\n",
      "subsets_dropna: ['article']\n",
      "num_words: 100\n"
     ]
    }
   ],
   "source": [
    "columns_to_drop = config['news_ingestion']['input']['columns_to_drop']\n",
    "publisher = config['news_ingestion']['input']['publisher']\n",
    "subsets_dropna = config['news_ingestion']['input']['subsets_dropna']\n",
    "num_words = config['news_ingestion']['input']['num_words']\n",
    "\n",
    "print(f\"colums to drop: {columns_to_drop}\")\n",
    "print(f\"publisher: {publisher}\")\n",
    "print(f\"subsets_dropna: {subsets_dropna}\")\n",
    "print(f\"num_words: {num_words}\")"
   ]
  },
  {
   "cell_type": "markdown",
   "metadata": {},
   "source": [
    "## 2: Drop columns"
   ]
  },
  {
   "cell_type": "code",
   "execution_count": 5,
   "metadata": {},
   "outputs": [
    {
     "data": {
      "text/html": [
       "<div>\n",
       "<style scoped>\n",
       "    .dataframe tbody tr th:only-of-type {\n",
       "        vertical-align: middle;\n",
       "    }\n",
       "\n",
       "    .dataframe tbody tr th {\n",
       "        vertical-align: top;\n",
       "    }\n",
       "\n",
       "    .dataframe thead th {\n",
       "        text-align: right;\n",
       "    }\n",
       "</style>\n",
       "<table border=\"1\" class=\"dataframe\">\n",
       "  <thead>\n",
       "    <tr style=\"text-align: right;\">\n",
       "      <th></th>\n",
       "      <th>date</th>\n",
       "      <th>title</th>\n",
       "      <th>article</th>\n",
       "      <th>section</th>\n",
       "      <th>publication</th>\n",
       "    </tr>\n",
       "  </thead>\n",
       "  <tbody>\n",
       "    <tr>\n",
       "      <th>0</th>\n",
       "      <td>2016-12-09 18:31:00</td>\n",
       "      <td>We should take concerns about the health of li...</td>\n",
       "      <td>This post is part of Polyarchy, an independent...</td>\n",
       "      <td>NaN</td>\n",
       "      <td>Vox</td>\n",
       "    </tr>\n",
       "    <tr>\n",
       "      <th>1</th>\n",
       "      <td>2016-10-07 21:26:46</td>\n",
       "      <td>Colts GM Ryan Grigson says Andrew Luck's contr...</td>\n",
       "      <td>The Indianapolis Colts made Andrew Luck the h...</td>\n",
       "      <td>NaN</td>\n",
       "      <td>Business Insider</td>\n",
       "    </tr>\n",
       "  </tbody>\n",
       "</table>\n",
       "</div>"
      ],
      "text/plain": [
       "                  date                                              title  \\\n",
       "0  2016-12-09 18:31:00  We should take concerns about the health of li...   \n",
       "1  2016-10-07 21:26:46  Colts GM Ryan Grigson says Andrew Luck's contr...   \n",
       "\n",
       "                                             article section       publication  \n",
       "0  This post is part of Polyarchy, an independent...     NaN               Vox  \n",
       "1   The Indianapolis Colts made Andrew Luck the h...     NaN  Business Insider  "
      ]
     },
     "execution_count": 5,
     "metadata": {},
     "output_type": "execute_result"
    }
   ],
   "source": [
    "# Drop columns\n",
    "\n",
    "df = cc.drop_columns(df, columns_to_drop)\n",
    "df.head(2)"
   ]
  },
  {
   "cell_type": "markdown",
   "metadata": {},
   "source": [
    "## 3: Drop null articles: "
   ]
  },
  {
   "cell_type": "code",
   "execution_count": 6,
   "metadata": {},
   "outputs": [
    {
     "data": {
      "text/html": [
       "<div>\n",
       "<style scoped>\n",
       "    .dataframe tbody tr th:only-of-type {\n",
       "        vertical-align: middle;\n",
       "    }\n",
       "\n",
       "    .dataframe tbody tr th {\n",
       "        vertical-align: top;\n",
       "    }\n",
       "\n",
       "    .dataframe thead th {\n",
       "        text-align: right;\n",
       "    }\n",
       "</style>\n",
       "<table border=\"1\" class=\"dataframe\">\n",
       "  <thead>\n",
       "    <tr style=\"text-align: right;\">\n",
       "      <th></th>\n",
       "      <th>date</th>\n",
       "      <th>title</th>\n",
       "      <th>article</th>\n",
       "      <th>section</th>\n",
       "      <th>publication</th>\n",
       "    </tr>\n",
       "  </thead>\n",
       "  <tbody>\n",
       "    <tr>\n",
       "      <th>0</th>\n",
       "      <td>2016-12-09 18:31:00</td>\n",
       "      <td>We should take concerns about the health of li...</td>\n",
       "      <td>This post is part of Polyarchy, an independent...</td>\n",
       "      <td>NaN</td>\n",
       "      <td>Vox</td>\n",
       "    </tr>\n",
       "    <tr>\n",
       "      <th>1</th>\n",
       "      <td>2016-10-07 21:26:46</td>\n",
       "      <td>Colts GM Ryan Grigson says Andrew Luck's contr...</td>\n",
       "      <td>The Indianapolis Colts made Andrew Luck the h...</td>\n",
       "      <td>NaN</td>\n",
       "      <td>Business Insider</td>\n",
       "    </tr>\n",
       "  </tbody>\n",
       "</table>\n",
       "</div>"
      ],
      "text/plain": [
       "                  date                                              title  \\\n",
       "0  2016-12-09 18:31:00  We should take concerns about the health of li...   \n",
       "1  2016-10-07 21:26:46  Colts GM Ryan Grigson says Andrew Luck's contr...   \n",
       "\n",
       "                                             article section       publication  \n",
       "0  This post is part of Polyarchy, an independent...     NaN               Vox  \n",
       "1   The Indianapolis Colts made Andrew Luck the h...     NaN  Business Insider  "
      ]
     },
     "execution_count": 6,
     "metadata": {},
     "output_type": "execute_result"
    }
   ],
   "source": [
    "# Drop null articles: \n",
    "cc.drop_null_article(df, subsets_dropna)\n",
    "df.head(2)"
   ]
  },
  {
   "cell_type": "markdown",
   "metadata": {},
   "source": [
    "## 4: Select publisher:"
   ]
  },
  {
   "cell_type": "code",
   "execution_count": 7,
   "metadata": {},
   "outputs": [
    {
     "name": "stdout",
     "output_type": "stream",
     "text": [
      "Empty DataFrame\n",
      "Columns: [date, title, article, section, publication]\n",
      "Index: []\n",
      "                     date                                              title  \\\n",
      "0     2016-12-09 18:31:00  We should take concerns about the health of li...   \n",
      "8     2016-05-18 13:00:06           How to watch the Google I/O keynote live   \n",
      "10    2019-05-22 20:10:00  “Elizabeth Warren called me!” is turning into ...   \n",
      "15    2016-09-08 15:40:02  Nancy Pelosi says a Clinton landslide could pu...   \n",
      "16    2017-01-11 23:10:01  The government official in charge of ethics ju...   \n",
      "...                   ...                                                ...   \n",
      "9984  2019-04-30 13:00:00  How Occupy Wall Street animated Bernie Sanders...   \n",
      "9988  2017-05-11 17:00:02  The past 24 hours since Trump fired Comey were...   \n",
      "9990  2016-03-08 12:00:36               NCAA March Madness Comes to Apple TV   \n",
      "9993  2016-10-20 19:25:02  Good times, bad times: #TrumpBookReport's hila...   \n",
      "9998  2017-04-17 11:11:55  Recode Daily: Mark Zuckerberg is building the ...   \n",
      "\n",
      "                                                article section publication  \n",
      "0     This post is part of Polyarchy, an independent...     NaN         Vox  \n",
      "8     Google I/O, the company's big developer confer...     NaN         Vox  \n",
      "10    Elizabeth Warren is giving people a new reason...     NaN         Vox  \n",
      "15    Nancy Pelosi is getting visions of reclaiming ...     NaN         Vox  \n",
      "16    The nonpartisan director of the federal Office...     NaN         Vox  \n",
      "...                                                 ...     ...         ...  \n",
      "9984  It was late September 2011, and Radiohead was ...     NaN         Vox  \n",
      "9988  It’s the day after the day of the James Comey ...     NaN         Vox  \n",
      "9990  College basketball fans will have a new way to...     NaN         Vox  \n",
      "9993  During the third and final presidential debate...     NaN         Vox  \n",
      "9998  Mark Zuckerberg’s recent likability blitz isn’...     NaN         Vox  \n",
      "\n",
      "[2226 rows x 5 columns]\n"
     ]
    }
   ],
   "source": [
    "# Select the publisher\n",
    "print(cc.select_publishers(df, publisher))\n",
    "print(cc.select_publishers(df, {'Vox'}))"
   ]
  },
  {
   "cell_type": "markdown",
   "metadata": {},
   "source": [
    "## 5: Get the first $ x $ words"
   ]
  },
  {
   "cell_type": "code",
   "execution_count": 8,
   "metadata": {},
   "outputs": [
    {
     "data": {
      "text/html": [
       "<div>\n",
       "<style scoped>\n",
       "    .dataframe tbody tr th:only-of-type {\n",
       "        vertical-align: middle;\n",
       "    }\n",
       "\n",
       "    .dataframe tbody tr th {\n",
       "        vertical-align: top;\n",
       "    }\n",
       "\n",
       "    .dataframe thead th {\n",
       "        text-align: right;\n",
       "    }\n",
       "</style>\n",
       "<table border=\"1\" class=\"dataframe\">\n",
       "  <thead>\n",
       "    <tr style=\"text-align: right;\">\n",
       "      <th></th>\n",
       "      <th>date</th>\n",
       "      <th>title</th>\n",
       "      <th>article</th>\n",
       "      <th>section</th>\n",
       "      <th>publication</th>\n",
       "      <th>summary</th>\n",
       "    </tr>\n",
       "  </thead>\n",
       "  <tbody>\n",
       "    <tr>\n",
       "      <th>0</th>\n",
       "      <td>2016-12-09 18:31:00</td>\n",
       "      <td>We should take concerns about the health of li...</td>\n",
       "      <td>This post is part of Polyarchy, an independent...</td>\n",
       "      <td>NaN</td>\n",
       "      <td>Vox</td>\n",
       "      <td>This post is part of Polyarchy, an independent...</td>\n",
       "    </tr>\n",
       "    <tr>\n",
       "      <th>1</th>\n",
       "      <td>2016-10-07 21:26:46</td>\n",
       "      <td>Colts GM Ryan Grigson says Andrew Luck's contr...</td>\n",
       "      <td>The Indianapolis Colts made Andrew Luck the h...</td>\n",
       "      <td>NaN</td>\n",
       "      <td>Business Insider</td>\n",
       "      <td>The Indianapolis Colts made Andrew Luck the hi...</td>\n",
       "    </tr>\n",
       "  </tbody>\n",
       "</table>\n",
       "</div>"
      ],
      "text/plain": [
       "                  date                                              title  \\\n",
       "0  2016-12-09 18:31:00  We should take concerns about the health of li...   \n",
       "1  2016-10-07 21:26:46  Colts GM Ryan Grigson says Andrew Luck's contr...   \n",
       "\n",
       "                                             article section  \\\n",
       "0  This post is part of Polyarchy, an independent...     NaN   \n",
       "1   The Indianapolis Colts made Andrew Luck the h...     NaN   \n",
       "\n",
       "        publication                                            summary  \n",
       "0               Vox  This post is part of Polyarchy, an independent...  \n",
       "1  Business Insider  The Indianapolis Colts made Andrew Luck the hi...  "
      ]
     },
     "execution_count": 8,
     "metadata": {},
     "output_type": "execute_result"
    }
   ],
   "source": [
    "df['summary'] = df['article'].apply(lambda x: cc.get_first_words(x, num_words))\n",
    "df.head(2)"
   ]
  },
  {
   "cell_type": "markdown",
   "metadata": {},
   "source": [
    "## 6: Tokenization"
   ]
  },
  {
   "cell_type": "code",
   "execution_count": 9,
   "metadata": {},
   "outputs": [],
   "source": [
    "df['token'] = df['article'].apply(cc.get_tokenized_words_with_no_punctuation)"
   ]
  },
  {
   "cell_type": "code",
   "execution_count": 10,
   "metadata": {},
   "outputs": [
    {
     "data": {
      "text/html": [
       "<div>\n",
       "<style scoped>\n",
       "    .dataframe tbody tr th:only-of-type {\n",
       "        vertical-align: middle;\n",
       "    }\n",
       "\n",
       "    .dataframe tbody tr th {\n",
       "        vertical-align: top;\n",
       "    }\n",
       "\n",
       "    .dataframe thead th {\n",
       "        text-align: right;\n",
       "    }\n",
       "</style>\n",
       "<table border=\"1\" class=\"dataframe\">\n",
       "  <thead>\n",
       "    <tr style=\"text-align: right;\">\n",
       "      <th></th>\n",
       "      <th>date</th>\n",
       "      <th>title</th>\n",
       "      <th>article</th>\n",
       "      <th>section</th>\n",
       "      <th>publication</th>\n",
       "      <th>summary</th>\n",
       "      <th>token</th>\n",
       "    </tr>\n",
       "  </thead>\n",
       "  <tbody>\n",
       "    <tr>\n",
       "      <th>0</th>\n",
       "      <td>2016-12-09 18:31:00</td>\n",
       "      <td>We should take concerns about the health of li...</td>\n",
       "      <td>This post is part of Polyarchy, an independent...</td>\n",
       "      <td>NaN</td>\n",
       "      <td>Vox</td>\n",
       "      <td>This post is part of Polyarchy, an independent...</td>\n",
       "      <td>[this, post, is, part, of, polyarchy, an, inde...</td>\n",
       "    </tr>\n",
       "    <tr>\n",
       "      <th>1</th>\n",
       "      <td>2016-10-07 21:26:46</td>\n",
       "      <td>Colts GM Ryan Grigson says Andrew Luck's contr...</td>\n",
       "      <td>The Indianapolis Colts made Andrew Luck the h...</td>\n",
       "      <td>NaN</td>\n",
       "      <td>Business Insider</td>\n",
       "      <td>The Indianapolis Colts made Andrew Luck the hi...</td>\n",
       "      <td>[the, indianapolis, colts, made, andrew, luck,...</td>\n",
       "    </tr>\n",
       "  </tbody>\n",
       "</table>\n",
       "</div>"
      ],
      "text/plain": [
       "                  date                                              title  \\\n",
       "0  2016-12-09 18:31:00  We should take concerns about the health of li...   \n",
       "1  2016-10-07 21:26:46  Colts GM Ryan Grigson says Andrew Luck's contr...   \n",
       "\n",
       "                                             article section  \\\n",
       "0  This post is part of Polyarchy, an independent...     NaN   \n",
       "1   The Indianapolis Colts made Andrew Luck the h...     NaN   \n",
       "\n",
       "        publication                                            summary  \\\n",
       "0               Vox  This post is part of Polyarchy, an independent...   \n",
       "1  Business Insider  The Indianapolis Colts made Andrew Luck the hi...   \n",
       "\n",
       "                                               token  \n",
       "0  [this, post, is, part, of, polyarchy, an, inde...  \n",
       "1  [the, indianapolis, colts, made, andrew, luck,...  "
      ]
     },
     "execution_count": 10,
     "metadata": {},
     "output_type": "execute_result"
    }
   ],
   "source": [
    "df.head(2)"
   ]
  },
  {
   "cell_type": "markdown",
   "metadata": {},
   "source": [
    "## 7: Remove stop words"
   ]
  },
  {
   "cell_type": "code",
   "execution_count": 11,
   "metadata": {},
   "outputs": [
    {
     "data": {
      "text/html": [
       "<div>\n",
       "<style scoped>\n",
       "    .dataframe tbody tr th:only-of-type {\n",
       "        vertical-align: middle;\n",
       "    }\n",
       "\n",
       "    .dataframe tbody tr th {\n",
       "        vertical-align: top;\n",
       "    }\n",
       "\n",
       "    .dataframe thead th {\n",
       "        text-align: right;\n",
       "    }\n",
       "</style>\n",
       "<table border=\"1\" class=\"dataframe\">\n",
       "  <thead>\n",
       "    <tr style=\"text-align: right;\">\n",
       "      <th></th>\n",
       "      <th>date</th>\n",
       "      <th>title</th>\n",
       "      <th>article</th>\n",
       "      <th>section</th>\n",
       "      <th>publication</th>\n",
       "      <th>summary</th>\n",
       "      <th>token</th>\n",
       "    </tr>\n",
       "  </thead>\n",
       "  <tbody>\n",
       "    <tr>\n",
       "      <th>0</th>\n",
       "      <td>2016-12-09 18:31:00</td>\n",
       "      <td>We should take concerns about the health of li...</td>\n",
       "      <td>This post is part of Polyarchy, an independent...</td>\n",
       "      <td>NaN</td>\n",
       "      <td>Vox</td>\n",
       "      <td>This post is part of Polyarchy, an independent...</td>\n",
       "      <td>[post, part, polyarchy, independent, blog, pro...</td>\n",
       "    </tr>\n",
       "    <tr>\n",
       "      <th>1</th>\n",
       "      <td>2016-10-07 21:26:46</td>\n",
       "      <td>Colts GM Ryan Grigson says Andrew Luck's contr...</td>\n",
       "      <td>The Indianapolis Colts made Andrew Luck the h...</td>\n",
       "      <td>NaN</td>\n",
       "      <td>Business Insider</td>\n",
       "      <td>The Indianapolis Colts made Andrew Luck the hi...</td>\n",
       "      <td>[indianapolis, colts, made, andrew, luck, play...</td>\n",
       "    </tr>\n",
       "  </tbody>\n",
       "</table>\n",
       "</div>"
      ],
      "text/plain": [
       "                  date                                              title  \\\n",
       "0  2016-12-09 18:31:00  We should take concerns about the health of li...   \n",
       "1  2016-10-07 21:26:46  Colts GM Ryan Grigson says Andrew Luck's contr...   \n",
       "\n",
       "                                             article section  \\\n",
       "0  This post is part of Polyarchy, an independent...     NaN   \n",
       "1   The Indianapolis Colts made Andrew Luck the h...     NaN   \n",
       "\n",
       "        publication                                            summary  \\\n",
       "0               Vox  This post is part of Polyarchy, an independent...   \n",
       "1  Business Insider  The Indianapolis Colts made Andrew Luck the hi...   \n",
       "\n",
       "                                               token  \n",
       "0  [post, part, polyarchy, independent, blog, pro...  \n",
       "1  [indianapolis, colts, made, andrew, luck, play...  "
      ]
     },
     "execution_count": 11,
     "metadata": {},
     "output_type": "execute_result"
    }
   ],
   "source": [
    "df['token'] = df['token'].apply(cc.remove_stop_words)\n",
    "df.head(2)"
   ]
  },
  {
   "cell_type": "markdown",
   "metadata": {},
   "source": [
    "## 8: Lemmatization"
   ]
  },
  {
   "cell_type": "code",
   "execution_count": 12,
   "metadata": {},
   "outputs": [
    {
     "data": {
      "text/html": [
       "<div>\n",
       "<style scoped>\n",
       "    .dataframe tbody tr th:only-of-type {\n",
       "        vertical-align: middle;\n",
       "    }\n",
       "\n",
       "    .dataframe tbody tr th {\n",
       "        vertical-align: top;\n",
       "    }\n",
       "\n",
       "    .dataframe thead th {\n",
       "        text-align: right;\n",
       "    }\n",
       "</style>\n",
       "<table border=\"1\" class=\"dataframe\">\n",
       "  <thead>\n",
       "    <tr style=\"text-align: right;\">\n",
       "      <th></th>\n",
       "      <th>date</th>\n",
       "      <th>title</th>\n",
       "      <th>article</th>\n",
       "      <th>section</th>\n",
       "      <th>publication</th>\n",
       "      <th>summary</th>\n",
       "      <th>token</th>\n",
       "    </tr>\n",
       "  </thead>\n",
       "  <tbody>\n",
       "    <tr>\n",
       "      <th>0</th>\n",
       "      <td>2016-12-09 18:31:00</td>\n",
       "      <td>We should take concerns about the health of li...</td>\n",
       "      <td>This post is part of Polyarchy, an independent...</td>\n",
       "      <td>NaN</td>\n",
       "      <td>Vox</td>\n",
       "      <td>This post is part of Polyarchy, an independent...</td>\n",
       "      <td>[post, part, polyarchy, independent, blog, pro...</td>\n",
       "    </tr>\n",
       "    <tr>\n",
       "      <th>1</th>\n",
       "      <td>2016-10-07 21:26:46</td>\n",
       "      <td>Colts GM Ryan Grigson says Andrew Luck's contr...</td>\n",
       "      <td>The Indianapolis Colts made Andrew Luck the h...</td>\n",
       "      <td>NaN</td>\n",
       "      <td>Business Insider</td>\n",
       "      <td>The Indianapolis Colts made Andrew Luck the hi...</td>\n",
       "      <td>[indianapolis, colt, made, andrew, luck, playe...</td>\n",
       "    </tr>\n",
       "  </tbody>\n",
       "</table>\n",
       "</div>"
      ],
      "text/plain": [
       "                  date                                              title  \\\n",
       "0  2016-12-09 18:31:00  We should take concerns about the health of li...   \n",
       "1  2016-10-07 21:26:46  Colts GM Ryan Grigson says Andrew Luck's contr...   \n",
       "\n",
       "                                             article section  \\\n",
       "0  This post is part of Polyarchy, an independent...     NaN   \n",
       "1   The Indianapolis Colts made Andrew Luck the h...     NaN   \n",
       "\n",
       "        publication                                            summary  \\\n",
       "0               Vox  This post is part of Polyarchy, an independent...   \n",
       "1  Business Insider  The Indianapolis Colts made Andrew Luck the hi...   \n",
       "\n",
       "                                               token  \n",
       "0  [post, part, polyarchy, independent, blog, pro...  \n",
       "1  [indianapolis, colt, made, andrew, luck, playe...  "
      ]
     },
     "execution_count": 12,
     "metadata": {},
     "output_type": "execute_result"
    }
   ],
   "source": [
    "df['token'] = df['token'].apply(cc.lemmatize_words)\n",
    "df.head(2)"
   ]
  },
  {
   "cell_type": "markdown",
   "metadata": {},
   "source": [
    "## 9: The whole preprocessing pipeline"
   ]
  },
  {
   "cell_type": "code",
   "execution_count": 13,
   "metadata": {},
   "outputs": [],
   "source": [
    "df = pd.read_csv(local_data_path)\n",
    "\n",
    "# For now we just select some publishers\n",
    "df = cc.preprocess_all_news(df, columns_to_drop, subsets_dropna,{'Vox'}, num_words)"
   ]
  },
  {
   "cell_type": "code",
   "execution_count": 14,
   "metadata": {},
   "outputs": [
    {
     "data": {
      "text/html": [
       "<div>\n",
       "<style scoped>\n",
       "    .dataframe tbody tr th:only-of-type {\n",
       "        vertical-align: middle;\n",
       "    }\n",
       "\n",
       "    .dataframe tbody tr th {\n",
       "        vertical-align: top;\n",
       "    }\n",
       "\n",
       "    .dataframe thead th {\n",
       "        text-align: right;\n",
       "    }\n",
       "</style>\n",
       "<table border=\"1\" class=\"dataframe\">\n",
       "  <thead>\n",
       "    <tr style=\"text-align: right;\">\n",
       "      <th></th>\n",
       "      <th>date</th>\n",
       "      <th>title</th>\n",
       "      <th>section</th>\n",
       "      <th>publication</th>\n",
       "      <th>summary</th>\n",
       "      <th>token</th>\n",
       "      <th>word_count</th>\n",
       "    </tr>\n",
       "  </thead>\n",
       "  <tbody>\n",
       "    <tr>\n",
       "      <th>8</th>\n",
       "      <td>2016-05-18 13:00:06</td>\n",
       "      <td>How to watch the Google I/O keynote live</td>\n",
       "      <td>NaN</td>\n",
       "      <td>Vox</td>\n",
       "      <td>Google I/O, the company's big developer confer...</td>\n",
       "      <td>[google, company, big, developer, conference, ...</td>\n",
       "      <td>147</td>\n",
       "    </tr>\n",
       "    <tr>\n",
       "      <th>16</th>\n",
       "      <td>2017-01-11 23:10:01</td>\n",
       "      <td>The government official in charge of ethics ju...</td>\n",
       "      <td>NaN</td>\n",
       "      <td>Vox</td>\n",
       "      <td>The nonpartisan director of the federal Office...</td>\n",
       "      <td>[nonpartisan, director, federal, office, gover...</td>\n",
       "      <td>756</td>\n",
       "    </tr>\n",
       "  </tbody>\n",
       "</table>\n",
       "</div>"
      ],
      "text/plain": [
       "                   date                                              title  \\\n",
       "8   2016-05-18 13:00:06           How to watch the Google I/O keynote live   \n",
       "16  2017-01-11 23:10:01  The government official in charge of ethics ju...   \n",
       "\n",
       "   section publication                                            summary  \\\n",
       "8      NaN         Vox  Google I/O, the company's big developer confer...   \n",
       "16     NaN         Vox  The nonpartisan director of the federal Office...   \n",
       "\n",
       "                                                token  word_count  \n",
       "8   [google, company, big, developer, conference, ...         147  \n",
       "16  [nonpartisan, director, federal, office, gover...         756  "
      ]
     },
     "execution_count": 14,
     "metadata": {},
     "output_type": "execute_result"
    }
   ],
   "source": [
    "df.head(2)"
   ]
  },
  {
   "cell_type": "markdown",
   "metadata": {},
   "source": [
    "## 10: Can be used to clean the headline dataset"
   ]
  },
  {
   "cell_type": "code",
   "execution_count": 15,
   "metadata": {},
   "outputs": [
    {
     "data": {
      "text/html": [
       "<div>\n",
       "<style scoped>\n",
       "    .dataframe tbody tr th:only-of-type {\n",
       "        vertical-align: middle;\n",
       "    }\n",
       "\n",
       "    .dataframe tbody tr th {\n",
       "        vertical-align: top;\n",
       "    }\n",
       "\n",
       "    .dataframe thead th {\n",
       "        text-align: right;\n",
       "    }\n",
       "</style>\n",
       "<table border=\"1\" class=\"dataframe\">\n",
       "  <thead>\n",
       "    <tr style=\"text-align: right;\">\n",
       "      <th></th>\n",
       "      <th>link</th>\n",
       "      <th>headline</th>\n",
       "      <th>category</th>\n",
       "      <th>short_description</th>\n",
       "      <th>authors</th>\n",
       "      <th>date</th>\n",
       "    </tr>\n",
       "  </thead>\n",
       "  <tbody>\n",
       "    <tr>\n",
       "      <th>0</th>\n",
       "      <td>https://www.huffpost.com/entry/covid-boosters-...</td>\n",
       "      <td>Over 4 Million Americans Roll Up Sleeves For O...</td>\n",
       "      <td>U.S. NEWS</td>\n",
       "      <td>Health experts said it is too early to predict...</td>\n",
       "      <td>Carla K. Johnson, AP</td>\n",
       "      <td>2022-09-23</td>\n",
       "    </tr>\n",
       "    <tr>\n",
       "      <th>1</th>\n",
       "      <td>https://www.huffpost.com/entry/american-airlin...</td>\n",
       "      <td>American Airlines Flyer Charged, Banned For Li...</td>\n",
       "      <td>U.S. NEWS</td>\n",
       "      <td>He was subdued by passengers and crew when he ...</td>\n",
       "      <td>Mary Papenfuss</td>\n",
       "      <td>2022-09-23</td>\n",
       "    </tr>\n",
       "  </tbody>\n",
       "</table>\n",
       "</div>"
      ],
      "text/plain": [
       "                                                link  \\\n",
       "0  https://www.huffpost.com/entry/covid-boosters-...   \n",
       "1  https://www.huffpost.com/entry/american-airlin...   \n",
       "\n",
       "                                            headline   category  \\\n",
       "0  Over 4 Million Americans Roll Up Sleeves For O...  U.S. NEWS   \n",
       "1  American Airlines Flyer Charged, Banned For Li...  U.S. NEWS   \n",
       "\n",
       "                                   short_description               authors  \\\n",
       "0  Health experts said it is too early to predict...  Carla K. Johnson, AP   \n",
       "1  He was subdued by passengers and crew when he ...        Mary Papenfuss   \n",
       "\n",
       "        date  \n",
       "0 2022-09-23  \n",
       "1 2022-09-23  "
      ]
     },
     "execution_count": 15,
     "metadata": {},
     "output_type": "execute_result"
    }
   ],
   "source": [
    "# Loading the headline data set\n",
    "\n",
    "local_data_path2 = os.path.join(config['info']['local_data_path'],'data_raw', config['news_ingestion']['input'][\"news_head_line\"])\n",
    "df2 = pd.read_json(local_data_path2, lines = True)\n",
    "\n",
    "df2.head(2)"
   ]
  },
  {
   "cell_type": "code",
   "execution_count": 16,
   "metadata": {},
   "outputs": [],
   "source": [
    "# we need to define some new local parameters\n",
    "columns_to_drop_new = ['link']\n",
    "subsets_dropna_new = ['headline', 'short_description']\n",
    "\n",
    "# Drop columns\n",
    "df2 = cc.drop_columns(df2, columns_to_drop_new)\n",
    "# Drop null description\n",
    "cc.drop_null_article(df2, subsets_dropna_new)\n",
    "#Tokenize the words\n",
    "df2['token'] = df2['short_description'].apply(cc.get_tokenized_words_with_no_punctuation)\n",
    "# Remove stop words\n",
    "df2['token'] = df2['token'].apply(cc.remove_stop_words)\n",
    "# Lemmatize the words\n",
    "df2['token'] = df2['token'].apply(cc.lemmatize_words)\n",
    "# NER\n",
    "df2 = pd.concat([df2, df2['token'].apply(lambda x: cc.extract_ner_features(' '.join(x)))], axis=1)"
   ]
  },
  {
   "cell_type": "code",
   "execution_count": 17,
   "metadata": {},
   "outputs": [
    {
     "data": {
      "text/html": [
       "<div>\n",
       "<style scoped>\n",
       "    .dataframe tbody tr th:only-of-type {\n",
       "        vertical-align: middle;\n",
       "    }\n",
       "\n",
       "    .dataframe tbody tr th {\n",
       "        vertical-align: top;\n",
       "    }\n",
       "\n",
       "    .dataframe thead th {\n",
       "        text-align: right;\n",
       "    }\n",
       "</style>\n",
       "<table border=\"1\" class=\"dataframe\">\n",
       "  <thead>\n",
       "    <tr style=\"text-align: right;\">\n",
       "      <th></th>\n",
       "      <th>headline</th>\n",
       "      <th>category</th>\n",
       "      <th>short_description</th>\n",
       "      <th>authors</th>\n",
       "      <th>date</th>\n",
       "      <th>token</th>\n",
       "      <th>PERSON</th>\n",
       "      <th>ORG</th>\n",
       "      <th>GPE</th>\n",
       "      <th>EVENT</th>\n",
       "      <th>PRODUCT</th>\n",
       "    </tr>\n",
       "  </thead>\n",
       "  <tbody>\n",
       "    <tr>\n",
       "      <th>0</th>\n",
       "      <td>Over 4 Million Americans Roll Up Sleeves For O...</td>\n",
       "      <td>U.S. NEWS</td>\n",
       "      <td>Health experts said it is too early to predict...</td>\n",
       "      <td>Carla K. Johnson, AP</td>\n",
       "      <td>2022-09-23</td>\n",
       "      <td>[health, expert, said, early, predict, whether...</td>\n",
       "      <td>0</td>\n",
       "      <td>0</td>\n",
       "      <td>0</td>\n",
       "      <td>0</td>\n",
       "      <td>0</td>\n",
       "    </tr>\n",
       "    <tr>\n",
       "      <th>1</th>\n",
       "      <td>American Airlines Flyer Charged, Banned For Li...</td>\n",
       "      <td>U.S. NEWS</td>\n",
       "      <td>He was subdued by passengers and crew when he ...</td>\n",
       "      <td>Mary Papenfuss</td>\n",
       "      <td>2022-09-23</td>\n",
       "      <td>[subdued, passenger, crew, fled, back, aircraf...</td>\n",
       "      <td>0</td>\n",
       "      <td>0</td>\n",
       "      <td>1</td>\n",
       "      <td>0</td>\n",
       "      <td>0</td>\n",
       "    </tr>\n",
       "  </tbody>\n",
       "</table>\n",
       "</div>"
      ],
      "text/plain": [
       "                                            headline   category  \\\n",
       "0  Over 4 Million Americans Roll Up Sleeves For O...  U.S. NEWS   \n",
       "1  American Airlines Flyer Charged, Banned For Li...  U.S. NEWS   \n",
       "\n",
       "                                   short_description               authors  \\\n",
       "0  Health experts said it is too early to predict...  Carla K. Johnson, AP   \n",
       "1  He was subdued by passengers and crew when he ...        Mary Papenfuss   \n",
       "\n",
       "        date                                              token  PERSON  ORG  \\\n",
       "0 2022-09-23  [health, expert, said, early, predict, whether...       0    0   \n",
       "1 2022-09-23  [subdued, passenger, crew, fled, back, aircraf...       0    0   \n",
       "\n",
       "   GPE  EVENT  PRODUCT  \n",
       "0    0      0        0  \n",
       "1    1      0        0  "
      ]
     },
     "execution_count": 17,
     "metadata": {},
     "output_type": "execute_result"
    }
   ],
   "source": [
    "df2.head(2)"
   ]
  },
  {
   "cell_type": "code",
   "execution_count": 19,
   "metadata": {},
   "outputs": [],
   "source": [
    "# Write the data to the local path\n",
    "local_data_path = os.path.join(config['info']['local_data_path'],'data_clean', config['news_preprocessing']['output'][\"news_head_line_cleaned\"])\n",
    "df2.to_csv(local_data_path, index = False)"
   ]
  },
  {
   "cell_type": "code",
   "execution_count": null,
   "metadata": {},
   "outputs": [],
   "source": []
  }
 ],
 "metadata": {
  "kernelspec": {
   "display_name": "erdosnewsfinanceproject-fYB74UfD-py3.12",
   "language": "python",
   "name": "python3"
  },
  "language_info": {
   "codemirror_mode": {
    "name": "ipython",
    "version": 3
   },
   "file_extension": ".py",
   "mimetype": "text/x-python",
   "name": "python",
   "nbconvert_exporter": "python",
   "pygments_lexer": "ipython3",
   "version": "3.12.0"
  }
 },
 "nbformat": 4,
 "nbformat_minor": 2
}
